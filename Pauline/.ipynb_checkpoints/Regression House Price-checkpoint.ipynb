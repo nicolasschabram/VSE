{
 "cells": [
  {
   "cell_type": "code",
   "execution_count": 18,
   "metadata": {
    "collapsed": false
   },
   "outputs": [],
   "source": [
    "import graphlab as gl\n",
    "from datacleaner import autoclean\n",
    "import pandas as pd"
   ]
  },
  {
   "cell_type": "markdown",
   "metadata": {},
   "source": [
    "# Load some house sales data"
   ]
  },
  {
   "cell_type": "code",
   "execution_count": 6,
   "metadata": {
    "collapsed": false
   },
   "outputs": [
    {
     "data": {
      "text/html": [
       "<pre>Finished parsing file C:\\Users\\Pauline\\Anaconda2\\Final project house price\\my_clean_train.csv</pre>"
      ],
      "text/plain": [
       "Finished parsing file C:\\Users\\Pauline\\Anaconda2\\Final project house price\\my_clean_train.csv"
      ]
     },
     "metadata": {},
     "output_type": "display_data"
    },
    {
     "data": {
      "text/html": [
       "<pre>Parsing completed. Parsed 100 lines in 0.028796 secs.</pre>"
      ],
      "text/plain": [
       "Parsing completed. Parsed 100 lines in 0.028796 secs."
      ]
     },
     "metadata": {},
     "output_type": "display_data"
    },
    {
     "name": "stdout",
     "output_type": "stream",
     "text": [
      "------------------------------------------------------\n",
      "Inferred types from first 100 line(s) of file as \n",
      "column_type_hints=[long,long,long,float,long,long,long,long,long,long,long,long,long,long,long,long,long,long,long,long,long,long,long,long,long,long,float,long,long,long,long,long,long,long,long,long,long,long,long,long,long,long,long,long,long,long,long,long,long,long,long,long,long,long,long,long,long,long,long,float,long,long,long,long,long,long,long,long,long,long,long,long,long,long,long,long,long,long,long,long,long]\n",
      "If parsing fails due to incorrect types, you can correct\n",
      "the inferred type list above and pass it to read_csv in\n",
      "the column_type_hints argument\n",
      "------------------------------------------------------\n"
     ]
    },
    {
     "data": {
      "text/html": [
       "<pre>Finished parsing file C:\\Users\\Pauline\\Anaconda2\\Final project house price\\my_clean_train.csv</pre>"
      ],
      "text/plain": [
       "Finished parsing file C:\\Users\\Pauline\\Anaconda2\\Final project house price\\my_clean_train.csv"
      ]
     },
     "metadata": {},
     "output_type": "display_data"
    },
    {
     "data": {
      "text/html": [
       "<pre>Parsing completed. Parsed 1460 lines in 0.029021 secs.</pre>"
      ],
      "text/plain": [
       "Parsing completed. Parsed 1460 lines in 0.029021 secs."
      ]
     },
     "metadata": {},
     "output_type": "display_data"
    }
   ],
   "source": [
    "my_data = pd.read_csv('train.csv', sep=',')\n",
    "my_clean_data = autoclean(my_data)\n",
    "my_data.to_csv('my_clean_train.csv', sep=',', index=False)\n",
    "\n",
    "\n",
    "sales = gl.SFrame('my_clean_train.csv')\n"
   ]
  },
  {
   "cell_type": "code",
   "execution_count": 7,
   "metadata": {
    "collapsed": false
   },
   "outputs": [
    {
     "name": "stdout",
     "output_type": "stream",
     "text": [
      "+----+------------+----------+-------------+---------+--------+-------+----------+\n",
      "| Id | MSSubClass | MSZoning | LotFrontage | LotArea | Street | Alley | LotShape |\n",
      "+----+------------+----------+-------------+---------+--------+-------+----------+\n",
      "| 1  |     60     |    3     |     65.0    |   8450  |   1    |   0   |    3     |\n",
      "| 2  |     20     |    3     |     80.0    |   9600  |   1    |   0   |    3     |\n",
      "| 3  |     60     |    3     |     68.0    |  11250  |   1    |   0   |    0     |\n",
      "| 4  |     70     |    3     |     60.0    |   9550  |   1    |   0   |    0     |\n",
      "| 5  |     60     |    3     |     84.0    |  14260  |   1    |   0   |    0     |\n",
      "| 6  |     50     |    3     |     85.0    |  14115  |   1    |   0   |    0     |\n",
      "| 7  |     20     |    3     |     75.0    |  10084  |   1    |   0   |    3     |\n",
      "| 8  |     60     |    3     |     69.0    |  10382  |   1    |   0   |    0     |\n",
      "| 9  |     50     |    4     |     51.0    |   6120  |   1    |   0   |    3     |\n",
      "| 10 |    190     |    3     |     50.0    |   7420  |   1    |   0   |    3     |\n",
      "+----+------------+----------+-------------+---------+--------+-------+----------+\n",
      "+-------------+-----------+-----------+-----------+--------------+------------+\n",
      "| LandContour | Utilities | LotConfig | LandSlope | Neighborhood | Condition1 |\n",
      "+-------------+-----------+-----------+-----------+--------------+------------+\n",
      "|      3      |     0     |     4     |     0     |      5       |     2      |\n",
      "|      3      |     0     |     2     |     0     |      24      |     1      |\n",
      "|      3      |     0     |     4     |     0     |      5       |     2      |\n",
      "|      3      |     0     |     0     |     0     |      6       |     2      |\n",
      "|      3      |     0     |     2     |     0     |      15      |     2      |\n",
      "|      3      |     0     |     4     |     0     |      11      |     2      |\n",
      "|      3      |     0     |     4     |     0     |      21      |     2      |\n",
      "|      3      |     0     |     0     |     0     |      14      |     4      |\n",
      "|      3      |     0     |     4     |     0     |      17      |     0      |\n",
      "|      3      |     0     |     0     |     0     |      3       |     0      |\n",
      "+-------------+-----------+-----------+-----------+--------------+------------+\n",
      "+------------+----------+------------+-------------+-------------+-----------+-----+\n",
      "| Condition2 | BldgType | HouseStyle | OverallQual | OverallCond | YearBuilt | ... |\n",
      "+------------+----------+------------+-------------+-------------+-----------+-----+\n",
      "|     2      |    0     |     5      |      7      |      5      |    2003   | ... |\n",
      "|     2      |    0     |     2      |      6      |      8      |    1976   | ... |\n",
      "|     2      |    0     |     5      |      7      |      5      |    2001   | ... |\n",
      "|     2      |    0     |     5      |      7      |      5      |    1915   | ... |\n",
      "|     2      |    0     |     5      |      8      |      5      |    2000   | ... |\n",
      "|     2      |    0     |     0      |      5      |      5      |    1993   | ... |\n",
      "|     2      |    0     |     2      |      8      |      5      |    2004   | ... |\n",
      "|     2      |    0     |     5      |      7      |      6      |    1973   | ... |\n",
      "|     2      |    0     |     0      |      7      |      5      |    1931   | ... |\n",
      "|     0      |    1     |     1      |      5      |      6      |    1939   | ... |\n",
      "+------------+----------+------------+-------------+-------------+-----------+-----+\n",
      "[1460 rows x 81 columns]\n",
      "Note: Only the head of the SFrame is printed.\n",
      "You can use print_rows(num_rows=m, num_columns=n) to print more rows and columns.\n"
     ]
    }
   ],
   "source": [
    "print sales"
   ]
  },
  {
   "cell_type": "markdown",
   "metadata": {},
   "source": [
    "# Select the best feature"
   ]
  },
  {
   "cell_type": "code",
   "execution_count": 23,
   "metadata": {
    "collapsed": false
   },
   "outputs": [
    {
     "name": "stdout",
     "output_type": "stream",
     "text": [
      "Features sorted by their score:\n",
      "[(0.5123, 'RM'), (0.2906, 'LSTAT'), (0.0565, 'DIS'), (0.0517, 'CRIM'), (0.0209, 'NOX'), (0.0153, 'TAX'), (0.0128, 'B'), (0.0128, 'AGE'), (0.0108, 'PTRATIO'), (0.008, 'INDUS'), (0.0069, 'RAD'), (0.0011, 'ZN'), (0.0003, 'CHAS')]\n"
     ]
    }
   ],
   "source": [
    "from sklearn.datasets import load_boston\n",
    "from sklearn.ensemble import RandomForestRegressor\n",
    "import numpy as np\n",
    "#Load boston housing dataset as an example\n",
    "boston = load_boston()\n",
    "X = boston[\"data\"]\n",
    "Y = boston[\"target\"]\n",
    "names = boston[\"feature_names\"]\n",
    "rf = RandomForestRegressor()\n",
    "rf.fit(X, Y)\n",
    "print \"Features sorted by their score:\"\n",
    "print sorted(zip(map(lambda x: round(x, 4), rf.feature_importances_), names), \n",
    "             reverse=True)\n"
   ]
  },
  {
   "cell_type": "code",
   "execution_count": 10,
   "metadata": {
    "collapsed": false
   },
   "outputs": [
    {
     "data": {
      "application/javascript": [
       "$(\"head\").append($(\"<link/>\").attr({\n",
       "  rel:  \"stylesheet\",\n",
       "  type: \"text/css\",\n",
       "  href: \"//cdnjs.cloudflare.com/ajax/libs/font-awesome/4.1.0/css/font-awesome.min.css\"\n",
       "}));\n",
       "$(\"head\").append($(\"<link/>\").attr({\n",
       "  rel:  \"stylesheet\",\n",
       "  type: \"text/css\",\n",
       "  href: \"https://static.turi.com/products/graphlab-create/2.1/canvas/css/canvas.css\"\n",
       "}));\n",
       "\n",
       "            (function(){\n",
       "\n",
       "                var e = null;\n",
       "                if (typeof element == 'undefined') {\n",
       "                    var scripts = document.getElementsByTagName('script');\n",
       "                    var thisScriptTag = scripts[scripts.length-1];\n",
       "                    var parentDiv = thisScriptTag.parentNode;\n",
       "                    e = document.createElement('div');\n",
       "                    parentDiv.appendChild(e);\n",
       "                } else {\n",
       "                    e = element[0];\n",
       "                }\n",
       "\n",
       "                if (typeof requirejs !== 'undefined') {\n",
       "                    // disable load timeout; ipython_app.js is large and can take a while to load.\n",
       "                    requirejs.config({waitSeconds: 0});\n",
       "                }\n",
       "\n",
       "                require(['https://static.turi.com/products/graphlab-create/2.1/canvas/js/ipython_app.js'], function(IPythonApp){\n",
       "                    var app = new IPythonApp();\n",
       "                    app.attachView('sframe','Plots', {\"selected_variable\": {\"name\": [\"sales\"], \"descriptives\": {\"rows\": 1460, \"columns\": 81}, \"view_component\": \"Plots\", \"view_file\": \"sframe\", \"view_params\": {\"y\": \"SalePrice\", \"x\": \"GrLivArea\", \"columns\": [\"Id\", \"MSSubClass\", \"MSZoning\", \"LotFrontage\", \"LotArea\", \"Street\", \"Alley\", \"LotShape\", \"LandContour\", \"Utilities\", \"LotConfig\", \"LandSlope\", \"Neighborhood\", \"Condition1\", \"Condition2\", \"BldgType\", \"HouseStyle\", \"OverallQual\", \"OverallCond\", \"YearBuilt\", \"YearRemodAdd\", \"RoofStyle\", \"RoofMatl\", \"Exterior1st\", \"Exterior2nd\", \"MasVnrType\", \"MasVnrArea\", \"ExterQual\", \"ExterCond\", \"Foundation\", \"BsmtQual\", \"BsmtCond\", \"BsmtExposure\", \"BsmtFinType1\", \"BsmtFinSF1\", \"BsmtFinType2\", \"BsmtFinSF2\", \"BsmtUnfSF\", \"TotalBsmtSF\", \"Heating\", \"HeatingQC\", \"CentralAir\", \"Electrical\", \"1stFlrSF\", \"2ndFlrSF\", \"LowQualFinSF\", \"GrLivArea\", \"BsmtFullBath\", \"BsmtHalfBath\", \"FullBath\", \"HalfBath\", \"BedroomAbvGr\", \"KitchenAbvGr\", \"KitchenQual\", \"TotRmsAbvGrd\", \"Functional\", \"Fireplaces\", \"FireplaceQu\", \"GarageType\", \"GarageYrBlt\", \"GarageFinish\", \"GarageCars\", \"GarageArea\", \"GarageQual\", \"GarageCond\", \"PavedDrive\", \"WoodDeckSF\", \"OpenPorchSF\", \"EnclosedPorch\", \"3SsnPorch\", \"ScreenPorch\", \"PoolArea\", \"PoolQC\", \"Fence\", \"MiscFeature\", \"MiscVal\", \"MoSold\", \"YrSold\", \"SaleType\", \"SaleCondition\", \"SalePrice\"], \"view\": \"Scatter Plot\"}, \"view_components\": [\"Summary\", \"Table\", \"Bar Chart\", \"BoxWhisker Plot\", \"Line Chart\", \"Scatter Plot\", \"Heat Map\", \"Plots\"], \"type\": \"SFrame\", \"columns\": [{\"dtype\": \"int\", \"name\": \"Id\"}, {\"dtype\": \"int\", \"name\": \"MSSubClass\"}, {\"dtype\": \"str\", \"name\": \"MSZoning\"}, {\"dtype\": \"int\", \"name\": \"LotFrontage\"}, {\"dtype\": \"int\", \"name\": \"LotArea\"}, {\"dtype\": \"str\", \"name\": \"Street\"}, {\"dtype\": \"str\", \"name\": \"Alley\"}, {\"dtype\": \"str\", \"name\": \"LotShape\"}, {\"dtype\": \"str\", \"name\": \"LandContour\"}, {\"dtype\": \"str\", \"name\": \"Utilities\"}, {\"dtype\": \"str\", \"name\": \"LotConfig\"}, {\"dtype\": \"str\", \"name\": \"LandSlope\"}, {\"dtype\": \"str\", \"name\": \"Neighborhood\"}, {\"dtype\": \"str\", \"name\": \"Condition1\"}, {\"dtype\": \"str\", \"name\": \"Condition2\"}, {\"dtype\": \"str\", \"name\": \"BldgType\"}, {\"dtype\": \"str\", \"name\": \"HouseStyle\"}, {\"dtype\": \"int\", \"name\": \"OverallQual\"}, {\"dtype\": \"int\", \"name\": \"OverallCond\"}, {\"dtype\": \"int\", \"name\": \"YearBuilt\"}, {\"dtype\": \"int\", \"name\": \"YearRemodAdd\"}, {\"dtype\": \"str\", \"name\": \"RoofStyle\"}, {\"dtype\": \"str\", \"name\": \"RoofMatl\"}, {\"dtype\": \"str\", \"name\": \"Exterior1st\"}, {\"dtype\": \"str\", \"name\": \"Exterior2nd\"}, {\"dtype\": \"str\", \"name\": \"MasVnrType\"}, {\"dtype\": \"int\", \"name\": \"MasVnrArea\"}, {\"dtype\": \"str\", \"name\": \"ExterQual\"}, {\"dtype\": \"str\", \"name\": \"ExterCond\"}, {\"dtype\": \"str\", \"name\": \"Foundation\"}, {\"dtype\": \"str\", \"name\": \"BsmtQual\"}, {\"dtype\": \"str\", \"name\": \"BsmtCond\"}, {\"dtype\": \"str\", \"name\": \"BsmtExposure\"}, {\"dtype\": \"str\", \"name\": \"BsmtFinType1\"}, {\"dtype\": \"int\", \"name\": \"BsmtFinSF1\"}, {\"dtype\": \"str\", \"name\": \"BsmtFinType2\"}, {\"dtype\": \"int\", \"name\": \"BsmtFinSF2\"}, {\"dtype\": \"int\", \"name\": \"BsmtUnfSF\"}, {\"dtype\": \"int\", \"name\": \"TotalBsmtSF\"}, {\"dtype\": \"str\", \"name\": \"Heating\"}, {\"dtype\": \"str\", \"name\": \"HeatingQC\"}, {\"dtype\": \"str\", \"name\": \"CentralAir\"}, {\"dtype\": \"str\", \"name\": \"Electrical\"}, {\"dtype\": \"int\", \"name\": \"1stFlrSF\"}, {\"dtype\": \"int\", \"name\": \"2ndFlrSF\"}, {\"dtype\": \"int\", \"name\": \"LowQualFinSF\"}, {\"dtype\": \"int\", \"name\": \"GrLivArea\"}, {\"dtype\": \"int\", \"name\": \"BsmtFullBath\"}, {\"dtype\": \"int\", \"name\": \"BsmtHalfBath\"}, {\"dtype\": \"int\", \"name\": \"FullBath\"}, {\"dtype\": \"int\", \"name\": \"HalfBath\"}, {\"dtype\": \"int\", \"name\": \"BedroomAbvGr\"}, {\"dtype\": \"int\", \"name\": \"KitchenAbvGr\"}, {\"dtype\": \"str\", \"name\": \"KitchenQual\"}, {\"dtype\": \"int\", \"name\": \"TotRmsAbvGrd\"}, {\"dtype\": \"str\", \"name\": \"Functional\"}, {\"dtype\": \"int\", \"name\": \"Fireplaces\"}, {\"dtype\": \"str\", \"name\": \"FireplaceQu\"}, {\"dtype\": \"str\", \"name\": \"GarageType\"}, {\"dtype\": \"int\", \"name\": \"GarageYrBlt\"}, {\"dtype\": \"str\", \"name\": \"GarageFinish\"}, {\"dtype\": \"int\", \"name\": \"GarageCars\"}, {\"dtype\": \"int\", \"name\": \"GarageArea\"}, {\"dtype\": \"str\", \"name\": \"GarageQual\"}, {\"dtype\": \"str\", \"name\": \"GarageCond\"}, {\"dtype\": \"str\", \"name\": \"PavedDrive\"}, {\"dtype\": \"int\", \"name\": \"WoodDeckSF\"}, {\"dtype\": \"int\", \"name\": \"OpenPorchSF\"}, {\"dtype\": \"int\", \"name\": \"EnclosedPorch\"}, {\"dtype\": \"int\", \"name\": \"3SsnPorch\"}, {\"dtype\": \"int\", \"name\": \"ScreenPorch\"}, {\"dtype\": \"int\", \"name\": \"PoolArea\"}, {\"dtype\": \"str\", \"name\": \"PoolQC\"}, {\"dtype\": \"str\", \"name\": \"Fence\"}, {\"dtype\": \"str\", \"name\": \"MiscFeature\"}, {\"dtype\": \"int\", \"name\": \"MiscVal\"}, {\"dtype\": \"int\", \"name\": \"MoSold\"}, {\"dtype\": \"int\", \"name\": \"YrSold\"}, {\"dtype\": \"str\", \"name\": \"SaleType\"}, {\"dtype\": \"str\", \"name\": \"SaleCondition\"}, {\"dtype\": \"int\", \"name\": \"SalePrice\"}], \"column_identifiers\": [\"3SsnPorch\", \"MasVnrType\", \"LotConfig\", \"LandSlope\", \"GarageQual\", \"Exterior1st\", \"GarageFinish\", \"2ndFlrSF\", \"HalfBath\", \"OverallQual\", \"OverallCond\", \"LotArea\", \"Electrical\", \"SalePrice\", \"BsmtQual\", \"HouseStyle\", \"GrLivArea\", \"YearRemodAdd\", \"MasVnrArea\", \"Foundation\", \"1stFlrSF\", \"BsmtFullBath\", \"BsmtCond\", \"HeatingQC\", \"LotFrontage\", \"MiscVal\", \"CentralAir\", \"BsmtExposure\", \"Utilities\", \"KitchenAbvGr\", \"WoodDeckSF\", \"LotShape\", \"BsmtHalfBath\", \"TotalBsmtSF\", \"Condition1\", \"Condition2\", \"TotRmsAbvGrd\", \"MiscFeature\", \"YrSold\", \"PavedDrive\", \"OpenPorchSF\", \"LowQualFinSF\", \"BsmtUnfSF\", \"GarageYrBlt\", \"BldgType\", \"FullBath\", \"SaleType\", \"MSZoning\", \"Exterior2nd\", \"Heating\", \"MSSubClass\", \"GarageCars\", \"YearBuilt\", \"KitchenQual\", \"BsmtFinType2\", \"BsmtFinType1\", \"BedroomAbvGr\", \"BsmtFinSF1\", \"BsmtFinSF2\", \"GarageType\", \"LandContour\", \"PoolArea\", \"Neighborhood\", \"ScreenPorch\", \"Fence\", \"MoSold\", \"SaleCondition\", \"ExterQual\", \"Functional\", \"Alley\", \"RoofStyle\", \"Street\", \"Fireplaces\", \"GarageArea\", \"ExterCond\", \"PoolQC\", \"FireplaceQu\", \"EnclosedPorch\", \"RoofMatl\", \"Id\", \"GarageCond\"]}, \"complete\": 1, \"ipython\": true, \"progress\": 1.0, \"data\": [[1710, 208500], [1262, 181500], [1786, 223500], [1717, 140000], [2198, 250000], [1362, 143000], [1694, 307000], [924, 80000], [1774, 129900], [1077, 118000], [1040, 129500], [2324, 345000], [912, 144000], [1489, 185750], [1253, 157000], [854, 132000], [1376, 105000], [1674, 216000], [1571, 178000], [1339, 139000], [2376, 325300], [1108, 139400], [1795, 230000], [1060, 129900], [1060, 154000], [1600, 256300], [900, 134800], [1991, 220000], [1600, 207500], [520, 68500], [1317, 40000], [1228, 149350], [1234, 179900], [1700, 165500], [5642, 160000], [2452, 309000], [1097, 145000], [1297, 153000], [1057, 109000], [864, 115000], [1324, 160000], [1328, 170000], [884, 144000], [938, 130250], [1150, 141000], [1752, 319900], [2149, 239686], [1820, 201800], [1452, 113000], [955, 127000], [1470, 177000], [2872, 285000], [816, 110000], [2112, 206900], [1360, 130000], [1425, 180500], [1739, 172500], [1660, 195000], [2945, 438780], [780, 124900], [1158, 158000], [2058, 129500], [1370, 202500], [1710, 140000], [1258, 105000], [848, 155900], [2207, 180000], [1479, 226000], [747, 80000], [2287, 225000], [2223, 244000], [1482, 163900], [1258, 145000], [1086, 144900], [1564, 174500], [2076, 465000], [952, 135750], [1285, 127000], [1768, 136500], [1230, 110000], [1699, 95000], [1337, 153500], [1563, 245000], [1065, 126500], [1601, 157000], [2417, 260000], [1560, 174000], [1224, 164500], [1958, 250000], [990, 123600], [1040, 109900], [1235, 98600], [964, 163500], [2291, 133900], [1786, 204750], [1220, 194000], [1588, 214000], [960, 94750], [1265, 179900], [1776, 283463], [1432, 194000], [1732, 178000], [1571, 239000], [1226, 198900], [1818, 169500], [2526, 290000], [1047, 100000], [789, 115000], [1517, 115000], [1844, 190000], [1855, 136900], [1574, 232000], [2696, 383970], [2259, 217000], [2320, 259500], [1458, 176000], [1092, 139000], [1125, 155000], [3222, 320000], [1567, 196000], [988, 180000], [1123, 100000], [1080, 136000], [1199, 153900], [1586, 181000], [1132, 176000], [1250, 171900], [840, 87000], [1348, 155000], [1053, 150000], [2157, 226000], [630, 80000], [1327, 150750], [1296, 220000], [1721, 180000], [1078, 149900], [923, 119500], [1959, 171000], [1852, 230000], [1764, 231500], [864, 115000], [1734, 260000], [1385, 166000], [1501, 204000], [1194, 159500], [1709, 130000], [875, 105000], [2035, 222500], [1080, 141000], [1344, 115000], [969, 122000], [1710, 372402], [1572, 186700], [1252, 235000], [1200, 125000], [1167, 144000], [1040, 109500], [1968, 269500], [1947, 254900], [1478, 156500], [1247, 197000], [2668, 412500], [1541, 220000], [882, 103200], [1977, 165000], [1274, 203000], [1558, 140000], [2161, 325624], [1720, 183500], [2007, 310000], [1382, 128500], [1236, 149700], [1767, 239000], [1494, 177500], [1651, 184000], [1840, 230000], [990, 138000], [1787, 275000], [2234, 501837], [968, 100000], [960, 145000], [1802, 200100], [1340, 120000], [2082, 200000], [1250, 139000], [3608, 475000], [672, 113000], [1316, 200141], [1224, 153337], [1020, 94000], [2156, 262500], [2599, 333168], [1431, 192000], [1709, 130000], [864, 127000], [1456, 148500], [1726, 311872], [1733, 139600], [2229, 104000], [833, 117000], [1121, 140000], [1279, 171500], [1310, 112000], [848, 149000], [1284, 110000], [1114, 155000], [954, 119750], [1100, 141000], [2062, 277000], [1525, 235000], [1953, 252000], [1212, 186000], [1852, 252678], [990, 156000], [1392, 161750], [1522, 102000], [1436, 210000], [1328, 107000], [768, 133000], [1248, 167240], [1498, 204900], [1608, 137450], [948, 111000], [1700, 200000], [2392, 386250], [1302, 112000], [2520, 290000], [987, 106000], [912, 125000], [1555, 192500], [1194, 148000], [2127, 271000], [1584, 124000], [438, 60000], [1626, 175500], [996, 147000], [1414, 185500], [1744, 194500], [2482, 281213], [2810, 302000], [1566, 262500], [2555, 191000], [1363, 125500], [1616, 232000], [2110, 205000], [1441, 174000], [1928, 137000], [1264, 167500], [1419, 184100], [2144, 277000], [1306, 76500], [1625, 235000], [1640, 173000], [691, 86000], [1314, 145000], [864, 128500], [1728, 207500], [935, 137000], [1792, 231500], [882, 97000], [1824, 139000], [2574, 276000], [1582, 190000], [1316, 130000], [1302, 119500], [1456, 146000], [1746, 377500], [2192, 179500], [778, 120500], [3238, 410000], [1939, 266000], [1221, 104900], [1844, 223000], [1632, 139000], [816, 124500], [948, 119000], [912, 147000], [864, 141000], [2121, 415298], [2022, 192000], [1982, 228500], [1604, 117000], [1314, 207500], [1468, 244600], [2620, 190000], [1250, 164700], [1504, 203000], [987, 83000], [900, 122000], [1396, 153575], [1919, 233230], [1716, 135900], [1716, 131000], [1494, 215000], [1644, 167000], [1003, 142500], [1687, 160000], [1950, 239000], [1708, 130000], [1152, 158500], [1811, 230000], [1096, 138800], [1490, 184000], [894, 149900], [954, 132500], [2000, 305900], [2243, 225000], [1406, 89500], [861, 82500], [1944, 360000], [900, 123000], [972, 132000], [1118, 119900], [1074, 153500], [1641, 178000], [1432, 188500], [848, 149300], [1959, 270000], [2646, 260000], [1472, 187500], [2596, 342643], [2468, 354000], [1654, 230000], [1163, 126175], [2978, 242000], [1675, 181000], [1640, 224000], [1383, 145250], [2134, 214500], [1792, 186500], [1728, 119000], [1056, 139000], [1006, 80000], [1358, 207000], [1456, 176000], [1786, 228950], [1922, 377426], [1536, 214000], [1621, 202500], [1215, 155000], [974, 93500], [841, 82000], [1040, 87500], [1684, 266000], [1112, 85000], [1577, 140200], [958, 151500], [1478, 157500], [1412, 132500], [2728, 437154], [1869, 318061], [1453, 190000], [1111, 95000], [720, 105900], [1595, 140000], [1200, 177500], [1167, 173000], [1069, 127500], [1352, 130000], [3627, 625000], [912, 156000], [693, 52500], [985, 149900], [987, 118000], [1574, 190000], [1334, 167900], [1578, 287090], [1431, 165000], [1268, 132000], [1287, 162000], [1365, 125000], [1472, 125000], [752, 125000], [1319, 123000], [1928, 219500], [872, 123000], [1734, 318000], [2466, 340000], [864, 116050], [1959, 215000], [1691, 127000], [1779, 197900], [1797, 213500], [784, 76000], [1212, 178000], [1269, 192000], [1184, 81000], [1125, 125000], [1479, 191000], [2332, 426000], [936, 140000], [1961, 215000], [1240, 194000], [788, 100000], [1034, 109000], [1144, 129000], [894, 123000], [1812, 169500], [1077, 67000], [1550, 241000], [1912, 163000], [1310, 164990], [672, 108000], [2263, 258000], [1572, 168000], [1620, 150000], [1498, 187500], [1466, 149900], [2172, 280000], [2078, 339750], [1394, 167500], [1056, 145000], [1668, 232000], [1482, 143000], [2097, 228000], [1340, 181134], [1507, 127000], [2624, 239000], [1134, 126000], [1056, 142000], [1344, 206300], [1426, 159500], [988, 113000], [2630, 315000], [1196, 139000], [1389, 135000], [1644, 275000], [907, 109008], [1208, 195400], [1412, 175000], [1459, 192000], [1198, 79900], [1365, 122500], [1604, 181000], [1920, 170000], [1661, 212000], [1118, 116000], [904, 119000], [694, 90350], [1314, 229456], [2402, 555000], [1440, 118000], [1573, 162900], [1040, 90000], [1908, 210000], [1689, 127500], [1888, 190000], [1886, 199900], [1376, 119500], [1183, 120000], [813, 110000], [1533, 280000], [960, 108500], [1590, 210000], [1728, 188000], [1050, 128900], [1344, 98000], [1374, 105000], [1666, 161000], [1203, 110000], [1935, 263435], [1135, 155000], [864, 62383], [1660, 188700], [1040, 124000], [958, 143750], [1277, 167000], [1644, 146500], [1634, 250000], [1130, 120000], [1502, 212000], [1969, 190000], [2447, 169000], [1976, 440000], [1652, 251000], [970, 132500], [1493, 208900], [1868, 197500], [1664, 162900], [1131, 89471], [1850, 326000], [2073, 210000], [1826, 155000], [1216, 164000], [999, 132500], [1113, 147000], [1073, 156000], [2210, 117500], [2414, 160000], [1338, 213500], [1304, 115000], [1578, 133000], [1456, 172785], [1630, 213000], [886, 91300], [1526, 144500], [3228, 430000], [1188, 157900], [1166, 190000], [912, 120000], [1218, 113000], [1768, 226700], [1214, 140000], [1801, 289000], [1322, 147000], [1960, 124500], [1911, 215000], [1576, 149000], [1378, 161000], [1041, 124500], [1363, 164900], [1368, 202665], [864, 129900], [1080, 134000], [1306, 196000], [2601, 189000], [2119, 158000], [2344, 265000], [1796, 211000], [2080, 234000], [1784, 138887], [1244, 150000], [1502, 233170], [4676, 184750], [2398, 315750], [1266, 176000], [928, 132000], [1517, 230000], [882, 112500], [2515, 200624], [1509, 175000], [1362, 128000], [827, 107500], [334, 39300], [1923, 190000], [1347, 107500], [1724, 188000], [864, 111250], [1159, 158000], [1088, 170000], [894, 81000], [2285, 248000], [1054, 151000], [767, 133000], [1496, 179665], [2183, 229000], [1635, 210000], [768, 129500], [825, 125000], [2094, 263000], [1069, 140000], [928, 112500], [1846, 143000], [1126, 108000], [2046, 284000], [1211, 134000], [1092, 141000], [1336, 108000], [1446, 175000], [1557, 234000], [1392, 121500], [2792, 256000], [1072, 145000], [1674, 185000], [1188, 142000], [1647, 128000], [2504, 325000], [1535, 214000], [1694, 136500], [1500, 246578], [816, 120500], [1622, 168000], [1692, 224500], [1430, 170000], [1109, 139000], [1216, 118500], [1477, 145000], [1320, 164500], [1392, 146000], [1795, 131500], [1429, 181900], [2042, 253293], [816, 130500], [2775, 325000], [1573, 133000], [2028, 369900], [838, 130000], [860, 137000], [1473, 143000], [935, 79500], [1582, 185900], [944, 82000], [816, 138000], [1865, 235000], [3447, 381000], [1826, 319000], [1368, 114504], [1402, 194201], [1224, 101800], [1556, 151000], [1904, 275000], [804, 119000], [1915, 220000], [1200, 151000], [2184, 335000], [1986, 205000], [1056, 107000], [2008, 225000], [2021, 274725], [1029, 118500], [1902, 112000], [1032, 148000], [1872, 261500], [1120, 147000], [1989, 255000], [1054, 137500], [1509, 183200], [1082, 119200], [999, 134500], [2262, 305000], [1694, 245350], [2614, 240000], [1092, 83500], [1512, 168500], [1790, 165150], [1251, 160000], [1200, 144152], [1520, 153000], [2080, 135000], [1350, 168500], [1652, 325000], [1554, 209500], [950, 119500], [1524, 260000], [1056, 144000], [1513, 137500], [1555, 174000], [1387, 93000], [796, 85000], [1472, 160000], [1518, 274000], [1929, 226000], [2340, 266500], [1620, 152000], [1671, 173000], [981, 143250], [1647, 175000], [2031, 237000], [1839, 155000], [2337, 90000], [1665, 205950], [1368, 202500], [1352, 208900], [1469, 135000], [1122, 147000], [1078, 142125], [1053, 145500], [1502, 149000], [1458, 97500], [1261, 163000], [1935, 197900], [1660, 290000], [1392, 110000], [1181, 137500], [2097, 423000], [1936, 230500], [2380, 129000], [1679, 193500], [1580, 235128], [2828, 424870], [1476, 173500], [1369, 103600], [1466, 170000], [1314, 176432], [1136, 140000], [1441, 148500], [774, 79000], [1702, 367294], [2046, 372500], [988, 128500], [1218, 131000], [1456, 91500], [1291, 173000], [1440, 182900], [1839, 221000], [2090, 207500], [1761, 227875], [1102, 148800], [720, 72500], [1362, 194700], [848, 141000], [4316, 755000], [2519, 335000], [2110, 244000], [1539, 141500], [1137, 176000], [616, 89000], [1148, 123500], [2784, 250000], [1391, 196000], [1800, 312500], [1164, 140000], [2576, 361919], [1812, 140000], [1484, 213000], [1664, 100000], [894, 129000], [1324, 254000], [1456, 179540], [845, 84000], [729, 52000], [1178, 102776], [1228, 189000], [960, 129000], [1479, 130500], [816, 100000], [1804, 189000], [630, 92000], [2418, 341000], [971, 128500], [1742, 275000], [1771, 115000], [864, 124500], [1470, 135000], [1698, 320000], [912, 80500], [1344, 97000], [1232, 194500], [1776, 110000], [1208, 103000], [1913, 177000], [1146, 187500], [2031, 222500], [1190, 132500], [948, 108000], [1768, 163000], [1382, 148000], [1801, 239900], [1343, 154900], [1728, 190000], [1432, 132000], [912, 142000], [1349, 179000], [1464, 175000], [1337, 180000], [2715, 299800], [2256, 236000], [2640, 265979], [1720, 260400], [1529, 98000], [1140, 96500], [1320, 162000], [1298, 180000], [2098, 275500], [1026, 156000], [1471, 172500], [1768, 212000], [1386, 158900], [1501, 179400], [2531, 290000], [1224, 165000], [1301, 100000], [1547, 215200], [2365, 337000], [1494, 270000], [1506, 264132], [1714, 196500], [1750, 160000], [1836, 216837], [990, 126000], [1690, 144000], [1220, 102000], [1788, 161500], [1103, 110500], [1973, 395000], [1204, 162000], [1214, 105000], [894, 142500], [2020, 144000], [1328, 143000], [1040, 92900], [708, 82500], [1430, 187100], [1110, 165500], [1484, 128000], [1437, 218000], [1652, 139000], [2084, 233000], [901, 107900], [2087, 187500], [1416, 179900], [1062, 146800], [1271, 135000], [1496, 225000], [1895, 194500], [894, 130000], [1285, 143500], [773, 110000], [1346, 112000], [1768, 175000], [1405, 171750], [1196, 109900], [1456, 189000], [2136, 137900], [1128, 118000], [1428, 227680], [980, 135500], [1576, 223500], [1086, 159950], [2520, 310000], [1158, 120000], [848, 144500], [1044, 55993], [1442, 157900], [1250, 116000], [1502, 165000], [1008, 137000], [1008, 134500], [1052, 155000], [1588, 227000], [1640, 183000], [2622, 325000], [2117, 237500], [1709, 137500], [1489, 232600], [2084, 385000], [784, 109500], [698, 118000], [2126, 185000], [2345, 239000], [864, 58500], [1200, 151000], [1829, 237000], [1516, 167000], [1144, 139950], [1067, 128000], [1052, 138500], [987, 100000], [1099, 144000], [1395, 162000], [1482, 140000], [1539, 157500], [1165, 174900], [1800, 141000], [1416, 153900], [2521, 151400], [1775, 213000], [864, 133500], [2358, 240000], [1252, 142000], [848, 131500], [1456, 215000], [1646, 164000], [1445, 158000], [1779, 170000], [1040, 127000], [1026, 147000], [1481, 174000], [1370, 152000], [2654, 250000], [1656, 135000], [1039, 131500], [1097, 152000], [1148, 132500], [1372, 250580], [1002, 148500], [1646, 248900], [1928, 160000], [1048, 135000], [2898, 287000], [894, 109500], [1682, 200500], [910, 116000], [1268, 133000], [1131, 66500], [2097, 274300], [1040, 132250], [2224, 350000], [1155, 148000], [864, 136500], [1090, 157000], [1717, 187500], [1593, 178000], [2230, 118500], [892, 100000], [1709, 328900], [1712, 145000], [1506, 213490], [2217, 268000], [1920, 137000], [1987, 301500], [1683, 172500], [1068, 154500], [1173, 170000], [1535, 118858], [1796, 140000], [951, 106500], [2240, 142953], [2364, 611657], [1236, 135000], [858, 110000], [1040, 133700], [1509, 180000], [1670, 240000], [902, 125500], [1063, 128000], [2633, 466500], [2057, 250000], [902, 131000], [1484, 174000], [2274, 154300], [1268, 143500], [1092, 88000], [892, 110000], [1224, 173733], [1138, 145000], [480, 35311], [1229, 135000], [1352, 158000], [1414, 176500], [1710, 240000], [960, 112000], [2196, 271900], [1504, 181000], [1686, 207500], [1126, 175000], [1624, 262000], [1978, 176000], [1788, 236500], [2236, 222000], [1034, 169900], [925, 117500], [2290, 122500], [1661, 165500], [2069, 242000], [1868, 178000], [1200, 184900], [1971, 253000], [1962, 239799], [2403, 244400], [1126, 160000], [2060, 214000], [1440, 150000], [1632, 143000], [1344, 137500], [1869, 124900], [1144, 143000], [1629, 270000], [1256, 147500], [1381, 197500], [864, 129000], [965, 119900], [1725, 197000], [1968, 172000], [1948, 195000], [1958, 145000], [1229, 124000], [1057, 132000], [986, 102000], [1416, 155000], [858, 116500], [2872, 272000], [1548, 155000], [1800, 239000], [1894, 214900], [1484, 178900], [1308, 160000], [1098, 135000], [968, 37900], [2514, 250000], [1192, 135000], [1523, 180000], [918, 99500], [1428, 182000], [2019, 167500], [1382, 165000], [869, 85500], [1680, 136905], [894, 110000], [1121, 139000], [913, 129000], [1416, 112000], [1266, 159895], [2290, 255900], [1734, 126000], [1164, 125000], [1635, 117000], [1940, 395192], [2030, 195000], [1576, 197000], [2392, 348000], [1154, 154000], [1851, 187000], [1500, 173900], [1593, 193000], [1230, 121600], [1050, 136500], [1442, 185000], [1077, 91000], [1208, 206000]], \"columns\": [{\"dtype\": \"int\", \"name\": \"Id\"}, {\"dtype\": \"int\", \"name\": \"MSSubClass\"}, {\"dtype\": \"str\", \"name\": \"MSZoning\"}, {\"dtype\": \"int\", \"name\": \"LotFrontage\"}, {\"dtype\": \"int\", \"name\": \"LotArea\"}, {\"dtype\": \"str\", \"name\": \"Street\"}, {\"dtype\": \"str\", \"name\": \"Alley\"}, {\"dtype\": \"str\", \"name\": \"LotShape\"}, {\"dtype\": \"str\", \"name\": \"LandContour\"}, {\"dtype\": \"str\", \"name\": \"Utilities\"}, {\"dtype\": \"str\", \"name\": \"LotConfig\"}, {\"dtype\": \"str\", \"name\": \"LandSlope\"}, {\"dtype\": \"str\", \"name\": \"Neighborhood\"}, {\"dtype\": \"str\", \"name\": \"Condition1\"}, {\"dtype\": \"str\", \"name\": \"Condition2\"}, {\"dtype\": \"str\", \"name\": \"BldgType\"}, {\"dtype\": \"str\", \"name\": \"HouseStyle\"}, {\"dtype\": \"int\", \"name\": \"OverallQual\"}, {\"dtype\": \"int\", \"name\": \"OverallCond\"}, {\"dtype\": \"int\", \"name\": \"YearBuilt\"}, {\"dtype\": \"int\", \"name\": \"YearRemodAdd\"}, {\"dtype\": \"str\", \"name\": \"RoofStyle\"}, {\"dtype\": \"str\", \"name\": \"RoofMatl\"}, {\"dtype\": \"str\", \"name\": \"Exterior1st\"}, {\"dtype\": \"str\", \"name\": \"Exterior2nd\"}, {\"dtype\": \"str\", \"name\": \"MasVnrType\"}, {\"dtype\": \"int\", \"name\": \"MasVnrArea\"}, {\"dtype\": \"str\", \"name\": \"ExterQual\"}, {\"dtype\": \"str\", \"name\": \"ExterCond\"}, {\"dtype\": \"str\", \"name\": \"Foundation\"}, {\"dtype\": \"str\", \"name\": \"BsmtQual\"}, {\"dtype\": \"str\", \"name\": \"BsmtCond\"}, {\"dtype\": \"str\", \"name\": \"BsmtExposure\"}, {\"dtype\": \"str\", \"name\": \"BsmtFinType1\"}, {\"dtype\": \"int\", \"name\": \"BsmtFinSF1\"}, {\"dtype\": \"str\", \"name\": \"BsmtFinType2\"}, {\"dtype\": \"int\", \"name\": \"BsmtFinSF2\"}, {\"dtype\": \"int\", \"name\": \"BsmtUnfSF\"}, {\"dtype\": \"int\", \"name\": \"TotalBsmtSF\"}, {\"dtype\": \"str\", \"name\": \"Heating\"}, {\"dtype\": \"str\", \"name\": \"HeatingQC\"}, {\"dtype\": \"str\", \"name\": \"CentralAir\"}, {\"dtype\": \"str\", \"name\": \"Electrical\"}, {\"dtype\": \"int\", \"name\": \"1stFlrSF\"}, {\"dtype\": \"int\", \"name\": \"2ndFlrSF\"}, {\"dtype\": \"int\", \"name\": \"LowQualFinSF\"}, {\"dtype\": \"int\", \"name\": \"GrLivArea\"}, {\"dtype\": \"int\", \"name\": \"BsmtFullBath\"}, {\"dtype\": \"int\", \"name\": \"BsmtHalfBath\"}, {\"dtype\": \"int\", \"name\": \"FullBath\"}, {\"dtype\": \"int\", \"name\": \"HalfBath\"}, {\"dtype\": \"int\", \"name\": \"BedroomAbvGr\"}, {\"dtype\": \"int\", \"name\": \"KitchenAbvGr\"}, {\"dtype\": \"str\", \"name\": \"KitchenQual\"}, {\"dtype\": \"int\", \"name\": \"TotRmsAbvGrd\"}, {\"dtype\": \"str\", \"name\": \"Functional\"}, {\"dtype\": \"int\", \"name\": \"Fireplaces\"}, {\"dtype\": \"str\", \"name\": \"FireplaceQu\"}, {\"dtype\": \"str\", \"name\": \"GarageType\"}, {\"dtype\": \"int\", \"name\": \"GarageYrBlt\"}, {\"dtype\": \"str\", \"name\": \"GarageFinish\"}, {\"dtype\": \"int\", \"name\": \"GarageCars\"}, {\"dtype\": \"int\", \"name\": \"GarageArea\"}, {\"dtype\": \"str\", \"name\": \"GarageQual\"}, {\"dtype\": \"str\", \"name\": \"GarageCond\"}, {\"dtype\": \"str\", \"name\": \"PavedDrive\"}, {\"dtype\": \"int\", \"name\": \"WoodDeckSF\"}, {\"dtype\": \"int\", \"name\": \"OpenPorchSF\"}, {\"dtype\": \"int\", \"name\": \"EnclosedPorch\"}, {\"dtype\": \"int\", \"name\": \"3SsnPorch\"}, {\"dtype\": \"int\", \"name\": \"ScreenPorch\"}, {\"dtype\": \"int\", \"name\": \"PoolArea\"}, {\"dtype\": \"str\", \"name\": \"PoolQC\"}, {\"dtype\": \"str\", \"name\": \"Fence\"}, {\"dtype\": \"str\", \"name\": \"MiscFeature\"}, {\"dtype\": \"int\", \"name\": \"MiscVal\"}, {\"dtype\": \"int\", \"name\": \"MoSold\"}, {\"dtype\": \"int\", \"name\": \"YrSold\"}, {\"dtype\": \"str\", \"name\": \"SaleType\"}, {\"dtype\": \"str\", \"name\": \"SaleCondition\"}, {\"dtype\": \"int\", \"name\": \"SalePrice\"}]}, e);\n",
       "                });\n",
       "            })();\n",
       "        "
      ]
     },
     "metadata": {},
     "output_type": "display_data"
    }
   ],
   "source": [
    "gl.canvas.set_target('ipynb')\n",
    "sales.show(view=\"Scatter Plot\", x=\"GrLivArea\", y=\"SalePrice\")"
   ]
  },
  {
   "cell_type": "markdown",
   "metadata": {},
   "source": [
    "# Create a simple regression model of GrLivArea to SalePrice"
   ]
  },
  {
   "cell_type": "code",
   "execution_count": 11,
   "metadata": {
    "collapsed": true
   },
   "outputs": [],
   "source": [
    "train_data,test_data = sales.random_split(.8,seed=0)"
   ]
  },
  {
   "cell_type": "markdown",
   "metadata": {},
   "source": [
    "# Build the regression model"
   ]
  },
  {
   "cell_type": "code",
   "execution_count": 15,
   "metadata": {
    "collapsed": false
   },
   "outputs": [
    {
     "name": "stdout",
     "output_type": "stream",
     "text": [
      "PROGRESS: Creating a validation set from 5 percent of training data. This may take a while.\n",
      "          You can set ``validation_set=None`` to disable validation tracking.\n",
      "\n"
     ]
    },
    {
     "data": {
      "text/html": [
       "<pre>Linear regression:</pre>"
      ],
      "text/plain": [
       "Linear regression:"
      ]
     },
     "metadata": {},
     "output_type": "display_data"
    },
    {
     "data": {
      "text/html": [
       "<pre>--------------------------------------------------------</pre>"
      ],
      "text/plain": [
       "--------------------------------------------------------"
      ]
     },
     "metadata": {},
     "output_type": "display_data"
    },
    {
     "data": {
      "text/html": [
       "<pre>Number of examples          : 1114</pre>"
      ],
      "text/plain": [
       "Number of examples          : 1114"
      ]
     },
     "metadata": {},
     "output_type": "display_data"
    },
    {
     "data": {
      "text/html": [
       "<pre>Number of features          : 1</pre>"
      ],
      "text/plain": [
       "Number of features          : 1"
      ]
     },
     "metadata": {},
     "output_type": "display_data"
    },
    {
     "data": {
      "text/html": [
       "<pre>Number of unpacked features : 1</pre>"
      ],
      "text/plain": [
       "Number of unpacked features : 1"
      ]
     },
     "metadata": {},
     "output_type": "display_data"
    },
    {
     "data": {
      "text/html": [
       "<pre>Number of coefficients    : 2</pre>"
      ],
      "text/plain": [
       "Number of coefficients    : 2"
      ]
     },
     "metadata": {},
     "output_type": "display_data"
    },
    {
     "data": {
      "text/html": [
       "<pre>Starting Newton Method</pre>"
      ],
      "text/plain": [
       "Starting Newton Method"
      ]
     },
     "metadata": {},
     "output_type": "display_data"
    },
    {
     "data": {
      "text/html": [
       "<pre>--------------------------------------------------------</pre>"
      ],
      "text/plain": [
       "--------------------------------------------------------"
      ]
     },
     "metadata": {},
     "output_type": "display_data"
    },
    {
     "data": {
      "text/html": [
       "<pre>+-----------+----------+--------------+--------------------+----------------------+---------------+-----------------+</pre>"
      ],
      "text/plain": [
       "+-----------+----------+--------------+--------------------+----------------------+---------------+-----------------+"
      ]
     },
     "metadata": {},
     "output_type": "display_data"
    },
    {
     "data": {
      "text/html": [
       "<pre>| Iteration | Passes   | Elapsed Time | Training-max_error | Validation-max_error | Training-rmse | Validation-rmse |</pre>"
      ],
      "text/plain": [
       "| Iteration | Passes   | Elapsed Time | Training-max_error | Validation-max_error | Training-rmse | Validation-rmse |"
      ]
     },
     "metadata": {},
     "output_type": "display_data"
    },
    {
     "data": {
      "text/html": [
       "<pre>+-----------+----------+--------------+--------------------+----------------------+---------------+-----------------+</pre>"
      ],
      "text/plain": [
       "+-----------+----------+--------------+--------------------+----------------------+---------------+-----------------+"
      ]
     },
     "metadata": {},
     "output_type": "display_data"
    },
    {
     "data": {
      "text/html": [
       "<pre>| 1         | 2        | 1.039688     | 332215.986178      | 363208.409691        | 54837.576006  | 65920.069563    |</pre>"
      ],
      "text/plain": [
       "| 1         | 2        | 1.039688     | 332215.986178      | 363208.409691        | 54837.576006  | 65920.069563    |"
      ]
     },
     "metadata": {},
     "output_type": "display_data"
    },
    {
     "data": {
      "text/html": [
       "<pre>+-----------+----------+--------------+--------------------+----------------------+---------------+-----------------+</pre>"
      ],
      "text/plain": [
       "+-----------+----------+--------------+--------------------+----------------------+---------------+-----------------+"
      ]
     },
     "metadata": {},
     "output_type": "display_data"
    },
    {
     "data": {
      "text/html": [
       "<pre>SUCCESS: Optimal solution found.</pre>"
      ],
      "text/plain": [
       "SUCCESS: Optimal solution found."
      ]
     },
     "metadata": {},
     "output_type": "display_data"
    },
    {
     "data": {
      "text/html": [
       "<pre></pre>"
      ],
      "text/plain": []
     },
     "metadata": {},
     "output_type": "display_data"
    }
   ],
   "source": [
    "GrLivArea_model = gl.linear_regression.create(train_data, target='SalePrice', features=['GrLivArea'])"
   ]
  },
  {
   "cell_type": "markdown",
   "metadata": {},
   "source": [
    "# Evaluate the simple model"
   ]
  },
  {
   "cell_type": "markdown",
   "metadata": {},
   "source": [
    "This shows the mean SalePrice"
   ]
  },
  {
   "cell_type": "code",
   "execution_count": 25,
   "metadata": {
    "collapsed": false
   },
   "outputs": [
    {
     "name": "stdout",
     "output_type": "stream",
     "text": [
      "181444.297945\n"
     ]
    }
   ],
   "source": [
    "print test_data['SalePrice'].mean()"
   ]
  },
  {
   "cell_type": "markdown",
   "metadata": {},
   "source": [
    "\"Max_error\" means the outliers (USD500k is the outlier) and RMSE is the \"Root Mean Square Error\""
   ]
  },
  {
   "cell_type": "code",
   "execution_count": 24,
   "metadata": {
    "collapsed": false
   },
   "outputs": [
    {
     "name": "stdout",
     "output_type": "stream",
     "text": [
      "{'max_error': 500150.3666153955, 'rmse': 59456.72692142988}\n"
     ]
    }
   ],
   "source": [
    "print GrLivArea_model.evaluate(test_data)"
   ]
  },
  {
   "cell_type": "code",
   "execution_count": 21,
   "metadata": {
    "collapsed": true
   },
   "outputs": [],
   "source": [
    "import matplotlib.pyplot as plt\n",
    "%matplotlib inline"
   ]
  },
  {
   "cell_type": "code",
   "execution_count": 22,
   "metadata": {
    "collapsed": false
   },
   "outputs": [
    {
     "data": {
      "text/plain": [
       "[<matplotlib.lines.Line2D at 0x203c8048>,\n",
       " <matplotlib.lines.Line2D at 0x203c80f0>]"
      ]
     },
     "execution_count": 22,
     "metadata": {},
     "output_type": "execute_result"
    },
    {
     "data": {
      "image/png": "[encoded data removed]",
      "text/plain": [
       "<matplotlib.figure.Figure at 0x151f26d8>"
      ]
     },
     "metadata": {},
     "output_type": "display_data"
    }
   ],
   "source": [
    "plt.plot(test_data['GrLivArea'], test_data['SalePrice'], '.', test_data['GrLivArea'], GrLivArea_model.predict(test_data), '-')"
   ]
  },
  {
   "cell_type": "code",
   "execution_count": 23,
   "metadata": {
    "collapsed": false
   },
   "outputs": [
    {
     "data": {
      "text/html": [
       "<div style=\"max-height:1000px;max-width:1500px;overflow:auto;\"><table frame=\"box\" rules=\"cols\">\n",
       "    <tr>\n",
       "        <th style=\"padding-left: 1em; padding-right: 1em; text-align: center\">name</th>\n",
       "        <th style=\"padding-left: 1em; padding-right: 1em; text-align: center\">index</th>\n",
       "        <th style=\"padding-left: 1em; padding-right: 1em; text-align: center\">value</th>\n",
       "        <th style=\"padding-left: 1em; padding-right: 1em; text-align: center\">stderr</th>\n",
       "    </tr>\n",
       "    <tr>\n",
       "        <td style=\"padding-left: 1em; padding-right: 1em; text-align: center; vertical-align: top\">(intercept)</td>\n",
       "        <td style=\"padding-left: 1em; padding-right: 1em; text-align: center; vertical-align: top\">None</td>\n",
       "        <td style=\"padding-left: 1em; padding-right: 1em; text-align: center; vertical-align: top\">4884.29936056</td>\n",
       "        <td style=\"padding-left: 1em; padding-right: 1em; text-align: center; vertical-align: top\">5138.78835837</td>\n",
       "    </tr>\n",
       "    <tr>\n",
       "        <td style=\"padding-left: 1em; padding-right: 1em; text-align: center; vertical-align: top\">GrLivArea</td>\n",
       "        <td style=\"padding-left: 1em; padding-right: 1em; text-align: center; vertical-align: top\">None</td>\n",
       "        <td style=\"padding-left: 1em; padding-right: 1em; text-align: center; vertical-align: top\">116.140742158</td>\n",
       "        <td style=\"padding-left: 1em; padding-right: 1em; text-align: center; vertical-align: top\">3.20088206954</td>\n",
       "    </tr>\n",
       "</table>\n",
       "[2 rows x 4 columns]<br/>\n",
       "</div>"
      ],
      "text/plain": [
       "Columns:\n",
       "\tname\tstr\n",
       "\tindex\tstr\n",
       "\tvalue\tfloat\n",
       "\tstderr\tfloat\n",
       "\n",
       "Rows: 2\n",
       "\n",
       "Data:\n",
       "+-------------+-------+---------------+---------------+\n",
       "|     name    | index |     value     |     stderr    |\n",
       "+-------------+-------+---------------+---------------+\n",
       "| (intercept) |  None | 4884.29936056 | 5138.78835837 |\n",
       "|  GrLivArea  |  None | 116.140742158 | 3.20088206954 |\n",
       "+-------------+-------+---------------+---------------+\n",
       "[2 rows x 4 columns]"
      ]
     },
     "execution_count": 23,
     "metadata": {},
     "output_type": "execute_result"
    }
   ],
   "source": [
    "GrLivArea_model.get('coefficients')"
   ]
  },
  {
   "cell_type": "markdown",
   "metadata": {},
   "source": [
    "The summary from table above is the value of y intercept is USD4884 and average price for GrLivArea is USD116 per sqf"
   ]
  },
  {
   "cell_type": "code",
   "execution_count": 29,
   "metadata": {
    "collapsed": true
   },
   "outputs": [],
   "source": [
    "my_features = ['MSSubClass','LotArea','Neighborhood','GrLivArea','FullBath','TotRmsAbvGrd']"
   ]
  },
  {
   "cell_type": "code",
   "execution_count": 31,
   "metadata": {
    "collapsed": false
   },
   "outputs": [
    {
     "data": {
      "application/javascript": [
       "$(\"head\").append($(\"<link/>\").attr({\n",
       "  rel:  \"stylesheet\",\n",
       "  type: \"text/css\",\n",
       "  href: \"//cdnjs.cloudflare.com/ajax/libs/font-awesome/4.1.0/css/font-awesome.min.css\"\n",
       "}));\n",
       "$(\"head\").append($(\"<link/>\").attr({\n",
       "  rel:  \"stylesheet\",\n",
       "  type: \"text/css\",\n",
       "  href: \"https://static.turi.com/products/graphlab-create/2.1/canvas/css/canvas.css\"\n",
       "}));\n",
       "\n",
       "            (function(){\n",
       "\n",
       "                var e = null;\n",
       "                if (typeof element == 'undefined') {\n",
       "                    var scripts = document.getElementsByTagName('script');\n",
       "                    var thisScriptTag = scripts[scripts.length-1];\n",
       "                    var parentDiv = thisScriptTag.parentNode;\n",
       "                    e = document.createElement('div');\n",
       "                    parentDiv.appendChild(e);\n",
       "                } else {\n",
       "                    e = element[0];\n",
       "                }\n",
       "\n",
       "                if (typeof requirejs !== 'undefined') {\n",
       "                    // disable load timeout; ipython_app.js is large and can take a while to load.\n",
       "                    requirejs.config({waitSeconds: 0});\n",
       "                }\n",
       "\n",
       "                require(['https://static.turi.com/products/graphlab-create/2.1/canvas/js/ipython_app.js'], function(IPythonApp){\n",
       "                    var app = new IPythonApp();\n",
       "                    app.attachView('sframe','Summary', {\"ipython\": true, \"sketch\": {\"Neighborhood\": {\"complete\": true, \"numeric\": false, \"num_unique\": 25, \"num_undefined\": 0, \"progress\": 1.0, \"frequent_items\": {\"IDOTRR\": {\"frequency\": 37, \"value\": \"IDOTRR\"}, \"Edwards\": {\"frequency\": 100, \"value\": \"Edwards\"}, \"BrkSide\": {\"frequency\": 58, \"value\": \"BrkSide\"}, \"OldTown\": {\"frequency\": 113, \"value\": \"OldTown\"}, \"NoRidge\": {\"frequency\": 41, \"value\": \"NoRidge\"}, \"Veenker\": {\"frequency\": 11, \"value\": \"Veenker\"}, \"NAmes\": {\"frequency\": 225, \"value\": \"NAmes\"}, \"Gilbert\": {\"frequency\": 79, \"value\": \"Gilbert\"}, \"SWISU\": {\"frequency\": 25, \"value\": \"SWISU\"}, \"Blmngtn\": {\"frequency\": 17, \"value\": \"Blmngtn\"}, \"NridgHt\": {\"frequency\": 77, \"value\": \"NridgHt\"}, \"NWAmes\": {\"frequency\": 73, \"value\": \"NWAmes\"}, \"StoneBr\": {\"frequency\": 25, \"value\": \"StoneBr\"}, \"Somerst\": {\"frequency\": 86, \"value\": \"Somerst\"}, \"MeadowV\": {\"frequency\": 17, \"value\": \"MeadowV\"}, \"ClearCr\": {\"frequency\": 28, \"value\": \"ClearCr\"}, \"SawyerW\": {\"frequency\": 59, \"value\": \"SawyerW\"}, \"Sawyer\": {\"frequency\": 74, \"value\": \"Sawyer\"}, \"CollgCr\": {\"frequency\": 150, \"value\": \"CollgCr\"}, \"Crawfor\": {\"frequency\": 51, \"value\": \"Crawfor\"}, \"BrDale\": {\"frequency\": 16, \"value\": \"BrDale\"}, \"Mitchel\": {\"frequency\": 49, \"value\": \"Mitchel\"}, \"NPkVill\": {\"frequency\": 9, \"value\": \"NPkVill\"}, \"Blueste\": {\"frequency\": 2, \"value\": \"Blueste\"}, \"Timber\": {\"frequency\": 38, \"value\": \"Timber\"}}, \"size\": 1460}, \"FullBath\": {\"std\": 0.5507270991829271, \"complete\": true, \"min\": 0.0, \"max\": 3.0, \"quantile\": [0.0, 1.0, 1.0, 1.0, 1.0, 1.0, 1.0, 1.0, 1.0, 1.0, 1.0, 1.0, 1.0, 1.0, 1.0, 1.0, 1.0, 1.0, 1.0, 1.0, 1.0, 1.0, 1.0, 1.0, 1.0, 1.0, 1.0, 1.0, 1.0, 1.0, 1.0, 1.0, 1.0, 1.0, 1.0, 1.0, 1.0, 1.0, 1.0, 1.0, 1.0, 1.0, 1.0, 1.0, 1.0, 1.0, 2.0, 2.0, 2.0, 2.0, 2.0, 2.0, 2.0, 2.0, 2.0, 2.0, 2.0, 2.0, 2.0, 2.0, 2.0, 2.0, 2.0, 2.0, 2.0, 2.0, 2.0, 2.0, 2.0, 2.0, 2.0, 2.0, 2.0, 2.0, 2.0, 2.0, 2.0, 2.0, 2.0, 2.0, 2.0, 2.0, 2.0, 2.0, 2.0, 2.0, 2.0, 2.0, 2.0, 2.0, 2.0, 2.0, 2.0, 2.0, 2.0, 2.0, 2.0, 2.0, 3.0, 3.0, 3.0], \"median\": 2.0, \"numeric\": true, \"num_unique\": 4, \"num_undefined\": 0, \"var\": 0.30330033777444154, \"progress\": 1.0, \"size\": 1460, \"frequent_items\": {\"0\": {\"frequency\": 9, \"value\": 0}, \"1\": {\"frequency\": 650, \"value\": 1}, \"2\": {\"frequency\": 768, \"value\": 2}, \"3\": {\"frequency\": 33, \"value\": 3}}, \"mean\": 1.565068493150685}, \"MSSubClass\": {\"std\": 42.28608201548032, \"complete\": true, \"min\": 20.0, \"max\": 190.0, \"quantile\": [20.0, 20.0, 20.0, 20.0, 20.0, 20.0, 20.0, 20.0, 20.0, 20.0, 20.0, 20.0, 20.0, 20.0, 20.0, 20.0, 20.0, 20.0, 20.0, 20.0, 20.0, 20.0, 20.0, 20.0, 20.0, 20.0, 20.0, 20.0, 20.0, 20.0, 20.0, 20.0, 20.0, 20.0, 20.0, 20.0, 20.0, 30.0, 30.0, 30.0, 30.0, 30.0, 45.0, 50.0, 50.0, 50.0, 50.0, 50.0, 50.0, 50.0, 50.0, 50.0, 50.0, 60.0, 60.0, 60.0, 60.0, 60.0, 60.0, 60.0, 60.0, 60.0, 60.0, 60.0, 60.0, 60.0, 60.0, 60.0, 60.0, 60.0, 60.0, 60.0, 60.0, 70.0, 70.0, 70.0, 70.0, 75.0, 75.0, 80.0, 80.0, 80.0, 80.0, 85.0, 90.0, 90.0, 90.0, 120.0, 120.0, 120.0, 120.0, 120.0, 120.0, 160.0, 160.0, 160.0, 160.0, 160.0, 190.0, 190.0, 190.0], \"median\": 50.0, \"numeric\": true, \"num_unique\": 15, \"num_undefined\": 0, \"var\": 1788.1127322199277, \"progress\": 1.0, \"size\": 1460, \"frequent_items\": {\"160\": {\"frequency\": 63, \"value\": 160}, \"70\": {\"frequency\": 60, \"value\": 70}, \"40\": {\"frequency\": 4, \"value\": 40}, \"75\": {\"frequency\": 16, \"value\": 75}, \"45\": {\"frequency\": 12, \"value\": 45}, \"80\": {\"frequency\": 58, \"value\": 80}, \"50\": {\"frequency\": 144, \"value\": 50}, \"20\": {\"frequency\": 536, \"value\": 20}, \"30\": {\"frequency\": 69, \"value\": 30}, \"120\": {\"frequency\": 87, \"value\": 120}, \"180\": {\"frequency\": 10, \"value\": 180}, \"90\": {\"frequency\": 52, \"value\": 90}, \"60\": {\"frequency\": 299, \"value\": 60}, \"190\": {\"frequency\": 30, \"value\": 190}, \"85\": {\"frequency\": 20, \"value\": 85}}, \"mean\": 56.897260273972606}, \"LotArea\": {\"std\": 9977.846105448105, \"complete\": true, \"min\": 1300.0, \"max\": 215245.0, \"quantile\": [1300.0, 1680.0, 2117.0, 2522.0, 3072.0, 3363.0, 3842.0, 4118.0, 4426.0, 4571.0, 5001.0, 5350.0, 5587.0, 5890.0, 6000.0, 6130.0, 6240.0, 6600.0, 6858.0, 7000.0, 7082.0, 7200.0, 7200.0, 7264.0, 7438.0, 7558.0, 7681.0, 7800.0, 7862.0, 7937.0, 8064.0, 8125.0, 8235.0, 8335.0, 8400.0, 8450.0, 8500.0, 8544.0, 8700.0, 8755.0, 8795.0, 8850.0, 8926.0, 9000.0, 9037.0, 9100.0, 9142.0, 9206.0, 9300.0, 9375.0, 9480.0, 9554.0, 9600.0, 9600.0, 9742.0, 9800.0, 9900.0, 9965.0, 10011.0, 10140.0, 10200.0, 10261.0, 10380.0, 10421.0, 10500.0, 10625.0, 10678.0, 10791.0, 10800.0, 10944.0, 11070.0, 11198.0, 11250.0, 11345.0, 11443.0, 11606.0, 11700.0, 11851.0, 11999.0, 12118.0, 12209.0, 12358.0, 12474.0, 12704.0, 12984.0, 13173.0, 13474.0, 13673.0, 13837.0, 14115.0, 14442.0, 14778.0, 15431.0, 15870.0, 16560.0, 17423.0, 18890.0, 21695.0, 25286.0, 39104.0, 215245.0], \"median\": 9480.0, \"numeric\": true, \"num_unique\": 1072, \"num_undefined\": 0, \"var\": 99557412.90400591, \"progress\": 1.0, \"size\": 1460, \"frequent_items\": {\"10240\": {\"frequency\": 2, \"value\": 10240}, \"10120\": {\"frequency\": 2, \"value\": 10120}, \"8197\": {\"frequency\": 1, \"value\": 8197}, \"8198\": {\"frequency\": 1, \"value\": 8198}, \"8199\": {\"frequency\": 1, \"value\": 8199}, \"8200\": {\"frequency\": 1, \"value\": 8200}, \"8450\": {\"frequency\": 6, \"value\": 8450}, \"6155\": {\"frequency\": 1, \"value\": 6155}, \"18450\": {\"frequency\": 1, \"value\": 18450}, \"8212\": {\"frequency\": 1, \"value\": 8212}, \"10261\": {\"frequency\": 1, \"value\": 10261}, \"4118\": {\"frequency\": 1, \"value\": 4118}, \"10264\": {\"frequency\": 1, \"value\": 10264}, \"28698\": {\"frequency\": 1, \"value\": 28698}, \"10267\": {\"frequency\": 1, \"value\": 10267}, \"14364\": {\"frequency\": 1, \"value\": 14364}, \"6173\": {\"frequency\": 1, \"value\": 6173}, \"11952\": {\"frequency\": 1, \"value\": 11952}, \"4130\": {\"frequency\": 1, \"value\": 4130}, \"6180\": {\"frequency\": 1, \"value\": 6180}, \"10246\": {\"frequency\": 1, \"value\": 10246}, \"12327\": {\"frequency\": 1, \"value\": 12327}, \"12328\": {\"frequency\": 1, \"value\": 12328}, \"8235\": {\"frequency\": 1, \"value\": 8235}, \"8935\": {\"frequency\": 1, \"value\": 8935}, \"10289\": {\"frequency\": 1, \"value\": 10289}, \"8244\": {\"frequency\": 1, \"value\": 8244}, \"8246\": {\"frequency\": 1, \"value\": 8246}, \"8248\": {\"frequency\": 2, \"value\": 8248}, \"8250\": {\"frequency\": 2, \"value\": 8250}, \"10300\": {\"frequency\": 1, \"value\": 10300}, \"11957\": {\"frequency\": 1, \"value\": 11957}, \"10304\": {\"frequency\": 1, \"value\": 10304}, \"12640\": {\"frequency\": 1, \"value\": 12640}, \"12354\": {\"frequency\": 1, \"value\": 12354}, \"2117\": {\"frequency\": 3, \"value\": 2117}, \"12358\": {\"frequency\": 1, \"value\": 12358}, \"8263\": {\"frequency\": 1, \"value\": 8263}, \"10316\": {\"frequency\": 1, \"value\": 10316}, \"10594\": {\"frequency\": 1, \"value\": 10594}, \"10320\": {\"frequency\": 1, \"value\": 10320}, \"16466\": {\"frequency\": 1, \"value\": 16466}, \"12376\": {\"frequency\": 1, \"value\": 12376}, \"8281\": {\"frequency\": 1, \"value\": 8281}, \"12378\": {\"frequency\": 1, \"value\": 12378}, \"10335\": {\"frequency\": 2, \"value\": 10335}, \"6240\": {\"frequency\": 8, \"value\": 6240}, \"8294\": {\"frequency\": 1, \"value\": 8294}, \"12393\": {\"frequency\": 1, \"value\": 12393}, \"14442\": {\"frequency\": 1, \"value\": 14442}, \"16492\": {\"frequency\": 1, \"value\": 16492}, \"12400\": {\"frequency\": 1, \"value\": 12400}, \"14450\": {\"frequency\": 1, \"value\": 14450}, \"10355\": {\"frequency\": 1, \"value\": 10355}, \"10356\": {\"frequency\": 1, \"value\": 10356}, \"10357\": {\"frequency\": 1, \"value\": 10357}, \"11625\": {\"frequency\": 1, \"value\": 11625}, \"16285\": {\"frequency\": 1, \"value\": 16285}, \"8314\": {\"frequency\": 1, \"value\": 8314}, \"10364\": {\"frequency\": 1, \"value\": 10364}, \"6270\": {\"frequency\": 1, \"value\": 6270}, \"8320\": {\"frequency\": 1, \"value\": 8320}, \"10944\": {\"frequency\": 1, \"value\": 10944}, \"12420\": {\"frequency\": 1, \"value\": 12420}, \"4230\": {\"frequency\": 1, \"value\": 4230}, \"10380\": {\"frequency\": 1, \"value\": 10380}, \"10382\": {\"frequency\": 2, \"value\": 10382}, \"8335\": {\"frequency\": 1, \"value\": 8335}, \"15384\": {\"frequency\": 1, \"value\": 15384}, \"10386\": {\"frequency\": 1, \"value\": 10386}, \"12435\": {\"frequency\": 1, \"value\": 12435}, \"6292\": {\"frequency\": 2, \"value\": 6292}, \"12438\": {\"frequency\": 1, \"value\": 12438}, \"4251\": {\"frequency\": 1, \"value\": 4251}, \"6300\": {\"frequency\": 1, \"value\": 6300}, \"10400\": {\"frequency\": 5, \"value\": 10400}, \"16545\": {\"frequency\": 1, \"value\": 16545}, \"10402\": {\"frequency\": 1, \"value\": 10402}, \"6171\": {\"frequency\": 1, \"value\": 6171}, \"9531\": {\"frequency\": 1, \"value\": 9531}, \"12456\": {\"frequency\": 1, \"value\": 12456}, \"2217\": {\"frequency\": 1, \"value\": 2217}, \"10410\": {\"frequency\": 2, \"value\": 10410}, \"12461\": {\"frequency\": 1, \"value\": 12461}, \"8366\": {\"frequency\": 1, \"value\": 8366}, \"12464\": {\"frequency\": 1, \"value\": 12464}, \"4274\": {\"frequency\": 1, \"value\": 4274}, \"10420\": {\"frequency\": 1, \"value\": 10420}, \"10421\": {\"frequency\": 1, \"value\": 10421}, \"4280\": {\"frequency\": 1, \"value\": 4280}, \"9588\": {\"frequency\": 1, \"value\": 9588}, \"12474\": {\"frequency\": 1, \"value\": 12474}, \"9247\": {\"frequency\": 1, \"value\": 9247}, \"13560\": {\"frequency\": 1, \"value\": 13560}, \"39104\": {\"frequency\": 1, \"value\": 39104}, \"8280\": {\"frequency\": 1, \"value\": 8280}, \"10434\": {\"frequency\": 1, \"value\": 10434}, \"10437\": {\"frequency\": 1, \"value\": 10437}, \"6342\": {\"frequency\": 1, \"value\": 6342}, \"10440\": {\"frequency\": 3, \"value\": 10440}, \"8393\": {\"frequency\": 1, \"value\": 8393}, \"11639\": {\"frequency\": 1, \"value\": 11639}, \"12493\": {\"frequency\": 1, \"value\": 12493}, \"8400\": {\"frequency\": 14, \"value\": 8400}, \"8402\": {\"frequency\": 1, \"value\": 8402}, \"10452\": {\"frequency\": 1, \"value\": 10452}, \"8405\": {\"frequency\": 2, \"value\": 8405}, \"8410\": {\"frequency\": 1, \"value\": 8410}, \"32463\": {\"frequency\": 1, \"value\": 32463}, \"12508\": {\"frequency\": 1, \"value\": 12508}, \"8414\": {\"frequency\": 1, \"value\": 8414}, \"14559\": {\"frequency\": 1, \"value\": 14559}, \"12513\": {\"frequency\": 1, \"value\": 12513}, \"6371\": {\"frequency\": 1, \"value\": 6371}, \"13350\": {\"frequency\": 1, \"value\": 13350}, \"2280\": {\"frequency\": 3, \"value\": 2280}, \"14375\": {\"frequency\": 1, \"value\": 14375}, \"6380\": {\"frequency\": 1, \"value\": 6380}, \"8430\": {\"frequency\": 1, \"value\": 8430}, \"13693\": {\"frequency\": 1, \"value\": 13693}, \"10480\": {\"frequency\": 2, \"value\": 10480}, \"2289\": {\"frequency\": 1, \"value\": 2289}, \"10482\": {\"frequency\": 1, \"value\": 10482}, \"12537\": {\"frequency\": 1, \"value\": 12537}, \"16635\": {\"frequency\": 1, \"value\": 16635}, \"8445\": {\"frequency\": 1, \"value\": 8445}, \"53504\": {\"frequency\": 1, \"value\": 53504}, \"10624\": {\"frequency\": 1, \"value\": 10624}, \"6402\": {\"frequency\": 1, \"value\": 6402}, \"9965\": {\"frequency\": 2, \"value\": 9965}, \"10500\": {\"frequency\": 3, \"value\": 10500}, \"14598\": {\"frequency\": 1, \"value\": 14598}, \"16647\": {\"frequency\": 1, \"value\": 16647}, \"12552\": {\"frequency\": 1, \"value\": 12552}, \"14601\": {\"frequency\": 1, \"value\": 14601}, \"8461\": {\"frequency\": 1, \"value\": 8461}, \"8462\": {\"frequency\": 1, \"value\": 8462}, \"16659\": {\"frequency\": 1, \"value\": 16659}, \"6420\": {\"frequency\": 1, \"value\": 6420}, \"9262\": {\"frequency\": 1, \"value\": 9262}, \"8470\": {\"frequency\": 1, \"value\": 8470}, \"8471\": {\"frequency\": 1, \"value\": 8471}, \"8472\": {\"frequency\": 1, \"value\": 8472}, \"10134\": {\"frequency\": 1, \"value\": 10134}, \"8475\": {\"frequency\": 1, \"value\": 8475}, \"16669\": {\"frequency\": 1, \"value\": 16669}, \"8480\": {\"frequency\": 2, \"value\": 8480}, \"10530\": {\"frequency\": 2, \"value\": 10530}, \"6435\": {\"frequency\": 1, \"value\": 6435}, \"4388\": {\"frequency\": 1, \"value\": 4388}, \"7558\": {\"frequency\": 1, \"value\": 7558}, \"8487\": {\"frequency\": 1, \"value\": 8487}, \"14541\": {\"frequency\": 1, \"value\": 14541}, \"6442\": {\"frequency\": 1, \"value\": 6442}, \"12589\": {\"frequency\": 1, \"value\": 12589}, \"10542\": {\"frequency\": 1, \"value\": 10542}, \"4400\": {\"frequency\": 1, \"value\": 4400}, \"7560\": {\"frequency\": 2, \"value\": 7560}, \"4403\": {\"frequency\": 1, \"value\": 4403}, \"8500\": {\"frequency\": 4, \"value\": 8500}, \"10552\": {\"frequency\": 1, \"value\": 10552}, \"35133\": {\"frequency\": 1, \"value\": 35133}, \"2368\": {\"frequency\": 1, \"value\": 2368}, \"10562\": {\"frequency\": 1, \"value\": 10562}, \"12342\": {\"frequency\": 2, \"value\": 12342}, \"12615\": {\"frequency\": 1, \"value\": 12615}, \"8520\": {\"frequency\": 4, \"value\": 8520}, \"8521\": {\"frequency\": 1, \"value\": 8521}, \"10570\": {\"frequency\": 1, \"value\": 10570}, \"8525\": {\"frequency\": 1, \"value\": 8525}, \"10574\": {\"frequency\": 1, \"value\": 10574}, \"8529\": {\"frequency\": 1, \"value\": 8529}, \"8530\": {\"frequency\": 1, \"value\": 8530}, \"4435\": {\"frequency\": 5, \"value\": 4435}, \"8532\": {\"frequency\": 1, \"value\": 8532}, \"4438\": {\"frequency\": 2, \"value\": 4438}, \"8536\": {\"frequency\": 1, \"value\": 8536}, \"14684\": {\"frequency\": 1, \"value\": 14684}, \"8544\": {\"frequency\": 4, \"value\": 8544}, \"10593\": {\"frequency\": 1, \"value\": 10593}, \"8546\": {\"frequency\": 1, \"value\": 8546}, \"7910\": {\"frequency\": 1, \"value\": 7910}, \"4456\": {\"frequency\": 1, \"value\": 4456}, \"6204\": {\"frequency\": 1, \"value\": 6204}, \"10603\": {\"frequency\": 1, \"value\": 10603}, \"8556\": {\"frequency\": 1, \"value\": 8556}, \"18800\": {\"frequency\": 1, \"value\": 18800}, \"8562\": {\"frequency\": 1, \"value\": 8562}, \"6768\": {\"frequency\": 1, \"value\": 6768}, \"10615\": {\"frequency\": 1, \"value\": 10615}, \"12665\": {\"frequency\": 2, \"value\": 12665}, \"14720\": {\"frequency\": 1, \"value\": 14720}, \"10625\": {\"frequency\": 4, \"value\": 10625}, \"16770\": {\"frequency\": 1, \"value\": 16770}, \"10628\": {\"frequency\": 1, \"value\": 10628}, \"12677\": {\"frequency\": 1, \"value\": 12677}, \"10634\": {\"frequency\": 1, \"value\": 10634}, \"10635\": {\"frequency\": 1, \"value\": 10635}, \"10637\": {\"frequency\": 1, \"value\": 10637}, \"63887\": {\"frequency\": 1, \"value\": 63887}, \"2448\": {\"frequency\": 1, \"value\": 2448}, \"8593\": {\"frequency\": 1, \"value\": 8593}, \"12692\": {\"frequency\": 1, \"value\": 12692}, \"8600\": {\"frequency\": 1, \"value\": 8600}, \"10650\": {\"frequency\": 1, \"value\": 10650}, \"10652\": {\"frequency\": 1, \"value\": 10652}, \"12702\": {\"frequency\": 1, \"value\": 12702}, \"10655\": {\"frequency\": 1, \"value\": 10655}, \"10656\": {\"frequency\": 1, \"value\": 10656}, \"6563\": {\"frequency\": 1, \"value\": 6563}, \"22950\": {\"frequency\": 1, \"value\": 22950}, \"25000\": {\"frequency\": 1, \"value\": 25000}, \"10665\": {\"frequency\": 1, \"value\": 10665}, \"14762\": {\"frequency\": 1, \"value\": 14762}, \"10667\": {\"frequency\": 1, \"value\": 10667}, \"11478\": {\"frequency\": 1, \"value\": 11478}, \"10678\": {\"frequency\": 1, \"value\": 10678}, \"10680\": {\"frequency\": 1, \"value\": 10680}, \"8633\": {\"frequency\": 1, \"value\": 8633}, \"14778\": {\"frequency\": 1, \"value\": 14778}, \"8635\": {\"frequency\": 1, \"value\": 8635}, \"14781\": {\"frequency\": 1, \"value\": 14781}, \"12735\": {\"frequency\": 1, \"value\": 12735}, \"8640\": {\"frequency\": 4, \"value\": 8640}, \"12704\": {\"frequency\": 1, \"value\": 12704}, \"10690\": {\"frequency\": 1, \"value\": 10690}, \"2500\": {\"frequency\": 1, \"value\": 2500}, \"6600\": {\"frequency\": 4, \"value\": 6600}, \"7244\": {\"frequency\": 1, \"value\": 7244}, \"18890\": {\"frequency\": 1, \"value\": 18890}, \"115149\": {\"frequency\": 1, \"value\": 115149}, \"8658\": {\"frequency\": 1, \"value\": 8658}, \"14803\": {\"frequency\": 2, \"value\": 14803}, \"10708\": {\"frequency\": 1, \"value\": 10708}, \"10712\": {\"frequency\": 1, \"value\": 10712}, \"9636\": {\"frequency\": 1, \"value\": 9636}, \"2522\": {\"frequency\": 3, \"value\": 2522}, \"4571\": {\"frequency\": 1, \"value\": 4571}, \"10721\": {\"frequency\": 1, \"value\": 10721}, \"6627\": {\"frequency\": 1, \"value\": 6627}, \"12772\": {\"frequency\": 1, \"value\": 12772}, \"6629\": {\"frequency\": 1, \"value\": 6629}, \"11345\": {\"frequency\": 1, \"value\": 11345}, \"10728\": {\"frequency\": 1, \"value\": 10728}, \"4590\": {\"frequency\": 1, \"value\": 4590}, \"2544\": {\"frequency\": 1, \"value\": 2544}, \"5063\": {\"frequency\": 1, \"value\": 5063}, \"9300\": {\"frequency\": 1, \"value\": 9300}, \"8700\": {\"frequency\": 1, \"value\": 8700}, \"12798\": {\"frequency\": 1, \"value\": 12798}, \"4608\": {\"frequency\": 1, \"value\": 4608}, \"14850\": {\"frequency\": 1, \"value\": 14850}, \"12803\": {\"frequency\": 1, \"value\": 12803}, \"25095\": {\"frequency\": 1, \"value\": 25095}, \"21000\": {\"frequency\": 1, \"value\": 21000}, \"16905\": {\"frequency\": 1, \"value\": 16905}, \"10762\": {\"frequency\": 2, \"value\": 10762}, \"14859\": {\"frequency\": 1, \"value\": 14859}, \"2572\": {\"frequency\": 1, \"value\": 2572}, \"9986\": {\"frequency\": 1, \"value\": 9986}, \"5814\": {\"frequency\": 1, \"value\": 5814}, \"10768\": {\"frequency\": 1, \"value\": 10768}, \"10769\": {\"frequency\": 1, \"value\": 10769}, \"8064\": {\"frequency\": 1, \"value\": 8064}, \"8724\": {\"frequency\": 1, \"value\": 8724}, \"12822\": {\"frequency\": 1, \"value\": 12822}, \"14572\": {\"frequency\": 1, \"value\": 14572}, \"10778\": {\"frequency\": 1, \"value\": 10778}, \"8731\": {\"frequency\": 1, \"value\": 8731}, \"10780\": {\"frequency\": 1, \"value\": 10780}, \"2592\": {\"frequency\": 1, \"value\": 2592}, \"8737\": {\"frequency\": 1, \"value\": 8737}, \"8738\": {\"frequency\": 1, \"value\": 8738}, \"8740\": {\"frequency\": 1, \"value\": 8740}, \"8741\": {\"frequency\": 1, \"value\": 8741}, \"10791\": {\"frequency\": 1, \"value\": 10791}, \"10793\": {\"frequency\": 1, \"value\": 10793}, \"7943\": {\"frequency\": 1, \"value\": 7943}, \"14892\": {\"frequency\": 1, \"value\": 14892}, \"8749\": {\"frequency\": 1, \"value\": 8749}, \"8750\": {\"frequency\": 4, \"value\": 8750}, \"10800\": {\"frequency\": 14, \"value\": 10800}, \"8755\": {\"frequency\": 1, \"value\": 8755}, \"8760\": {\"frequency\": 2, \"value\": 8760}, \"17503\": {\"frequency\": 1, \"value\": 17503}, \"8765\": {\"frequency\": 1, \"value\": 8765}, \"8767\": {\"frequency\": 1, \"value\": 8767}, \"12384\": {\"frequency\": 1, \"value\": 12384}, \"2628\": {\"frequency\": 1, \"value\": 2628}, \"8773\": {\"frequency\": 2, \"value\": 8773}, \"11361\": {\"frequency\": 1, \"value\": 11361}, \"8777\": {\"frequency\": 3, \"value\": 8777}, \"8780\": {\"frequency\": 1, \"value\": 8780}, \"10832\": {\"frequency\": 1, \"value\": 10832}, \"2645\": {\"frequency\": 2, \"value\": 2645}, \"12886\": {\"frequency\": 1, \"value\": 12886}, \"8791\": {\"frequency\": 1, \"value\": 8791}, \"5664\": {\"frequency\": 1, \"value\": 5664}, \"8795\": {\"frequency\": 1, \"value\": 8795}, \"10846\": {\"frequency\": 1, \"value\": 10846}, \"8800\": {\"frequency\": 4, \"value\": 8800}, \"12898\": {\"frequency\": 1, \"value\": 12898}, \"10852\": {\"frequency\": 1, \"value\": 10852}, \"4712\": {\"frequency\": 1, \"value\": 4712}, \"2665\": {\"frequency\": 2, \"value\": 2665}, \"6762\": {\"frequency\": 3, \"value\": 6762}, \"10859\": {\"frequency\": 1, \"value\": 10859}, \"8978\": {\"frequency\": 1, \"value\": 8978}, \"8814\": {\"frequency\": 2, \"value\": 8814}, \"8816\": {\"frequency\": 2, \"value\": 8816}, \"14963\": {\"frequency\": 1, \"value\": 14963}, \"8820\": {\"frequency\": 1, \"value\": 8820}, \"12919\": {\"frequency\": 1, \"value\": 12919}, \"14100\": {\"frequency\": 1, \"value\": 14100}, \"6780\": {\"frequency\": 1, \"value\": 6780}, \"12394\": {\"frequency\": 1, \"value\": 12394}, \"10880\": {\"frequency\": 1, \"value\": 10880}, \"14977\": {\"frequency\": 1, \"value\": 14977}, \"8834\": {\"frequency\": 1, \"value\": 8834}, \"6792\": {\"frequency\": 1, \"value\": 6792}, \"8846\": {\"frequency\": 2, \"value\": 8846}, \"10896\": {\"frequency\": 1, \"value\": 10896}, \"8849\": {\"frequency\": 1, \"value\": 8849}, \"8850\": {\"frequency\": 1, \"value\": 8850}, \"17043\": {\"frequency\": 1, \"value\": 17043}, \"10900\": {\"frequency\": 1, \"value\": 10900}, \"8854\": {\"frequency\": 1, \"value\": 8854}, \"1477\": {\"frequency\": 1, \"value\": 1477}, \"2160\": {\"frequency\": 1, \"value\": 2160}, \"6820\": {\"frequency\": 1, \"value\": 6820}, \"10918\": {\"frequency\": 1, \"value\": 10918}, \"9638\": {\"frequency\": 1, \"value\": 9638}, \"10920\": {\"frequency\": 1, \"value\": 10920}, \"10921\": {\"frequency\": 1, \"value\": 10921}, \"8877\": {\"frequency\": 2, \"value\": 8877}, \"10927\": {\"frequency\": 1, \"value\": 10927}, \"8880\": {\"frequency\": 1, \"value\": 8880}, \"10930\": {\"frequency\": 1, \"value\": 10930}, \"8885\": {\"frequency\": 1, \"value\": 8885}, \"11207\": {\"frequency\": 1, \"value\": 11207}, \"12984\": {\"frequency\": 1, \"value\": 12984}, \"8892\": {\"frequency\": 2, \"value\": 8892}, \"4800\": {\"frequency\": 1, \"value\": 4800}, \"19138\": {\"frequency\": 1, \"value\": 19138}, \"8899\": {\"frequency\": 1, \"value\": 8899}, \"8900\": {\"frequency\": 1, \"value\": 8900}, \"6853\": {\"frequency\": 1, \"value\": 6853}, \"25286\": {\"frequency\": 1, \"value\": 25286}, \"13000\": {\"frequency\": 1, \"value\": 13000}, \"6858\": {\"frequency\": 1, \"value\": 6858}, \"13005\": {\"frequency\": 1, \"value\": 13005}, \"13006\": {\"frequency\": 1, \"value\": 13006}, \"17104\": {\"frequency\": 1, \"value\": 17104}, \"7630\": {\"frequency\": 1, \"value\": 7630}, \"23257\": {\"frequency\": 1, \"value\": 23257}, \"10970\": {\"frequency\": 1, \"value\": 10970}, \"8923\": {\"frequency\": 1, \"value\": 8923}, \"8924\": {\"frequency\": 1, \"value\": 8924}, \"8925\": {\"frequency\": 1, \"value\": 8925}, \"8926\": {\"frequency\": 1, \"value\": 8926}, \"17120\": {\"frequency\": 1, \"value\": 17120}, \"8930\": {\"frequency\": 1, \"value\": 8930}, \"13031\": {\"frequency\": 1, \"value\": 13031}, \"9340\": {\"frequency\": 1, \"value\": 9340}, \"10991\": {\"frequency\": 1, \"value\": 10991}, \"8944\": {\"frequency\": 1, \"value\": 8944}, \"6897\": {\"frequency\": 1, \"value\": 6897}, \"10994\": {\"frequency\": 1, \"value\": 10994}, \"5587\": {\"frequency\": 1, \"value\": 5587}, \"6900\": {\"frequency\": 1, \"value\": 6900}, \"10998\": {\"frequency\": 1, \"value\": 10998}, \"11000\": {\"frequency\": 2, \"value\": 11000}, \"5890\": {\"frequency\": 1, \"value\": 5890}, \"11003\": {\"frequency\": 1, \"value\": 11003}, \"13053\": {\"frequency\": 1, \"value\": 13053}, \"6911\": {\"frequency\": 1, \"value\": 6911}, \"8960\": {\"frequency\": 1, \"value\": 8960}, \"12416\": {\"frequency\": 1, \"value\": 12416}, \"8963\": {\"frequency\": 1, \"value\": 8963}, \"21780\": {\"frequency\": 1, \"value\": 21780}, \"8967\": {\"frequency\": 1, \"value\": 8967}, \"8973\": {\"frequency\": 1, \"value\": 8973}, \"14006\": {\"frequency\": 1, \"value\": 14006}, \"13072\": {\"frequency\": 2, \"value\": 13072}, \"6930\": {\"frequency\": 1, \"value\": 6930}, \"6931\": {\"frequency\": 1, \"value\": 6931}, \"11029\": {\"frequency\": 2, \"value\": 11029}, \"7596\": {\"frequency\": 1, \"value\": 7596}, \"8990\": {\"frequency\": 1, \"value\": 8990}, \"11040\": {\"frequency\": 2, \"value\": 11040}, \"8993\": {\"frequency\": 1, \"value\": 8993}, \"15138\": {\"frequency\": 1, \"value\": 15138}, \"17542\": {\"frequency\": 1, \"value\": 17542}, \"21286\": {\"frequency\": 1, \"value\": 21286}, \"6951\": {\"frequency\": 1, \"value\": 6951}, \"9000\": {\"frequency\": 14, \"value\": 9000}, \"11049\": {\"frequency\": 1, \"value\": 11049}, \"11050\": {\"frequency\": 1, \"value\": 11050}, \"6955\": {\"frequency\": 1, \"value\": 6955}, \"13101\": {\"frequency\": 1, \"value\": 13101}, \"6960\": {\"frequency\": 1, \"value\": 6960}, \"12144\": {\"frequency\": 1, \"value\": 12144}, \"20544\": {\"frequency\": 1, \"value\": 20544}, \"164660\": {\"frequency\": 1, \"value\": 164660}, \"4920\": {\"frequency\": 1, \"value\": 4920}, \"9017\": {\"frequency\": 1, \"value\": 9017}, \"9018\": {\"frequency\": 1, \"value\": 9018}, \"4923\": {\"frequency\": 1, \"value\": 4923}, \"9020\": {\"frequency\": 2, \"value\": 9020}, \"13450\": {\"frequency\": 1, \"value\": 13450}, \"9022\": {\"frequency\": 1, \"value\": 9022}, \"4928\": {\"frequency\": 2, \"value\": 4928}, \"17217\": {\"frequency\": 1, \"value\": 17217}, \"6979\": {\"frequency\": 1, \"value\": 6979}, \"13125\": {\"frequency\": 4, \"value\": 13125}, \"2887\": {\"frequency\": 1, \"value\": 2887}, \"1533\": {\"frequency\": 2, \"value\": 1533}, \"25419\": {\"frequency\": 1, \"value\": 25419}, \"13132\": {\"frequency\": 1, \"value\": 13132}, \"9037\": {\"frequency\": 1, \"value\": 9037}, \"9098\": {\"frequency\": 1, \"value\": 9098}, \"6993\": {\"frequency\": 1, \"value\": 6993}, \"9042\": {\"frequency\": 2, \"value\": 9042}, \"20896\": {\"frequency\": 1, \"value\": 20896}, \"11065\": {\"frequency\": 1, \"value\": 11065}, \"7000\": {\"frequency\": 4, \"value\": 7000}, \"11100\": {\"frequency\": 1, \"value\": 11100}, \"6970\": {\"frequency\": 1, \"value\": 6970}, \"11103\": {\"frequency\": 1, \"value\": 11103}, \"19296\": {\"frequency\": 1, \"value\": 19296}, \"9060\": {\"frequency\": 2, \"value\": 9060}, \"7015\": {\"frequency\": 1, \"value\": 7015}, \"9066\": {\"frequency\": 1, \"value\": 9066}, \"9069\": {\"frequency\": 1, \"value\": 9069}, \"16737\": {\"frequency\": 1, \"value\": 16737}, \"7024\": {\"frequency\": 2, \"value\": 7024}, \"8339\": {\"frequency\": 1, \"value\": 8339}, \"29959\": {\"frequency\": 1, \"value\": 29959}, \"11070\": {\"frequency\": 1, \"value\": 11070}, \"13175\": {\"frequency\": 1, \"value\": 13175}, \"7032\": {\"frequency\": 1, \"value\": 7032}, \"9084\": {\"frequency\": 3, \"value\": 9084}, \"11143\": {\"frequency\": 1, \"value\": 11143}, \"21384\": {\"frequency\": 1, \"value\": 21384}, \"5001\": {\"frequency\": 1, \"value\": 5001}, \"7050\": {\"frequency\": 1, \"value\": 7050}, \"9100\": {\"frequency\": 8, \"value\": 9100}, \"9101\": {\"frequency\": 1, \"value\": 9101}, \"7056\": {\"frequency\": 1, \"value\": 7056}, \"11075\": {\"frequency\": 2, \"value\": 11075}, \"7060\": {\"frequency\": 1, \"value\": 7060}, \"7064\": {\"frequency\": 1, \"value\": 7064}, \"16196\": {\"frequency\": 1, \"value\": 16196}, \"13214\": {\"frequency\": 1, \"value\": 13214}, \"9120\": {\"frequency\": 3, \"value\": 9120}, \"8688\": {\"frequency\": 1, \"value\": 8688}, \"11170\": {\"frequency\": 1, \"value\": 11170}, \"10395\": {\"frequency\": 1, \"value\": 10395}, \"9125\": {\"frequency\": 1, \"value\": 9125}, \"11175\": {\"frequency\": 1, \"value\": 11175}, \"12444\": {\"frequency\": 1, \"value\": 12444}, \"9130\": {\"frequency\": 1, \"value\": 9130}, \"6130\": {\"frequency\": 1, \"value\": 6130}, \"9135\": {\"frequency\": 2, \"value\": 9135}, \"11184\": {\"frequency\": 1, \"value\": 11184}, \"19378\": {\"frequency\": 1, \"value\": 19378}, \"40094\": {\"frequency\": 1, \"value\": 40094}, \"9142\": {\"frequency\": 1, \"value\": 9142}, \"9144\": {\"frequency\": 1, \"value\": 9144}, \"11194\": {\"frequency\": 1, \"value\": 11194}, \"11423\": {\"frequency\": 1, \"value\": 11423}, \"7100\": {\"frequency\": 1, \"value\": 7100}, \"9150\": {\"frequency\": 1, \"value\": 9150}, \"11200\": {\"frequency\": 2, \"value\": 11200}, \"3010\": {\"frequency\": 1, \"value\": 3010}, \"9156\": {\"frequency\": 1, \"value\": 9156}, \"3013\": {\"frequency\": 1, \"value\": 3013}, \"5062\": {\"frequency\": 1, \"value\": 5062}, \"6305\": {\"frequency\": 1, \"value\": 6305}, \"12108\": {\"frequency\": 1, \"value\": 12108}, \"15306\": {\"frequency\": 1, \"value\": 15306}, \"15863\": {\"frequency\": 1, \"value\": 15863}, \"13474\": {\"frequency\": 1, \"value\": 13474}, \"11214\": {\"frequency\": 1, \"value\": 11214}, \"1869\": {\"frequency\": 1, \"value\": 1869}, \"11216\": {\"frequency\": 1, \"value\": 11216}, \"13265\": {\"frequency\": 1, \"value\": 13265}, \"9170\": {\"frequency\": 1, \"value\": 9170}, \"7128\": {\"frequency\": 1, \"value\": 7128}, \"7332\": {\"frequency\": 1, \"value\": 7332}, \"9179\": {\"frequency\": 1, \"value\": 9179}, \"9180\": {\"frequency\": 1, \"value\": 9180}, \"7134\": {\"frequency\": 1, \"value\": 7134}, \"7136\": {\"frequency\": 1, \"value\": 7136}, \"9187\": {\"frequency\": 2, \"value\": 9187}, \"13284\": {\"frequency\": 1, \"value\": 13284}, \"13478\": {\"frequency\": 1, \"value\": 13478}, \"13286\": {\"frequency\": 1, \"value\": 13286}, \"11241\": {\"frequency\": 1, \"value\": 11241}, \"9196\": {\"frequency\": 1, \"value\": 9196}, \"7150\": {\"frequency\": 1, \"value\": 7150}, \"7677\": {\"frequency\": 1, \"value\": 7677}, \"9200\": {\"frequency\": 3, \"value\": 9200}, \"7153\": {\"frequency\": 2, \"value\": 7153}, \"11250\": {\"frequency\": 4, \"value\": 11250}, \"13300\": {\"frequency\": 1, \"value\": 13300}, \"9206\": {\"frequency\": 1, \"value\": 9206}, \"17400\": {\"frequency\": 1, \"value\": 17400}, \"7162\": {\"frequency\": 1, \"value\": 7162}, \"5119\": {\"frequency\": 1, \"value\": 5119}, \"3072\": {\"frequency\": 1, \"value\": 3072}, \"12800\": {\"frequency\": 1, \"value\": 12800}, \"27650\": {\"frequency\": 1, \"value\": 27650}, \"7740\": {\"frequency\": 1, \"value\": 7740}, \"8872\": {\"frequency\": 1, \"value\": 8872}, \"7175\": {\"frequency\": 1, \"value\": 7175}, \"11275\": {\"frequency\": 2, \"value\": 11275}, \"7180\": {\"frequency\": 1, \"value\": 7180}, \"9230\": {\"frequency\": 1, \"value\": 9230}, \"17423\": {\"frequency\": 1, \"value\": 17423}, \"11096\": {\"frequency\": 1, \"value\": 11096}, \"9236\": {\"frequency\": 1, \"value\": 9236}, \"4270\": {\"frequency\": 1, \"value\": 4270}, \"11287\": {\"frequency\": 1, \"value\": 11287}, \"9240\": {\"frequency\": 1, \"value\": 9240}, \"31770\": {\"frequency\": 1, \"value\": 31770}, \"9245\": {\"frequency\": 2, \"value\": 9245}, \"9246\": {\"frequency\": 1, \"value\": 9246}, \"21535\": {\"frequency\": 1, \"value\": 21535}, \"7200\": {\"frequency\": 25, \"value\": 7200}, \"16560\": {\"frequency\": 1, \"value\": 16560}, \"13346\": {\"frequency\": 1, \"value\": 13346}, \"11302\": {\"frequency\": 1, \"value\": 11302}, \"7207\": {\"frequency\": 1, \"value\": 7207}, \"23595\": {\"frequency\": 1, \"value\": 23595}, \"10659\": {\"frequency\": 1, \"value\": 10659}, \"11310\": {\"frequency\": 1, \"value\": 11310}, \"13360\": {\"frequency\": 1, \"value\": 13360}, \"8712\": {\"frequency\": 3, \"value\": 8712}, \"11316\": {\"frequency\": 1, \"value\": 11316}, \"11317\": {\"frequency\": 1, \"value\": 11317}, \"11218\": {\"frequency\": 1, \"value\": 11218}, \"6324\": {\"frequency\": 1, \"value\": 6324}, \"7226\": {\"frequency\": 1, \"value\": 7226}, \"7227\": {\"frequency\": 1, \"value\": 7227}, \"12925\": {\"frequency\": 1, \"value\": 12925}, \"3136\": {\"frequency\": 1, \"value\": 3136}, \"9056\": {\"frequency\": 1, \"value\": 9056}, \"15426\": {\"frequency\": 1, \"value\": 15426}, \"11333\": {\"frequency\": 1, \"value\": 11333}, \"9286\": {\"frequency\": 1, \"value\": 9286}, \"15431\": {\"frequency\": 1, \"value\": 15431}, \"4017\": {\"frequency\": 1, \"value\": 4017}, \"9291\": {\"frequency\": 1, \"value\": 9291}, \"11340\": {\"frequency\": 2, \"value\": 11340}, \"11341\": {\"frequency\": 1, \"value\": 11341}, \"11344\": {\"frequency\": 1, \"value\": 11344}, \"9297\": {\"frequency\": 1, \"value\": 9297}, \"7252\": {\"frequency\": 1, \"value\": 7252}, \"9303\": {\"frequency\": 1, \"value\": 9303}, \"13400\": {\"frequency\": 1, \"value\": 13400}, \"10084\": {\"frequency\": 2, \"value\": 10084}, \"7259\": {\"frequency\": 1, \"value\": 7259}, \"17500\": {\"frequency\": 1, \"value\": 17500}, \"4282\": {\"frequency\": 1, \"value\": 4282}, \"50271\": {\"frequency\": 1, \"value\": 50271}, \"7264\": {\"frequency\": 1, \"value\": 7264}, \"9313\": {\"frequency\": 1, \"value\": 9313}, \"11362\": {\"frequency\": 1, \"value\": 11362}, \"9317\": {\"frequency\": 2, \"value\": 9317}, \"11367\": {\"frequency\": 1, \"value\": 11367}, \"9320\": {\"frequency\": 1, \"value\": 9320}, \"70761\": {\"frequency\": 1, \"value\": 70761}, \"13418\": {\"frequency\": 1, \"value\": 13418}, \"13159\": {\"frequency\": 1, \"value\": 13159}, \"3180\": {\"frequency\": 2, \"value\": 3180}, \"3182\": {\"frequency\": 7, \"value\": 3182}, \"9405\": {\"frequency\": 1, \"value\": 9405}, \"5232\": {\"frequency\": 1, \"value\": 5232}, \"9337\": {\"frequency\": 1, \"value\": 9337}, \"21695\": {\"frequency\": 1, \"value\": 21695}, \"3196\": {\"frequency\": 2, \"value\": 3196}, \"7018\": {\"frequency\": 4, \"value\": 7018}, \"11394\": {\"frequency\": 1, \"value\": 11394}, \"7301\": {\"frequency\": 1, \"value\": 7301}, \"9350\": {\"frequency\": 2, \"value\": 9350}, \"25339\": {\"frequency\": 1, \"value\": 25339}, \"11400\": {\"frequency\": 1, \"value\": 11400}, \"9353\": {\"frequency\": 1, \"value\": 9353}, \"15498\": {\"frequency\": 1, \"value\": 15498}, \"11404\": {\"frequency\": 1, \"value\": 11404}, \"9360\": {\"frequency\": 1, \"value\": 9360}, \"11409\": {\"frequency\": 1, \"value\": 11409}, \"7314\": {\"frequency\": 1, \"value\": 7314}, \"9364\": {\"frequency\": 1, \"value\": 9364}, \"11414\": {\"frequency\": 1, \"value\": 11414}, \"5271\": {\"frequency\": 1, \"value\": 5271}, \"14191\": {\"frequency\": 1, \"value\": 14191}, \"8730\": {\"frequency\": 1, \"value\": 8730}, \"3230\": {\"frequency\": 2, \"value\": 3230}, \"9375\": {\"frequency\": 4, \"value\": 9375}, \"13472\": {\"frequency\": 1, \"value\": 13472}, \"11425\": {\"frequency\": 1, \"value\": 11425}, \"11426\": {\"frequency\": 1, \"value\": 11426}, \"15523\": {\"frequency\": 1, \"value\": 15523}, \"11428\": {\"frequency\": 1, \"value\": 11428}, \"9382\": {\"frequency\": 1, \"value\": 9382}, \"21453\": {\"frequency\": 1, \"value\": 21453}, \"11435\": {\"frequency\": 1, \"value\": 11435}, \"7340\": {\"frequency\": 1, \"value\": 7340}, \"5700\": {\"frequency\": 1, \"value\": 5700}, \"14536\": {\"frequency\": 1, \"value\": 14536}, \"11443\": {\"frequency\": 1, \"value\": 11443}, \"26142\": {\"frequency\": 1, \"value\": 26142}, \"7350\": {\"frequency\": 1, \"value\": 7350}, \"9400\": {\"frequency\": 2, \"value\": 9400}, \"5306\": {\"frequency\": 1, \"value\": 5306}, \"7711\": {\"frequency\": 1, \"value\": 7711}, \"13500\": {\"frequency\": 2, \"value\": 13500}, \"13501\": {\"frequency\": 1, \"value\": 13501}, \"5310\": {\"frequency\": 1, \"value\": 5310}, \"13173\": {\"frequency\": 1, \"value\": 13173}, \"17600\": {\"frequency\": 1, \"value\": 17600}, \"11457\": {\"frequency\": 1, \"value\": 11457}, \"9416\": {\"frequency\": 1, \"value\": 9416}, \"13515\": {\"frequency\": 1, \"value\": 13515}, \"13517\": {\"frequency\": 1, \"value\": 13517}, \"13518\": {\"frequency\": 1, \"value\": 13518}, \"215245\": {\"frequency\": 1, \"value\": 215245}, \"11120\": {\"frequency\": 1, \"value\": 11120}, \"5330\": {\"frequency\": 2, \"value\": 5330}, \"11475\": {\"frequency\": 2, \"value\": 11475}, \"9430\": {\"frequency\": 1, \"value\": 9430}, \"15576\": {\"frequency\": 1, \"value\": 15576}, \"9764\": {\"frequency\": 1, \"value\": 9764}, \"15578\": {\"frequency\": 1, \"value\": 15578}, \"7388\": {\"frequency\": 1, \"value\": 7388}, \"7390\": {\"frequency\": 1, \"value\": 7390}, \"9439\": {\"frequency\": 1, \"value\": 9439}, \"10592\": {\"frequency\": 1, \"value\": 10592}, \"10448\": {\"frequency\": 1, \"value\": 10448}, \"12256\": {\"frequency\": 1, \"value\": 12256}, \"5350\": {\"frequency\": 1, \"value\": 5350}, \"9248\": {\"frequency\": 1, \"value\": 9248}, \"15593\": {\"frequency\": 1, \"value\": 15593}, \"9450\": {\"frequency\": 1, \"value\": 9450}, \"9452\": {\"frequency\": 1, \"value\": 9452}, \"9453\": {\"frequency\": 1, \"value\": 9453}, \"7406\": {\"frequency\": 1, \"value\": 7406}, \"7407\": {\"frequency\": 1, \"value\": 7407}, \"15602\": {\"frequency\": 1, \"value\": 15602}, \"3316\": {\"frequency\": 1, \"value\": 3316}, \"21750\": {\"frequency\": 2, \"value\": 21750}, \"7415\": {\"frequency\": 1, \"value\": 7415}, \"9464\": {\"frequency\": 1, \"value\": 9464}, \"15611\": {\"frequency\": 2, \"value\": 15611}, \"7420\": {\"frequency\": 2, \"value\": 7420}, \"13568\": {\"frequency\": 1, \"value\": 13568}, \"9473\": {\"frequency\": 1, \"value\": 9473}, \"9477\": {\"frequency\": 1, \"value\": 9477}, \"11526\": {\"frequency\": 1, \"value\": 11526}, \"15623\": {\"frequency\": 1, \"value\": 15623}, \"9480\": {\"frequency\": 1, \"value\": 9480}, \"5389\": {\"frequency\": 1, \"value\": 5389}, \"7438\": {\"frequency\": 1, \"value\": 7438}, \"9490\": {\"frequency\": 1, \"value\": 9490}, \"5395\": {\"frequency\": 1, \"value\": 5395}, \"1300\": {\"frequency\": 1, \"value\": 1300}, \"7446\": {\"frequency\": 1, \"value\": 7446}, \"159000\": {\"frequency\": 1, \"value\": 159000}, \"7449\": {\"frequency\": 1, \"value\": 7449}, \"9500\": {\"frequency\": 2, \"value\": 9500}, \"9503\": {\"frequency\": 1, \"value\": 9503}, \"13600\": {\"frequency\": 2, \"value\": 13600}, \"11553\": {\"frequency\": 1, \"value\": 11553}, \"9250\": {\"frequency\": 1, \"value\": 9250}, \"14774\": {\"frequency\": 1, \"value\": 14774}, \"2268\": {\"frequency\": 1, \"value\": 2268}, \"15660\": {\"frequency\": 1, \"value\": 15660}, \"9520\": {\"frequency\": 1, \"value\": 9520}, \"5000\": {\"frequency\": 5, \"value\": 5000}, \"3378\": {\"frequency\": 1, \"value\": 3378}, \"9525\": {\"frequency\": 2, \"value\": 9525}, \"3636\": {\"frequency\": 1, \"value\": 3636}, \"10463\": {\"frequency\": 1, \"value\": 10463}, \"5436\": {\"frequency\": 1, \"value\": 5436}, \"11146\": {\"frequency\": 1, \"value\": 11146}, \"8910\": {\"frequency\": 1, \"value\": 8910}, \"9541\": {\"frequency\": 1, \"value\": 9541}, \"7052\": {\"frequency\": 1, \"value\": 7052}, \"7500\": {\"frequency\": 9, \"value\": 7500}, \"9549\": {\"frequency\": 1, \"value\": 9549}, \"9550\": {\"frequency\": 1, \"value\": 9550}, \"11600\": {\"frequency\": 3, \"value\": 11600}, \"13650\": {\"frequency\": 1, \"value\": 13650}, \"13651\": {\"frequency\": 1, \"value\": 13651}, \"11606\": {\"frequency\": 1, \"value\": 11606}, \"45600\": {\"frequency\": 1, \"value\": 45600}, \"9560\": {\"frequency\": 1, \"value\": 9560}, \"17755\": {\"frequency\": 1, \"value\": 17755}, \"11616\": {\"frequency\": 2, \"value\": 11616}, \"5520\": {\"frequency\": 1, \"value\": 5520}, \"9571\": {\"frequency\": 2, \"value\": 9571}, \"9572\": {\"frequency\": 1, \"value\": 9572}, \"13673\": {\"frequency\": 1, \"value\": 13673}, \"7399\": {\"frequency\": 1, \"value\": 7399}, \"7535\": {\"frequency\": 1, \"value\": 7535}, \"13680\": {\"frequency\": 1, \"value\": 13680}, \"13682\": {\"frequency\": 1, \"value\": 13682}, \"9587\": {\"frequency\": 1, \"value\": 9587}, \"7540\": {\"frequency\": 1, \"value\": 7540}, \"9790\": {\"frequency\": 2, \"value\": 9790}, \"9590\": {\"frequency\": 1, \"value\": 9590}, \"9591\": {\"frequency\": 2, \"value\": 9591}, \"13688\": {\"frequency\": 1, \"value\": 13688}, \"12180\": {\"frequency\": 1, \"value\": 12180}, \"4671\": {\"frequency\": 1, \"value\": 4671}, \"5500\": {\"frequency\": 2, \"value\": 5500}, \"11645\": {\"frequency\": 2, \"value\": 11645}, \"10784\": {\"frequency\": 1, \"value\": 10784}, \"13695\": {\"frequency\": 2, \"value\": 13695}, \"9600\": {\"frequency\": 24, \"value\": 9600}, \"10475\": {\"frequency\": 1, \"value\": 10475}, \"13700\": {\"frequency\": 1, \"value\": 13700}, \"14230\": {\"frequency\": 1, \"value\": 14230}, \"15750\": {\"frequency\": 1, \"value\": 15750}, \"8769\": {\"frequency\": 1, \"value\": 8769}, \"13704\": {\"frequency\": 1, \"value\": 13704}, \"11500\": {\"frequency\": 3, \"value\": 11500}, \"9612\": {\"frequency\": 1, \"value\": 9612}, \"13710\": {\"frequency\": 1, \"value\": 13710}, \"11664\": {\"frequency\": 1, \"value\": 11664}, \"11160\": {\"frequency\": 1, \"value\": 11160}, \"11670\": {\"frequency\": 1, \"value\": 11670}, \"7577\": {\"frequency\": 1, \"value\": 7577}, \"17140\": {\"frequency\": 1, \"value\": 17140}, \"13728\": {\"frequency\": 1, \"value\": 13728}, \"7585\": {\"frequency\": 1, \"value\": 7585}, \"7588\": {\"frequency\": 1, \"value\": 7588}, \"11846\": {\"frequency\": 1, \"value\": 11846}, \"7590\": {\"frequency\": 2, \"value\": 7590}, \"10140\": {\"frequency\": 5, \"value\": 10140}, \"21930\": {\"frequency\": 1, \"value\": 21930}, \"8775\": {\"frequency\": 1, \"value\": 8775}, \"3500\": {\"frequency\": 1, \"value\": 3500}, \"5362\": {\"frequency\": 1, \"value\": 5362}, \"11694\": {\"frequency\": 1, \"value\": 11694}, \"7599\": {\"frequency\": 1, \"value\": 7599}, \"9650\": {\"frequency\": 1, \"value\": 9650}, \"11700\": {\"frequency\": 4, \"value\": 11700}, \"10142\": {\"frequency\": 1, \"value\": 10142}, \"19900\": {\"frequency\": 1, \"value\": 19900}, \"10839\": {\"frequency\": 1, \"value\": 10839}, \"13758\": {\"frequency\": 1, \"value\": 13758}, \"9803\": {\"frequency\": 1, \"value\": 9803}, \"11717\": {\"frequency\": 1, \"value\": 11717}, \"1953\": {\"frequency\": 1, \"value\": 1953}, \"9672\": {\"frequency\": 1, \"value\": 9672}, \"9675\": {\"frequency\": 1, \"value\": 9675}, \"13526\": {\"frequency\": 1, \"value\": 13526}, \"17871\": {\"frequency\": 1, \"value\": 17871}, \"21872\": {\"frequency\": 1, \"value\": 21872}, \"5586\": {\"frequency\": 1, \"value\": 5586}, \"1491\": {\"frequency\": 1, \"value\": 1491}, \"13825\": {\"frequency\": 1, \"value\": 13825}, \"14585\": {\"frequency\": 1, \"value\": 14585}, \"19690\": {\"frequency\": 1, \"value\": 19690}, \"7642\": {\"frequency\": 1, \"value\": 7642}, \"11643\": {\"frequency\": 1, \"value\": 11643}, \"5600\": {\"frequency\": 1, \"value\": 5600}, \"9808\": {\"frequency\": 1, \"value\": 9808}, \"14587\": {\"frequency\": 1, \"value\": 14587}, \"5604\": {\"frequency\": 1, \"value\": 5604}, \"11751\": {\"frequency\": 1, \"value\": 11751}, \"7658\": {\"frequency\": 1, \"value\": 7658}, \"8158\": {\"frequency\": 1, \"value\": 8158}, \"13811\": {\"frequency\": 1, \"value\": 13811}, \"11764\": {\"frequency\": 1, \"value\": 11764}, \"9717\": {\"frequency\": 1, \"value\": 9717}, \"1526\": {\"frequency\": 1, \"value\": 1526}, \"11767\": {\"frequency\": 2, \"value\": 11767}, \"15865\": {\"frequency\": 1, \"value\": 15865}, \"46589\": {\"frequency\": 1, \"value\": 46589}, \"15870\": {\"frequency\": 1, \"value\": 15870}, \"17920\": {\"frequency\": 1, \"value\": 17920}, \"11777\": {\"frequency\": 1, \"value\": 11777}, \"7685\": {\"frequency\": 1, \"value\": 7685}, \"11782\": {\"frequency\": 1, \"value\": 11782}, \"9735\": {\"frequency\": 1, \"value\": 9735}, \"9738\": {\"frequency\": 1, \"value\": 9738}, \"11787\": {\"frequency\": 1, \"value\": 11787}, \"12122\": {\"frequency\": 1, \"value\": 12122}, \"13837\": {\"frequency\": 1, \"value\": 13837}, \"9742\": {\"frequency\": 1, \"value\": 9742}, \"3600\": {\"frequency\": 1, \"value\": 3600}, \"7700\": {\"frequency\": 2, \"value\": 7700}, \"9750\": {\"frequency\": 5, \"value\": 9750}, \"2308\": {\"frequency\": 2, \"value\": 2308}, \"24090\": {\"frequency\": 1, \"value\": 24090}, \"9758\": {\"frequency\": 1, \"value\": 9758}, \"5381\": {\"frequency\": 1, \"value\": 5381}, \"9760\": {\"frequency\": 2, \"value\": 9760}, \"35760\": {\"frequency\": 1, \"value\": 35760}, \"3675\": {\"frequency\": 3, \"value\": 3675}, \"13860\": {\"frequency\": 1, \"value\": 13860}, \"9765\": {\"frequency\": 1, \"value\": 9765}, \"16692\": {\"frequency\": 1, \"value\": 16692}, \"17671\": {\"frequency\": 1, \"value\": 17671}, \"13869\": {\"frequency\": 1, \"value\": 13869}, \"10226\": {\"frequency\": 1, \"value\": 10226}, \"7728\": {\"frequency\": 1, \"value\": 7728}, \"3635\": {\"frequency\": 1, \"value\": 3635}, \"5684\": {\"frequency\": 1, \"value\": 5684}, \"5687\": {\"frequency\": 1, \"value\": 5687}, \"9786\": {\"frequency\": 2, \"value\": 9786}, \"1596\": {\"frequency\": 1, \"value\": 1596}, \"7742\": {\"frequency\": 1, \"value\": 7742}, \"11839\": {\"frequency\": 1, \"value\": 11839}, \"11841\": {\"frequency\": 1, \"value\": 11841}, \"26178\": {\"frequency\": 1, \"value\": 26178}, \"13891\": {\"frequency\": 3, \"value\": 13891}, \"11844\": {\"frequency\": 1, \"value\": 11844}, \"7094\": {\"frequency\": 1, \"value\": 7094}, \"7750\": {\"frequency\": 3, \"value\": 7750}, \"9800\": {\"frequency\": 1, \"value\": 9800}, \"11851\": {\"frequency\": 1, \"value\": 11851}, \"1920\": {\"frequency\": 1, \"value\": 1920}, \"7758\": {\"frequency\": 2, \"value\": 7758}, \"18000\": {\"frequency\": 1, \"value\": 18000}, \"3000\": {\"frequency\": 1, \"value\": 3000}, \"13907\": {\"frequency\": 1, \"value\": 13907}, \"11988\": {\"frequency\": 2, \"value\": 11988}, \"5720\": {\"frequency\": 1, \"value\": 5720}, \"12900\": {\"frequency\": 1, \"value\": 12900}, \"9819\": {\"frequency\": 2, \"value\": 9819}, \"9825\": {\"frequency\": 1, \"value\": 9825}, \"10171\": {\"frequency\": 1, \"value\": 10171}, \"3684\": {\"frequency\": 1, \"value\": 3684}, \"9830\": {\"frequency\": 1, \"value\": 9830}, \"11880\": {\"frequency\": 1, \"value\": 11880}, \"12220\": {\"frequency\": 1, \"value\": 12220}, \"11883\": {\"frequency\": 1, \"value\": 11883}, \"11885\": {\"frequency\": 1, \"value\": 11885}, \"18030\": {\"frequency\": 1, \"value\": 18030}, \"11888\": {\"frequency\": 1, \"value\": 11888}, \"9842\": {\"frequency\": 2, \"value\": 9842}, \"7795\": {\"frequency\": 1, \"value\": 7795}, \"11198\": {\"frequency\": 1, \"value\": 11198}, \"7800\": {\"frequency\": 6, \"value\": 7800}, \"9492\": {\"frequency\": 1, \"value\": 9492}, \"11900\": {\"frequency\": 2, \"value\": 11900}, \"11512\": {\"frequency\": 1, \"value\": 11512}, \"9855\": {\"frequency\": 1, \"value\": 9855}, \"9858\": {\"frequency\": 1, \"value\": 9858}, \"11911\": {\"frequency\": 1, \"value\": 11911}, \"7819\": {\"frequency\": 1, \"value\": 7819}, \"7820\": {\"frequency\": 1, \"value\": 7820}, \"11308\": {\"frequency\": 1, \"value\": 11308}, \"1680\": {\"frequency\": 10, \"value\": 1680}, \"5400\": {\"frequency\": 5, \"value\": 5400}, \"11923\": {\"frequency\": 1, \"value\": 11923}, \"11924\": {\"frequency\": 1, \"value\": 11924}, \"3735\": {\"frequency\": 1, \"value\": 3735}, \"5784\": {\"frequency\": 1, \"value\": 5784}, \"2016\": {\"frequency\": 1, \"value\": 2016}, \"11932\": {\"frequency\": 1, \"value\": 11932}, \"7837\": {\"frequency\": 1, \"value\": 7837}, \"5790\": {\"frequency\": 1, \"value\": 5790}, \"3696\": {\"frequency\": 1, \"value\": 3696}, \"7844\": {\"frequency\": 1, \"value\": 7844}, \"9158\": {\"frequency\": 1, \"value\": 9158}, \"7851\": {\"frequency\": 1, \"value\": 7851}, \"9900\": {\"frequency\": 4, \"value\": 9900}, \"15256\": {\"frequency\": 1, \"value\": 15256}, \"14000\": {\"frequency\": 2, \"value\": 14000}, \"9906\": {\"frequency\": 1, \"value\": 9906}, \"7861\": {\"frequency\": 1, \"value\": 7861}, \"7862\": {\"frequency\": 1, \"value\": 7862}, \"16056\": {\"frequency\": 1, \"value\": 16056}, \"9204\": {\"frequency\": 1, \"value\": 9204}, \"16059\": {\"frequency\": 1, \"value\": 16059}, \"5820\": {\"frequency\": 1, \"value\": 5820}, \"11210\": {\"frequency\": 1, \"value\": 11210}, \"9920\": {\"frequency\": 3, \"value\": 9920}, \"5825\": {\"frequency\": 1, \"value\": 5825}, \"8072\": {\"frequency\": 1, \"value\": 8072}, \"7875\": {\"frequency\": 3, \"value\": 7875}, \"7879\": {\"frequency\": 1, \"value\": 7879}, \"3604\": {\"frequency\": 1, \"value\": 3604}, \"7082\": {\"frequency\": 1, \"value\": 7082}, \"9937\": {\"frequency\": 2, \"value\": 9937}, \"9938\": {\"frequency\": 1, \"value\": 9938}, \"3363\": {\"frequency\": 1, \"value\": 3363}, \"7892\": {\"frequency\": 2, \"value\": 7892}, \"9849\": {\"frequency\": 1, \"value\": 9849}, \"9945\": {\"frequency\": 1, \"value\": 9945}, \"9947\": {\"frequency\": 1, \"value\": 9947}, \"9950\": {\"frequency\": 1, \"value\": 9950}, \"11999\": {\"frequency\": 1, \"value\": 11999}, \"12000\": {\"frequency\": 2, \"value\": 12000}, \"12003\": {\"frequency\": 1, \"value\": 12003}, \"14054\": {\"frequency\": 1, \"value\": 14054}, \"7804\": {\"frequency\": 1, \"value\": 7804}, \"12011\": {\"frequency\": 1, \"value\": 12011}, \"5868\": {\"frequency\": 1, \"value\": 5868}, \"7917\": {\"frequency\": 2, \"value\": 7917}, \"9967\": {\"frequency\": 1, \"value\": 9967}, \"7920\": {\"frequency\": 1, \"value\": 7920}, \"7922\": {\"frequency\": 1, \"value\": 7922}, \"7930\": {\"frequency\": 1, \"value\": 7930}, \"7931\": {\"frequency\": 2, \"value\": 7931}, \"12030\": {\"frequency\": 1, \"value\": 12030}, \"12546\": {\"frequency\": 1, \"value\": 12546}, \"7937\": {\"frequency\": 1, \"value\": 7937}, \"3842\": {\"frequency\": 1, \"value\": 3842}, \"9991\": {\"frequency\": 1, \"value\": 9991}, \"7945\": {\"frequency\": 1, \"value\": 7945}, \"5900\": {\"frequency\": 1, \"value\": 5900}, \"12046\": {\"frequency\": 1, \"value\": 12046}, \"20781\": {\"frequency\": 1, \"value\": 20781}, \"10000\": {\"frequency\": 5, \"value\": 10000}, \"10004\": {\"frequency\": 1, \"value\": 10004}, \"10005\": {\"frequency\": 1, \"value\": 10005}, \"7313\": {\"frequency\": 1, \"value\": 7313}, \"10007\": {\"frequency\": 1, \"value\": 10007}, \"10010\": {\"frequency\": 1, \"value\": 10010}, \"10011\": {\"frequency\": 1, \"value\": 10011}, \"10012\": {\"frequency\": 1, \"value\": 10012}, \"7681\": {\"frequency\": 1, \"value\": 7681}, \"16158\": {\"frequency\": 1, \"value\": 16158}, \"14112\": {\"frequency\": 1, \"value\": 14112}, \"7472\": {\"frequency\": 1, \"value\": 7472}, \"14115\": {\"frequency\": 3, \"value\": 14115}, \"10020\": {\"frequency\": 1, \"value\": 10020}, \"5925\": {\"frequency\": 2, \"value\": 5925}, \"3880\": {\"frequency\": 1, \"value\": 3880}, \"11228\": {\"frequency\": 1, \"value\": 11228}, \"10029\": {\"frequency\": 1, \"value\": 10029}, \"12936\": {\"frequency\": 1, \"value\": 12936}, \"7950\": {\"frequency\": 1, \"value\": 7950}, \"8499\": {\"frequency\": 1, \"value\": 8499}, \"12085\": {\"frequency\": 1, \"value\": 12085}, \"7990\": {\"frequency\": 1, \"value\": 7990}, \"10041\": {\"frequency\": 1, \"value\": 10041}, \"12090\": {\"frequency\": 3, \"value\": 12090}, \"14303\": {\"frequency\": 1, \"value\": 14303}, \"4426\": {\"frequency\": 3, \"value\": 4426}, \"12095\": {\"frequency\": 1, \"value\": 12095}, \"8000\": {\"frequency\": 3, \"value\": 8000}, \"14145\": {\"frequency\": 1, \"value\": 14145}, \"2651\": {\"frequency\": 1, \"value\": 2651}, \"12099\": {\"frequency\": 1, \"value\": 12099}, \"8004\": {\"frequency\": 1, \"value\": 8004}, \"14154\": {\"frequency\": 1, \"value\": 14154}, \"9505\": {\"frequency\": 1, \"value\": 9505}, \"8012\": {\"frequency\": 3, \"value\": 8012}, \"14157\": {\"frequency\": 1, \"value\": 14157}, \"10496\": {\"frequency\": 1, \"value\": 10496}, \"3922\": {\"frequency\": 2, \"value\": 3922}, \"11235\": {\"frequency\": 1, \"value\": 11235}, \"4750\": {\"frequency\": 1, \"value\": 4750}, \"12118\": {\"frequency\": 1, \"value\": 12118}, \"6882\": {\"frequency\": 1, \"value\": 6882}, \"34650\": {\"frequency\": 1, \"value\": 34650}, \"8029\": {\"frequency\": 1, \"value\": 8029}, \"14175\": {\"frequency\": 1, \"value\": 14175}, \"1890\": {\"frequency\": 2, \"value\": 1890}, \"10083\": {\"frequency\": 1, \"value\": 10083}, \"16157\": {\"frequency\": 1, \"value\": 16157}, \"12134\": {\"frequency\": 1, \"value\": 12134}, \"9873\": {\"frequency\": 1, \"value\": 9873}, \"12137\": {\"frequency\": 1, \"value\": 12137}, \"6000\": {\"frequency\": 17, \"value\": 6000}, \"3950\": {\"frequency\": 1, \"value\": 3950}, \"3951\": {\"frequency\": 1, \"value\": 3951}, \"57200\": {\"frequency\": 1, \"value\": 57200}, \"8049\": {\"frequency\": 1, \"value\": 8049}, \"53107\": {\"frequency\": 1, \"value\": 53107}, \"24682\": {\"frequency\": 1, \"value\": 24682}, \"12150\": {\"frequency\": 1, \"value\": 12150}, \"14200\": {\"frequency\": 1, \"value\": 14200}, \"36500\": {\"frequency\": 1, \"value\": 36500}, \"10106\": {\"frequency\": 1, \"value\": 10106}, \"12155\": {\"frequency\": 2, \"value\": 12155}, \"3964\": {\"frequency\": 1, \"value\": 3964}, \"16226\": {\"frequency\": 1, \"value\": 16226}, \"8063\": {\"frequency\": 1, \"value\": 8063}, \"12160\": {\"frequency\": 2, \"value\": 12160}, \"11584\": {\"frequency\": 1, \"value\": 11584}, \"16259\": {\"frequency\": 1, \"value\": 16259}, \"8068\": {\"frequency\": 1, \"value\": 8068}, \"8070\": {\"frequency\": 1, \"value\": 8070}, \"14215\": {\"frequency\": 1, \"value\": 14215}, \"12168\": {\"frequency\": 1, \"value\": 12168}, \"5100\": {\"frequency\": 1, \"value\": 5100}, \"4224\": {\"frequency\": 2, \"value\": 4224}, \"7763\": {\"frequency\": 1, \"value\": 7763}, \"10125\": {\"frequency\": 2, \"value\": 10125}, \"3982\": {\"frequency\": 1, \"value\": 3982}, \"1936\": {\"frequency\": 1, \"value\": 1936}, \"9880\": {\"frequency\": 1, \"value\": 9880}, \"14226\": {\"frequency\": 1, \"value\": 14226}, \"22420\": {\"frequency\": 1, \"value\": 22420}, \"12182\": {\"frequency\": 1, \"value\": 12182}, \"6040\": {\"frequency\": 1, \"value\": 6040}, \"8089\": {\"frequency\": 1, \"value\": 8089}, \"32668\": {\"frequency\": 1, \"value\": 32668}, \"10141\": {\"frequency\": 1, \"value\": 10141}, \"1950\": {\"frequency\": 1, \"value\": 1950}, \"11248\": {\"frequency\": 1, \"value\": 11248}, \"11249\": {\"frequency\": 1, \"value\": 11249}, \"8100\": {\"frequency\": 2, \"value\": 8100}, \"10150\": {\"frequency\": 1, \"value\": 10150}, \"5105\": {\"frequency\": 1, \"value\": 5105}, \"10152\": {\"frequency\": 1, \"value\": 10152}, \"8385\": {\"frequency\": 1, \"value\": 8385}, \"12203\": {\"frequency\": 1, \"value\": 12203}, \"6060\": {\"frequency\": 1, \"value\": 6060}, \"12205\": {\"frequency\": 1, \"value\": 12205}, \"10159\": {\"frequency\": 1, \"value\": 10159}, \"12209\": {\"frequency\": 1, \"value\": 12209}, \"11838\": {\"frequency\": 1, \"value\": 11838}, \"14260\": {\"frequency\": 1, \"value\": 14260}, \"7838\": {\"frequency\": 1, \"value\": 7838}, \"1974\": {\"frequency\": 1, \"value\": 1974}, \"8120\": {\"frequency\": 1, \"value\": 8120}, \"8121\": {\"frequency\": 1, \"value\": 8121}, \"8123\": {\"frequency\": 1, \"value\": 8123}, \"9828\": {\"frequency\": 1, \"value\": 9828}, \"8125\": {\"frequency\": 8, \"value\": 8125}, \"10175\": {\"frequency\": 1, \"value\": 10175}, \"12224\": {\"frequency\": 1, \"value\": 12224}, \"16321\": {\"frequency\": 1, \"value\": 16321}, \"12227\": {\"frequency\": 1, \"value\": 12227}, \"10182\": {\"frequency\": 1, \"value\": 10182}, \"16033\": {\"frequency\": 1, \"value\": 16033}, \"9548\": {\"frequency\": 1, \"value\": 9548}, \"10186\": {\"frequency\": 1, \"value\": 10186}, \"4043\": {\"frequency\": 2, \"value\": 4043}, \"10208\": {\"frequency\": 1, \"value\": 10208}, \"4045\": {\"frequency\": 1, \"value\": 4045}, \"11796\": {\"frequency\": 1, \"value\": 11796}, \"20431\": {\"frequency\": 1, \"value\": 20431}, \"10192\": {\"frequency\": 1, \"value\": 10192}, \"2001\": {\"frequency\": 1, \"value\": 2001}, \"18386\": {\"frequency\": 1, \"value\": 18386}, \"12243\": {\"frequency\": 1, \"value\": 12243}, \"12244\": {\"frequency\": 1, \"value\": 12244}, \"10197\": {\"frequency\": 1, \"value\": 10197}, \"10200\": {\"frequency\": 3, \"value\": 10200}, \"4058\": {\"frequency\": 1, \"value\": 4058}, \"4060\": {\"frequency\": 2, \"value\": 4060}, \"10205\": {\"frequency\": 1, \"value\": 10205}, \"10206\": {\"frequency\": 2, \"value\": 10206}, \"10207\": {\"frequency\": 1, \"value\": 10207}, \"8160\": {\"frequency\": 1, \"value\": 8160}, \"12257\": {\"frequency\": 1, \"value\": 12257}, \"8163\": {\"frequency\": 1, \"value\": 8163}, \"14948\": {\"frequency\": 1, \"value\": 14948}, \"5250\": {\"frequency\": 1, \"value\": 5250}, \"10215\": {\"frequency\": 1, \"value\": 10215}, \"6120\": {\"frequency\": 8, \"value\": 6120}, \"4500\": {\"frequency\": 5, \"value\": 4500}, \"53227\": {\"frequency\": 1, \"value\": 53227}, \"8172\": {\"frequency\": 2, \"value\": 8172}, \"9554\": {\"frequency\": 1, \"value\": 9554}, \"16381\": {\"frequency\": 1, \"value\": 16381}, \"8176\": {\"frequency\": 1, \"value\": 8176}, \"12968\": {\"frequency\": 1, \"value\": 12968}, \"12274\": {\"frequency\": 1, \"value\": 12274}, \"14331\": {\"frequency\": 1, \"value\": 14331}, \"10237\": {\"frequency\": 2, \"value\": 10237}, \"8190\": {\"frequency\": 1, \"value\": 8190}}, \"mean\": 10516.828082191776}, \"TotRmsAbvGrd\": {\"std\": 1.6248365536981912, \"complete\": true, \"min\": 2.0, \"max\": 14.0, \"quantile\": [2.0, 3.0, 4.0, 4.0, 4.0, 4.0, 4.0, 4.0, 5.0, 5.0, 5.0, 5.0, 5.0, 5.0, 5.0, 5.0, 5.0, 5.0, 5.0, 5.0, 5.0, 5.0, 5.0, 5.0, 5.0, 5.0, 5.0, 6.0, 6.0, 6.0, 6.0, 6.0, 6.0, 6.0, 6.0, 6.0, 6.0, 6.0, 6.0, 6.0, 6.0, 6.0, 6.0, 6.0, 6.0, 6.0, 6.0, 6.0, 6.0, 6.0, 6.0, 6.0, 6.0, 6.0, 6.0, 7.0, 7.0, 7.0, 7.0, 7.0, 7.0, 7.0, 7.0, 7.0, 7.0, 7.0, 7.0, 7.0, 7.0, 7.0, 7.0, 7.0, 7.0, 7.0, 7.0, 7.0, 7.0, 8.0, 8.0, 8.0, 8.0, 8.0, 8.0, 8.0, 8.0, 8.0, 8.0, 8.0, 8.0, 8.0, 9.0, 9.0, 9.0, 9.0, 9.0, 10.0, 10.0, 10.0, 11.0, 11.0, 14.0], \"median\": 6.0, \"numeric\": true, \"num_unique\": 12, \"num_undefined\": 0, \"var\": 2.6400938262338154, \"progress\": 1.0, \"size\": 1460, \"frequent_items\": {\"2\": {\"frequency\": 1, \"value\": 2}, \"3\": {\"frequency\": 17, \"value\": 3}, \"4\": {\"frequency\": 97, \"value\": 4}, \"5\": {\"frequency\": 275, \"value\": 5}, \"6\": {\"frequency\": 402, \"value\": 6}, \"7\": {\"frequency\": 329, \"value\": 7}, \"8\": {\"frequency\": 187, \"value\": 8}, \"9\": {\"frequency\": 75, \"value\": 9}, \"10\": {\"frequency\": 47, \"value\": 10}, \"11\": {\"frequency\": 18, \"value\": 11}, \"12\": {\"frequency\": 11, \"value\": 12}, \"14\": {\"frequency\": 1, \"value\": 14}}, \"mean\": 6.517808219178082}, \"GrLivArea\": {\"std\": 525.3003935623227, \"complete\": true, \"min\": 334.0, \"max\": 5642.0, \"quantile\": [334.0, 691.0, 768.0, 796.0, 827.0, 848.0, 864.0, 864.0, 884.0, 894.0, 912.0, 924.0, 948.0, 960.0, 980.0, 988.0, 1004.0, 1034.0, 1040.0, 1054.0, 1067.0, 1078.0, 1092.0, 1109.0, 1120.0, 1130.0, 1144.0, 1158.0, 1178.0, 1196.0, 1208.0, 1217.0, 1224.0, 1236.0, 1252.0, 1262.0, 1279.0, 1301.0, 1310.0, 1324.0, 1339.0, 1348.0, 1360.0, 1368.0, 1382.0, 1393.0, 1414.0, 1428.0, 1437.0, 1456.0, 1464.0, 1475.0, 1484.0, 1494.0, 1502.0, 1510.0, 1525.0, 1541.0, 1557.0, 1571.0, 1578.0, 1600.0, 1614.0, 1626.0, 1640.0, 1652.0, 1660.0, 1668.0, 1684.0, 1694.0, 1710.0, 1717.0, 1728.0, 1740.0, 1766.0, 1779.0, 1792.0, 1804.0, 1836.0, 1850.0, 1869.0, 1908.0, 1928.0, 1953.0, 1968.0, 1989.0, 2021.0, 2060.0, 2090.0, 2121.0, 2161.0, 2223.0, 2267.0, 2329.0, 2392.0, 2468.0, 2554.0, 2634.0, 2784.0, 3140.0, 5642.0], \"median\": 1464.0, \"numeric\": true, \"num_unique\": 863, \"num_undefined\": 0, \"var\": 275940.5034767311, \"progress\": 1.0, \"size\": 1460, \"frequent_items\": {\"2054\": {\"frequency\": 1, \"value\": 2054}, \"2057\": {\"frequency\": 1, \"value\": 2057}, \"2058\": {\"frequency\": 1, \"value\": 2058}, \"2060\": {\"frequency\": 2, \"value\": 2060}, \"2062\": {\"frequency\": 1, \"value\": 2062}, \"2069\": {\"frequency\": 1, \"value\": 2069}, \"2073\": {\"frequency\": 1, \"value\": 2073}, \"2076\": {\"frequency\": 1, \"value\": 2076}, \"2078\": {\"frequency\": 1, \"value\": 2078}, \"2080\": {\"frequency\": 2, \"value\": 2080}, \"2082\": {\"frequency\": 1, \"value\": 2082}, \"2084\": {\"frequency\": 2, \"value\": 2084}, \"2087\": {\"frequency\": 1, \"value\": 2087}, \"2090\": {\"frequency\": 3, \"value\": 2090}, \"2093\": {\"frequency\": 1, \"value\": 2093}, \"2094\": {\"frequency\": 1, \"value\": 2094}, \"2097\": {\"frequency\": 3, \"value\": 2097}, \"2098\": {\"frequency\": 1, \"value\": 2098}, \"2108\": {\"frequency\": 1, \"value\": 2108}, \"3082\": {\"frequency\": 1, \"value\": 3082}, \"2110\": {\"frequency\": 2, \"value\": 2110}, \"2112\": {\"frequency\": 1, \"value\": 2112}, \"2113\": {\"frequency\": 1, \"value\": 2113}, \"2117\": {\"frequency\": 1, \"value\": 2117}, \"2119\": {\"frequency\": 1, \"value\": 2119}, \"2121\": {\"frequency\": 1, \"value\": 2121}, \"2126\": {\"frequency\": 1, \"value\": 2126}, \"2127\": {\"frequency\": 2, \"value\": 2127}, \"2132\": {\"frequency\": 1, \"value\": 2132}, \"2134\": {\"frequency\": 1, \"value\": 2134}, \"2136\": {\"frequency\": 1, \"value\": 2136}, \"2138\": {\"frequency\": 1, \"value\": 2138}, \"2142\": {\"frequency\": 1, \"value\": 2142}, \"2144\": {\"frequency\": 1, \"value\": 2144}, \"2149\": {\"frequency\": 1, \"value\": 2149}, \"2153\": {\"frequency\": 1, \"value\": 2153}, \"2156\": {\"frequency\": 1, \"value\": 2156}, \"2157\": {\"frequency\": 1, \"value\": 2157}, \"2158\": {\"frequency\": 1, \"value\": 2158}, \"2161\": {\"frequency\": 1, \"value\": 2161}, \"2167\": {\"frequency\": 1, \"value\": 2167}, \"2169\": {\"frequency\": 1, \"value\": 2169}, \"2172\": {\"frequency\": 1, \"value\": 2172}, \"2183\": {\"frequency\": 1, \"value\": 2183}, \"2184\": {\"frequency\": 1, \"value\": 2184}, \"2192\": {\"frequency\": 1, \"value\": 2192}, \"2196\": {\"frequency\": 1, \"value\": 2196}, \"2198\": {\"frequency\": 1, \"value\": 2198}, \"2200\": {\"frequency\": 1, \"value\": 2200}, \"2201\": {\"frequency\": 1, \"value\": 2201}, \"2207\": {\"frequency\": 1, \"value\": 2207}, \"2210\": {\"frequency\": 1, \"value\": 2210}, \"2217\": {\"frequency\": 1, \"value\": 2217}, \"2223\": {\"frequency\": 1, \"value\": 2223}, \"2224\": {\"frequency\": 1, \"value\": 2224}, \"2229\": {\"frequency\": 1, \"value\": 2229}, \"2230\": {\"frequency\": 1, \"value\": 2230}, \"2234\": {\"frequency\": 1, \"value\": 2234}, \"2236\": {\"frequency\": 1, \"value\": 2236}, \"2240\": {\"frequency\": 1, \"value\": 2240}, \"2243\": {\"frequency\": 1, \"value\": 2243}, \"2256\": {\"frequency\": 1, \"value\": 2256}, \"2259\": {\"frequency\": 1, \"value\": 2259}, \"2260\": {\"frequency\": 1, \"value\": 2260}, \"2262\": {\"frequency\": 1, \"value\": 2262}, \"2263\": {\"frequency\": 3, \"value\": 2263}, \"2267\": {\"frequency\": 1, \"value\": 2267}, \"4316\": {\"frequency\": 1, \"value\": 4316}, \"2270\": {\"frequency\": 1, \"value\": 2270}, \"2274\": {\"frequency\": 1, \"value\": 2274}, \"2285\": {\"frequency\": 1, \"value\": 2285}, \"2287\": {\"frequency\": 1, \"value\": 2287}, \"2290\": {\"frequency\": 2, \"value\": 2290}, \"2291\": {\"frequency\": 2, \"value\": 2291}, \"2295\": {\"frequency\": 1, \"value\": 2295}, \"2296\": {\"frequency\": 1, \"value\": 2296}, \"2320\": {\"frequency\": 2, \"value\": 2320}, \"2324\": {\"frequency\": 1, \"value\": 2324}, \"2329\": {\"frequency\": 1, \"value\": 2329}, \"2332\": {\"frequency\": 1, \"value\": 2332}, \"2337\": {\"frequency\": 1, \"value\": 2337}, \"2340\": {\"frequency\": 1, \"value\": 2340}, \"2344\": {\"frequency\": 1, \"value\": 2344}, \"2345\": {\"frequency\": 1, \"value\": 2345}, \"2353\": {\"frequency\": 1, \"value\": 2353}, \"2358\": {\"frequency\": 2, \"value\": 2358}, \"2364\": {\"frequency\": 1, \"value\": 2364}, \"2365\": {\"frequency\": 1, \"value\": 2365}, \"2372\": {\"frequency\": 1, \"value\": 2372}, \"2374\": {\"frequency\": 1, \"value\": 2374}, \"2376\": {\"frequency\": 1, \"value\": 2376}, \"2380\": {\"frequency\": 1, \"value\": 2380}, \"334\": {\"frequency\": 1, \"value\": 334}, \"2392\": {\"frequency\": 2, \"value\": 2392}, \"2398\": {\"frequency\": 1, \"value\": 2398}, \"2402\": {\"frequency\": 1, \"value\": 2402}, \"2403\": {\"frequency\": 1, \"value\": 2403}, \"2414\": {\"frequency\": 1, \"value\": 2414}, \"2417\": {\"frequency\": 1, \"value\": 2417}, \"2418\": {\"frequency\": 1, \"value\": 2418}, \"4476\": {\"frequency\": 1, \"value\": 4476}, \"2447\": {\"frequency\": 1, \"value\": 2447}, \"2448\": {\"frequency\": 1, \"value\": 2448}, \"2450\": {\"frequency\": 1, \"value\": 2450}, \"2452\": {\"frequency\": 2, \"value\": 2452}, \"3140\": {\"frequency\": 1, \"value\": 3140}, \"2462\": {\"frequency\": 1, \"value\": 2462}, \"2466\": {\"frequency\": 1, \"value\": 2466}, \"2468\": {\"frequency\": 1, \"value\": 2468}, \"2473\": {\"frequency\": 1, \"value\": 2473}, \"2482\": {\"frequency\": 1, \"value\": 2482}, \"438\": {\"frequency\": 1, \"value\": 438}, \"2504\": {\"frequency\": 1, \"value\": 2504}, \"2514\": {\"frequency\": 1, \"value\": 2514}, \"2515\": {\"frequency\": 1, \"value\": 2515}, \"2519\": {\"frequency\": 1, \"value\": 2519}, \"2520\": {\"frequency\": 2, \"value\": 2520}, \"2521\": {\"frequency\": 1, \"value\": 2521}, \"2524\": {\"frequency\": 1, \"value\": 2524}, \"2526\": {\"frequency\": 2, \"value\": 2526}, \"1445\": {\"frequency\": 1, \"value\": 1445}, \"480\": {\"frequency\": 1, \"value\": 480}, \"2531\": {\"frequency\": 1, \"value\": 2531}, \"2554\": {\"frequency\": 1, \"value\": 2554}, \"2555\": {\"frequency\": 1, \"value\": 2555}, \"520\": {\"frequency\": 1, \"value\": 520}, \"2574\": {\"frequency\": 1, \"value\": 2574}, \"2576\": {\"frequency\": 1, \"value\": 2576}, \"2596\": {\"frequency\": 1, \"value\": 2596}, \"774\": {\"frequency\": 1, \"value\": 774}, \"2599\": {\"frequency\": 1, \"value\": 2599}, \"2601\": {\"frequency\": 1, \"value\": 2601}, \"2610\": {\"frequency\": 1, \"value\": 2610}, \"2612\": {\"frequency\": 1, \"value\": 2612}, \"2614\": {\"frequency\": 1, \"value\": 2614}, \"2620\": {\"frequency\": 1, \"value\": 2620}, \"2622\": {\"frequency\": 1, \"value\": 2622}, \"2624\": {\"frequency\": 1, \"value\": 2624}, \"4676\": {\"frequency\": 1, \"value\": 4676}, \"2630\": {\"frequency\": 1, \"value\": 2630}, \"2828\": {\"frequency\": 1, \"value\": 2828}, \"2634\": {\"frequency\": 1, \"value\": 2634}, \"2640\": {\"frequency\": 1, \"value\": 2640}, \"2643\": {\"frequency\": 1, \"value\": 2643}, \"2646\": {\"frequency\": 1, \"value\": 2646}, \"605\": {\"frequency\": 1, \"value\": 605}, \"2654\": {\"frequency\": 1, \"value\": 2654}, \"616\": {\"frequency\": 1, \"value\": 616}, \"2668\": {\"frequency\": 1, \"value\": 2668}, \"630\": {\"frequency\": 6, \"value\": 630}, \"2696\": {\"frequency\": 1, \"value\": 2696}, \"2704\": {\"frequency\": 1, \"value\": 2704}, \"2713\": {\"frequency\": 1, \"value\": 2713}, \"2715\": {\"frequency\": 1, \"value\": 2715}, \"672\": {\"frequency\": 2, \"value\": 672}, \"2727\": {\"frequency\": 1, \"value\": 2727}, \"2728\": {\"frequency\": 1, \"value\": 2728}, \"2730\": {\"frequency\": 1, \"value\": 2730}, \"691\": {\"frequency\": 1, \"value\": 691}, \"693\": {\"frequency\": 1, \"value\": 693}, \"694\": {\"frequency\": 1, \"value\": 694}, \"698\": {\"frequency\": 1, \"value\": 698}, \"708\": {\"frequency\": 1, \"value\": 708}, \"720\": {\"frequency\": 3, \"value\": 720}, \"2775\": {\"frequency\": 1, \"value\": 2775}, \"729\": {\"frequency\": 1, \"value\": 729}, \"1146\": {\"frequency\": 1, \"value\": 1146}, \"2784\": {\"frequency\": 1, \"value\": 2784}, \"2792\": {\"frequency\": 1, \"value\": 2792}, \"2794\": {\"frequency\": 1, \"value\": 2794}, \"747\": {\"frequency\": 2, \"value\": 747}, \"752\": {\"frequency\": 1, \"value\": 752}, \"754\": {\"frequency\": 1, \"value\": 754}, \"2810\": {\"frequency\": 1, \"value\": 2810}, \"764\": {\"frequency\": 1, \"value\": 764}, \"767\": {\"frequency\": 1, \"value\": 767}, \"768\": {\"frequency\": 3, \"value\": 768}, \"773\": {\"frequency\": 1, \"value\": 773}, \"2822\": {\"frequency\": 1, \"value\": 2822}, \"778\": {\"frequency\": 1, \"value\": 778}, \"780\": {\"frequency\": 1, \"value\": 780}, \"784\": {\"frequency\": 2, \"value\": 784}, \"788\": {\"frequency\": 1, \"value\": 788}, \"789\": {\"frequency\": 2, \"value\": 789}, \"790\": {\"frequency\": 1, \"value\": 790}, \"792\": {\"frequency\": 1, \"value\": 792}, \"796\": {\"frequency\": 2, \"value\": 796}, \"800\": {\"frequency\": 1, \"value\": 800}, \"803\": {\"frequency\": 1, \"value\": 803}, \"804\": {\"frequency\": 1, \"value\": 804}, \"813\": {\"frequency\": 1, \"value\": 813}, \"816\": {\"frequency\": 8, \"value\": 816}, \"2868\": {\"frequency\": 1, \"value\": 2868}, \"2872\": {\"frequency\": 2, \"value\": 2872}, \"825\": {\"frequency\": 1, \"value\": 825}, \"827\": {\"frequency\": 1, \"value\": 827}, \"832\": {\"frequency\": 1, \"value\": 832}, \"833\": {\"frequency\": 2, \"value\": 833}, \"835\": {\"frequency\": 1, \"value\": 835}, \"838\": {\"frequency\": 1, \"value\": 838}, \"840\": {\"frequency\": 1, \"value\": 840}, \"841\": {\"frequency\": 1, \"value\": 841}, \"845\": {\"frequency\": 2, \"value\": 845}, \"848\": {\"frequency\": 10, \"value\": 848}, \"2898\": {\"frequency\": 1, \"value\": 2898}, \"854\": {\"frequency\": 1, \"value\": 854}, \"858\": {\"frequency\": 4, \"value\": 858}, \"860\": {\"frequency\": 1, \"value\": 860}, \"861\": {\"frequency\": 1, \"value\": 861}, \"864\": {\"frequency\": 22, \"value\": 864}, \"866\": {\"frequency\": 1, \"value\": 866}, \"869\": {\"frequency\": 1, \"value\": 869}, \"872\": {\"frequency\": 1, \"value\": 872}, \"874\": {\"frequency\": 1, \"value\": 874}, \"875\": {\"frequency\": 1, \"value\": 875}, \"882\": {\"frequency\": 4, \"value\": 882}, \"884\": {\"frequency\": 1, \"value\": 884}, \"886\": {\"frequency\": 1, \"value\": 886}, \"892\": {\"frequency\": 2, \"value\": 892}, \"893\": {\"frequency\": 1, \"value\": 893}, \"894\": {\"frequency\": 11, \"value\": 894}, \"2945\": {\"frequency\": 1, \"value\": 2945}, \"899\": {\"frequency\": 1, \"value\": 899}, \"900\": {\"frequency\": 3, \"value\": 900}, \"901\": {\"frequency\": 1, \"value\": 901}, \"902\": {\"frequency\": 2, \"value\": 902}, \"904\": {\"frequency\": 3, \"value\": 904}, \"907\": {\"frequency\": 1, \"value\": 907}, \"910\": {\"frequency\": 1, \"value\": 910}, \"912\": {\"frequency\": 9, \"value\": 912}, \"913\": {\"frequency\": 1, \"value\": 913}, \"914\": {\"frequency\": 1, \"value\": 914}, \"918\": {\"frequency\": 1, \"value\": 918}, \"923\": {\"frequency\": 2, \"value\": 923}, \"924\": {\"frequency\": 3, \"value\": 924}, \"925\": {\"frequency\": 1, \"value\": 925}, \"928\": {\"frequency\": 2, \"value\": 928}, \"2978\": {\"frequency\": 1, \"value\": 2978}, \"932\": {\"frequency\": 1, \"value\": 932}, \"935\": {\"frequency\": 2, \"value\": 935}, \"936\": {\"frequency\": 3, \"value\": 936}, \"1180\": {\"frequency\": 1, \"value\": 1180}, \"938\": {\"frequency\": 1, \"value\": 938}, \"943\": {\"frequency\": 1, \"value\": 943}, \"944\": {\"frequency\": 1, \"value\": 944}, \"948\": {\"frequency\": 3, \"value\": 948}, \"950\": {\"frequency\": 1, \"value\": 950}, \"951\": {\"frequency\": 1, \"value\": 951}, \"952\": {\"frequency\": 3, \"value\": 952}, \"954\": {\"frequency\": 2, \"value\": 954}, \"955\": {\"frequency\": 1, \"value\": 955}, \"958\": {\"frequency\": 3, \"value\": 958}, \"960\": {\"frequency\": 5, \"value\": 960}, \"964\": {\"frequency\": 1, \"value\": 964}, \"965\": {\"frequency\": 1, \"value\": 965}, \"968\": {\"frequency\": 3, \"value\": 968}, \"969\": {\"frequency\": 1, \"value\": 969}, \"970\": {\"frequency\": 1, \"value\": 970}, \"971\": {\"frequency\": 1, \"value\": 971}, \"972\": {\"frequency\": 1, \"value\": 972}, \"974\": {\"frequency\": 1, \"value\": 974}, \"980\": {\"frequency\": 3, \"value\": 980}, \"981\": {\"frequency\": 1, \"value\": 981}, \"985\": {\"frequency\": 1, \"value\": 985}, \"986\": {\"frequency\": 1, \"value\": 986}, \"987\": {\"frequency\": 7, \"value\": 987}, \"988\": {\"frequency\": 5, \"value\": 988}, \"990\": {\"frequency\": 5, \"value\": 990}, \"996\": {\"frequency\": 2, \"value\": 996}, \"3238\": {\"frequency\": 1, \"value\": 3238}, \"999\": {\"frequency\": 3, \"value\": 999}, \"1002\": {\"frequency\": 1, \"value\": 1002}, \"1003\": {\"frequency\": 1, \"value\": 1003}, \"1004\": {\"frequency\": 2, \"value\": 1004}, \"1005\": {\"frequency\": 1, \"value\": 1005}, \"1006\": {\"frequency\": 1, \"value\": 1006}, \"1008\": {\"frequency\": 2, \"value\": 1008}, \"1012\": {\"frequency\": 1, \"value\": 1012}, \"1015\": {\"frequency\": 1, \"value\": 1015}, \"1020\": {\"frequency\": 1, \"value\": 1020}, \"1022\": {\"frequency\": 1, \"value\": 1022}, \"1026\": {\"frequency\": 2, \"value\": 1026}, \"1028\": {\"frequency\": 1, \"value\": 1028}, \"1029\": {\"frequency\": 1, \"value\": 1029}, \"1032\": {\"frequency\": 1, \"value\": 1032}, \"1034\": {\"frequency\": 2, \"value\": 1034}, \"3086\": {\"frequency\": 1, \"value\": 3086}, \"1039\": {\"frequency\": 1, \"value\": 1039}, \"1040\": {\"frequency\": 14, \"value\": 1040}, \"1041\": {\"frequency\": 1, \"value\": 1041}, \"1044\": {\"frequency\": 1, \"value\": 1044}, \"1047\": {\"frequency\": 1, \"value\": 1047}, \"1048\": {\"frequency\": 3, \"value\": 1048}, \"1050\": {\"frequency\": 2, \"value\": 1050}, \"1052\": {\"frequency\": 2, \"value\": 1052}, \"1053\": {\"frequency\": 2, \"value\": 1053}, \"1054\": {\"frequency\": 2, \"value\": 1054}, \"1056\": {\"frequency\": 6, \"value\": 1056}, \"1057\": {\"frequency\": 2, \"value\": 1057}, \"1060\": {\"frequency\": 2, \"value\": 1060}, \"1062\": {\"frequency\": 1, \"value\": 1062}, \"1063\": {\"frequency\": 1, \"value\": 1063}, \"3112\": {\"frequency\": 1, \"value\": 3112}, \"1065\": {\"frequency\": 1, \"value\": 1065}, \"1067\": {\"frequency\": 1, \"value\": 1067}, \"1068\": {\"frequency\": 1, \"value\": 1068}, \"1069\": {\"frequency\": 2, \"value\": 1069}, \"1072\": {\"frequency\": 3, \"value\": 1072}, \"1073\": {\"frequency\": 2, \"value\": 1073}, \"1074\": {\"frequency\": 1, \"value\": 1074}, \"1077\": {\"frequency\": 3, \"value\": 1077}, \"1078\": {\"frequency\": 2, \"value\": 1078}, \"1080\": {\"frequency\": 3, \"value\": 1080}, \"1082\": {\"frequency\": 1, \"value\": 1082}, \"1086\": {\"frequency\": 2, \"value\": 1086}, \"1088\": {\"frequency\": 1, \"value\": 1088}, \"1090\": {\"frequency\": 1, \"value\": 1090}, \"1092\": {\"frequency\": 8, \"value\": 1092}, \"1094\": {\"frequency\": 1, \"value\": 1094}, \"1095\": {\"frequency\": 1, \"value\": 1095}, \"1096\": {\"frequency\": 2, \"value\": 1096}, \"1097\": {\"frequency\": 2, \"value\": 1097}, \"1098\": {\"frequency\": 1, \"value\": 1098}, \"1099\": {\"frequency\": 1, \"value\": 1099}, \"1100\": {\"frequency\": 1, \"value\": 1100}, \"1102\": {\"frequency\": 1, \"value\": 1102}, \"1103\": {\"frequency\": 1, \"value\": 1103}, \"1108\": {\"frequency\": 1, \"value\": 1108}, \"1109\": {\"frequency\": 1, \"value\": 1109}, \"1110\": {\"frequency\": 1, \"value\": 1110}, \"1111\": {\"frequency\": 3, \"value\": 1111}, \"1112\": {\"frequency\": 1, \"value\": 1112}, \"1113\": {\"frequency\": 2, \"value\": 1113}, \"1114\": {\"frequency\": 2, \"value\": 1114}, \"1116\": {\"frequency\": 1, \"value\": 1116}, \"1117\": {\"frequency\": 1, \"value\": 1117}, \"1118\": {\"frequency\": 3, \"value\": 1118}, \"1120\": {\"frequency\": 2, \"value\": 1120}, \"1121\": {\"frequency\": 2, \"value\": 1121}, \"1122\": {\"frequency\": 1, \"value\": 1122}, \"1123\": {\"frequency\": 1, \"value\": 1123}, \"1124\": {\"frequency\": 1, \"value\": 1124}, \"1125\": {\"frequency\": 2, \"value\": 1125}, \"1126\": {\"frequency\": 3, \"value\": 1126}, \"1128\": {\"frequency\": 3, \"value\": 1128}, \"1130\": {\"frequency\": 1, \"value\": 1130}, \"1131\": {\"frequency\": 2, \"value\": 1131}, \"1132\": {\"frequency\": 1, \"value\": 1132}, \"1134\": {\"frequency\": 2, \"value\": 1134}, \"1135\": {\"frequency\": 1, \"value\": 1135}, \"1136\": {\"frequency\": 1, \"value\": 1136}, \"1137\": {\"frequency\": 1, \"value\": 1137}, \"1138\": {\"frequency\": 1, \"value\": 1138}, \"1140\": {\"frequency\": 2, \"value\": 1140}, \"1141\": {\"frequency\": 1, \"value\": 1141}, \"1142\": {\"frequency\": 1, \"value\": 1142}, \"1144\": {\"frequency\": 5, \"value\": 1144}, \"1145\": {\"frequency\": 1, \"value\": 1145}, \"3194\": {\"frequency\": 1, \"value\": 3194}, \"1148\": {\"frequency\": 2, \"value\": 1148}, \"1150\": {\"frequency\": 1, \"value\": 1150}, \"1152\": {\"frequency\": 3, \"value\": 1152}, \"1154\": {\"frequency\": 2, \"value\": 1154}, \"1155\": {\"frequency\": 1, \"value\": 1155}, \"1158\": {\"frequency\": 2, \"value\": 1158}, \"1159\": {\"frequency\": 1, \"value\": 1159}, \"1163\": {\"frequency\": 1, \"value\": 1163}, \"1164\": {\"frequency\": 2, \"value\": 1164}, \"1165\": {\"frequency\": 1, \"value\": 1165}, \"1166\": {\"frequency\": 1, \"value\": 1166}, \"1167\": {\"frequency\": 2, \"value\": 1167}, \"3608\": {\"frequency\": 1, \"value\": 3608}, \"1173\": {\"frequency\": 1, \"value\": 1173}, \"3222\": {\"frequency\": 1, \"value\": 3222}, \"1176\": {\"frequency\": 2, \"value\": 1176}, \"1178\": {\"frequency\": 2, \"value\": 1178}, \"3228\": {\"frequency\": 1, \"value\": 3228}, \"1181\": {\"frequency\": 1, \"value\": 1181}, \"1183\": {\"frequency\": 1, \"value\": 1183}, \"1184\": {\"frequency\": 1, \"value\": 1184}, \"1188\": {\"frequency\": 2, \"value\": 1188}, \"1190\": {\"frequency\": 1, \"value\": 1190}, \"1192\": {\"frequency\": 2, \"value\": 1192}, \"1194\": {\"frequency\": 2, \"value\": 1194}, \"1196\": {\"frequency\": 3, \"value\": 1196}, \"1198\": {\"frequency\": 1, \"value\": 1198}, \"1199\": {\"frequency\": 1, \"value\": 1199}, \"1200\": {\"frequency\": 9, \"value\": 1200}, \"1203\": {\"frequency\": 1, \"value\": 1203}, \"1204\": {\"frequency\": 1, \"value\": 1204}, \"1208\": {\"frequency\": 4, \"value\": 1208}, \"1211\": {\"frequency\": 1, \"value\": 1211}, \"1212\": {\"frequency\": 3, \"value\": 1212}, \"1214\": {\"frequency\": 3, \"value\": 1214}, \"1215\": {\"frequency\": 1, \"value\": 1215}, \"1216\": {\"frequency\": 2, \"value\": 1216}, \"1217\": {\"frequency\": 2, \"value\": 1217}, \"1218\": {\"frequency\": 5, \"value\": 1218}, \"1220\": {\"frequency\": 2, \"value\": 1220}, \"1221\": {\"frequency\": 2, \"value\": 1221}, \"1223\": {\"frequency\": 1, \"value\": 1223}, \"1224\": {\"frequency\": 6, \"value\": 1224}, \"1225\": {\"frequency\": 1, \"value\": 1225}, \"1226\": {\"frequency\": 1, \"value\": 1226}, \"1228\": {\"frequency\": 2, \"value\": 1228}, \"1229\": {\"frequency\": 2, \"value\": 1229}, \"1230\": {\"frequency\": 2, \"value\": 1230}, \"3279\": {\"frequency\": 1, \"value\": 3279}, \"1232\": {\"frequency\": 2, \"value\": 1232}, \"1234\": {\"frequency\": 1, \"value\": 1234}, \"1235\": {\"frequency\": 1, \"value\": 1235}, \"1236\": {\"frequency\": 3, \"value\": 1236}, \"1240\": {\"frequency\": 1, \"value\": 1240}, \"1241\": {\"frequency\": 1, \"value\": 1241}, \"1242\": {\"frequency\": 1, \"value\": 1242}, \"1244\": {\"frequency\": 1, \"value\": 1244}, \"1246\": {\"frequency\": 1, \"value\": 1246}, \"1247\": {\"frequency\": 1, \"value\": 1247}, \"1248\": {\"frequency\": 2, \"value\": 1248}, \"1250\": {\"frequency\": 4, \"value\": 1250}, \"1251\": {\"frequency\": 1, \"value\": 1251}, \"1252\": {\"frequency\": 5, \"value\": 1252}, \"1253\": {\"frequency\": 2, \"value\": 1253}, \"1256\": {\"frequency\": 1, \"value\": 1256}, \"1258\": {\"frequency\": 4, \"value\": 1258}, \"1261\": {\"frequency\": 1, \"value\": 1261}, \"1262\": {\"frequency\": 2, \"value\": 1262}, \"1264\": {\"frequency\": 1, \"value\": 1264}, \"1265\": {\"frequency\": 1, \"value\": 1265}, \"1266\": {\"frequency\": 2, \"value\": 1266}, \"1268\": {\"frequency\": 3, \"value\": 1268}, \"1269\": {\"frequency\": 2, \"value\": 1269}, \"1271\": {\"frequency\": 1, \"value\": 1271}, \"1274\": {\"frequency\": 1, \"value\": 1274}, \"1276\": {\"frequency\": 1, \"value\": 1276}, \"1277\": {\"frequency\": 1, \"value\": 1277}, \"1279\": {\"frequency\": 1, \"value\": 1279}, \"1283\": {\"frequency\": 1, \"value\": 1283}, \"1284\": {\"frequency\": 1, \"value\": 1284}, \"1285\": {\"frequency\": 2, \"value\": 1285}, \"1287\": {\"frequency\": 1, \"value\": 1287}, \"1288\": {\"frequency\": 1, \"value\": 1288}, \"1291\": {\"frequency\": 1, \"value\": 1291}, \"1294\": {\"frequency\": 3, \"value\": 1294}, \"1296\": {\"frequency\": 2, \"value\": 1296}, \"1297\": {\"frequency\": 1, \"value\": 1297}, \"1298\": {\"frequency\": 1, \"value\": 1298}, \"1301\": {\"frequency\": 2, \"value\": 1301}, \"1302\": {\"frequency\": 5, \"value\": 1302}, \"1304\": {\"frequency\": 1, \"value\": 1304}, \"1306\": {\"frequency\": 3, \"value\": 1306}, \"1308\": {\"frequency\": 1, \"value\": 1308}, \"1309\": {\"frequency\": 1, \"value\": 1309}, \"1310\": {\"frequency\": 2, \"value\": 1310}, \"1314\": {\"frequency\": 5, \"value\": 1314}, \"1316\": {\"frequency\": 3, \"value\": 1316}, \"1317\": {\"frequency\": 1, \"value\": 1317}, \"1319\": {\"frequency\": 1, \"value\": 1319}, \"1320\": {\"frequency\": 2, \"value\": 1320}, \"1322\": {\"frequency\": 1, \"value\": 1322}, \"1324\": {\"frequency\": 3, \"value\": 1324}, \"1327\": {\"frequency\": 1, \"value\": 1327}, \"1328\": {\"frequency\": 3, \"value\": 1328}, \"1334\": {\"frequency\": 1, \"value\": 1334}, \"1336\": {\"frequency\": 2, \"value\": 1336}, \"1337\": {\"frequency\": 4, \"value\": 1337}, \"1338\": {\"frequency\": 1, \"value\": 1338}, \"1339\": {\"frequency\": 2, \"value\": 1339}, \"1340\": {\"frequency\": 2, \"value\": 1340}, \"1342\": {\"frequency\": 1, \"value\": 1342}, \"1343\": {\"frequency\": 1, \"value\": 1343}, \"1344\": {\"frequency\": 7, \"value\": 1344}, \"1346\": {\"frequency\": 1, \"value\": 1346}, \"1347\": {\"frequency\": 1, \"value\": 1347}, \"1348\": {\"frequency\": 2, \"value\": 1348}, \"1349\": {\"frequency\": 1, \"value\": 1349}, \"1350\": {\"frequency\": 2, \"value\": 1350}, \"1352\": {\"frequency\": 3, \"value\": 1352}, \"1355\": {\"frequency\": 2, \"value\": 1355}, \"1357\": {\"frequency\": 1, \"value\": 1357}, \"1358\": {\"frequency\": 2, \"value\": 1358}, \"1360\": {\"frequency\": 3, \"value\": 1360}, \"1362\": {\"frequency\": 4, \"value\": 1362}, \"1363\": {\"frequency\": 3, \"value\": 1363}, \"1364\": {\"frequency\": 1, \"value\": 1364}, \"1365\": {\"frequency\": 2, \"value\": 1365}, \"1367\": {\"frequency\": 2, \"value\": 1367}, \"1368\": {\"frequency\": 3, \"value\": 1368}, \"1369\": {\"frequency\": 1, \"value\": 1369}, \"1370\": {\"frequency\": 2, \"value\": 1370}, \"1372\": {\"frequency\": 1, \"value\": 1372}, \"1374\": {\"frequency\": 1, \"value\": 1374}, \"1375\": {\"frequency\": 2, \"value\": 1375}, \"1376\": {\"frequency\": 2, \"value\": 1376}, \"1378\": {\"frequency\": 1, \"value\": 1378}, \"1381\": {\"frequency\": 1, \"value\": 1381}, \"1382\": {\"frequency\": 4, \"value\": 1382}, \"1383\": {\"frequency\": 2, \"value\": 1383}, \"1385\": {\"frequency\": 1, \"value\": 1385}, \"1386\": {\"frequency\": 1, \"value\": 1386}, \"1387\": {\"frequency\": 1, \"value\": 1387}, \"1389\": {\"frequency\": 2, \"value\": 1389}, \"1391\": {\"frequency\": 1, \"value\": 1391}, \"1392\": {\"frequency\": 5, \"value\": 1392}, \"1393\": {\"frequency\": 1, \"value\": 1393}, \"1394\": {\"frequency\": 2, \"value\": 1394}, \"1395\": {\"frequency\": 1, \"value\": 1395}, \"1396\": {\"frequency\": 1, \"value\": 1396}, \"3447\": {\"frequency\": 1, \"value\": 3447}, \"1400\": {\"frequency\": 1, \"value\": 1400}, \"1402\": {\"frequency\": 1, \"value\": 1402}, \"1405\": {\"frequency\": 1, \"value\": 1405}, \"1406\": {\"frequency\": 1, \"value\": 1406}, \"1411\": {\"frequency\": 1, \"value\": 1411}, \"1412\": {\"frequency\": 3, \"value\": 1412}, \"1414\": {\"frequency\": 4, \"value\": 1414}, \"1416\": {\"frequency\": 4, \"value\": 1416}, \"1419\": {\"frequency\": 2, \"value\": 1419}, \"1422\": {\"frequency\": 3, \"value\": 1422}, \"1425\": {\"frequency\": 1, \"value\": 1425}, \"1426\": {\"frequency\": 2, \"value\": 1426}, \"1428\": {\"frequency\": 2, \"value\": 1428}, \"1429\": {\"frequency\": 1, \"value\": 1429}, \"1430\": {\"frequency\": 3, \"value\": 1430}, \"1431\": {\"frequency\": 2, \"value\": 1431}, \"1432\": {\"frequency\": 3, \"value\": 1432}, \"1434\": {\"frequency\": 1, \"value\": 1434}, \"1436\": {\"frequency\": 1, \"value\": 1436}, \"1437\": {\"frequency\": 2, \"value\": 1437}, \"1440\": {\"frequency\": 4, \"value\": 1440}, \"1441\": {\"frequency\": 2, \"value\": 1441}, \"1442\": {\"frequency\": 4, \"value\": 1442}, \"3493\": {\"frequency\": 1, \"value\": 3493}, \"1446\": {\"frequency\": 1, \"value\": 1446}, \"1452\": {\"frequency\": 2, \"value\": 1452}, \"1453\": {\"frequency\": 1, \"value\": 1453}, \"1456\": {\"frequency\": 10, \"value\": 1456}, \"1458\": {\"frequency\": 2, \"value\": 1458}, \"1459\": {\"frequency\": 1, \"value\": 1459}, \"2633\": {\"frequency\": 1, \"value\": 2633}, \"1464\": {\"frequency\": 2, \"value\": 1464}, \"1466\": {\"frequency\": 3, \"value\": 1466}, \"1468\": {\"frequency\": 1, \"value\": 1468}, \"1469\": {\"frequency\": 1, \"value\": 1469}, \"1470\": {\"frequency\": 3, \"value\": 1470}, \"1471\": {\"frequency\": 1, \"value\": 1471}, \"1472\": {\"frequency\": 3, \"value\": 1472}, \"1473\": {\"frequency\": 1, \"value\": 1473}, \"1474\": {\"frequency\": 1, \"value\": 1474}, \"1475\": {\"frequency\": 1, \"value\": 1475}, \"1476\": {\"frequency\": 1, \"value\": 1476}, \"1477\": {\"frequency\": 1, \"value\": 1477}, \"1478\": {\"frequency\": 3, \"value\": 1478}, \"1479\": {\"frequency\": 4, \"value\": 1479}, \"1481\": {\"frequency\": 1, \"value\": 1481}, \"1482\": {\"frequency\": 3, \"value\": 1482}, \"1484\": {\"frequency\": 6, \"value\": 1484}, \"930\": {\"frequency\": 1, \"value\": 930}, \"1486\": {\"frequency\": 1, \"value\": 1486}, \"1487\": {\"frequency\": 1, \"value\": 1487}, \"1489\": {\"frequency\": 3, \"value\": 1489}, \"1490\": {\"frequency\": 1, \"value\": 1490}, \"1493\": {\"frequency\": 1, \"value\": 1493}, \"1494\": {\"frequency\": 6, \"value\": 1494}, \"1496\": {\"frequency\": 2, \"value\": 1496}, \"1498\": {\"frequency\": 2, \"value\": 1498}, \"1500\": {\"frequency\": 3, \"value\": 1500}, \"1501\": {\"frequency\": 3, \"value\": 1501}, \"1502\": {\"frequency\": 4, \"value\": 1502}, \"1504\": {\"frequency\": 3, \"value\": 1504}, \"1505\": {\"frequency\": 2, \"value\": 1505}, \"1506\": {\"frequency\": 2, \"value\": 1506}, \"1507\": {\"frequency\": 1, \"value\": 1507}, \"1509\": {\"frequency\": 3, \"value\": 1509}, \"1510\": {\"frequency\": 1, \"value\": 1510}, \"1511\": {\"frequency\": 1, \"value\": 1511}, \"1512\": {\"frequency\": 1, \"value\": 1512}, \"1513\": {\"frequency\": 1, \"value\": 1513}, \"1516\": {\"frequency\": 1, \"value\": 1516}, \"1517\": {\"frequency\": 2, \"value\": 1517}, \"1518\": {\"frequency\": 1, \"value\": 1518}, \"1520\": {\"frequency\": 2, \"value\": 1520}, \"1522\": {\"frequency\": 1, \"value\": 1522}, \"1523\": {\"frequency\": 1, \"value\": 1523}, \"1524\": {\"frequency\": 2, \"value\": 1524}, \"1525\": {\"frequency\": 2, \"value\": 1525}, \"1526\": {\"frequency\": 2, \"value\": 1526}, \"1529\": {\"frequency\": 1, \"value\": 1529}, \"1530\": {\"frequency\": 2, \"value\": 1530}, \"1533\": {\"frequency\": 1, \"value\": 1533}, \"1535\": {\"frequency\": 3, \"value\": 1535}, \"1536\": {\"frequency\": 1, \"value\": 1536}, \"1537\": {\"frequency\": 1, \"value\": 1537}, \"1539\": {\"frequency\": 2, \"value\": 1539}, \"1541\": {\"frequency\": 2, \"value\": 1541}, \"5642\": {\"frequency\": 1, \"value\": 5642}, \"1547\": {\"frequency\": 1, \"value\": 1547}, \"1548\": {\"frequency\": 2, \"value\": 1548}, \"1550\": {\"frequency\": 1, \"value\": 1550}, \"1552\": {\"frequency\": 2, \"value\": 1552}, \"1553\": {\"frequency\": 1, \"value\": 1553}, \"1554\": {\"frequency\": 1, \"value\": 1554}, \"1555\": {\"frequency\": 2, \"value\": 1555}, \"1556\": {\"frequency\": 2, \"value\": 1556}, \"1557\": {\"frequency\": 1, \"value\": 1557}, \"1558\": {\"frequency\": 2, \"value\": 1558}, \"1559\": {\"frequency\": 1, \"value\": 1559}, \"1560\": {\"frequency\": 2, \"value\": 1560}, \"1561\": {\"frequency\": 1, \"value\": 1561}, \"1563\": {\"frequency\": 1, \"value\": 1563}, \"1564\": {\"frequency\": 2, \"value\": 1564}, \"1566\": {\"frequency\": 1, \"value\": 1566}, \"1567\": {\"frequency\": 2, \"value\": 1567}, \"1569\": {\"frequency\": 1, \"value\": 1569}, \"1571\": {\"frequency\": 2, \"value\": 1571}, \"1572\": {\"frequency\": 2, \"value\": 1572}, \"1573\": {\"frequency\": 4, \"value\": 1573}, \"1574\": {\"frequency\": 2, \"value\": 1574}, \"1575\": {\"frequency\": 1, \"value\": 1575}, \"1576\": {\"frequency\": 3, \"value\": 1576}, \"1577\": {\"frequency\": 1, \"value\": 1577}, \"1578\": {\"frequency\": 2, \"value\": 1578}, \"3627\": {\"frequency\": 1, \"value\": 3627}, \"1580\": {\"frequency\": 1, \"value\": 1580}, \"1582\": {\"frequency\": 2, \"value\": 1582}, \"1584\": {\"frequency\": 1, \"value\": 1584}, \"1586\": {\"frequency\": 1, \"value\": 1586}, \"1588\": {\"frequency\": 3, \"value\": 1588}, \"1590\": {\"frequency\": 1, \"value\": 1590}, \"1593\": {\"frequency\": 3, \"value\": 1593}, \"1595\": {\"frequency\": 1, \"value\": 1595}, \"1600\": {\"frequency\": 3, \"value\": 1600}, \"1601\": {\"frequency\": 3, \"value\": 1601}, \"1602\": {\"frequency\": 1, \"value\": 1602}, \"1603\": {\"frequency\": 1, \"value\": 1603}, \"1604\": {\"frequency\": 3, \"value\": 1604}, \"1605\": {\"frequency\": 1, \"value\": 1605}, \"1608\": {\"frequency\": 1, \"value\": 1608}, \"1610\": {\"frequency\": 1, \"value\": 1610}, \"1611\": {\"frequency\": 1, \"value\": 1611}, \"1614\": {\"frequency\": 1, \"value\": 1614}, \"1616\": {\"frequency\": 3, \"value\": 1616}, \"1617\": {\"frequency\": 1, \"value\": 1617}, \"1620\": {\"frequency\": 3, \"value\": 1620}, \"1621\": {\"frequency\": 1, \"value\": 1621}, \"1622\": {\"frequency\": 1, \"value\": 1622}, \"1624\": {\"frequency\": 1, \"value\": 1624}, \"1625\": {\"frequency\": 1, \"value\": 1625}, \"1626\": {\"frequency\": 3, \"value\": 1626}, \"1629\": {\"frequency\": 2, \"value\": 1629}, \"1630\": {\"frequency\": 2, \"value\": 1630}, \"1632\": {\"frequency\": 4, \"value\": 1632}, \"1634\": {\"frequency\": 1, \"value\": 1634}, \"1635\": {\"frequency\": 2, \"value\": 1635}, \"1636\": {\"frequency\": 1, \"value\": 1636}, \"1638\": {\"frequency\": 1, \"value\": 1638}, \"1639\": {\"frequency\": 1, \"value\": 1639}, \"1640\": {\"frequency\": 3, \"value\": 1640}, \"1641\": {\"frequency\": 1, \"value\": 1641}, \"1644\": {\"frequency\": 3, \"value\": 1644}, \"1646\": {\"frequency\": 4, \"value\": 1646}, \"1647\": {\"frequency\": 3, \"value\": 1647}, \"1651\": {\"frequency\": 1, \"value\": 1651}, \"1652\": {\"frequency\": 4, \"value\": 1652}, \"1654\": {\"frequency\": 1, \"value\": 1654}, \"1656\": {\"frequency\": 5, \"value\": 1656}, \"1657\": {\"frequency\": 1, \"value\": 1657}, \"1658\": {\"frequency\": 1, \"value\": 1658}, \"1659\": {\"frequency\": 1, \"value\": 1659}, \"1660\": {\"frequency\": 3, \"value\": 1660}, \"1661\": {\"frequency\": 3, \"value\": 1661}, \"1663\": {\"frequency\": 1, \"value\": 1663}, \"1664\": {\"frequency\": 4, \"value\": 1664}, \"1665\": {\"frequency\": 2, \"value\": 1665}, \"1666\": {\"frequency\": 1, \"value\": 1666}, \"1668\": {\"frequency\": 4, \"value\": 1668}, \"1670\": {\"frequency\": 1, \"value\": 1670}, \"1671\": {\"frequency\": 1, \"value\": 1671}, \"1674\": {\"frequency\": 2, \"value\": 1674}, \"1675\": {\"frequency\": 1, \"value\": 1675}, \"1679\": {\"frequency\": 1, \"value\": 1679}, \"1680\": {\"frequency\": 4, \"value\": 1680}, \"1682\": {\"frequency\": 2, \"value\": 1682}, \"1683\": {\"frequency\": 1, \"value\": 1683}, \"1684\": {\"frequency\": 1, \"value\": 1684}, \"1686\": {\"frequency\": 1, \"value\": 1686}, \"1687\": {\"frequency\": 1, \"value\": 1687}, \"1688\": {\"frequency\": 1, \"value\": 1688}, \"1689\": {\"frequency\": 3, \"value\": 1689}, \"1690\": {\"frequency\": 2, \"value\": 1690}, \"1691\": {\"frequency\": 1, \"value\": 1691}, \"1692\": {\"frequency\": 1, \"value\": 1692}, \"1694\": {\"frequency\": 4, \"value\": 1694}, \"1696\": {\"frequency\": 1, \"value\": 1696}, \"1698\": {\"frequency\": 1, \"value\": 1698}, \"1699\": {\"frequency\": 1, \"value\": 1699}, \"1700\": {\"frequency\": 2, \"value\": 1700}, \"1701\": {\"frequency\": 1, \"value\": 1701}, \"1702\": {\"frequency\": 1, \"value\": 1702}, \"1704\": {\"frequency\": 1, \"value\": 1704}, \"1707\": {\"frequency\": 1, \"value\": 1707}, \"1708\": {\"frequency\": 1, \"value\": 1708}, \"1709\": {\"frequency\": 4, \"value\": 1709}, \"1710\": {\"frequency\": 5, \"value\": 1710}, \"1712\": {\"frequency\": 1, \"value\": 1712}, \"1713\": {\"frequency\": 1, \"value\": 1713}, \"1714\": {\"frequency\": 1, \"value\": 1714}, \"1716\": {\"frequency\": 4, \"value\": 1716}, \"1717\": {\"frequency\": 3, \"value\": 1717}, \"1718\": {\"frequency\": 3, \"value\": 1718}, \"1719\": {\"frequency\": 1, \"value\": 1719}, \"1720\": {\"frequency\": 3, \"value\": 1720}, \"1721\": {\"frequency\": 2, \"value\": 1721}, \"1724\": {\"frequency\": 2, \"value\": 1724}, \"1725\": {\"frequency\": 1, \"value\": 1725}, \"1726\": {\"frequency\": 1, \"value\": 1726}, \"1728\": {\"frequency\": 7, \"value\": 1728}, \"1732\": {\"frequency\": 1, \"value\": 1732}, \"1733\": {\"frequency\": 2, \"value\": 1733}, \"1734\": {\"frequency\": 4, \"value\": 1734}, \"1738\": {\"frequency\": 1, \"value\": 1738}, \"1739\": {\"frequency\": 1, \"value\": 1739}, \"1740\": {\"frequency\": 1, \"value\": 1740}, \"1742\": {\"frequency\": 2, \"value\": 1742}, \"1743\": {\"frequency\": 1, \"value\": 1743}, \"1744\": {\"frequency\": 1, \"value\": 1744}, \"1746\": {\"frequency\": 1, \"value\": 1746}, \"1750\": {\"frequency\": 2, \"value\": 1750}, \"1752\": {\"frequency\": 2, \"value\": 1752}, \"1756\": {\"frequency\": 1, \"value\": 1756}, \"1761\": {\"frequency\": 1, \"value\": 1761}, \"1762\": {\"frequency\": 1, \"value\": 1762}, \"1764\": {\"frequency\": 1, \"value\": 1764}, \"1766\": {\"frequency\": 1, \"value\": 1766}, \"1767\": {\"frequency\": 1, \"value\": 1767}, \"1768\": {\"frequency\": 6, \"value\": 1768}, \"1771\": {\"frequency\": 1, \"value\": 1771}, \"1774\": {\"frequency\": 2, \"value\": 1774}, \"1775\": {\"frequency\": 1, \"value\": 1775}, \"1776\": {\"frequency\": 3, \"value\": 1776}, \"1779\": {\"frequency\": 2, \"value\": 1779}, \"1784\": {\"frequency\": 1, \"value\": 1784}, \"1786\": {\"frequency\": 3, \"value\": 1786}, \"1787\": {\"frequency\": 1, \"value\": 1787}, \"1788\": {\"frequency\": 2, \"value\": 1788}, \"1790\": {\"frequency\": 2, \"value\": 1790}, \"1792\": {\"frequency\": 4, \"value\": 1792}, \"1795\": {\"frequency\": 3, \"value\": 1795}, \"1796\": {\"frequency\": 2, \"value\": 1796}, \"1797\": {\"frequency\": 1, \"value\": 1797}, \"1800\": {\"frequency\": 4, \"value\": 1800}, \"1801\": {\"frequency\": 2, \"value\": 1801}, \"1802\": {\"frequency\": 1, \"value\": 1802}, \"1803\": {\"frequency\": 1, \"value\": 1803}, \"1804\": {\"frequency\": 1, \"value\": 1804}, \"1811\": {\"frequency\": 1, \"value\": 1811}, \"1812\": {\"frequency\": 2, \"value\": 1812}, \"1818\": {\"frequency\": 1, \"value\": 1818}, \"1820\": {\"frequency\": 2, \"value\": 1820}, \"1824\": {\"frequency\": 3, \"value\": 1824}, \"1826\": {\"frequency\": 2, \"value\": 1826}, \"1828\": {\"frequency\": 1, \"value\": 1828}, \"1829\": {\"frequency\": 1, \"value\": 1829}, \"1836\": {\"frequency\": 2, \"value\": 1836}, \"1838\": {\"frequency\": 2, \"value\": 1838}, \"1839\": {\"frequency\": 3, \"value\": 1839}, \"1840\": {\"frequency\": 1, \"value\": 1840}, \"1842\": {\"frequency\": 1, \"value\": 1842}, \"1844\": {\"frequency\": 3, \"value\": 1844}, \"1845\": {\"frequency\": 1, \"value\": 1845}, \"1846\": {\"frequency\": 1, \"value\": 1846}, \"1848\": {\"frequency\": 1, \"value\": 1848}, \"1850\": {\"frequency\": 2, \"value\": 1850}, \"1851\": {\"frequency\": 1, \"value\": 1851}, \"1852\": {\"frequency\": 2, \"value\": 1852}, \"1855\": {\"frequency\": 2, \"value\": 1855}, \"1856\": {\"frequency\": 1, \"value\": 1856}, \"1861\": {\"frequency\": 1, \"value\": 1861}, \"1863\": {\"frequency\": 1, \"value\": 1863}, \"1865\": {\"frequency\": 1, \"value\": 1865}, \"1867\": {\"frequency\": 1, \"value\": 1867}, \"1868\": {\"frequency\": 2, \"value\": 1868}, \"1869\": {\"frequency\": 2, \"value\": 1869}, \"1872\": {\"frequency\": 2, \"value\": 1872}, \"1876\": {\"frequency\": 1, \"value\": 1876}, \"1886\": {\"frequency\": 1, \"value\": 1886}, \"1888\": {\"frequency\": 1, \"value\": 1888}, \"1889\": {\"frequency\": 1, \"value\": 1889}, \"1894\": {\"frequency\": 1, \"value\": 1894}, \"1895\": {\"frequency\": 1, \"value\": 1895}, \"1902\": {\"frequency\": 2, \"value\": 1902}, \"1904\": {\"frequency\": 2, \"value\": 1904}, \"1905\": {\"frequency\": 1, \"value\": 1905}, \"1908\": {\"frequency\": 2, \"value\": 1908}, \"3395\": {\"frequency\": 1, \"value\": 3395}, \"1911\": {\"frequency\": 1, \"value\": 1911}, \"1912\": {\"frequency\": 1, \"value\": 1912}, \"1913\": {\"frequency\": 1, \"value\": 1913}, \"1915\": {\"frequency\": 1, \"value\": 1915}, \"1919\": {\"frequency\": 1, \"value\": 1919}, \"1920\": {\"frequency\": 3, \"value\": 1920}, \"1922\": {\"frequency\": 2, \"value\": 1922}, \"1923\": {\"frequency\": 1, \"value\": 1923}, \"1924\": {\"frequency\": 1, \"value\": 1924}, \"1928\": {\"frequency\": 3, \"value\": 1928}, \"1929\": {\"frequency\": 1, \"value\": 1929}, \"1932\": {\"frequency\": 1, \"value\": 1932}, \"1933\": {\"frequency\": 1, \"value\": 1933}, \"1935\": {\"frequency\": 2, \"value\": 1935}, \"1936\": {\"frequency\": 1, \"value\": 1936}, \"1939\": {\"frequency\": 1, \"value\": 1939}, \"1940\": {\"frequency\": 1, \"value\": 1940}, \"1944\": {\"frequency\": 1, \"value\": 1944}, \"1947\": {\"frequency\": 1, \"value\": 1947}, \"1948\": {\"frequency\": 1, \"value\": 1948}, \"1949\": {\"frequency\": 1, \"value\": 1949}, \"1950\": {\"frequency\": 1, \"value\": 1950}, \"1953\": {\"frequency\": 2, \"value\": 1953}, \"1954\": {\"frequency\": 1, \"value\": 1954}, \"1958\": {\"frequency\": 2, \"value\": 1958}, \"1959\": {\"frequency\": 3, \"value\": 1959}, \"1960\": {\"frequency\": 2, \"value\": 1960}, \"1961\": {\"frequency\": 1, \"value\": 1961}, \"1962\": {\"frequency\": 1, \"value\": 1962}, \"1964\": {\"frequency\": 2, \"value\": 1964}, \"1968\": {\"frequency\": 2, \"value\": 1968}, \"1969\": {\"frequency\": 1, \"value\": 1969}, \"1970\": {\"frequency\": 1, \"value\": 1970}, \"1971\": {\"frequency\": 1, \"value\": 1971}, \"1973\": {\"frequency\": 1, \"value\": 1973}, \"1976\": {\"frequency\": 1, \"value\": 1976}, \"1977\": {\"frequency\": 1, \"value\": 1977}, \"1978\": {\"frequency\": 1, \"value\": 1978}, \"1980\": {\"frequency\": 1, \"value\": 1980}, \"1981\": {\"frequency\": 1, \"value\": 1981}, \"1982\": {\"frequency\": 1, \"value\": 1982}, \"1983\": {\"frequency\": 1, \"value\": 1983}, \"1986\": {\"frequency\": 1, \"value\": 1986}, \"1987\": {\"frequency\": 1, \"value\": 1987}, \"1989\": {\"frequency\": 1, \"value\": 1989}, \"1991\": {\"frequency\": 1, \"value\": 1991}, \"1992\": {\"frequency\": 1, \"value\": 1992}, \"1993\": {\"frequency\": 1, \"value\": 1993}, \"2000\": {\"frequency\": 1, \"value\": 2000}, \"2002\": {\"frequency\": 1, \"value\": 2002}, \"2007\": {\"frequency\": 1, \"value\": 2007}, \"2008\": {\"frequency\": 1, \"value\": 2008}, \"2013\": {\"frequency\": 1, \"value\": 2013}, \"2018\": {\"frequency\": 1, \"value\": 2018}, \"2019\": {\"frequency\": 1, \"value\": 2019}, \"2020\": {\"frequency\": 3, \"value\": 2020}, \"2021\": {\"frequency\": 1, \"value\": 2021}, \"2022\": {\"frequency\": 1, \"value\": 2022}, \"2028\": {\"frequency\": 1, \"value\": 2028}, \"2030\": {\"frequency\": 1, \"value\": 2030}, \"2031\": {\"frequency\": 2, \"value\": 2031}, \"2034\": {\"frequency\": 1, \"value\": 2034}, \"2035\": {\"frequency\": 1, \"value\": 2035}, \"2036\": {\"frequency\": 1, \"value\": 2036}, \"2042\": {\"frequency\": 1, \"value\": 2042}, \"2046\": {\"frequency\": 2, \"value\": 2046}}, \"mean\": 1515.463698630137}}, \"selected_variable\": {\"name\": [\"<SFrame>\"], \"descriptives\": {\"rows\": 1460, \"columns\": 6}, \"view_component\": \"Summary\", \"view_file\": \"sframe\", \"view_params\": {\"y\": null, \"x\": null, \"columns\": [\"MSSubClass\", \"LotArea\", \"Neighborhood\", \"GrLivArea\", \"FullBath\", \"TotRmsAbvGrd\"], \"view\": null}, \"view_components\": [\"Summary\", \"Table\", \"Bar Chart\", \"BoxWhisker Plot\", \"Line Chart\", \"Scatter Plot\", \"Heat Map\", \"Plots\"], \"type\": \"SFrame\", \"columns\": [{\"dtype\": \"int\", \"name\": \"MSSubClass\"}, {\"dtype\": \"int\", \"name\": \"LotArea\"}, {\"dtype\": \"str\", \"name\": \"Neighborhood\"}, {\"dtype\": \"int\", \"name\": \"GrLivArea\"}, {\"dtype\": \"int\", \"name\": \"FullBath\"}, {\"dtype\": \"int\", \"name\": \"TotRmsAbvGrd\"}], \"column_identifiers\": [\"Neighborhood\", \"FullBath\", \"MSSubClass\", \"LotArea\", \"TotRmsAbvGrd\", \"GrLivArea\"]}, \"columns\": [{\"dtype\": \"int\", \"name\": \"MSSubClass\"}, {\"dtype\": \"int\", \"name\": \"LotArea\"}, {\"dtype\": \"str\", \"name\": \"Neighborhood\"}, {\"dtype\": \"int\", \"name\": \"GrLivArea\"}, {\"dtype\": \"int\", \"name\": \"FullBath\"}, {\"dtype\": \"int\", \"name\": \"TotRmsAbvGrd\"}]}, e);\n",
       "                });\n",
       "            })();\n",
       "        "
      ]
     },
     "metadata": {},
     "output_type": "display_data"
    }
   ],
   "source": [
    "sales[my_features].show()"
   ]
  },
  {
   "cell_type": "code",
   "execution_count": 32,
   "metadata": {
    "collapsed": false
   },
   "outputs": [
    {
     "data": {
      "application/javascript": [
       "$(\"head\").append($(\"<link/>\").attr({\n",
       "  rel:  \"stylesheet\",\n",
       "  type: \"text/css\",\n",
       "  href: \"//cdnjs.cloudflare.com/ajax/libs/font-awesome/4.1.0/css/font-awesome.min.css\"\n",
       "}));\n",
       "$(\"head\").append($(\"<link/>\").attr({\n",
       "  rel:  \"stylesheet\",\n",
       "  type: \"text/css\",\n",
       "  href: \"https://static.turi.com/products/graphlab-create/2.1/canvas/css/canvas.css\"\n",
       "}));\n",
       "\n",
       "            (function(){\n",
       "\n",
       "                var e = null;\n",
       "                if (typeof element == 'undefined') {\n",
       "                    var scripts = document.getElementsByTagName('script');\n",
       "                    var thisScriptTag = scripts[scripts.length-1];\n",
       "                    var parentDiv = thisScriptTag.parentNode;\n",
       "                    e = document.createElement('div');\n",
       "                    parentDiv.appendChild(e);\n",
       "                } else {\n",
       "                    e = element[0];\n",
       "                }\n",
       "\n",
       "                if (typeof requirejs !== 'undefined') {\n",
       "                    // disable load timeout; ipython_app.js is large and can take a while to load.\n",
       "                    requirejs.config({waitSeconds: 0});\n",
       "                }\n",
       "\n",
       "                require(['https://static.turi.com/products/graphlab-create/2.1/canvas/js/ipython_app.js'], function(IPythonApp){\n",
       "                    var app = new IPythonApp();\n",
       "                    app.attachView('sframe','Plots', {\"selected_variable\": {\"name\": [\"sales\"], \"descriptives\": {\"rows\": 1460, \"columns\": 81}, \"view_component\": \"Plots\", \"view_file\": \"sframe\", \"view_params\": {\"y\": \"SalePrice\", \"x\": \"Neighborhood\", \"columns\": [\"Id\", \"MSSubClass\", \"MSZoning\", \"LotFrontage\", \"LotArea\", \"Street\", \"Alley\", \"LotShape\", \"LandContour\", \"Utilities\", \"LotConfig\", \"LandSlope\", \"Neighborhood\", \"Condition1\", \"Condition2\", \"BldgType\", \"HouseStyle\", \"OverallQual\", \"OverallCond\", \"YearBuilt\", \"YearRemodAdd\", \"RoofStyle\", \"RoofMatl\", \"Exterior1st\", \"Exterior2nd\", \"MasVnrType\", \"MasVnrArea\", \"ExterQual\", \"ExterCond\", \"Foundation\", \"BsmtQual\", \"BsmtCond\", \"BsmtExposure\", \"BsmtFinType1\", \"BsmtFinSF1\", \"BsmtFinType2\", \"BsmtFinSF2\", \"BsmtUnfSF\", \"TotalBsmtSF\", \"Heating\", \"HeatingQC\", \"CentralAir\", \"Electrical\", \"1stFlrSF\", \"2ndFlrSF\", \"LowQualFinSF\", \"GrLivArea\", \"BsmtFullBath\", \"BsmtHalfBath\", \"FullBath\", \"HalfBath\", \"BedroomAbvGr\", \"KitchenAbvGr\", \"KitchenQual\", \"TotRmsAbvGrd\", \"Functional\", \"Fireplaces\", \"FireplaceQu\", \"GarageType\", \"GarageYrBlt\", \"GarageFinish\", \"GarageCars\", \"GarageArea\", \"GarageQual\", \"GarageCond\", \"PavedDrive\", \"WoodDeckSF\", \"OpenPorchSF\", \"EnclosedPorch\", \"3SsnPorch\", \"ScreenPorch\", \"PoolArea\", \"PoolQC\", \"Fence\", \"MiscFeature\", \"MiscVal\", \"MoSold\", \"YrSold\", \"SaleType\", \"SaleCondition\", \"SalePrice\"], \"view\": \"BoxWhisker Plot\"}, \"view_components\": [\"Summary\", \"Table\", \"Bar Chart\", \"BoxWhisker Plot\", \"Line Chart\", \"Scatter Plot\", \"Heat Map\", \"Plots\"], \"type\": \"SFrame\", \"columns\": [{\"dtype\": \"int\", \"name\": \"Id\"}, {\"dtype\": \"int\", \"name\": \"MSSubClass\"}, {\"dtype\": \"str\", \"name\": \"MSZoning\"}, {\"dtype\": \"int\", \"name\": \"LotFrontage\"}, {\"dtype\": \"int\", \"name\": \"LotArea\"}, {\"dtype\": \"str\", \"name\": \"Street\"}, {\"dtype\": \"str\", \"name\": \"Alley\"}, {\"dtype\": \"str\", \"name\": \"LotShape\"}, {\"dtype\": \"str\", \"name\": \"LandContour\"}, {\"dtype\": \"str\", \"name\": \"Utilities\"}, {\"dtype\": \"str\", \"name\": \"LotConfig\"}, {\"dtype\": \"str\", \"name\": \"LandSlope\"}, {\"dtype\": \"str\", \"name\": \"Neighborhood\"}, {\"dtype\": \"str\", \"name\": \"Condition1\"}, {\"dtype\": \"str\", \"name\": \"Condition2\"}, {\"dtype\": \"str\", \"name\": \"BldgType\"}, {\"dtype\": \"str\", \"name\": \"HouseStyle\"}, {\"dtype\": \"int\", \"name\": \"OverallQual\"}, {\"dtype\": \"int\", \"name\": \"OverallCond\"}, {\"dtype\": \"int\", \"name\": \"YearBuilt\"}, {\"dtype\": \"int\", \"name\": \"YearRemodAdd\"}, {\"dtype\": \"str\", \"name\": \"RoofStyle\"}, {\"dtype\": \"str\", \"name\": \"RoofMatl\"}, {\"dtype\": \"str\", \"name\": \"Exterior1st\"}, {\"dtype\": \"str\", \"name\": \"Exterior2nd\"}, {\"dtype\": \"str\", \"name\": \"MasVnrType\"}, {\"dtype\": \"int\", \"name\": \"MasVnrArea\"}, {\"dtype\": \"str\", \"name\": \"ExterQual\"}, {\"dtype\": \"str\", \"name\": \"ExterCond\"}, {\"dtype\": \"str\", \"name\": \"Foundation\"}, {\"dtype\": \"str\", \"name\": \"BsmtQual\"}, {\"dtype\": \"str\", \"name\": \"BsmtCond\"}, {\"dtype\": \"str\", \"name\": \"BsmtExposure\"}, {\"dtype\": \"str\", \"name\": \"BsmtFinType1\"}, {\"dtype\": \"int\", \"name\": \"BsmtFinSF1\"}, {\"dtype\": \"str\", \"name\": \"BsmtFinType2\"}, {\"dtype\": \"int\", \"name\": \"BsmtFinSF2\"}, {\"dtype\": \"int\", \"name\": \"BsmtUnfSF\"}, {\"dtype\": \"int\", \"name\": \"TotalBsmtSF\"}, {\"dtype\": \"str\", \"name\": \"Heating\"}, {\"dtype\": \"str\", \"name\": \"HeatingQC\"}, {\"dtype\": \"str\", \"name\": \"CentralAir\"}, {\"dtype\": \"str\", \"name\": \"Electrical\"}, {\"dtype\": \"int\", \"name\": \"1stFlrSF\"}, {\"dtype\": \"int\", \"name\": \"2ndFlrSF\"}, {\"dtype\": \"int\", \"name\": \"LowQualFinSF\"}, {\"dtype\": \"int\", \"name\": \"GrLivArea\"}, {\"dtype\": \"int\", \"name\": \"BsmtFullBath\"}, {\"dtype\": \"int\", \"name\": \"BsmtHalfBath\"}, {\"dtype\": \"int\", \"name\": \"FullBath\"}, {\"dtype\": \"int\", \"name\": \"HalfBath\"}, {\"dtype\": \"int\", \"name\": \"BedroomAbvGr\"}, {\"dtype\": \"int\", \"name\": \"KitchenAbvGr\"}, {\"dtype\": \"str\", \"name\": \"KitchenQual\"}, {\"dtype\": \"int\", \"name\": \"TotRmsAbvGrd\"}, {\"dtype\": \"str\", \"name\": \"Functional\"}, {\"dtype\": \"int\", \"name\": \"Fireplaces\"}, {\"dtype\": \"str\", \"name\": \"FireplaceQu\"}, {\"dtype\": \"str\", \"name\": \"GarageType\"}, {\"dtype\": \"int\", \"name\": \"GarageYrBlt\"}, {\"dtype\": \"str\", \"name\": \"GarageFinish\"}, {\"dtype\": \"int\", \"name\": \"GarageCars\"}, {\"dtype\": \"int\", \"name\": \"GarageArea\"}, {\"dtype\": \"str\", \"name\": \"GarageQual\"}, {\"dtype\": \"str\", \"name\": \"GarageCond\"}, {\"dtype\": \"str\", \"name\": \"PavedDrive\"}, {\"dtype\": \"int\", \"name\": \"WoodDeckSF\"}, {\"dtype\": \"int\", \"name\": \"OpenPorchSF\"}, {\"dtype\": \"int\", \"name\": \"EnclosedPorch\"}, {\"dtype\": \"int\", \"name\": \"3SsnPorch\"}, {\"dtype\": \"int\", \"name\": \"ScreenPorch\"}, {\"dtype\": \"int\", \"name\": \"PoolArea\"}, {\"dtype\": \"str\", \"name\": \"PoolQC\"}, {\"dtype\": \"str\", \"name\": \"Fence\"}, {\"dtype\": \"str\", \"name\": \"MiscFeature\"}, {\"dtype\": \"int\", \"name\": \"MiscVal\"}, {\"dtype\": \"int\", \"name\": \"MoSold\"}, {\"dtype\": \"int\", \"name\": \"YrSold\"}, {\"dtype\": \"str\", \"name\": \"SaleType\"}, {\"dtype\": \"str\", \"name\": \"SaleCondition\"}, {\"dtype\": \"int\", \"name\": \"SalePrice\"}], \"column_identifiers\": [\"3SsnPorch\", \"MasVnrType\", \"LotConfig\", \"LandSlope\", \"GarageQual\", \"Exterior1st\", \"GarageFinish\", \"2ndFlrSF\", \"HalfBath\", \"OverallQual\", \"OverallCond\", \"LotArea\", \"Electrical\", \"SalePrice\", \"BsmtQual\", \"HouseStyle\", \"GrLivArea\", \"YearRemodAdd\", \"MasVnrArea\", \"Foundation\", \"1stFlrSF\", \"BsmtFullBath\", \"BsmtCond\", \"HeatingQC\", \"LotFrontage\", \"MiscVal\", \"CentralAir\", \"BsmtExposure\", \"Utilities\", \"KitchenAbvGr\", \"WoodDeckSF\", \"LotShape\", \"BsmtHalfBath\", \"TotalBsmtSF\", \"Condition1\", \"Condition2\", \"TotRmsAbvGrd\", \"MiscFeature\", \"YrSold\", \"PavedDrive\", \"OpenPorchSF\", \"LowQualFinSF\", \"BsmtUnfSF\", \"GarageYrBlt\", \"BldgType\", \"FullBath\", \"SaleType\", \"MSZoning\", \"Exterior2nd\", \"Heating\", \"MSSubClass\", \"GarageCars\", \"YearBuilt\", \"KitchenQual\", \"BsmtFinType2\", \"BsmtFinType1\", \"BedroomAbvGr\", \"BsmtFinSF1\", \"BsmtFinSF2\", \"GarageType\", \"LandContour\", \"PoolArea\", \"Neighborhood\", \"ScreenPorch\", \"Fence\", \"MoSold\", \"SaleCondition\", \"ExterQual\", \"Functional\", \"Alley\", \"RoofStyle\", \"Street\", \"Fireplaces\", \"GarageArea\", \"ExterCond\", \"PoolQC\", \"FireplaceQu\", \"EnclosedPorch\", \"RoofMatl\", \"Id\", \"GarageCond\"]}, \"complete\": 1, \"ipython\": true, \"progress\": 1.0, \"data\": {\"grouped\": [[\"Blmngtn\", [159895.0, 159895.0, 160200.0, 160200.0, 174000.0, 191000.0, 213490.0, 246578.0, 246578.0, 264561.0, 264561.0]], [\"Blueste\", [124000.0, 124000.0, 124000.0, 124000.0, 124000.0, 151000.0, 151000.0, 151000.0, 151000.0, 151000.0, 151000.0]], [\"BrDale\", [83000.0, 83000.0, 85400.0, 85400.0, 91500.0, 106000.0, 118000.0, 122500.0, 122500.0, 125000.0, 125000.0]], [\"BrkSide\", [39300.0, 39300.0, 76500.0, 76500.0, 100000.0, 127000.0, 141500.0, 184000.0, 184000.0, 223500.0, 223500.0]], [\"ClearCr\", [130000.0, 130000.0, 143000.0, 143000.0, 185000.0, 200500.0, 244400.0, 280000.0, 280000.0, 328000.0, 328000.0]], [\"CollgCr\", [110000.0, 112500.0, 131500.0, 133000.0, 152000.0, 197900.0, 226000.0, 261500.0, 267000.0, 383970.0, 424870.0]], [\"Crawfor\", [90350.0, 90350.0, 138887.0, 139000.0, 158500.0, 200624.0, 239000.0, 311500.0, 315000.0, 392500.0, 392500.0]], [\"Edwards\", [58500.0, 60000.0, 82000.0, 82500.0, 102000.0, 123500.0, 145900.0, 179000.0, 184750.0, 320000.0, 320000.0]], [\"Gilbert\", [141000.0, 141000.0, 165600.0, 165600.0, 174000.0, 181000.0, 199900.0, 236000.0, 236000.0, 377500.0, 377500.0]], [\"IDOTRR\", [34900.0, 34900.0, 55000.0, 55000.0, 81000.0, 103000.0, 120500.0, 141000.0, 141000.0, 169500.0, 169500.0]], [\"MeadowV\", [75000.0, 75000.0, 75500.0, 75500.0, 83500.0, 88000.0, 115000.0, 134000.0, 134000.0, 151400.0, 151400.0]], [\"Mitchel\", [84500.0, 84500.0, 115000.0, 115000.0, 131000.0, 153500.0, 171000.0, 206300.0, 206300.0, 271000.0, 271000.0]], [\"NAmes\", [87500.0, 90000.0, 109900.0, 110000.0, 127500.0, 140000.0, 158000.0, 180500.0, 181000.0, 244000.0, 345000.0]], [\"NPkVill\", [127500.0, 127500.0, 127500.0, 127500.0, 140000.0, 146000.0, 148500.0, 155000.0, 155000.0, 155000.0, 155000.0]], [\"NWAmes\", [82500.0, 82500.0, 148000.0, 152000.0, 165150.0, 182900.0, 205000.0, 241500.0, 250000.0, 299800.0, 299800.0]], [\"NoRidge\", [190000.0, 190000.0, 248000.0, 250000.0, 265000.0, 301500.0, 341000.0, 430000.0, 466500.0, 755000.0, 755000.0]], [\"NridgHt\", [154000.0, 154000.0, 196000.0, 202500.0, 253293.0, 315000.0, 374000.0, 440000.0, 446261.0, 611657.0, 611657.0]], [\"OldTown\", [37900.0, 52500.0, 87000.0, 87000.0, 105900.0, 119000.0, 140000.0, 161000.0, 163000.0, 325000.0, 475000.0]], [\"SWISU\", [60000.0, 60000.0, 102000.0, 102000.0, 128000.0, 139500.0, 160000.0, 189000.0, 189000.0, 200000.0, 200000.0]], [\"Sawyer\", [62383.0, 62383.0, 108959.0, 109900.0, 127000.0, 135000.0, 149500.0, 168000.0, 170000.0, 190000.0, 190000.0]], [\"SawyerW\", [76000.0, 76000.0, 118964.0, 118964.0, 144000.0, 179900.0, 225000.0, 271900.0, 271900.0, 320000.0, 320000.0]], [\"Somerst\", [144152.0, 144152.0, 155000.0, 160000.0, 177500.0, 226000.0, 253000.0, 307000.0, 310000.0, 423000.0, 423000.0]], [\"StoneBr\", [170000.0, 170000.0, 187500.0, 187500.0, 213500.0, 278000.0, 377426.0, 501837.0, 501837.0, 556581.0, 556581.0]], [\"Timber\", [137500.0, 137500.0, 170000.0, 170000.0, 186700.0, 228950.0, 287000.0, 335000.0, 335000.0, 378500.0, 378500.0]], [\"Veenker\", [162500.0, 162500.0, 162500.0, 165000.0, 181500.0, 218000.0, 294000.0, 324000.0, 385000.0, 385000.0, 385000.0]]], \"omitted\": 0}, \"columns\": [{\"dtype\": \"int\", \"name\": \"Id\"}, {\"dtype\": \"int\", \"name\": \"MSSubClass\"}, {\"dtype\": \"str\", \"name\": \"MSZoning\"}, {\"dtype\": \"int\", \"name\": \"LotFrontage\"}, {\"dtype\": \"int\", \"name\": \"LotArea\"}, {\"dtype\": \"str\", \"name\": \"Street\"}, {\"dtype\": \"str\", \"name\": \"Alley\"}, {\"dtype\": \"str\", \"name\": \"LotShape\"}, {\"dtype\": \"str\", \"name\": \"LandContour\"}, {\"dtype\": \"str\", \"name\": \"Utilities\"}, {\"dtype\": \"str\", \"name\": \"LotConfig\"}, {\"dtype\": \"str\", \"name\": \"LandSlope\"}, {\"dtype\": \"str\", \"name\": \"Neighborhood\"}, {\"dtype\": \"str\", \"name\": \"Condition1\"}, {\"dtype\": \"str\", \"name\": \"Condition2\"}, {\"dtype\": \"str\", \"name\": \"BldgType\"}, {\"dtype\": \"str\", \"name\": \"HouseStyle\"}, {\"dtype\": \"int\", \"name\": \"OverallQual\"}, {\"dtype\": \"int\", \"name\": \"OverallCond\"}, {\"dtype\": \"int\", \"name\": \"YearBuilt\"}, {\"dtype\": \"int\", \"name\": \"YearRemodAdd\"}, {\"dtype\": \"str\", \"name\": \"RoofStyle\"}, {\"dtype\": \"str\", \"name\": \"RoofMatl\"}, {\"dtype\": \"str\", \"name\": \"Exterior1st\"}, {\"dtype\": \"str\", \"name\": \"Exterior2nd\"}, {\"dtype\": \"str\", \"name\": \"MasVnrType\"}, {\"dtype\": \"int\", \"name\": \"MasVnrArea\"}, {\"dtype\": \"str\", \"name\": \"ExterQual\"}, {\"dtype\": \"str\", \"name\": \"ExterCond\"}, {\"dtype\": \"str\", \"name\": \"Foundation\"}, {\"dtype\": \"str\", \"name\": \"BsmtQual\"}, {\"dtype\": \"str\", \"name\": \"BsmtCond\"}, {\"dtype\": \"str\", \"name\": \"BsmtExposure\"}, {\"dtype\": \"str\", \"name\": \"BsmtFinType1\"}, {\"dtype\": \"int\", \"name\": \"BsmtFinSF1\"}, {\"dtype\": \"str\", \"name\": \"BsmtFinType2\"}, {\"dtype\": \"int\", \"name\": \"BsmtFinSF2\"}, {\"dtype\": \"int\", \"name\": \"BsmtUnfSF\"}, {\"dtype\": \"int\", \"name\": \"TotalBsmtSF\"}, {\"dtype\": \"str\", \"name\": \"Heating\"}, {\"dtype\": \"str\", \"name\": \"HeatingQC\"}, {\"dtype\": \"str\", \"name\": \"CentralAir\"}, {\"dtype\": \"str\", \"name\": \"Electrical\"}, {\"dtype\": \"int\", \"name\": \"1stFlrSF\"}, {\"dtype\": \"int\", \"name\": \"2ndFlrSF\"}, {\"dtype\": \"int\", \"name\": \"LowQualFinSF\"}, {\"dtype\": \"int\", \"name\": \"GrLivArea\"}, {\"dtype\": \"int\", \"name\": \"BsmtFullBath\"}, {\"dtype\": \"int\", \"name\": \"BsmtHalfBath\"}, {\"dtype\": \"int\", \"name\": \"FullBath\"}, {\"dtype\": \"int\", \"name\": \"HalfBath\"}, {\"dtype\": \"int\", \"name\": \"BedroomAbvGr\"}, {\"dtype\": \"int\", \"name\": \"KitchenAbvGr\"}, {\"dtype\": \"str\", \"name\": \"KitchenQual\"}, {\"dtype\": \"int\", \"name\": \"TotRmsAbvGrd\"}, {\"dtype\": \"str\", \"name\": \"Functional\"}, {\"dtype\": \"int\", \"name\": \"Fireplaces\"}, {\"dtype\": \"str\", \"name\": \"FireplaceQu\"}, {\"dtype\": \"str\", \"name\": \"GarageType\"}, {\"dtype\": \"int\", \"name\": \"GarageYrBlt\"}, {\"dtype\": \"str\", \"name\": \"GarageFinish\"}, {\"dtype\": \"int\", \"name\": \"GarageCars\"}, {\"dtype\": \"int\", \"name\": \"GarageArea\"}, {\"dtype\": \"str\", \"name\": \"GarageQual\"}, {\"dtype\": \"str\", \"name\": \"GarageCond\"}, {\"dtype\": \"str\", \"name\": \"PavedDrive\"}, {\"dtype\": \"int\", \"name\": \"WoodDeckSF\"}, {\"dtype\": \"int\", \"name\": \"OpenPorchSF\"}, {\"dtype\": \"int\", \"name\": \"EnclosedPorch\"}, {\"dtype\": \"int\", \"name\": \"3SsnPorch\"}, {\"dtype\": \"int\", \"name\": \"ScreenPorch\"}, {\"dtype\": \"int\", \"name\": \"PoolArea\"}, {\"dtype\": \"str\", \"name\": \"PoolQC\"}, {\"dtype\": \"str\", \"name\": \"Fence\"}, {\"dtype\": \"str\", \"name\": \"MiscFeature\"}, {\"dtype\": \"int\", \"name\": \"MiscVal\"}, {\"dtype\": \"int\", \"name\": \"MoSold\"}, {\"dtype\": \"int\", \"name\": \"YrSold\"}, {\"dtype\": \"str\", \"name\": \"SaleType\"}, {\"dtype\": \"str\", \"name\": \"SaleCondition\"}, {\"dtype\": \"int\", \"name\": \"SalePrice\"}]}, e);\n",
       "                });\n",
       "            })();\n",
       "        "
      ]
     },
     "metadata": {},
     "output_type": "display_data"
    }
   ],
   "source": [
    "sales.show(view='BoxWhisker Plot', x='Neighborhood', y='SalePrice')"
   ]
  },
  {
   "cell_type": "code",
   "execution_count": 34,
   "metadata": {
    "collapsed": false
   },
   "outputs": [
    {
     "data": {
      "application/javascript": [
       "$(\"head\").append($(\"<link/>\").attr({\n",
       "  rel:  \"stylesheet\",\n",
       "  type: \"text/css\",\n",
       "  href: \"//cdnjs.cloudflare.com/ajax/libs/font-awesome/4.1.0/css/font-awesome.min.css\"\n",
       "}));\n",
       "$(\"head\").append($(\"<link/>\").attr({\n",
       "  rel:  \"stylesheet\",\n",
       "  type: \"text/css\",\n",
       "  href: \"https://static.turi.com/products/graphlab-create/2.1/canvas/css/canvas.css\"\n",
       "}));\n",
       "\n",
       "            (function(){\n",
       "\n",
       "                var e = null;\n",
       "                if (typeof element == 'undefined') {\n",
       "                    var scripts = document.getElementsByTagName('script');\n",
       "                    var thisScriptTag = scripts[scripts.length-1];\n",
       "                    var parentDiv = thisScriptTag.parentNode;\n",
       "                    e = document.createElement('div');\n",
       "                    parentDiv.appendChild(e);\n",
       "                } else {\n",
       "                    e = element[0];\n",
       "                }\n",
       "\n",
       "                if (typeof requirejs !== 'undefined') {\n",
       "                    // disable load timeout; ipython_app.js is large and can take a while to load.\n",
       "                    requirejs.config({waitSeconds: 0});\n",
       "                }\n",
       "\n",
       "                require(['https://static.turi.com/products/graphlab-create/2.1/canvas/js/ipython_app.js'], function(IPythonApp){\n",
       "                    var app = new IPythonApp();\n",
       "                    app.attachView('sframe','Plots', {\"selected_variable\": {\"name\": [\"sales\"], \"descriptives\": {\"rows\": 1460, \"columns\": 81}, \"view_component\": \"Plots\", \"view_file\": \"sframe\", \"view_params\": {\"y\": \"SalePrice\", \"x\": \"MSSubClass\", \"columns\": [\"Id\", \"MSSubClass\", \"MSZoning\", \"LotFrontage\", \"LotArea\", \"Street\", \"Alley\", \"LotShape\", \"LandContour\", \"Utilities\", \"LotConfig\", \"LandSlope\", \"Neighborhood\", \"Condition1\", \"Condition2\", \"BldgType\", \"HouseStyle\", \"OverallQual\", \"OverallCond\", \"YearBuilt\", \"YearRemodAdd\", \"RoofStyle\", \"RoofMatl\", \"Exterior1st\", \"Exterior2nd\", \"MasVnrType\", \"MasVnrArea\", \"ExterQual\", \"ExterCond\", \"Foundation\", \"BsmtQual\", \"BsmtCond\", \"BsmtExposure\", \"BsmtFinType1\", \"BsmtFinSF1\", \"BsmtFinType2\", \"BsmtFinSF2\", \"BsmtUnfSF\", \"TotalBsmtSF\", \"Heating\", \"HeatingQC\", \"CentralAir\", \"Electrical\", \"1stFlrSF\", \"2ndFlrSF\", \"LowQualFinSF\", \"GrLivArea\", \"BsmtFullBath\", \"BsmtHalfBath\", \"FullBath\", \"HalfBath\", \"BedroomAbvGr\", \"KitchenAbvGr\", \"KitchenQual\", \"TotRmsAbvGrd\", \"Functional\", \"Fireplaces\", \"FireplaceQu\", \"GarageType\", \"GarageYrBlt\", \"GarageFinish\", \"GarageCars\", \"GarageArea\", \"GarageQual\", \"GarageCond\", \"PavedDrive\", \"WoodDeckSF\", \"OpenPorchSF\", \"EnclosedPorch\", \"3SsnPorch\", \"ScreenPorch\", \"PoolArea\", \"PoolQC\", \"Fence\", \"MiscFeature\", \"MiscVal\", \"MoSold\", \"YrSold\", \"SaleType\", \"SaleCondition\", \"SalePrice\"], \"view\": \"BoxWhisker Plot\"}, \"view_components\": [\"Summary\", \"Table\", \"Bar Chart\", \"BoxWhisker Plot\", \"Line Chart\", \"Scatter Plot\", \"Heat Map\", \"Plots\"], \"type\": \"SFrame\", \"columns\": [{\"dtype\": \"int\", \"name\": \"Id\"}, {\"dtype\": \"int\", \"name\": \"MSSubClass\"}, {\"dtype\": \"str\", \"name\": \"MSZoning\"}, {\"dtype\": \"int\", \"name\": \"LotFrontage\"}, {\"dtype\": \"int\", \"name\": \"LotArea\"}, {\"dtype\": \"str\", \"name\": \"Street\"}, {\"dtype\": \"str\", \"name\": \"Alley\"}, {\"dtype\": \"str\", \"name\": \"LotShape\"}, {\"dtype\": \"str\", \"name\": \"LandContour\"}, {\"dtype\": \"str\", \"name\": \"Utilities\"}, {\"dtype\": \"str\", \"name\": \"LotConfig\"}, {\"dtype\": \"str\", \"name\": \"LandSlope\"}, {\"dtype\": \"str\", \"name\": \"Neighborhood\"}, {\"dtype\": \"str\", \"name\": \"Condition1\"}, {\"dtype\": \"str\", \"name\": \"Condition2\"}, {\"dtype\": \"str\", \"name\": \"BldgType\"}, {\"dtype\": \"str\", \"name\": \"HouseStyle\"}, {\"dtype\": \"int\", \"name\": \"OverallQual\"}, {\"dtype\": \"int\", \"name\": \"OverallCond\"}, {\"dtype\": \"int\", \"name\": \"YearBuilt\"}, {\"dtype\": \"int\", \"name\": \"YearRemodAdd\"}, {\"dtype\": \"str\", \"name\": \"RoofStyle\"}, {\"dtype\": \"str\", \"name\": \"RoofMatl\"}, {\"dtype\": \"str\", \"name\": \"Exterior1st\"}, {\"dtype\": \"str\", \"name\": \"Exterior2nd\"}, {\"dtype\": \"str\", \"name\": \"MasVnrType\"}, {\"dtype\": \"int\", \"name\": \"MasVnrArea\"}, {\"dtype\": \"str\", \"name\": \"ExterQual\"}, {\"dtype\": \"str\", \"name\": \"ExterCond\"}, {\"dtype\": \"str\", \"name\": \"Foundation\"}, {\"dtype\": \"str\", \"name\": \"BsmtQual\"}, {\"dtype\": \"str\", \"name\": \"BsmtCond\"}, {\"dtype\": \"str\", \"name\": \"BsmtExposure\"}, {\"dtype\": \"str\", \"name\": \"BsmtFinType1\"}, {\"dtype\": \"int\", \"name\": \"BsmtFinSF1\"}, {\"dtype\": \"str\", \"name\": \"BsmtFinType2\"}, {\"dtype\": \"int\", \"name\": \"BsmtFinSF2\"}, {\"dtype\": \"int\", \"name\": \"BsmtUnfSF\"}, {\"dtype\": \"int\", \"name\": \"TotalBsmtSF\"}, {\"dtype\": \"str\", \"name\": \"Heating\"}, {\"dtype\": \"str\", \"name\": \"HeatingQC\"}, {\"dtype\": \"str\", \"name\": \"CentralAir\"}, {\"dtype\": \"str\", \"name\": \"Electrical\"}, {\"dtype\": \"int\", \"name\": \"1stFlrSF\"}, {\"dtype\": \"int\", \"name\": \"2ndFlrSF\"}, {\"dtype\": \"int\", \"name\": \"LowQualFinSF\"}, {\"dtype\": \"int\", \"name\": \"GrLivArea\"}, {\"dtype\": \"int\", \"name\": \"BsmtFullBath\"}, {\"dtype\": \"int\", \"name\": \"BsmtHalfBath\"}, {\"dtype\": \"int\", \"name\": \"FullBath\"}, {\"dtype\": \"int\", \"name\": \"HalfBath\"}, {\"dtype\": \"int\", \"name\": \"BedroomAbvGr\"}, {\"dtype\": \"int\", \"name\": \"KitchenAbvGr\"}, {\"dtype\": \"str\", \"name\": \"KitchenQual\"}, {\"dtype\": \"int\", \"name\": \"TotRmsAbvGrd\"}, {\"dtype\": \"str\", \"name\": \"Functional\"}, {\"dtype\": \"int\", \"name\": \"Fireplaces\"}, {\"dtype\": \"str\", \"name\": \"FireplaceQu\"}, {\"dtype\": \"str\", \"name\": \"GarageType\"}, {\"dtype\": \"int\", \"name\": \"GarageYrBlt\"}, {\"dtype\": \"str\", \"name\": \"GarageFinish\"}, {\"dtype\": \"int\", \"name\": \"GarageCars\"}, {\"dtype\": \"int\", \"name\": \"GarageArea\"}, {\"dtype\": \"str\", \"name\": \"GarageQual\"}, {\"dtype\": \"str\", \"name\": \"GarageCond\"}, {\"dtype\": \"str\", \"name\": \"PavedDrive\"}, {\"dtype\": \"int\", \"name\": \"WoodDeckSF\"}, {\"dtype\": \"int\", \"name\": \"OpenPorchSF\"}, {\"dtype\": \"int\", \"name\": \"EnclosedPorch\"}, {\"dtype\": \"int\", \"name\": \"3SsnPorch\"}, {\"dtype\": \"int\", \"name\": \"ScreenPorch\"}, {\"dtype\": \"int\", \"name\": \"PoolArea\"}, {\"dtype\": \"str\", \"name\": \"PoolQC\"}, {\"dtype\": \"str\", \"name\": \"Fence\"}, {\"dtype\": \"str\", \"name\": \"MiscFeature\"}, {\"dtype\": \"int\", \"name\": \"MiscVal\"}, {\"dtype\": \"int\", \"name\": \"MoSold\"}, {\"dtype\": \"int\", \"name\": \"YrSold\"}, {\"dtype\": \"str\", \"name\": \"SaleType\"}, {\"dtype\": \"str\", \"name\": \"SaleCondition\"}, {\"dtype\": \"int\", \"name\": \"SalePrice\"}], \"column_identifiers\": [\"3SsnPorch\", \"MasVnrType\", \"LotConfig\", \"LandSlope\", \"GarageQual\", \"Exterior1st\", \"GarageFinish\", \"2ndFlrSF\", \"HalfBath\", \"OverallQual\", \"OverallCond\", \"LotArea\", \"Electrical\", \"SalePrice\", \"BsmtQual\", \"HouseStyle\", \"GrLivArea\", \"YearRemodAdd\", \"MasVnrArea\", \"Foundation\", \"1stFlrSF\", \"BsmtFullBath\", \"BsmtCond\", \"HeatingQC\", \"LotFrontage\", \"MiscVal\", \"CentralAir\", \"BsmtExposure\", \"Utilities\", \"KitchenAbvGr\", \"WoodDeckSF\", \"LotShape\", \"BsmtHalfBath\", \"TotalBsmtSF\", \"Condition1\", \"Condition2\", \"TotRmsAbvGrd\", \"MiscFeature\", \"YrSold\", \"PavedDrive\", \"OpenPorchSF\", \"LowQualFinSF\", \"BsmtUnfSF\", \"GarageYrBlt\", \"BldgType\", \"FullBath\", \"SaleType\", \"MSZoning\", \"Exterior2nd\", \"Heating\", \"MSSubClass\", \"GarageCars\", \"YearBuilt\", \"KitchenQual\", \"BsmtFinType2\", \"BsmtFinType1\", \"BedroomAbvGr\", \"BsmtFinSF1\", \"BsmtFinSF2\", \"GarageType\", \"LandContour\", \"PoolArea\", \"Neighborhood\", \"ScreenPorch\", \"Fence\", \"MoSold\", \"SaleCondition\", \"ExterQual\", \"Functional\", \"Alley\", \"RoofStyle\", \"Street\", \"Fireplaces\", \"GarageArea\", \"ExterCond\", \"PoolQC\", \"FireplaceQu\", \"EnclosedPorch\", \"RoofMatl\", \"Id\", \"GarageCond\"]}, \"complete\": 1, \"ipython\": true, \"progress\": 1.0, \"data\": {\"grouped\": [[20, [35311.0, 72500.0, 112500.0, 115000.0, 132500.0, 159500.0, 220000.0, 289000.0, 301500.0, 440000.0, 611657.0]], [30, [34900.0, 34900.0, 60000.0, 60000.0, 81000.0, 99900.0, 110500.0, 121000.0, 121000.0, 163500.0, 163500.0]], [40, [79500.0, 79500.0, 79500.0, 79500.0, 133000.0, 152000.0, 260000.0, 260000.0, 260000.0, 260000.0, 260000.0]], [45, [76000.0, 76000.0, 87000.0, 87000.0, 96500.0, 109500.0, 132000.0, 135000.0, 135000.0, 139400.0, 139400.0]], [50, [37900.0, 66500.0, 94000.0, 96500.0, 114500.0, 132500.0, 159000.0, 207000.0, 220000.0, 381000.0, 410000.0]], [60, [129000.0, 135000.0, 168000.0, 169500.0, 185000.0, 215200.0, 269500.0, 336000.0, 340000.0, 625000.0, 755000.0]], [70, [40000.0, 40000.0, 107000.0, 107500.0, 128000.0, 157000.0, 191000.0, 244400.0, 244400.0, 359100.0, 359100.0]], [75, [101000.0, 101000.0, 104000.0, 104000.0, 128000.0, 164000.0, 235000.0, 325000.0, 325000.0, 475000.0, 475000.0]], [80, [107000.0, 107000.0, 132500.0, 132500.0, 147000.0, 167500.0, 179900.0, 194000.0, 194000.0, 345000.0, 345000.0]], [85, [123000.0, 123000.0, 129000.0, 129500.0, 134500.0, 144000.0, 165500.0, 178400.0, 178400.0, 198500.0, 198500.0]], [90, [82000.0, 82000.0, 92900.0, 93500.0, 118500.0, 136000.0, 145000.0, 171000.0, 179000.0, 206300.0, 206300.0]], [120, [99500.0, 99500.0, 134000.0, 136500.0, 155900.0, 192000.0, 234000.0, 277500.0, 278000.0, 392500.0, 392500.0]], [160, [75000.0, 75000.0, 88000.0, 88000.0, 113000.0, 146000.0, 165000.0, 176000.0, 177000.0, 239000.0, 239000.0]], [180, [75500.0, 75500.0, 75500.0, 80000.0, 81000.0, 91000.0, 140000.0, 148000.0, 148000.0, 148000.0, 148000.0]], [190, [55000.0, 55000.0, 84500.0, 90000.0, 107500.0, 129000.0, 145000.0, 168000.0, 168000.0, 228950.0, 228950.0]]], \"omitted\": 0}, \"columns\": [{\"dtype\": \"int\", \"name\": \"Id\"}, {\"dtype\": \"int\", \"name\": \"MSSubClass\"}, {\"dtype\": \"str\", \"name\": \"MSZoning\"}, {\"dtype\": \"int\", \"name\": \"LotFrontage\"}, {\"dtype\": \"int\", \"name\": \"LotArea\"}, {\"dtype\": \"str\", \"name\": \"Street\"}, {\"dtype\": \"str\", \"name\": \"Alley\"}, {\"dtype\": \"str\", \"name\": \"LotShape\"}, {\"dtype\": \"str\", \"name\": \"LandContour\"}, {\"dtype\": \"str\", \"name\": \"Utilities\"}, {\"dtype\": \"str\", \"name\": \"LotConfig\"}, {\"dtype\": \"str\", \"name\": \"LandSlope\"}, {\"dtype\": \"str\", \"name\": \"Neighborhood\"}, {\"dtype\": \"str\", \"name\": \"Condition1\"}, {\"dtype\": \"str\", \"name\": \"Condition2\"}, {\"dtype\": \"str\", \"name\": \"BldgType\"}, {\"dtype\": \"str\", \"name\": \"HouseStyle\"}, {\"dtype\": \"int\", \"name\": \"OverallQual\"}, {\"dtype\": \"int\", \"name\": \"OverallCond\"}, {\"dtype\": \"int\", \"name\": \"YearBuilt\"}, {\"dtype\": \"int\", \"name\": \"YearRemodAdd\"}, {\"dtype\": \"str\", \"name\": \"RoofStyle\"}, {\"dtype\": \"str\", \"name\": \"RoofMatl\"}, {\"dtype\": \"str\", \"name\": \"Exterior1st\"}, {\"dtype\": \"str\", \"name\": \"Exterior2nd\"}, {\"dtype\": \"str\", \"name\": \"MasVnrType\"}, {\"dtype\": \"int\", \"name\": \"MasVnrArea\"}, {\"dtype\": \"str\", \"name\": \"ExterQual\"}, {\"dtype\": \"str\", \"name\": \"ExterCond\"}, {\"dtype\": \"str\", \"name\": \"Foundation\"}, {\"dtype\": \"str\", \"name\": \"BsmtQual\"}, {\"dtype\": \"str\", \"name\": \"BsmtCond\"}, {\"dtype\": \"str\", \"name\": \"BsmtExposure\"}, {\"dtype\": \"str\", \"name\": \"BsmtFinType1\"}, {\"dtype\": \"int\", \"name\": \"BsmtFinSF1\"}, {\"dtype\": \"str\", \"name\": \"BsmtFinType2\"}, {\"dtype\": \"int\", \"name\": \"BsmtFinSF2\"}, {\"dtype\": \"int\", \"name\": \"BsmtUnfSF\"}, {\"dtype\": \"int\", \"name\": \"TotalBsmtSF\"}, {\"dtype\": \"str\", \"name\": \"Heating\"}, {\"dtype\": \"str\", \"name\": \"HeatingQC\"}, {\"dtype\": \"str\", \"name\": \"CentralAir\"}, {\"dtype\": \"str\", \"name\": \"Electrical\"}, {\"dtype\": \"int\", \"name\": \"1stFlrSF\"}, {\"dtype\": \"int\", \"name\": \"2ndFlrSF\"}, {\"dtype\": \"int\", \"name\": \"LowQualFinSF\"}, {\"dtype\": \"int\", \"name\": \"GrLivArea\"}, {\"dtype\": \"int\", \"name\": \"BsmtFullBath\"}, {\"dtype\": \"int\", \"name\": \"BsmtHalfBath\"}, {\"dtype\": \"int\", \"name\": \"FullBath\"}, {\"dtype\": \"int\", \"name\": \"HalfBath\"}, {\"dtype\": \"int\", \"name\": \"BedroomAbvGr\"}, {\"dtype\": \"int\", \"name\": \"KitchenAbvGr\"}, {\"dtype\": \"str\", \"name\": \"KitchenQual\"}, {\"dtype\": \"int\", \"name\": \"TotRmsAbvGrd\"}, {\"dtype\": \"str\", \"name\": \"Functional\"}, {\"dtype\": \"int\", \"name\": \"Fireplaces\"}, {\"dtype\": \"str\", \"name\": \"FireplaceQu\"}, {\"dtype\": \"str\", \"name\": \"GarageType\"}, {\"dtype\": \"int\", \"name\": \"GarageYrBlt\"}, {\"dtype\": \"str\", \"name\": \"GarageFinish\"}, {\"dtype\": \"int\", \"name\": \"GarageCars\"}, {\"dtype\": \"int\", \"name\": \"GarageArea\"}, {\"dtype\": \"str\", \"name\": \"GarageQual\"}, {\"dtype\": \"str\", \"name\": \"GarageCond\"}, {\"dtype\": \"str\", \"name\": \"PavedDrive\"}, {\"dtype\": \"int\", \"name\": \"WoodDeckSF\"}, {\"dtype\": \"int\", \"name\": \"OpenPorchSF\"}, {\"dtype\": \"int\", \"name\": \"EnclosedPorch\"}, {\"dtype\": \"int\", \"name\": \"3SsnPorch\"}, {\"dtype\": \"int\", \"name\": \"ScreenPorch\"}, {\"dtype\": \"int\", \"name\": \"PoolArea\"}, {\"dtype\": \"str\", \"name\": \"PoolQC\"}, {\"dtype\": \"str\", \"name\": \"Fence\"}, {\"dtype\": \"str\", \"name\": \"MiscFeature\"}, {\"dtype\": \"int\", \"name\": \"MiscVal\"}, {\"dtype\": \"int\", \"name\": \"MoSold\"}, {\"dtype\": \"int\", \"name\": \"YrSold\"}, {\"dtype\": \"str\", \"name\": \"SaleType\"}, {\"dtype\": \"str\", \"name\": \"SaleCondition\"}, {\"dtype\": \"int\", \"name\": \"SalePrice\"}]}, e);\n",
       "                });\n",
       "            })();\n",
       "        "
      ]
     },
     "metadata": {},
     "output_type": "display_data"
    }
   ],
   "source": [
    "sales.show(view='BoxWhisker Plot', x='MSSubClass', y='SalePrice')"
   ]
  },
  {
   "cell_type": "markdown",
   "metadata": {},
   "source": [
    "# Create a new multi features model"
   ]
  },
  {
   "cell_type": "code",
   "execution_count": 40,
   "metadata": {
    "collapsed": false
   },
   "outputs": [
    {
     "name": "stdout",
     "output_type": "stream",
     "text": [
      "PROGRESS: Creating a validation set from 5 percent of training data. This may take a while.\n",
      "          You can set ``validation_set=None`` to disable validation tracking.\n",
      "\n"
     ]
    },
    {
     "data": {
      "text/html": [
       "<pre>Linear regression:</pre>"
      ],
      "text/plain": [
       "Linear regression:"
      ]
     },
     "metadata": {},
     "output_type": "display_data"
    },
    {
     "data": {
      "text/html": [
       "<pre>--------------------------------------------------------</pre>"
      ],
      "text/plain": [
       "--------------------------------------------------------"
      ]
     },
     "metadata": {},
     "output_type": "display_data"
    },
    {
     "data": {
      "text/html": [
       "<pre>Number of examples          : 1116</pre>"
      ],
      "text/plain": [
       "Number of examples          : 1116"
      ]
     },
     "metadata": {},
     "output_type": "display_data"
    },
    {
     "data": {
      "text/html": [
       "<pre>Number of features          : 6</pre>"
      ],
      "text/plain": [
       "Number of features          : 6"
      ]
     },
     "metadata": {},
     "output_type": "display_data"
    },
    {
     "data": {
      "text/html": [
       "<pre>Number of unpacked features : 6</pre>"
      ],
      "text/plain": [
       "Number of unpacked features : 6"
      ]
     },
     "metadata": {},
     "output_type": "display_data"
    },
    {
     "data": {
      "text/html": [
       "<pre>Number of coefficients    : 30</pre>"
      ],
      "text/plain": [
       "Number of coefficients    : 30"
      ]
     },
     "metadata": {},
     "output_type": "display_data"
    },
    {
     "data": {
      "text/html": [
       "<pre>Starting Newton Method</pre>"
      ],
      "text/plain": [
       "Starting Newton Method"
      ]
     },
     "metadata": {},
     "output_type": "display_data"
    },
    {
     "data": {
      "text/html": [
       "<pre>--------------------------------------------------------</pre>"
      ],
      "text/plain": [
       "--------------------------------------------------------"
      ]
     },
     "metadata": {},
     "output_type": "display_data"
    },
    {
     "data": {
      "text/html": [
       "<pre>+-----------+----------+--------------+--------------------+----------------------+---------------+-----------------+</pre>"
      ],
      "text/plain": [
       "+-----------+----------+--------------+--------------------+----------------------+---------------+-----------------+"
      ]
     },
     "metadata": {},
     "output_type": "display_data"
    },
    {
     "data": {
      "text/html": [
       "<pre>| Iteration | Passes   | Elapsed Time | Training-max_error | Validation-max_error | Training-rmse | Validation-rmse |</pre>"
      ],
      "text/plain": [
       "| Iteration | Passes   | Elapsed Time | Training-max_error | Validation-max_error | Training-rmse | Validation-rmse |"
      ]
     },
     "metadata": {},
     "output_type": "display_data"
    },
    {
     "data": {
      "text/html": [
       "<pre>+-----------+----------+--------------+--------------------+----------------------+---------------+-----------------+</pre>"
      ],
      "text/plain": [
       "+-----------+----------+--------------+--------------------+----------------------+---------------+-----------------+"
      ]
     },
     "metadata": {},
     "output_type": "display_data"
    },
    {
     "data": {
      "text/html": [
       "<pre>| 1         | 2        | 0.015012     | 265298.561896      | 153079.787465        | 38042.990323  | 36803.637532    |</pre>"
      ],
      "text/plain": [
       "| 1         | 2        | 0.015012     | 265298.561896      | 153079.787465        | 38042.990323  | 36803.637532    |"
      ]
     },
     "metadata": {},
     "output_type": "display_data"
    },
    {
     "data": {
      "text/html": [
       "<pre>+-----------+----------+--------------+--------------------+----------------------+---------------+-----------------+</pre>"
      ],
      "text/plain": [
       "+-----------+----------+--------------+--------------------+----------------------+---------------+-----------------+"
      ]
     },
     "metadata": {},
     "output_type": "display_data"
    },
    {
     "data": {
      "text/html": [
       "<pre>SUCCESS: Optimal solution found.</pre>"
      ],
      "text/plain": [
       "SUCCESS: Optimal solution found."
      ]
     },
     "metadata": {},
     "output_type": "display_data"
    },
    {
     "data": {
      "text/html": [
       "<pre></pre>"
      ],
      "text/plain": []
     },
     "metadata": {},
     "output_type": "display_data"
    }
   ],
   "source": [
    "my_features_model = gl.linear_regression.create(train_data,target='SalePrice',features=my_features)"
   ]
  },
  {
   "cell_type": "code",
   "execution_count": 41,
   "metadata": {
    "collapsed": false
   },
   "outputs": [
    {
     "name": "stdout",
     "output_type": "stream",
     "text": [
      "['MSSubClass', 'LotArea', 'Neighborhood', 'GrLivArea', 'FullBath', 'TotRmsAbvGrd']\n"
     ]
    }
   ],
   "source": [
    "print my_features"
   ]
  },
  {
   "cell_type": "code",
   "execution_count": 42,
   "metadata": {
    "collapsed": false
   },
   "outputs": [
    {
     "name": "stdout",
     "output_type": "stream",
     "text": [
      "{'max_error': 500150.3666153955, 'rmse': 59456.72692142988}\n",
      "{'max_error': 397927.76627754734, 'rmse': 42717.908930810794}\n"
     ]
    }
   ],
   "source": [
    "print GrLivArea_model.evaluate(test_data)\n",
    "print my_features_model.evaluate(test_data)"
   ]
  },
  {
   "cell_type": "code",
   "execution_count": null,
   "metadata": {
    "collapsed": true
   },
   "outputs": [],
   "source": []
  }
 ],
 "metadata": {
  "anaconda-cloud": {},
  "kernelspec": {
   "display_name": "Python 2",
   "language": "python",
   "name": "python2"
  },
  "language_info": {
   "codemirror_mode": {
    "name": "ipython",
    "version": 2
   },
   "file_extension": ".py",
   "mimetype": "text/x-python",
   "name": "python",
   "nbconvert_exporter": "python",
   "pygments_lexer": "ipython2",
   "version": "2.7.11"
  }
 },
 "nbformat": 4,
 "nbformat_minor": 1
}
