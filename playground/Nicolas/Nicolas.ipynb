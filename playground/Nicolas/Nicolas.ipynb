{
 "cells": [
  {
   "cell_type": "markdown",
   "metadata": {
    "collapsed": true
   },
   "source": [
    "# Requirements\n",
    "First, we import all the packages and modules we need for our pipeline."
   ]
  },
  {
   "cell_type": "code",
   "execution_count": 1,
   "metadata": {
    "collapsed": false
   },
   "outputs": [],
   "source": [
    "import numpy as np\n",
    "import pandas as pd\n",
    "import matplotlib.pyplot as plt\n",
    "from copy import deepcopy\n",
    "from sklearn import preprocessing\n",
    "from sklearn.cross_validation import train_test_split\n",
    "from sklearn.linear_model import LinearRegression\n",
    "from sklearn.linear_model import Ridge\n",
    "from sklearn.linear_model import RidgeCV\n",
    "from sklearn.linear_model import Lasso\n",
    "from sklearn.linear_model import LassoCV\n",
    "from sklearn.ensemble import RandomForestRegressor\n",
    "from sklearn.tree import DecisionTreeRegressor\n",
    "from sklearn.metrics import mean_squared_error\n",
    "from sklearn.ensemble import AdaBoostRegressor\n",
    "from sklearn.grid_search import GridSearchCV\n",
    "\n",
    "# Suppress scientific notation of float numbers in numpy arrays.\n",
    "np.set_printoptions(suppress=True)"
   ]
  },
  {
   "cell_type": "markdown",
   "metadata": {},
   "source": [
    "# Raw Material\n",
    "First, we retrieve our training and test datasets from the csv files provided by Kaggle and store them in Pandas DataFrame objects."
   ]
  },
  {
   "cell_type": "code",
   "execution_count": 2,
   "metadata": {
    "collapsed": false
   },
   "outputs": [
    {
     "name": "stdout",
     "output_type": "stream",
     "text": [
      "train: (1460, 81)\n",
      "test: (1459, 80)\n"
     ]
    }
   ],
   "source": [
    "train = pd.read_csv('../../data/train_original.csv')\n",
    "test_kaggle = pd.read_csv('../../data/test_original.csv')\n",
    "\n",
    "print 'train:', train.shape\n",
    "print 'test:', test_kaggle.shape"
   ]
  },
  {
   "cell_type": "code",
   "execution_count": 3,
   "metadata": {
    "collapsed": false
   },
   "outputs": [
    {
     "name": "stdout",
     "output_type": "stream",
     "text": [
      "train: (1460, 81)\n",
      "test: (1459, 80)\n"
     ]
    }
   ],
   "source": [
    "print 'train:', train.shape\n",
    "print 'test:', test_kaggle.shape"
   ]
  },
  {
   "cell_type": "markdown",
   "metadata": {},
   "source": [
    "For later use, we store the feature labels of our training data in two variables, separated by categorical and continious features. Additionally, we store the label of our target variable (SalePrice)."
   ]
  },
  {
   "cell_type": "code",
   "execution_count": 4,
   "metadata": {
    "collapsed": true
   },
   "outputs": [],
   "source": [
    "CAT_VARS = ['MSSubClass', 'MSZoning', 'Street', 'Alley', 'LotShape',\n",
    "            'LandContour', 'Utilities', 'LotConfig', 'LandSlope',\n",
    "            'Neighborhood', 'Condition1', 'Condition2', 'BldgType',\n",
    "            'HouseStyle', 'RoofStyle', 'RoofMatl', 'Exterior1st',\n",
    "            'Exterior2nd', 'MasVnrType', 'ExterQual', 'ExterCond',\n",
    "            'Foundation', 'BsmtQual', 'BsmtCond', 'BsmtExposure',\n",
    "            'BsmtFinType1', 'BsmtFinType2', 'Heating', 'HeatingQC',\n",
    "            'CentralAir', 'Electrical', 'KitchenQual', 'Functional',\n",
    "            'FireplaceQu', 'GarageType', 'GarageFinish', 'GarageQual',\n",
    "            'GarageCond', 'PavedDrive', 'PoolQC', 'Fence', 'MiscFeature',\n",
    "            'MoSold', 'SaleType', 'SaleCondition']\n",
    "CONT_VARS = ['LotFrontage', 'LotArea', 'OverallQual', 'OverallCond',\n",
    "             'YearBuilt', 'YearRemodAdd', 'MasVnrArea', 'BsmtFinSF1',\n",
    "             'BsmtFinSF2', 'BsmtUnfSF', 'TotalBsmtSF', '1stFlrSF',\n",
    "             'BsmtFullBath', 'BsmtHalfBath', 'FullBath', 'HalfBath',\n",
    "             'BedroomAbvGr', 'KitchenAbvGr', 'TotRmsAbvGrd', 'Fireplaces',\n",
    "             'GarageYrBlt', 'GarageCars', 'GarageArea', 'WoodDeckSF',\n",
    "             'OpenPorchSF', 'EnclosedPorch', '3SsnPorch', 'ScreenPorch',\n",
    "             'PoolArea', 'MiscVal', 'YrSold']\n",
    "\n",
    "TARGET_VAR = ['SalePrice', ]"
   ]
  },
  {
   "cell_type": "markdown",
   "metadata": {},
   "source": [
    "# Preprocessing\n",
    "The house IDs are currently saved in the datasets as ordinary columns. Pandas, however, allows for explicitely specifying indeces, i.e. row labels (much like our feature/column labels). The following makes sure we use our own IDs as indeces."
   ]
  },
  {
   "cell_type": "code",
   "execution_count": 5,
   "metadata": {
    "collapsed": false
   },
   "outputs": [],
   "source": [
    "train.set_index('Id', inplace=True)\n",
    "test_kaggle.set_index('Id', inplace=True)"
   ]
  },
  {
   "cell_type": "markdown",
   "metadata": {},
   "source": [
    "The data contains of both categorial and continuous values. The following makes sure Pandas knows about this distinction and does not confuse the two by explicetely defining categorial features as such."
   ]
  },
  {
   "cell_type": "code",
   "execution_count": 6,
   "metadata": {
    "collapsed": false
   },
   "outputs": [],
   "source": [
    "for cat_var in CAT_VARS:\n",
    "    train[cat_var].astype('category')"
   ]
  },
  {
   "cell_type": "markdown",
   "metadata": {},
   "source": [
    "Some prediction models require continuous features only. Thus, dummify() converts categorial features with *m* different possible classes into *m* new features (columns) – one feature for each class. These dummified features are either 1 or 0. \n",
    "\n",
    "For clarification of what's happening, consider the following example:\n",
    "\n",
    "| Id | Street | → | Street_Gravel | Street_Paved |\n",
    "|----|--------|---|---------------|--------------|\n",
    "| 1  | Gravel | → | 1             | 0            |\n",
    "| 2  | Paved  | → | 0             | 1            |\n",
    "| 3  |        | → | 0             | 0            |\n",
    "| 4  | Paved  | → | 0             | 1            |\n",
    "\n",
    "We apply this dummification both to our training and to our test data. A nice side effect of that is that we do not have to deal with missing categorical values – they are simply set 0 in all the dummy columns (as shown in house 3 of the above example)."
   ]
  },
  {
   "cell_type": "code",
   "execution_count": 7,
   "metadata": {
    "collapsed": false
   },
   "outputs": [
    {
     "name": "stdout",
     "output_type": "stream",
     "text": [
      "train: (1460, 311)\n",
      "test: (1459, 293)\n"
     ]
    }
   ],
   "source": [
    "def dummify(data, update_cat_vars=False):\n",
    "    # This allows us to alter the global variable CAT_VARS within the function.\n",
    "    global CAT_VARS\n",
    "\n",
    "    # First, we save the data into two new DataFrames, split into categorical\n",
    "    # and continous features.\n",
    "    cont_df = data[CONT_VARS]\n",
    "    cat_df = data[CAT_VARS]\n",
    "    cat_vars_new = list(CAT_VARS)\n",
    "\n",
    "    # We iterate over each categorical variable, calculate the dummy variables,\n",
    "    # insert them into the cat_df DataFrame, and, finally, delete the original\n",
    "    # (categorical) feature from cat_df.\n",
    "    # Additionally, we save the labels of our newly created dummy features in\n",
    "    # CAT_VARS_new.\n",
    "    for cat_var in CAT_VARS:\n",
    "        dummies = pd.get_dummies(data[cat_var], prefix=cat_var)\n",
    "        cat_df = cat_df.join(dummies)\n",
    "        del cat_df[cat_var]\n",
    "\n",
    "        cat_vars_new.remove(cat_var)\n",
    "        cat_vars_new = cat_vars_new + dummies.columns.values.tolist()\n",
    "\n",
    "    # This merges the continuous and categorical features back into one\n",
    "    # DataFrame *result_df*.\n",
    "    result_df = cat_df.join(cont_df)\n",
    "\n",
    "    # Up to this point, the SalePrice is missing in our newly created DataFrame\n",
    "    # result_df. Here we try to insert it again. This might fail because there\n",
    "    # actually is no target variable in our test set (only in the train set).\n",
    "    # So, if adding the (potentially missing) SalePrice fails, we just go on\n",
    "    # without adding it.\n",
    "    try:\n",
    "        result_df = result_df.join(data[TARGET_VAR])\n",
    "    except:\n",
    "        pass\n",
    "\n",
    "    # Only update the global CAT_VARS labels if we passed the argument\n",
    "    # update_cat_vars to the function.\n",
    "    if (update_cat_vars):\n",
    "        CAT_VARS = cat_vars_new\n",
    "\n",
    "    return result_df\n",
    "\n",
    "# Finally, we dummify both train_df and test_df and print their shape to see\n",
    "# how the number of columns has increased. When running the function with the\n",
    "# train data we tell it to update our newly created dummy feature labels in\n",
    "# the CAT_VARS variable.\n",
    "test_kaggle = dummify(test_kaggle)\n",
    "train = dummify(train, update_cat_vars=True)\n",
    "\n",
    "print 'train:', train.shape\n",
    "print 'test:', test_kaggle.shape"
   ]
  },
  {
   "cell_type": "markdown",
   "metadata": {},
   "source": [
    "As our columns have changed during dummifying the data, we store the altered list of feature labels in the train data in a new list. As our target variable is not a feature we use for prediction, we exclude it from the list."
   ]
  },
  {
   "cell_type": "code",
   "execution_count": 8,
   "metadata": {
    "collapsed": false
   },
   "outputs": [],
   "source": [
    "VARS_X = list(train.columns)\n",
    "VARS_X.remove(TARGET_VAR[0])"
   ]
  },
  {
   "cell_type": "markdown",
   "metadata": {},
   "source": [
    "We dummified our test and train data separately. As not every class (category value) used in the train data is also used in the test data, and vice versa, our columns might no longer match. In order to make sure to realign the number of features (i.e. get the same number of columns), we check for columns which are present in the train data but missing in the test data, add these missing columns to the test data and fill them with zeros (as they apparently aren't present in the test set). Columns present in the test set but not in the train set are entirely dropped from the test set as our model cannot use them for prediction anyway."
   ]
  },
  {
   "cell_type": "code",
   "execution_count": 9,
   "metadata": {
    "collapsed": false
   },
   "outputs": [
    {
     "name": "stdout",
     "output_type": "stream",
     "text": [
      "train: (1460, 311)\n",
      "test: (1459, 310)\n"
     ]
    }
   ],
   "source": [
    "cols_missing_in_test = set(VARS_X) - set(test_kaggle.columns)\n",
    "for col in cols_missing_in_test:\n",
    "    test_kaggle[col] = 0\n",
    "    \n",
    "cols_missing_in_train = set(test_kaggle.columns) - set(VARS_X)\n",
    "for col in cols_missing_in_train:\n",
    "    del test_kaggle[col]\n",
    "    CAT_VARS = list(set(CAT_VARS) - set(cols_missing_in_train))\n",
    "\n",
    "print 'train:', train.shape\n",
    "print 'test:', test_kaggle.shape"
   ]
  },
  {
   "cell_type": "markdown",
   "metadata": {},
   "source": [
    "<font color=\"red\">**TO DO:**</font> As outliers potentially bias our model (depending on the prediction model), they might need to be eliminated from the train data. In the following example we simply drop all the lines that differ in at least one column by more than 3 standard deviations from the column mean. But this seems to be a bad idea as it just makes our dataset a lot smaller. We get better mean squared errors when slicing our train data into a subset + validation set. But as soon as we apply it to the test data, Kaggle reports lower scores – so we are sort of punished for training or model based on a smaller train dataset. So we might need to investigate more sophisticated methods of outlier handling."
   ]
  },
  {
   "cell_type": "code",
   "execution_count": 10,
   "metadata": {
    "collapsed": false
   },
   "outputs": [],
   "source": [
    "# Drop each row which has an outlier in at least one cell. An outlier is\n",
    "# defined as being more than 3 standard devidations above or below the\n",
    "# column mean.\n",
    "\n",
    "# WARNING: This simple approach does not really work well as it drops nearly\n",
    "#          all instances. A quick research revealed that we should either use\n",
    "#          a more sophisticated outlier detection model (e.g. k-nearest\n",
    "#          neighbor clustering), or that we should use a prediction model more\n",
    "#          robust to outliers (e.g. Random Forest).\n",
    "\n",
    "# for cont_var in CONT_VARS:\n",
    "#    train = train[np.abs(train[cont_var] - train[cont_var].mean()) <= (3 * train[cont_var].std())]\n",
    "\n",
    "# train = eliminate_outliers(train)\n",
    "# print 'train:', train.shape"
   ]
  },
  {
   "cell_type": "markdown",
   "metadata": {},
   "source": [
    "Both the train and the test data have a lot of missing values. The categorical variables are already covered but we still need to fill the gaps of the continuous features. The following fills all missing values by the entire column's mean. Note that the values used to fill the missing test data cells need to be based on the train data's column means."
   ]
  },
  {
   "cell_type": "code",
   "execution_count": 11,
   "metadata": {
    "collapsed": true
   },
   "outputs": [],
   "source": [
    "train = train.fillna(train.mean())\n",
    "test_kaggle = test_kaggle.fillna(train.mean())"
   ]
  },
  {
   "cell_type": "markdown",
   "metadata": {},
   "source": [
    "The scales of our features vary to a great extent. Whereas the categorical features range from 0 to 1, continuous features like *BsmtUnfSF* range from 0 to well over a thousand. Some prediction models require features within the same scale. One way to achieve this is standardizing the data using z-cores. It's a convention which recalculates a column so that the mean equals 0 and one standard deviation equals 1. This way, the data is distributed more or less around 0. The scaler is learned based on the train data and subsequently applied to the train data. As our binary category variables already are within the desired scale, we only apply the standardization to the continous variables (as suggested by <a href=\"http://andrewgelman.com/2009/07/11/when_to_standar/\" target=\"_blank\">Gelman, 2009</a>)"
   ]
  },
  {
   "cell_type": "code",
   "execution_count": 12,
   "metadata": {
    "collapsed": true
   },
   "outputs": [],
   "source": [
    "# WARNING: The following code might not work as expected. It created some\n",
    "#          weird negative results with the Linear Regression model. So better\n",
    "#          use it with caution.\n",
    "\n",
    "#scaler = preprocessing.StandardScaler().fit(train[CONT_VARS])\n",
    "#train[CONT_VARS] = scaler.transform(train[CONT_VARS])\n",
    "#test_kaggle[CONT_VARS] = scaler.transform(test_kaggle[CONT_VARS])"
   ]
  },
  {
   "cell_type": "markdown",
   "metadata": {},
   "source": [
    "In order to get a sense of how the data looks at this point, we export our train and test data as csv files. After running the next code block, they can be found in the same folder as this notebook. Note that you might encounter errors if you try to export the files while still having an older version opened."
   ]
  },
  {
   "cell_type": "code",
   "execution_count": 13,
   "metadata": {
    "collapsed": false
   },
   "outputs": [],
   "source": [
    "train.to_csv('clean_train.csv', sept=',', index=False)\n",
    "test_kaggle.to_csv('clean_test.csv', sept=',', index=False)"
   ]
  },
  {
   "cell_type": "markdown",
   "metadata": {},
   "source": [
    "Last not least, we split our train data into two smaller fractions: into a train and a validation set. This allows us two measure the performance of our predictions (without involving the test set which we can only evaluate by uploading it to Kaggle)."
   ]
  },
  {
   "cell_type": "code",
   "execution_count": 14,
   "metadata": {
    "collapsed": false
   },
   "outputs": [
    {
     "name": "stdout",
     "output_type": "stream",
     "text": [
      "train (80%):\n",
      "(1460, 311)\n",
      "validation (20%):\n",
      "(292, 311)\n"
     ]
    }
   ],
   "source": [
    "# Store all the feature labels of train_df into a list; remove the SalePrice.\n",
    "features = train.columns.tolist()\n",
    "features.remove(TARGET_VAR[0])\n",
    "\n",
    "# Generate the training set. Set random_state to be able to replicate results.\n",
    "# Our train data will contain 80% of train_df.\n",
    "train_frac = train.sample(frac=0.8, random_state=43)\n",
    "\n",
    "# Select anything not in the training set (20%) and put it in the validation\n",
    "# set.\n",
    "validation = train.loc[~train.index.isin(train_frac.index)]\n",
    "\n",
    "print \"train (80%):\"\n",
    "print train.shape\n",
    "print \"validation (20%):\"\n",
    "print validation.shape"
   ]
  },
  {
   "cell_type": "markdown",
   "metadata": {},
   "source": [
    "Here we create an empty DataFrame where we fill in all the predictions on our train dataset for later use when we tune our final mixed model."
   ]
  },
  {
   "cell_type": "code",
   "execution_count": 15,
   "metadata": {
    "collapsed": true
   },
   "outputs": [],
   "source": [
    "mixed_model_predictions_train = pd.DataFrame()"
   ]
  },
  {
   "cell_type": "markdown",
   "metadata": {},
   "source": [
    "# Linear Regression\n",
    "Now we're finally ready two use our preprocessed data for training a linear regression model based on the 80 % train set."
   ]
  },
  {
   "cell_type": "code",
   "execution_count": 16,
   "metadata": {
    "collapsed": false
   },
   "outputs": [
    {
     "name": "stdout",
     "output_type": "stream",
     "text": [
      "Mean Sqared Error: 3282396618.54\n"
     ]
    }
   ],
   "source": [
    "# Initialize the model class.\n",
    "linear_regression_model = LinearRegression() #(normalize=True)?\n",
    "\n",
    "# Fit the model to the 80% training data.\n",
    "linear_regression_model.fit(train_frac[features], train_frac[TARGET_VAR[0]])\n",
    "\n",
    "# Generate our predictions for the validation set.\n",
    "predictions = linear_regression_model.predict(validation[features])\n",
    "\n",
    "# Compute error between our validation predictions and the actual values.\n",
    "print 'Mean Sqared Error:', mean_squared_error(predictions,\n",
    "                                               validation[TARGET_VAR[0]])"
   ]
  },
  {
   "cell_type": "markdown",
   "metadata": {},
   "source": [
    "Next, we print a learning curve to examine if our model suffers from overfitting or underfitting."
   ]
  },
  {
   "cell_type": "code",
   "execution_count": 17,
   "metadata": {
    "collapsed": true
   },
   "outputs": [],
   "source": [
    "def learning_curve(X_train, y_train, X_test, y_test, model, scale):\n",
    "    # We will vary the training set size so that we have 100 different sizes\n",
    "    sizes = np.round(np.linspace(1, len(X_train), 25))\n",
    "    train_err = np.zeros(len(sizes))\n",
    "    test_err = np.zeros(len(sizes))\n",
    "    X_train = X_train.sample(frac=1) # random_state=42\n",
    "    for i, s in enumerate(sizes):\n",
    "        # Create and fit the regressor model\n",
    "        model.fit(X_train[:int(s)], y_train[:int(s)])\n",
    "   \n",
    "        # Find the performance on the training and testing set\n",
    "        train_err[i] = mean_squared_error(y_train[:int(s)], model.predict(X_train[:int(s)]))\n",
    "        test_err[i] = mean_squared_error(y_test, model.predict(X_test))\n",
    "        \n",
    "    # Plot learning curve graph\n",
    "    learning_curve_graph(sizes, train_err, test_err, scale)\n",
    "\n",
    "def learning_curve_graph(sizes, train_err, test_err, scale):\n",
    "    plt.figure()\n",
    "    plt.title('Learning Curve')\n",
    "    plt.plot(sizes, test_err, label='test error')\n",
    "    plt.plot(sizes, train_err, label='training error')\n",
    "    plt.legend()\n",
    "    plt.xlabel('Training Size')\n",
    "    plt.ylabel('Error')\n",
    "    plt.ylim(scale)\n",
    "    plt.show()    "
   ]
  },
  {
   "cell_type": "code",
   "execution_count": 18,
   "metadata": {
    "collapsed": false
   },
   "outputs": [
    {
     "data": {
      "image/png": "[encoded data removed]",
      "text/plain": [
       "<matplotlib.figure.Figure at 0xbc58940>"
      ]
     },
     "metadata": {},
     "output_type": "display_data"
    }
   ],
   "source": [
    "learning_curve(train_frac[features],\n",
    "               train_frac[TARGET_VAR[0]],\n",
    "               validation[features],\n",
    "               validation[TARGET_VAR[0]],\n",
    "               LinearRegression(),\n",
    "               [0, 20000000000])"
   ]
  },
  {
   "cell_type": "markdown",
   "metadata": {},
   "source": [
    "Happy with the mean squared error (the lower the better)? If yes, we can improve our model by using the entire 100% of our train_df."
   ]
  },
  {
   "cell_type": "code",
   "execution_count": 19,
   "metadata": {
    "collapsed": false
   },
   "outputs": [
    {
     "data": {
      "text/plain": [
       "LinearRegression(copy_X=True, fit_intercept=True, n_jobs=1, normalize=False)"
      ]
     },
     "execution_count": 19,
     "metadata": {},
     "output_type": "execute_result"
    }
   ],
   "source": [
    "linear_regression_model = LinearRegression() #(normalize=True)?\n",
    "linear_regression_model.fit(train[features], train[TARGET_VAR[0]])"
   ]
  },
  {
   "cell_type": "markdown",
   "metadata": {},
   "source": [
    "Now we can use this improved model to predict the housing prices of our test data."
   ]
  },
  {
   "cell_type": "code",
   "execution_count": 20,
   "metadata": {
    "collapsed": false
   },
   "outputs": [
    {
     "data": {
      "text/plain": [
       "(1459L,)"
      ]
     },
     "execution_count": 20,
     "metadata": {},
     "output_type": "execute_result"
    }
   ],
   "source": [
    "predictions = linear_regression_model.predict(test_kaggle[features])\n",
    "predictions.shape"
   ]
  },
  {
   "cell_type": "markdown",
   "metadata": {},
   "source": [
    "Due to a lack of a validation set, we are now no longer able to compute the mean squared error. But by uploading our predictions for the test set to Kaggle, we can get an even better sense of how good we're doing. This requires preparing a csv file according to Kaggle's requirements: one column with the ID, and one column with the predicted SalePrice. We create a function we can also reuse for other models than Linear Regression."
   ]
  },
  {
   "cell_type": "code",
   "execution_count": 21,
   "metadata": {
    "collapsed": false
   },
   "outputs": [],
   "source": [
    "def export_csv(predictions, model):\n",
    "    # Get the IDs from the indeces we earlier stored in test_df.\n",
    "    ids = test_kaggle.index.values\n",
    "\n",
    "    # Stack the IDs and predictions into a numpy array and transpose it into\n",
    "    # vertical form.\n",
    "    submission = np.vstack((ids, predictions)).T\n",
    "\n",
    "    # Convert the submission array into a Pandas DataFrame object.\n",
    "    submission = pd.DataFrame(data=submission, columns=['Id', 'SalePrice'])\n",
    "\n",
    "    # Convert Id from float to int to avoid .0 notation.\n",
    "    submission['Id'] = submission['Id'].astype(int)\n",
    "    \n",
    "    # Convert possible negative predicted values to 0\n",
    "    submission[submission < 0] = 0\n",
    "\n",
    "    # Print the shape of the newly created submission DataFrame.\n",
    "    print 'Submission:', submission.shape\n",
    "    \n",
    "    # Export the submissions to a csv file.\n",
    "    submission.to_csv('submission_' + model + '.csv', sept=',', index=False)"
   ]
  },
  {
   "cell_type": "markdown",
   "metadata": {},
   "source": [
    "Now we can call the export_csv function to print our Linear Regression predictions to a csv file called submission_linear_regression.csv."
   ]
  },
  {
   "cell_type": "code",
   "execution_count": 22,
   "metadata": {
    "collapsed": false
   },
   "outputs": [
    {
     "name": "stdout",
     "output_type": "stream",
     "text": [
      "Submission: (1459, 2)\n"
     ]
    }
   ],
   "source": [
    "export_csv(predictions, 'linear_regression')"
   ]
  },
  {
   "cell_type": "markdown",
   "metadata": {},
   "source": [
    "# Ridge Regression\n",
    "Ridge regression is a linear regression model with regularization. The alpha value which determines the degree to which high weights are penalized in order to simplify the function and to avoid overfitting needs to be optimized."
   ]
  },
  {
   "cell_type": "code",
   "execution_count": 23,
   "metadata": {
    "collapsed": false
   },
   "outputs": [
    {
     "name": "stdout",
     "output_type": "stream",
     "text": [
      "alpha: 11.0\n"
     ]
    }
   ],
   "source": [
    "# This list contains all the different values we want to test with\n",
    "# our hyperparameter alpha.\n",
    "alphas = [0.01, 0.02, 0.04, 0.08, 0.16, 0.32, 0.64, 1.28, 2.56, 5.12,\n",
    "          10, 11, 12, 13, 14, 15, 16, 17, 18, 19, 20, 30, 40, 50, 60,\n",
    "          70, 80, 90, 100]\n",
    "\n",
    "# Train a new Ridge regression model on the 100% train data while\n",
    "# trying different values for alpha.\n",
    "ridge_regression_model = RidgeCV(alphas=alphas)\n",
    "ridge_regression_model.fit(train[features], train[TARGET_VAR[0]])\n",
    "\n",
    "# Save optimal value for alpha in a variable for later use.\n",
    "alpha = ridge_regression_model.alpha_\n",
    "print 'alpha:', alpha"
   ]
  },
  {
   "cell_type": "markdown",
   "metadata": {},
   "source": [
    "In order to evaluate our model with the optimized alpha value, we print a learning curve which indicates if our model suffers from overfitting."
   ]
  },
  {
   "cell_type": "code",
   "execution_count": 24,
   "metadata": {
    "collapsed": false
   },
   "outputs": [
    {
     "data": {
      "image/png": "[encoded data removed]",
      "text/plain": [
       "<matplotlib.figure.Figure at 0xd54d7f0>"
      ]
     },
     "metadata": {},
     "output_type": "display_data"
    }
   ],
   "source": [
    "learning_curve(train_frac[features],\n",
    "               train_frac[TARGET_VAR[0]],\n",
    "               validation[features],\n",
    "               validation[TARGET_VAR[0]],\n",
    "               Ridge(alpha=alpha),\n",
    "               [0, 10000000000])"
   ]
  },
  {
   "cell_type": "markdown",
   "metadata": {},
   "source": [
    "If everything looks good, we can save our predictions to a csv file for submission to Kaggle."
   ]
  },
  {
   "cell_type": "code",
   "execution_count": 25,
   "metadata": {
    "collapsed": false
   },
   "outputs": [
    {
     "name": "stdout",
     "output_type": "stream",
     "text": [
      "Submission: (1459, 2)\n"
     ]
    }
   ],
   "source": [
    "predictions = ridge_regression_model.predict(test_kaggle[features])\n",
    "export_csv(predictions, 'ridge_regression')"
   ]
  },
  {
   "cell_type": "markdown",
   "metadata": {},
   "source": [
    "# Lasso Regression"
   ]
  },
  {
   "cell_type": "code",
   "execution_count": 26,
   "metadata": {
    "collapsed": false
   },
   "outputs": [
    {
     "name": "stdout",
     "output_type": "stream",
     "text": [
      "alpha: 140\n"
     ]
    }
   ],
   "source": [
    "# This list contains all the different values we want to test with\n",
    "# our hyperparameter alpha.\n",
    "alphas = [100, 110, 120, 130, 140, 150, 160, 170, 180, 190, 200,\n",
    "          210, 220, 230, 240, 250, 260, 270]\n",
    "\n",
    "# Train a new Lasso regression model on the 100% train data while\n",
    "# trying different values for alpha.\n",
    "lasso_regression_model = LassoCV(alphas=alphas)\n",
    "lasso_regression_model.fit(train[features], train[TARGET_VAR[0]])\n",
    "\n",
    "# Save optimal value for alpha in a variable for later use.\n",
    "alpha = lasso_regression_model.alpha_\n",
    "print 'alpha:', alpha"
   ]
  },
  {
   "cell_type": "code",
   "execution_count": 27,
   "metadata": {
    "collapsed": false
   },
   "outputs": [
    {
     "name": "stderr",
     "output_type": "stream",
     "text": [
      "C:\\Anaconda2\\lib\\site-packages\\sklearn\\linear_model\\coordinate_descent.py:466: ConvergenceWarning: Objective did not converge. You might want to increase the number of iterations\n",
      "  ConvergenceWarning)\n"
     ]
    },
    {
     "data": {
      "image/png": "[encoded data removed]",
      "text/plain": [
       "<matplotlib.figure.Figure at 0xd55a630>"
      ]
     },
     "metadata": {},
     "output_type": "display_data"
    }
   ],
   "source": [
    "learning_curve(train_frac[features],\n",
    "               train_frac[TARGET_VAR[0]],\n",
    "               validation[features],\n",
    "               validation[TARGET_VAR[0]],\n",
    "               Lasso(alpha=alpha),\n",
    "               [0, 10000000000])"
   ]
  },
  {
   "cell_type": "code",
   "execution_count": 28,
   "metadata": {
    "collapsed": false
   },
   "outputs": [
    {
     "name": "stdout",
     "output_type": "stream",
     "text": [
      "Submission: (1459, 2)\n"
     ]
    }
   ],
   "source": [
    "predictions = lasso_regression_model.predict(test_kaggle[features])\n",
    "export_csv(predictions, 'lasso_regression')"
   ]
  },
  {
   "cell_type": "code",
   "execution_count": 29,
   "metadata": {
    "collapsed": false
   },
   "outputs": [],
   "source": [
    "mixed_model_predictions_train[\"lasso\"] = lasso_regression_model.predict(train[features])"
   ]
  },
  {
   "cell_type": "markdown",
   "metadata": {},
   "source": [
    "# Random Forest Regressor\n",
    "Now we can try out another method: Random Forest Regressor. In the following code block we optimize a few hyperparameters with a Grid Search."
   ]
  },
  {
   "cell_type": "markdown",
   "metadata": {},
   "source": [
    "Here we try a Grid Search to estimate the optimal hyperparameters for the Random Forest."
   ]
  },
  {
   "cell_type": "code",
   "execution_count": 30,
   "metadata": {
    "collapsed": false
   },
   "outputs": [
    {
     "name": "stdout",
     "output_type": "stream",
     "text": [
      "max_depth: 15\n",
      "max_features: 0.12\n",
      "min_samples_split: 3\n",
      "min_samples_leaf: 1\n",
      "bootstrap: False\n",
      "n_jobs: -1\n"
     ]
    }
   ],
   "source": [
    "# We set n_estimators to a fixed value upfront. There's no point in\n",
    "# optimnizing it because it just represents a trade-off between\n",
    "# prediction quality and computational cost: The higher the value\n",
    "# the better the prediction but also the slower the computation.\n",
    "n_estimators = 25\n",
    "\n",
    "# We set n_jobs to -1 so that the number of used processors is not\n",
    "# limited.\n",
    "n_jobs = -1\n",
    "\n",
    "# We set random_state to an arbitrary fixed value to make sure the\n",
    "# results during testing are comparable.\n",
    "random_state = 42\n",
    "\n",
    "# Initialize the random forest model.\n",
    "random_forest_model = RandomForestRegressor(n_estimators=n_estimators,\n",
    "                                            random_state=random_state,\n",
    "                                            n_jobs=n_jobs)\n",
    "\n",
    "# This grid contains all the different values we want to test with\n",
    "# our hyperparameters. The larger the grid, the longer the optimization\n",
    "# takes because all possible combinations are tested.\n",
    "param_grid = {\"max_depth\": [14, 15, 16],\n",
    "              \"max_features\": [.11, .12, .13],\n",
    "              \"min_samples_split\": [3],\n",
    "              \"min_samples_leaf\": [1],\n",
    "              \"bootstrap\": [False]}\n",
    "\n",
    "# Initialize the grid search with our random forest model and our\n",
    "# parameter grid.\n",
    "grid_search = GridSearchCV(estimator=random_forest_model,\n",
    "                           param_grid=param_grid)\n",
    "\n",
    "# Fit grid search to the training data.\n",
    "grid_search.fit(train[features], train[TARGET_VAR[0]])\n",
    "\n",
    "# Save the optimal values for the hyperparameters in new variables\n",
    "# for later use.\n",
    "max_depth = grid_search.best_estimator_.max_depth\n",
    "max_features = grid_search.best_estimator_.max_features\n",
    "min_samples_split = grid_search.best_estimator_.min_samples_split\n",
    "min_samples_leaf = grid_search.best_estimator_.min_samples_leaf\n",
    "bootstrap = grid_search.best_estimator_.bootstrap\n",
    "\n",
    "# Show optimized values for our hyperparameters.\n",
    "print 'max_depth:', max_depth\n",
    "print 'max_features:', max_features\n",
    "print 'min_samples_split:', min_samples_split\n",
    "print 'min_samples_leaf:', min_samples_leaf\n",
    "print 'bootstrap:', bootstrap\n",
    "print 'n_jobs:', n_jobs"
   ]
  },
  {
   "cell_type": "markdown",
   "metadata": {},
   "source": [
    "Now we can fit the model to our 100% train dataset, predict the values for Kaggle's test dataset, and export the results into a csv file."
   ]
  },
  {
   "cell_type": "code",
   "execution_count": 31,
   "metadata": {
    "collapsed": false
   },
   "outputs": [
    {
     "name": "stdout",
     "output_type": "stream",
     "text": [
      "RandomForestRegressor(bootstrap=False, criterion='mse', max_depth=15,\n",
      "           max_features=0.12, max_leaf_nodes=None, min_samples_leaf=1,\n",
      "           min_samples_split=3, min_weight_fraction_leaf=0.0,\n",
      "           n_estimators=25, n_jobs=-1, oob_score=False, random_state=42,\n",
      "           verbose=0, warm_start=False)\n",
      "Submission: (1459, 2)\n"
     ]
    }
   ],
   "source": [
    "random_forest_model = RandomForestRegressor(\n",
    "    random_state=random_state,\n",
    "    n_estimators=n_estimators,\n",
    "    max_features=max_features,\n",
    "    max_depth=max_depth,\n",
    "    min_samples_split=min_samples_split,\n",
    "    min_samples_leaf=min_samples_leaf,\n",
    "    bootstrap=bootstrap,\n",
    "    n_jobs=n_jobs\n",
    ")\n",
    "\n",
    "random_forest_model.fit(train[features], train[TARGET_VAR[0]])\n",
    "print random_forest_model\n",
    "predictions = random_forest_model.predict(test_kaggle[features])\n",
    "export_csv(predictions, 'random_forest_regressor')"
   ]
  },
  {
   "cell_type": "code",
   "execution_count": 32,
   "metadata": {
    "collapsed": false
   },
   "outputs": [],
   "source": [
    "mixed_model_predictions_train[\"random_forest\"] = random_forest_model.predict(train[features])"
   ]
  },
  {
   "cell_type": "markdown",
   "metadata": {},
   "source": [
    "# AdaBoost"
   ]
  },
  {
   "cell_type": "markdown",
   "metadata": {},
   "source": [
    "AdaBoost combines multiple iterations of a weak learner, weights the results, and ultimately outputs reasonable predictions. We use a shallow Random Forest model as weak learner. In the following codeblock, we optimize the hyperparameters."
   ]
  },
  {
   "cell_type": "code",
   "execution_count": 33,
   "metadata": {
    "collapsed": false
   },
   "outputs": [
    {
     "data": {
      "text/plain": [
       "GridSearchCV(cv=None, error_score='raise',\n",
       "       estimator=AdaBoostRegressor(base_estimator=DecisionTreeRegressor(criterion='mse', max_depth=None, max_features=None,\n",
       "           max_leaf_nodes=None, min_samples_leaf=1, min_samples_split=2,\n",
       "           min_weight_fraction_leaf=0.0, presort=False, random_state=None,\n",
       "           splitter='best'),\n",
       "         learning_rate=1.0, loss='linear', n_estimators=50,\n",
       "         random_state=42),\n",
       "       fit_params={}, iid=True, n_jobs=1,\n",
       "       param_grid={'n_estimators': [106, 107, 108], 'base_estimator__min_samples_split': [1], 'base_estimator__max_depth': [21, 22, 23], 'base_estimator__min_samples_leaf': [2], 'base_estimator__max_features': [0.39, 0.4, 0.41]},\n",
       "       pre_dispatch='2*n_jobs', refit=True, scoring=None, verbose=0)"
      ]
     },
     "execution_count": 33,
     "metadata": {},
     "output_type": "execute_result"
    }
   ],
   "source": [
    "# We set random_state to an arbitrary fixed value to make sure the\n",
    "# results during testing are comparable.\n",
    "random_state = 42\n",
    "\n",
    "# We set n_jobs to -1 so that the number of used processors is not\n",
    "# limited.\n",
    "n_jobs = -1\n",
    "\n",
    "# Initialize our weak learner, a random forest regressor.\n",
    "decision_tree_model = DecisionTreeRegressor()\n",
    "\n",
    "# Initialize AdaBoost model with random forest as weak learner.\n",
    "adaboost_model = AdaBoostRegressor(base_estimator=decision_tree_model,\n",
    "                                   random_state=random_state)\n",
    "\n",
    "# This grid contains all the different values we want to test with\n",
    "# our hyperparameters. The larger the grid, the longer the optimization\n",
    "# takes because all possible combinations are tested.\n",
    "param_grid = {\"n_estimators\": [106, 107, 108],\n",
    "              \"base_estimator__max_depth\": [21, 22, 23],\n",
    "              \"base_estimator__max_features\": [.39, .4, .41],\n",
    "              \"base_estimator__min_samples_split\": [1],\n",
    "              \"base_estimator__min_samples_leaf\": [2]}\n",
    "\n",
    "# Initialize the grid search with our AdaBoost model and our\n",
    "# parameter grid.\n",
    "grid_search = GridSearchCV(estimator=adaboost_model,\n",
    "                           param_grid=param_grid)\n",
    "\n",
    "# Fit grid search to the training data.\n",
    "grid_search.fit(train[features], train[TARGET_VAR[0]])"
   ]
  },
  {
   "cell_type": "code",
   "execution_count": 34,
   "metadata": {
    "collapsed": false
   },
   "outputs": [
    {
     "name": "stdout",
     "output_type": "stream",
     "text": [
      "n_estimators: 107\n",
      "base_estimator__max_depth: 22\n",
      "base_estimator__max_features: 0.4\n",
      "base_estimator__min_samples_split: 1\n",
      "base_estimator__min_samples_leaf: 2\n"
     ]
    }
   ],
   "source": [
    "# Save the optimal values for the hyperparameters in new variables\n",
    "# for later use.\n",
    "n_estimators = grid_search.best_estimator_.n_estimators\n",
    "base_estimator__max_depth = grid_search.best_estimator_.base_estimator.max_depth\n",
    "base_estimator__max_features = grid_search.best_estimator_.base_estimator.max_features\n",
    "base_estimator__min_samples_split = grid_search.best_estimator_.base_estimator.min_samples_split\n",
    "base_estimator__min_samples_leaf = grid_search.best_estimator_.base_estimator.min_samples_leaf\n",
    "\n",
    "# Show optimized values for our hyperparameters.\n",
    "print 'n_estimators:', n_estimators # 107\n",
    "print 'base_estimator__max_depth:', base_estimator__max_depth # 22\n",
    "print 'base_estimator__max_features:', base_estimator__max_features # .4\n",
    "print 'base_estimator__min_samples_split:', base_estimator__min_samples_split # 1\n",
    "print 'base_estimator__min_samples_leaf:', base_estimator__min_samples_leaf #2"
   ]
  },
  {
   "cell_type": "markdown",
   "metadata": {},
   "source": [
    "Finally, we run another AdaBoost regressor with the optimized hyperparameters on the Kaggle test dataset and export our predictions into a csv file."
   ]
  },
  {
   "cell_type": "code",
   "execution_count": 35,
   "metadata": {
    "collapsed": false
   },
   "outputs": [
    {
     "name": "stdout",
     "output_type": "stream",
     "text": [
      "Submission: (1459, 2)\n",
      "AdaBoostRegressor(base_estimator=DecisionTreeRegressor(criterion='mse', max_depth=22, max_features=0.4,\n",
      "           max_leaf_nodes=None, min_samples_leaf=2, min_samples_split=1,\n",
      "           min_weight_fraction_leaf=0.0, presort=False, random_state=None,\n",
      "           splitter='best'),\n",
      "         learning_rate=1.0, loss='linear', n_estimators=107,\n",
      "         random_state=42)\n"
     ]
    }
   ],
   "source": [
    "decision_tree_model = DecisionTreeRegressor(\n",
    "    max_depth=base_estimator__max_depth,\n",
    "    max_features=base_estimator__max_features,\n",
    "    min_samples_split=base_estimator__min_samples_split,\n",
    "    min_samples_leaf=base_estimator__min_samples_leaf\n",
    ")\n",
    "\n",
    "adaboost_model = AdaBoostRegressor(\n",
    "    base_estimator=decision_tree_model,\n",
    "    random_state=random_state,\n",
    "    n_estimators=n_estimators\n",
    ")\n",
    "\n",
    "adaboost_model.fit(train[features], train[TARGET_VAR[0]])\n",
    "predictions = adaboost_model.predict(test_kaggle[features])\n",
    "export_csv(predictions, 'adaboost')\n",
    "print adaboost_model"
   ]
  },
  {
   "cell_type": "code",
   "execution_count": 36,
   "metadata": {
    "collapsed": false
   },
   "outputs": [],
   "source": [
    "mixed_model_predictions_train[\"adaboost\"] = adaboost_model.predict(train[features])"
   ]
  },
  {
   "cell_type": "markdown",
   "metadata": {},
   "source": [
    "# Mixed Model: Average\n",
    "Now we take the average of all our comparably good models to make a prediction which is, hopefully, even better as it balances out the different biases."
   ]
  },
  {
   "cell_type": "code",
   "execution_count": 37,
   "metadata": {
    "collapsed": false
   },
   "outputs": [
    {
     "name": "stdout",
     "output_type": "stream",
     "text": [
      "Submission: (1459, 2)\n"
     ]
    }
   ],
   "source": [
    "# Store predictions of the different models in DataFrame objects.\n",
    "lasso = pd.read_csv('submission_lasso_regression.csv')\n",
    "random_forest = pd.read_csv('submission_random_forest_regressor.csv')\n",
    "adaboost = pd.read_csv('submission_adaboost.csv')\n",
    "\n",
    "# Set columns indices.\n",
    "lasso.set_index('Id', inplace=True)\n",
    "random_forest.set_index('Id', inplace=True)\n",
    "adaboost.set_index('Id', inplace=True)\n",
    "\n",
    "# Rename columns\n",
    "lasso.columns = ['lasso']\n",
    "random_forest.columns = ['random_forest']\n",
    "adaboost.columns = ['adaboost']\n",
    "\n",
    "# Merge model predictions into one DataFrame object.\n",
    "mixed_model_predictions_test = pd.concat([adaboost, lasso, random_forest], axis=1)\n",
    "\n",
    "# Calculate mean values of the models' predictions.\n",
    "predictions = mixed_model_predictions_test.mean(axis=1).as_matrix()\n",
    "\n",
    "# Export mean predictions to a csv submission file.\n",
    "export_csv(predictions, 'mixed_mean')"
   ]
  },
  {
   "cell_type": "markdown",
   "metadata": {},
   "source": [
    "# Mixed Model: Linear Regression\n",
    "The mixed model above simply used the average of our different models' predictions. However, this does not take into account the different biases of our models. Consequently, we now calculate a linear regression with the different model predictions for our training examples as features and the actual SalePrices as target variable. This way, we can calculate weights which we can use to control the weighted influence of each model's predictions on the final predictions of the mixed model."
   ]
  },
  {
   "cell_type": "code",
   "execution_count": 41,
   "metadata": {
    "collapsed": false
   },
   "outputs": [
    {
     "name": "stdout",
     "output_type": "stream",
     "text": [
      "           adaboost          lasso  random_forest      SalePrice\n",
      "Id                                                              \n",
      "1461  128950.000000  116292.269047  133032.432718  124809.362928\n",
      "1462  154950.000000  158441.205394  152421.175466  154787.571727\n",
      "1463  175500.000000  175575.635557  185589.071355  180957.075675\n",
      "1464  190000.000000  196097.642226  199404.538456  197970.433166\n",
      "1465  196800.000000  211851.339703  192505.852000  201300.424871\n",
      "1466  179950.000000  166377.335866  184054.468454  175727.522505\n",
      "1467  172200.000000  184780.072542  184647.976156  184778.547813\n",
      "1468  177666.666667  167078.706459  176355.681152  171781.782264\n",
      "1469  179821.666667  200972.942237  173379.993652  185846.625969\n",
      "1470  125500.000000  106057.263932  128132.295037  117365.687623\n",
      "1471  211075.000000  184882.832589  222860.503667  205488.453679\n",
      "1472   97500.000000  108008.343298   93495.377156   99402.504226\n",
      "1473  101000.000000   97681.932898  108440.997942  102908.072978\n",
      "1474  150600.000000  149047.324054  151036.521685  149724.477989\n",
      "1475  141250.000000  103296.739422  128341.628077  115887.838242\n",
      "1476  378500.000000  364459.110722  387456.820000  378071.781302\n",
      "1477  255250.000000  251360.687508  248322.289524  249837.863202\n",
      "1478  315166.666667  320917.274644  302324.626000  311314.510389\n",
      "1479  263333.333333  311154.177439  284980.317333  298065.676901\n",
      "1480  466500.000000  464635.016002  482509.820000  476266.336184\n",
      "1481  287500.000000  309003.887527  325425.014286  319268.455082\n",
      "1482  205625.000000  215940.601233  203251.821777  209055.786612\n",
      "1483  181792.500000  172409.144352  187330.899216  180335.997526\n",
      "1484  184833.333333  166823.180246  181768.070098  174556.687304\n",
      "1485  180000.000000  195626.690982  183321.752308  188929.673792\n",
      "1486  205000.000000  200920.122851  204191.139186  202603.603575\n",
      "1487  297000.000000  337052.548903  309964.783333  323466.907062\n",
      "1488  246033.333333  234488.643581  229445.560000  231581.097363\n",
      "1489  206600.000000  189525.596057  214232.816923  202899.517975\n",
      "1490  208900.000000  253471.935230  254708.890000  255315.237220\n",
      "...             ...            ...            ...            ...\n",
      "2890   82833.333333   73750.524294   91832.320171   82813.747951\n",
      "2891  132000.000000  134686.370053  128962.084675  131028.240257\n",
      "2892   63750.000000   37197.627495   81038.860000   60123.807115\n",
      "2893  100800.000000   97000.721625  107822.693333  102248.224993\n",
      "2894   55993.000000   55480.674059   70389.186667   62814.516333\n",
      "2895  320725.000000  339779.822435  324588.611429  332469.281373\n",
      "2896  275000.000000  288457.977570  290778.571429  290523.349133\n",
      "2897  193500.000000  216851.985805  214610.984127  216088.696717\n",
      "2898  141800.000000  162971.625406  149733.197492  155648.050363\n",
      "2899  223500.000000  227101.360519  231976.788867  230006.152795\n",
      "2900  165166.666667  167917.047917  161152.288805  163892.822387\n",
      "2901  180000.000000  216523.571430  189132.921569  201914.738544\n",
      "2902  188333.333333  189191.560039  204471.820000  197630.399308\n",
      "2903  345701.000000  312406.958359  337575.180000  326518.882468\n",
      "2904  360000.000000  351471.943171  360379.176000  357207.390835\n",
      "2905  104219.250000   63405.905026  123474.800000   95321.352373\n",
      "2906  206300.000000  211710.831795  200595.888889  205584.408049\n",
      "2907  109250.000000  107711.625687  116631.333039  112006.617454\n",
      "2908  128375.000000  113470.916595  126320.303264  119743.599561\n",
      "2909  142568.333333  153628.773956  144184.389524  148172.752138\n",
      "2910   85000.000000   68351.836689   83565.698413   75622.647463\n",
      "2911   86500.000000   71568.312599   87150.622857   79100.475728\n",
      "2912  157333.333333  150129.842456  157993.357624  153996.777063\n",
      "2913   86500.000000   70871.742726   86688.173413   78516.935673\n",
      "2914   80750.000000   63015.161508   85946.174603   74557.336858\n",
      "2915   84250.000000   74626.620526   89507.285714   81889.818080\n",
      "2916   87250.000000   75695.403552   86940.840079   80888.999469\n",
      "2917  169500.000000  173056.931774  170889.368413  171659.955501\n",
      "2918  118500.000000  119926.741061  120952.393397  119932.913504\n",
      "2919  220466.666667  222009.147171  202018.107757  210896.092420\n",
      "\n",
      "[1459 rows x 4 columns]\n",
      "Submission: (1459, 2)\n"
     ]
    }
   ],
   "source": [
    "# Add the actual SalePrice of the train data to the DataFrame\n",
    "# containing the train data predictions of our various models.\n",
    "mixed_model_predictions_train['SalePrice'] = train[TARGET_VAR].as_matrix()\n",
    "\n",
    "\n",
    "\n",
    "# Run a linear regression to determine weights for our different\n",
    "# model predictions.\n",
    "linear_regression_model = LinearRegression()\n",
    "linear_regression_model.fit(\n",
    "    mixed_model_predictions_train[[\"lasso\", \"random_forest\", \"adaboost\"]],\n",
    "    mixed_model_predictions_train[TARGET_VAR[0]]\n",
    ")\n",
    "\n",
    "# Predict the mixed model SalePrices based on the weighted models.\n",
    "predictions = linear_regression_model.predict(mixed_model_predictions_test)\n",
    "\n",
    "mixed_model_predictions_test[\"SalePrice\"] = predictions\n",
    "print mixed_model_predictions_test\n",
    "\n",
    "# Export to csv.\n",
    "export_csv(predictions, 'mixed_regression')"
   ]
  },
  {
   "cell_type": "code",
   "execution_count": null,
   "metadata": {
    "collapsed": true
   },
   "outputs": [],
   "source": []
  }
 ],
 "metadata": {
  "anaconda-cloud": {},
  "kernelspec": {
   "display_name": "Python [default]",
   "language": "python",
   "name": "python2"
  },
  "language_info": {
   "codemirror_mode": {
    "name": "ipython",
    "version": 2
   },
   "file_extension": ".py",
   "mimetype": "text/x-python",
   "name": "python",
   "nbconvert_exporter": "python",
   "pygments_lexer": "ipython2",
   "version": "2.7.12"
  }
 },
 "nbformat": 4,
 "nbformat_minor": 1
}
