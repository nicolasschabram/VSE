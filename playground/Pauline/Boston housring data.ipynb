{
 "cells": [
  {
   "cell_type": "code",
   "execution_count": 19,
   "metadata": {
    "collapsed": false
   },
   "outputs": [],
   "source": [
    "# Load libraries\n",
    "import numpy as np\n",
    "import pylab as pl\n",
    "from sklearn import datasets\n",
    "from sklearn.tree import DecisionTreeRegressor\n",
    "from sklearn.neighbors import NearestNeighbors\n",
    "\n",
    "################################\n",
    "### ADD EXTRA LIBRARIES HERE ###\n",
    "################################\n",
    "from sklearn import cross_validation, grid_search\n",
    "from sklearn.metrics import mean_squared_error, make_scorer\n",
    "\n"
   ]
  },
  {
   "cell_type": "code",
   "execution_count": 20,
   "metadata": {
    "collapsed": true
   },
   "outputs": [],
   "source": [
    "def load_data():\n",
    "    \"\"\"Load the Boston dataset.\"\"\"\n",
    "\n",
    "    boston = datasets.load_boston()\n",
    "    return boston\n",
    "\n",
    "\n",
    "def explore_city_data(city_data):\n",
    "    \"\"\"Calculate the Boston housing statistics.\"\"\"\n",
    "\n",
    "    # Get the labels and features from the housing data\n",
    "    housing_prices = city_data.target\n",
    "    housing_features = city_data.data\n",
    "\n",
    "    ###################################\n",
    "    ### Step 1. YOUR CODE GOES HERE ###\n",
    "    ###################################\n",
    "\n",
    "    # Please calculate the following values using the Numpy library\n",
    "    # Size of data (number of houses)?\n",
    "    print \"Size of data (number of houses) = \", housing_prices.size\n",
    "    # Number of features?\n",
    "    print \"Number of features = \", housing_features.shape[1]\n",
    "    # Minimum price?\n",
    "    print \"Minimum price = \", housing_prices.min()\n",
    "    # Maximum price?\n",
    "    print \"Maximum price = \", housing_prices.max()\n",
    "    # Calculate mean price?\n",
    "    print \"Mean price = \", housing_prices.mean()\n",
    "    # Calculate median price?\n",
    "    print \"Median price = \", np.median(housing_prices)\n",
    "    # Calculate standard deviation?\n",
    "    print \"Standard deviation = \", np.std(housing_prices)\n"
   ]
  },
  {
   "cell_type": "code",
   "execution_count": 21,
   "metadata": {
    "collapsed": true
   },
   "outputs": [],
   "source": [
    "def split_data(city_data):\n",
    "    \"\"\"Randomly shuffle the sample set. Divide it into 70 percent training and 30 percent testing data.\"\"\"\n",
    "\n",
    "    # Get the features and labels from the Boston housing data\n",
    "    X, y = city_data.data, city_data.target\n",
    "\n",
    "    ###################################\n",
    "    ### Step 2. YOUR CODE GOES HERE ###\n",
    "    ###################################\n",
    "    X_train, X_test, y_train, y_test = cross_validation.train_test_split(X, y, test_size=0.3)\n",
    "    return X_train, y_train, X_test, y_test"
   ]
  },
  {
   "cell_type": "code",
   "execution_count": 24,
   "metadata": {
    "collapsed": false
   },
   "outputs": [
    {
     "name": "stdout",
     "output_type": "stream",
     "text": [
      "['data', 'feature_names', 'DESCR', 'target']\n",
      "Size of data (number of houses) =  506\n",
      "Number of features =  13\n",
      "Minimum price =  5.0\n",
      "Maximum price =  50.0\n",
      "Mean price =  22.5328063241\n",
      "Median price =  21.2\n",
      "Standard deviation =  9.18801154528\n"
     ]
    }
   ],
   "source": [
    "# Load data\n",
    "city_data = load_data()\n",
    "\n",
    "print list(city_data)\n",
    "\n",
    "# Explore the data\n",
    "explore_city_data(city_data)\n",
    "\n",
    "# Training/Test dataset split\n",
    "X_train, y_train, X_test, y_test = split_data(city_data)"
   ]
  },
  {
   "cell_type": "code",
   "execution_count": null,
   "metadata": {
    "collapsed": true
   },
   "outputs": [],
   "source": []
  }
 ],
 "metadata": {
  "kernelspec": {
   "display_name": "Python 2",
   "language": "python",
   "name": "python2"
  },
  "language_info": {
   "codemirror_mode": {
    "name": "ipython",
    "version": 2
   },
   "file_extension": ".py",
   "mimetype": "text/x-python",
   "name": "python",
   "nbconvert_exporter": "python",
   "pygments_lexer": "ipython2",
   "version": "2.7.11"
  }
 },
 "nbformat": 4,
 "nbformat_minor": 0
}
