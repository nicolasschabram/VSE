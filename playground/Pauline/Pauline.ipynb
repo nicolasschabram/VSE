{
 "cells": [
  {
   "cell_type": "code",
   "execution_count": 10,
   "metadata": {
    "collapsed": false
   },
   "outputs": [],
   "source": [
    "import graphlab as gl\n",
    "import graphlab.numpy\n",
    "from datacleaner import autoclean\n",
    "import pandas as pd\n",
    "import numpy as np\n",
    "\n",
    "from sklearn import preprocessing\n",
    "from sklearn.cross_validation import train_test_split\n",
    "from sklearn.linear_model import LinearRegression\n",
    "from sklearn.ensemble import RandomForestRegressor\n",
    "from sklearn.metrics import mean_squared_error"
   ]
  },
  {
   "cell_type": "markdown",
   "metadata": {},
   "source": [
    "# Load some house sales data"
   ]
  },
  {
   "cell_type": "code",
   "execution_count": 11,
   "metadata": {
    "collapsed": false
   },
   "outputs": [],
   "source": [
    "# clean up the training data\n",
    "my_data = pd.read_csv('train.csv', sep=',')\n",
    "my_clean_data = autoclean(my_data)\n",
    "my_data.to_csv('my_clean_train.csv', sep=',', index=False)\n",
    "# clean up the test data\n",
    "my_testdata = pd.read_csv('test.csv', sep=',')\n",
    "my_clean_testdata = autoclean(my_testdata)\n",
    "my_testdata.to_csv('my_clean_testdata.csv', sep=',', index=False)\n",
    "predict_sales = gl.SFrame(my_testdata)"
   ]
  },
  {
   "cell_type": "markdown",
   "metadata": {},
   "source": [
    "# Select only the columns which has correlations with SalePrice\n",
    "It was found that the correlation > 0.3 performs the best and produce the best predictions"
   ]
  },
  {
   "cell_type": "code",
   "execution_count": 12,
   "metadata": {
    "collapsed": false
   },
   "outputs": [
    {
     "name": "stdout",
     "output_type": "stream",
     "text": [
      "Id                 -0.021917\n",
      "MSSubClass         -0.084284\n",
      "MSZoning           -0.166872\n",
      "LotFrontage         0.334771\n",
      "LotArea             0.263843\n",
      "Street              0.041036\n",
      "Alley              -0.027655\n",
      "LotShape           -0.255580\n",
      "LandContour         0.015453\n",
      "Utilities          -0.014314\n",
      "LotConfig          -0.067396\n",
      "LandSlope           0.051152\n",
      "Neighborhood        0.210851\n",
      "LiveabilityScale    0.215784\n",
      "Income2010          0.484363\n",
      "Condition1          0.091155\n",
      "Condition2          0.007513\n",
      "BldgType           -0.085591\n",
      "HouseStyle          0.180163\n",
      "OverallQual         0.790982\n",
      "OverallCond        -0.077856\n",
      "YearBuilt           0.522897\n",
      "YearRemodAdd        0.507101\n",
      "RoofStyle           0.222405\n",
      "RoofMatl            0.132383\n",
      "Exterior1st         0.103551\n",
      "Exterior2nd         0.103766\n",
      "MasVnrType          0.018216\n",
      "MasVnrArea          0.472614\n",
      "ExterQual          -0.636884\n",
      "                      ...   \n",
      "BedroomAbvGr        0.168213\n",
      "KitchenAbvGr       -0.135907\n",
      "KitchenQual        -0.589189\n",
      "TotRmsAbvGrd        0.533723\n",
      "Functional          0.115328\n",
      "Fireplaces          0.466929\n",
      "FireplaceQu         0.071177\n",
      "GarageType         -0.302105\n",
      "GarageYrBlt         0.466754\n",
      "GarageFinish       -0.537242\n",
      "GarageCars          0.640409\n",
      "GarageArea          0.623431\n",
      "GarageQual          0.098759\n",
      "GarageCond          0.134740\n",
      "PavedDrive          0.231357\n",
      "WoodDeckSF          0.324413\n",
      "OpenPorchSF         0.315856\n",
      "EnclosedPorch      -0.128578\n",
      "3SsnPorch           0.044584\n",
      "ScreenPorch         0.111447\n",
      "PoolArea            0.092404\n",
      "PoolQC             -0.136215\n",
      "Fence               0.037430\n",
      "MiscFeature         0.028202\n",
      "MiscVal            -0.021190\n",
      "MoSold              0.046432\n",
      "YrSold             -0.028923\n",
      "SaleType           -0.054911\n",
      "SaleCondition       0.213092\n",
      "SalePrice           1.000000\n",
      "Name: SalePrice, dtype: float64\n",
      "\n",
      "Top\n",
      "27\n",
      "Highly Correlated Columns\n",
      "['LotFrontage', 'Income2010', 'OverallQual', 'YearBuilt', 'YearRemodAdd', 'MasVnrArea', 'ExterQual', 'Foundation', 'BsmtQual', 'BsmtFinSF1', 'TotalBsmtSF', 'HeatingQC', '1stFlrSF', '2ndFlrSF', 'GrLivArea', 'FullBath', 'KitchenQual', 'TotRmsAbvGrd', 'Fireplaces', 'GarageType', 'GarageYrBlt', 'GarageFinish', 'GarageCars', 'GarageArea', 'WoodDeckSF', 'OpenPorchSF', 'SalePrice']\n"
     ]
    }
   ],
   "source": [
    "correlation = my_clean_data.corr()[\"SalePrice\"]\n",
    "print correlation\n",
    "\n",
    "my_columns = np.sort(np.where(abs(correlation) > 0.3))\n",
    "myFilteredData = my_clean_data.iloc[:, my_columns.tolist()[0]]\n",
    "mynewcolumns = my_clean_data.iloc[:0, my_columns.tolist()[0]]\n",
    "column_string = map(str, mynewcolumns)\n",
    "print ''\n",
    "print 'Top'\n",
    "print np.count_nonzero(column_string)\n",
    "print 'Highly Correlated Columns'\n",
    "print column_string\n",
    "\n",
    "features = myFilteredData.columns.tolist()"
   ]
  },
  {
   "cell_type": "markdown",
   "metadata": {},
   "source": [
    "# Instead of removing all outliers, we can replace the ourliers with NaN and then perform the auto-cleaning again to replace the NaN values with mean\n",
    "This produces a better result than removing the rows completely if outliers are detected\n"
   ]
  },
  {
   "cell_type": "code",
   "execution_count": 8,
   "metadata": {
    "collapsed": false
   },
   "outputs": [
    {
     "name": "stdout",
     "output_type": "stream",
     "text": [
      "      LotFrontage  Income2010  OverallQual  YearBuilt  YearRemodAdd  \\\n",
      "0            65.0     88958.0          7.0     2003.0          2003   \n",
      "1            80.0     96250.0          6.0     1976.0          1976   \n",
      "2            68.0     88958.0          7.0     2001.0          2002   \n",
      "3            60.0     65096.0          7.0     1915.0          1970   \n",
      "4            84.0     96250.0          8.0     2000.0          2000   \n",
      "5            85.0     75625.0          5.0     1993.0          1995   \n",
      "6            75.0     96250.0          8.0     2004.0          2005   \n",
      "7            69.0     77308.0          7.0     1973.0          1973   \n",
      "8            51.0     65096.0          7.0     1931.0          1950   \n",
      "9            50.0     76522.0          5.0     1939.0          1950   \n",
      "10           70.0     76522.0          5.0     1965.0          1965   \n",
      "11           85.0     96250.0          9.0     2005.0          2006   \n",
      "12           69.0     76522.0          5.0     1962.0          1962   \n",
      "13           91.0     88958.0          7.0     2006.0          2007   \n",
      "14           69.0     69986.0          6.0     1960.0          1960   \n",
      "15           51.0     76522.0          7.0     1929.0          2001   \n",
      "16           69.0     69986.0          6.0     1970.0          1970   \n",
      "17           72.0     76522.0          4.0     1967.0          1967   \n",
      "18           66.0     76522.0          5.0     2004.0          2004   \n",
      "19           70.0     69986.0          5.0     1958.0          1965   \n",
      "20          101.0     96250.0          8.0     2005.0          2006   \n",
      "21           57.0     68875.0          7.0     1930.0          1950   \n",
      "22           75.0     88958.0          8.0     2002.0          2002   \n",
      "23           44.0     75625.0          5.0     1976.0          1976   \n",
      "24           69.0     76522.0          5.0     1968.0          2001   \n",
      "25          110.0     96250.0          8.0     2007.0          2007   \n",
      "26           60.0     69986.0          5.0     1951.0          2000   \n",
      "27           98.0     96250.0          8.0     2007.0          2008   \n",
      "28           47.0     69986.0          5.0     1957.0          1997   \n",
      "29           60.0     76522.0          4.0     1927.0          1950   \n",
      "...           ...         ...          ...        ...           ...   \n",
      "1430         60.0     96250.0          5.0     2005.0          2005   \n",
      "1431         69.0     96250.0          6.0     1976.0          1976   \n",
      "1432         60.0     65096.0          4.0     1927.0          2007   \n",
      "1433         93.0     96250.0          6.0     2000.0          2000   \n",
      "1434         80.0     75625.0          5.0     1977.0          1977   \n",
      "1435         80.0     69986.0          6.0     1962.0          2005   \n",
      "1436         60.0     69986.0          4.0     1971.0          1971   \n",
      "1437         96.0     96250.0          8.0     2008.0          2008   \n",
      "1438         90.0     65096.0          6.0     1957.0          1996   \n",
      "1439         80.0     77308.0          7.0     1979.0          1979   \n",
      "1440         79.0     65096.0          6.0     1922.0          1994   \n",
      "1441         69.0     88958.0          6.0     2004.0          2004   \n",
      "1442         85.0     96250.0         10.0     2008.0          2008   \n",
      "1443         69.0     76522.0          6.0     1916.0          1950   \n",
      "1444         63.0     88958.0          7.0     2004.0          2004   \n",
      "1445         70.0     76522.0          6.0     1966.0          1966   \n",
      "1446         69.0     75625.0          5.0     1962.0          1962   \n",
      "1447         80.0     88958.0          8.0     1995.0          1996   \n",
      "1448         70.0     68875.0          4.0     1910.0          2000   \n",
      "1449         21.0     75625.0          5.0     1970.0          1970   \n",
      "1450         60.0     69986.0          5.0     1974.0          1974   \n",
      "1451         78.0     96250.0          8.0     2008.0          2009   \n",
      "1452         35.0     68875.0          5.0     2005.0          2005   \n",
      "1453         90.0     75625.0          5.0     2006.0          2006   \n",
      "1454         62.0     96250.0          7.0     2004.0          2005   \n",
      "1455         62.0     96250.0          6.0     1999.0          2000   \n",
      "1456         85.0     77308.0          6.0     1978.0          1988   \n",
      "1457         66.0     65096.0          7.0     1941.0          2006   \n",
      "1458         68.0     69986.0          5.0     1950.0          1996   \n",
      "1459         75.0     68875.0          5.0     1965.0          1965   \n",
      "\n",
      "      MasVnrArea  ExterQual  Foundation  BsmtQual  BsmtFinSF1    ...      \\\n",
      "0          196.0        2.0         2.0         2       706.0    ...       \n",
      "1            0.0        3.0         1.0         2       978.0    ...       \n",
      "2          162.0        2.0         2.0         2       486.0    ...       \n",
      "3            0.0        3.0         0.0         3       216.0    ...       \n",
      "4          350.0        2.0         2.0         2       655.0    ...       \n",
      "5            0.0        3.0         1.0         2       732.0    ...       \n",
      "6          186.0        2.0         2.0         0      1369.0    ...       \n",
      "7          240.0        3.0         1.0         2       859.0    ...       \n",
      "8            0.0        3.0         0.0         3         0.0    ...       \n",
      "9            0.0        3.0         0.0         3       851.0    ...       \n",
      "10           0.0        3.0         1.0         3       906.0    ...       \n",
      "11         286.0        3.0         2.0         0       998.0    ...       \n",
      "12           0.0        3.0         1.0         3       737.0    ...       \n",
      "13         306.0        2.0         2.0         2         0.0    ...       \n",
      "14         212.0        3.0         1.0         3       733.0    ...       \n",
      "15           0.0        3.0         0.0         3         0.0    ...       \n",
      "16         180.0        3.0         1.0         3       578.0    ...       \n",
      "17           0.0        3.0         3.0         3         0.0    ...       \n",
      "18           0.0        3.0         2.0         3       646.0    ...       \n",
      "19           0.0        3.0         1.0         3       504.0    ...       \n",
      "20         380.0        2.0         2.0         0         0.0    ...       \n",
      "21           0.0        3.0         2.0         3         0.0    ...       \n",
      "22         281.0        2.0         2.0         2         0.0    ...       \n",
      "23           0.0        3.0         2.0         2       840.0    ...       \n",
      "24           0.0        3.0         1.0         3       188.0    ...       \n",
      "25         640.0        2.0         2.0         2         0.0    ...       \n",
      "26           0.0        3.0         1.0         3       234.0    ...       \n",
      "27         200.0        2.0         2.0         0      1218.0    ...       \n",
      "28           0.0        3.0         1.0         3      1277.0    ...       \n",
      "29           0.0        3.0         0.0         3         0.0    ...       \n",
      "...          ...        ...         ...       ...         ...    ...       \n",
      "1430         0.0        2.0         2.0         2         0.0    ...       \n",
      "1431         0.0        3.0         1.0         2       958.0    ...       \n",
      "1432         0.0        3.0         0.0         3         0.0    ...       \n",
      "1433       318.0        3.0         2.0         2         0.0    ...       \n",
      "1434         0.0        3.0         1.0         3       936.0    ...       \n",
      "1435       237.0        2.0         1.0         3         0.0    ...       \n",
      "1436         0.0        3.0         2.0         3       616.0    ...       \n",
      "1437       426.0        3.0         2.0         0      1336.0    ...       \n",
      "1438         0.0        3.0         1.0         3       600.0    ...       \n",
      "1439        96.0        3.0         1.0         3       315.0    ...       \n",
      "1440         0.0        3.0         0.0         0         0.0    ...       \n",
      "1441       147.0        2.0         2.0         2       697.0    ...       \n",
      "1442       160.0        3.0         2.0         0       765.0    ...       \n",
      "1443         0.0        3.0         0.0         3         0.0    ...       \n",
      "1444       106.0        2.0         2.0         2         0.0    ...       \n",
      "1445         0.0        3.0         1.0         3       187.0    ...       \n",
      "1446       189.0        3.0         1.0         3       593.0    ...       \n",
      "1447       438.0        2.0         2.0         2      1079.0    ...       \n",
      "1448         0.0        3.0         1.0         1         0.0    ...       \n",
      "1449         0.0        3.0         1.0         2       553.0    ...       \n",
      "1450         0.0        3.0         1.0         2         0.0    ...       \n",
      "1451       194.0        2.0         2.0         2         0.0    ...       \n",
      "1452        80.0        3.0         2.0         2       547.0    ...       \n",
      "1453         0.0        3.0         2.0         2         0.0    ...       \n",
      "1454         0.0        2.0         2.0         2       410.0    ...       \n",
      "1455         0.0        3.0         2.0         2         0.0    ...       \n",
      "1456       119.0        3.0         1.0         2       790.0    ...       \n",
      "1457         0.0        3.0         1.0         3       275.0    ...       \n",
      "1458         0.0        3.0         1.0         3        49.0    ...       \n",
      "1459         0.0        2.0         1.0         3       830.0    ...       \n",
      "\n",
      "      TotRmsAbvGrd  Fireplaces  GarageType  GarageYrBlt  GarageFinish  \\\n",
      "0              8.0         0.0           1       2003.0             1   \n",
      "1              6.0         1.0           1       1976.0             1   \n",
      "2              6.0         1.0           1       2001.0             1   \n",
      "3              7.0         1.0           5       1998.0             2   \n",
      "4              9.0         1.0           1       2000.0             1   \n",
      "5              5.0         0.0           1       1993.0             2   \n",
      "6              7.0         1.0           1       2004.0             1   \n",
      "7              7.0         2.0           1       1973.0             1   \n",
      "8              8.0         2.0           5       1931.0             2   \n",
      "9              5.0         2.0           1       1939.0             1   \n",
      "10             5.0         0.0           5       1965.0             2   \n",
      "11            11.0         2.0           3       2005.0             0   \n",
      "12             4.0         0.0           5       1962.0             2   \n",
      "13             7.0         1.0           1       2006.0             1   \n",
      "14             5.0         1.0           1       1960.0             1   \n",
      "15             5.0         0.0           5       1991.0             2   \n",
      "16             5.0         1.0           1       1970.0             0   \n",
      "17             6.0         0.0           4       1967.0             2   \n",
      "18             6.0         0.0           5       2004.0             2   \n",
      "19             6.0         0.0           1       1958.0             2   \n",
      "20             9.0         1.0           3       2005.0             1   \n",
      "21             6.0         1.0           1       1930.0             2   \n",
      "22             7.0         1.0           1       2002.0             1   \n",
      "23             6.0         1.0           1       1976.0             2   \n",
      "24             6.0         1.0           1       1968.0             2   \n",
      "25             7.0         1.0           1       2007.0             1   \n",
      "26             5.0         0.0           5       2005.0             2   \n",
      "27             7.0         1.0           1       2008.0             1   \n",
      "28             6.0         2.0           1       1957.0             1   \n",
      "29             4.0         0.0           5       1920.0             2   \n",
      "...            ...         ...         ...          ...           ...   \n",
      "1430           7.0         1.0           3       2005.0             0   \n",
      "1431           5.0         0.0           1       1976.0             1   \n",
      "1432           5.0         0.0           5       1928.0             2   \n",
      "1433           8.0         1.0           1       2000.0             0   \n",
      "1434           5.0         1.0           1       1977.0             1   \n",
      "1435           7.0         1.0           1       1962.0             1   \n",
      "1436           5.0         0.0           5       1974.0             2   \n",
      "1437           7.0         1.0           1       2008.0             0   \n",
      "1438           6.0         0.0           1       1957.0             2   \n",
      "1439           6.0         1.0           1       1979.0             1   \n",
      "1440          11.0         1.0           5       1993.0             0   \n",
      "1441           3.0         1.0           1       2004.0             1   \n",
      "1442          10.0         1.0           1       2008.0             0   \n",
      "1443           4.0         1.0           5       1916.0             2   \n",
      "1444           7.0         0.0           1       2004.0             1   \n",
      "1445           6.0         0.0           5       1990.0             2   \n",
      "1446           6.0         0.0           1       1962.0             2   \n",
      "1447           8.0         1.0           1       1995.0             1   \n",
      "1448           6.0         0.0           5       1950.0             2   \n",
      "1449           3.0         0.0           1       1980.0             2   \n",
      "1450           8.0         0.0           1       1980.0             2   \n",
      "1451           7.0         1.0           1       2008.0             0   \n",
      "1452           5.0         0.0           2       2005.0             0   \n",
      "1453           6.0         0.0           1       1980.0             2   \n",
      "1454           6.0         0.0           1       2004.0             1   \n",
      "1455           7.0         1.0           1       1999.0             1   \n",
      "1456           7.0         2.0           1       1978.0             2   \n",
      "1457           9.0         2.0           1       1941.0             1   \n",
      "1458           5.0         0.0           1       1950.0             2   \n",
      "1459           6.0         0.0           1       1965.0             0   \n",
      "\n",
      "      GarageCars  GarageArea  WoodDeckSF  OpenPorchSF  SalePrice  \n",
      "0              2       548.0         0.0         61.0   208500.0  \n",
      "1              2       460.0       298.0          0.0   181500.0  \n",
      "2              2       608.0         0.0         42.0   223500.0  \n",
      "3              3       642.0         0.0         35.0   140000.0  \n",
      "4              3       836.0       192.0         84.0   250000.0  \n",
      "5              2       480.0        40.0         30.0   143000.0  \n",
      "6              2       636.0       255.0         57.0   307000.0  \n",
      "7              2       484.0       235.0        204.0   200000.0  \n",
      "8              2       468.0        90.0          0.0   129900.0  \n",
      "9              1       205.0         0.0          4.0   118000.0  \n",
      "10             1       384.0         0.0          0.0   129500.0  \n",
      "11             3       736.0       147.0         21.0   345000.0  \n",
      "12             1       352.0       140.0          0.0   144000.0  \n",
      "13             3       840.0       160.0         33.0   279500.0  \n",
      "14             1       352.0         0.0        213.0   157000.0  \n",
      "15             2       576.0        48.0        112.0   132000.0  \n",
      "16             2       480.0         0.0          0.0   149000.0  \n",
      "17             2       516.0         0.0          0.0    90000.0  \n",
      "18             2       576.0         0.0        102.0   159000.0  \n",
      "19             1       294.0         0.0          0.0   139000.0  \n",
      "20             3       853.0       240.0        154.0   325300.0  \n",
      "21             1       280.0         0.0          0.0   139400.0  \n",
      "22             2       534.0       171.0        159.0   230000.0  \n",
      "23             2       572.0       100.0        110.0   129900.0  \n",
      "24             1       270.0       406.0         90.0   154000.0  \n",
      "25             3       890.0         0.0         56.0   256300.0  \n",
      "26             2       576.0       222.0         32.0   134800.0  \n",
      "27             3       772.0         0.0         50.0   306000.0  \n",
      "28             1       319.0       288.0         24.0   207500.0  \n",
      "29             1       240.0        49.0          0.0    68500.0  \n",
      "...          ...         ...         ...          ...        ...  \n",
      "1430           2       372.0       100.0         40.0   192140.0  \n",
      "1431           2       440.0         0.0         60.0   143750.0  \n",
      "1432           1       216.0         0.0          0.0    64500.0  \n",
      "1433           2       451.0         0.0          0.0   186500.0  \n",
      "1434           2       484.0       295.0         41.0   160000.0  \n",
      "1435           2       462.0         0.0         36.0   174000.0  \n",
      "1436           2       528.0         0.0          0.0   120500.0  \n",
      "1437           3       774.0         0.0         66.0   394617.0  \n",
      "1438           2       923.0         0.0        158.0   149700.0  \n",
      "1439           2       550.0         0.0         88.0   197000.0  \n",
      "1440           2       672.0       431.0          0.0   191000.0  \n",
      "1441           2       420.0       149.0          0.0   149300.0  \n",
      "1442           3       812.0       168.0         52.0   310000.0  \n",
      "1443           1       192.0         0.0         98.0   121000.0  \n",
      "1444           2       626.0       192.0         60.0   179600.0  \n",
      "1445           1       240.0         0.0          0.0   129000.0  \n",
      "1446           1       312.0       261.0         39.0   157900.0  \n",
      "1447           2       556.0         0.0         65.0   240000.0  \n",
      "1448           1       384.0       168.0         24.0   112000.0  \n",
      "1449           0         0.0         0.0          0.0    92000.0  \n",
      "1450           0         0.0        32.0         45.0   136000.0  \n",
      "1451           3       840.0         0.0         36.0   287090.0  \n",
      "1452           2       525.0         0.0         28.0   145000.0  \n",
      "1453           0         0.0        36.0         56.0    84500.0  \n",
      "1454           2       400.0         0.0        113.0   185000.0  \n",
      "1455           2       460.0         0.0         40.0   175000.0  \n",
      "1456           2       500.0       349.0          0.0   210000.0  \n",
      "1457           1       252.0         0.0         60.0   266500.0  \n",
      "1458           1       240.0       366.0          0.0   142125.0  \n",
      "1459           1       276.0         0.0         68.0   147500.0  \n",
      "\n",
      "[1460 rows x 27 columns]\n"
     ]
    }
   ],
   "source": [
    "my_dirtydata =  myFilteredData[np.abs(myFilteredData-myFilteredData.mean())<=(3*myFilteredData.std())]\n",
    "myFilteredData_without_outliers = autoclean(my_dirtydata)\n",
    "print myFilteredData_without_outliers"
   ]
  },
  {
   "cell_type": "code",
   "execution_count": 9,
   "metadata": {
    "collapsed": false
   },
   "outputs": [],
   "source": [
    "#from scipy import stats\n",
    "#df[(np.abs(stats.zscore(df)) < 3).all(axis=1)]\n",
    "#df = pd.DataFrame(myFilteredData, columns=column_string)\n",
    "#myFilteredData_without_outliers = df[df.apply(lambda x: np.abs(x - x.mean()) / x.std() < 3).all(axis=1)]\n",
    "#print myFilteredData_without_outliers\n",
    "#this is the filtered and outliers removed data\n",
    "sales = gl.SFrame(myFilteredData_without_outliers)\n",
    "# this is the original data without removing outliers and non-correlated columns\n",
    "sales_ori = gl.SFrame(my_clean_data)"
   ]
  },
  {
   "cell_type": "markdown",
   "metadata": {},
   "source": [
    "# Test from Nico"
   ]
  },
  {
   "cell_type": "code",
   "execution_count": 139,
   "metadata": {
    "collapsed": false
   },
   "outputs": [
    {
     "name": "stdout",
     "output_type": "stream",
     "text": [
      "train (80%):\n",
      "(1168, 27)\n",
      "validation (20%):\n",
      "(292, 27)\n"
     ]
    }
   ],
   "source": [
    "# Store all the feature labels of train_df into a list; remove the SalePrice.\n",
    "features = myFilteredData_without_outliers.columns.tolist()\n",
    "features.remove('SalePrice')\n",
    "\n",
    "# Generate the training set. Set random_state to be able to replicate results.\n",
    "# Our train data will contain 80% of train_df.\n",
    "train = myFilteredData_without_outliers.sample(frac=0.8, random_state=1)\n",
    "\n",
    "# Select anything not in the training set (20%) and put it in the validation set.\n",
    "validation = myFilteredData_without_outliers.loc[~myFilteredData_without_outliers.index.isin(train.index)]\n",
    "\n",
    "print \"train (80%):\"\n",
    "print train.shape\n",
    "print \"validation (20%):\"\n",
    "print validation.shape"
   ]
  },
  {
   "cell_type": "markdown",
   "metadata": {},
   "source": [
    "# Split 80% training data and 20% validation data"
   ]
  },
  {
   "cell_type": "code",
   "execution_count": 177,
   "metadata": {
    "collapsed": false
   },
   "outputs": [
    {
     "name": "stdout",
     "output_type": "stream",
     "text": [
      "train (80%):\n",
      "(1157, 27)\n",
      "validation (20%):\n",
      "(303, 27)\n"
     ]
    }
   ],
   "source": [
    "train_data,test_data = sales.random_split(.8,seed=0)\n",
    "train_data_ori,test_data_ori = sales_ori.random_split(.8,seed=0)\n",
    "\n",
    "print \"train (80%):\"\n",
    "print train_data.shape\n",
    "print \"validation (20%):\"\n",
    "print test_data.shape"
   ]
  },
  {
   "cell_type": "markdown",
   "metadata": {},
   "source": [
    "# Build the regression model\n",
    "This first model uses only the Ground Living Area as the feature as it has the highest correlation score"
   ]
  },
  {
   "cell_type": "code",
   "execution_count": 178,
   "metadata": {
    "collapsed": false
   },
   "outputs": [
    {
     "name": "stdout",
     "output_type": "stream",
     "text": [
      "PROGRESS: Creating a validation set from 5 percent of training data. This may take a while.\n",
      "          You can set ``validation_set=None`` to disable validation tracking.\n",
      "\n"
     ]
    },
    {
     "data": {
      "text/html": [
       "<pre>Linear regression:</pre>"
      ],
      "text/plain": [
       "Linear regression:"
      ]
     },
     "metadata": {},
     "output_type": "display_data"
    },
    {
     "data": {
      "text/html": [
       "<pre>--------------------------------------------------------</pre>"
      ],
      "text/plain": [
       "--------------------------------------------------------"
      ]
     },
     "metadata": {},
     "output_type": "display_data"
    },
    {
     "data": {
      "text/html": [
       "<pre>Number of examples          : 1101</pre>"
      ],
      "text/plain": [
       "Number of examples          : 1101"
      ]
     },
     "metadata": {},
     "output_type": "display_data"
    },
    {
     "data": {
      "text/html": [
       "<pre>Number of features          : 1</pre>"
      ],
      "text/plain": [
       "Number of features          : 1"
      ]
     },
     "metadata": {},
     "output_type": "display_data"
    },
    {
     "data": {
      "text/html": [
       "<pre>Number of unpacked features : 1</pre>"
      ],
      "text/plain": [
       "Number of unpacked features : 1"
      ]
     },
     "metadata": {},
     "output_type": "display_data"
    },
    {
     "data": {
      "text/html": [
       "<pre>Number of coefficients    : 2</pre>"
      ],
      "text/plain": [
       "Number of coefficients    : 2"
      ]
     },
     "metadata": {},
     "output_type": "display_data"
    },
    {
     "data": {
      "text/html": [
       "<pre>Starting Newton Method</pre>"
      ],
      "text/plain": [
       "Starting Newton Method"
      ]
     },
     "metadata": {},
     "output_type": "display_data"
    },
    {
     "data": {
      "text/html": [
       "<pre>--------------------------------------------------------</pre>"
      ],
      "text/plain": [
       "--------------------------------------------------------"
      ]
     },
     "metadata": {},
     "output_type": "display_data"
    },
    {
     "data": {
      "text/html": [
       "<pre>+-----------+----------+--------------+--------------------+----------------------+---------------+-----------------+</pre>"
      ],
      "text/plain": [
       "+-----------+----------+--------------+--------------------+----------------------+---------------+-----------------+"
      ]
     },
     "metadata": {},
     "output_type": "display_data"
    },
    {
     "data": {
      "text/html": [
       "<pre>| Iteration | Passes   | Elapsed Time | Training-max_error | Validation-max_error | Training-rmse | Validation-rmse |</pre>"
      ],
      "text/plain": [
       "| Iteration | Passes   | Elapsed Time | Training-max_error | Validation-max_error | Training-rmse | Validation-rmse |"
      ]
     },
     "metadata": {},
     "output_type": "display_data"
    },
    {
     "data": {
      "text/html": [
       "<pre>+-----------+----------+--------------+--------------------+----------------------+---------------+-----------------+</pre>"
      ],
      "text/plain": [
       "+-----------+----------+--------------+--------------------+----------------------+---------------+-----------------+"
      ]
     },
     "metadata": {},
     "output_type": "display_data"
    },
    {
     "data": {
      "text/html": [
       "<pre>| 1         | 2        | 0.001001     | 207810.995619      | 236810.995619        | 49435.120376  | 64383.183613    |</pre>"
      ],
      "text/plain": [
       "| 1         | 2        | 0.001001     | 207810.995619      | 236810.995619        | 49435.120376  | 64383.183613    |"
      ]
     },
     "metadata": {},
     "output_type": "display_data"
    },
    {
     "data": {
      "text/html": [
       "<pre>+-----------+----------+--------------+--------------------+----------------------+---------------+-----------------+</pre>"
      ],
      "text/plain": [
       "+-----------+----------+--------------+--------------------+----------------------+---------------+-----------------+"
      ]
     },
     "metadata": {},
     "output_type": "display_data"
    },
    {
     "data": {
      "text/html": [
       "<pre>SUCCESS: Optimal solution found.</pre>"
      ],
      "text/plain": [
       "SUCCESS: Optimal solution found."
      ]
     },
     "metadata": {},
     "output_type": "display_data"
    },
    {
     "data": {
      "text/html": [
       "<pre></pre>"
      ],
      "text/plain": []
     },
     "metadata": {},
     "output_type": "display_data"
    }
   ],
   "source": [
    "GrLivArea_model = gl.linear_regression.create(train_data, target='SalePrice', features=['GrLivArea'])"
   ]
  },
  {
   "cell_type": "markdown",
   "metadata": {},
   "source": [
    "# Evaluate the simple model (one feature)"
   ]
  },
  {
   "cell_type": "markdown",
   "metadata": {},
   "source": [
    "This shows the mean SalePrice"
   ]
  },
  {
   "cell_type": "code",
   "execution_count": 142,
   "metadata": {
    "collapsed": false
   },
   "outputs": [
    {
     "name": "stdout",
     "output_type": "stream",
     "text": [
      "176555.706271\n"
     ]
    }
   ],
   "source": [
    "print test_data['SalePrice'].mean()"
   ]
  },
  {
   "cell_type": "markdown",
   "metadata": {},
   "source": [
    "\"Max_error\" means the outliers (USD500k is the outlier) and RMSE is the \"Root Mean Square Error\""
   ]
  },
  {
   "cell_type": "code",
   "execution_count": 143,
   "metadata": {
    "collapsed": false
   },
   "outputs": [
    {
     "name": "stdout",
     "output_type": "stream",
     "text": [
      "{'max_error': 222217.04188520057, 'rmse': 49896.418565134256}\n"
     ]
    }
   ],
   "source": [
    "print GrLivArea_model.evaluate(test_data)"
   ]
  },
  {
   "cell_type": "code",
   "execution_count": 144,
   "metadata": {
    "collapsed": true
   },
   "outputs": [],
   "source": [
    "import matplotlib.pyplot as plt\n",
    "%matplotlib inline"
   ]
  },
  {
   "cell_type": "code",
   "execution_count": 182,
   "metadata": {
    "collapsed": false
   },
   "outputs": [
    {
     "data": {
      "text/plain": [
       "[<matplotlib.lines.Line2D at 0x33d3cf60>,\n",
       " <matplotlib.lines.Line2D at 0x33945048>]"
      ]
     },
     "execution_count": 182,
     "metadata": {},
     "output_type": "execute_result"
    },
    {
     "data": {
      "image/png": "[encoded data removed]",
      "text/plain": [
       "<matplotlib.figure.Figure at 0x33c00ba8>"
      ]
     },
     "metadata": {},
     "output_type": "display_data"
    }
   ],
   "source": [
    "plt.plot(test_data['GrLivArea'], test_data['SalePrice'], '.', test_data['GrLivArea'], GrLivArea_model.predict(test_data), '-')"
   ]
  },
  {
   "cell_type": "code",
   "execution_count": 181,
   "metadata": {
    "collapsed": false
   },
   "outputs": [
    {
     "data": {
      "text/html": [
       "<div style=\"max-height:1000px;max-width:1500px;overflow:auto;\"><table frame=\"box\" rules=\"cols\">\n",
       "    <tr>\n",
       "        <th style=\"padding-left: 1em; padding-right: 1em; text-align: center\">name</th>\n",
       "        <th style=\"padding-left: 1em; padding-right: 1em; text-align: center\">index</th>\n",
       "        <th style=\"padding-left: 1em; padding-right: 1em; text-align: center\">value</th>\n",
       "        <th style=\"padding-left: 1em; padding-right: 1em; text-align: center\">stderr</th>\n",
       "    </tr>\n",
       "    <tr>\n",
       "        <td style=\"padding-left: 1em; padding-right: 1em; text-align: center; vertical-align: top\">(intercept)</td>\n",
       "        <td style=\"padding-left: 1em; padding-right: 1em; text-align: center; vertical-align: top\">None</td>\n",
       "        <td style=\"padding-left: 1em; padding-right: 1em; text-align: center; vertical-align: top\">35092.5452584</td>\n",
       "        <td style=\"padding-left: 1em; padding-right: 1em; text-align: center; vertical-align: top\">4956.98509929</td>\n",
       "    </tr>\n",
       "    <tr>\n",
       "        <td style=\"padding-left: 1em; padding-right: 1em; text-align: center; vertical-align: top\">GrLivArea</td>\n",
       "        <td style=\"padding-left: 1em; padding-right: 1em; text-align: center; vertical-align: top\">None</td>\n",
       "        <td style=\"padding-left: 1em; padding-right: 1em; text-align: center; vertical-align: top\">94.8464691779</td>\n",
       "        <td style=\"padding-left: 1em; padding-right: 1em; text-align: center; vertical-align: top\">3.20041183547</td>\n",
       "    </tr>\n",
       "</table>\n",
       "[2 rows x 4 columns]<br/>\n",
       "</div>"
      ],
      "text/plain": [
       "Columns:\n",
       "\tname\tstr\n",
       "\tindex\tstr\n",
       "\tvalue\tfloat\n",
       "\tstderr\tfloat\n",
       "\n",
       "Rows: 2\n",
       "\n",
       "Data:\n",
       "+-------------+-------+---------------+---------------+\n",
       "|     name    | index |     value     |     stderr    |\n",
       "+-------------+-------+---------------+---------------+\n",
       "| (intercept) |  None | 35092.5452584 | 4956.98509929 |\n",
       "|  GrLivArea  |  None | 94.8464691779 | 3.20041183547 |\n",
       "+-------------+-------+---------------+---------------+\n",
       "[2 rows x 4 columns]"
      ]
     },
     "execution_count": 181,
     "metadata": {},
     "output_type": "execute_result"
    }
   ],
   "source": [
    "GrLivArea_model.get('coefficients')"
   ]
  },
  {
   "cell_type": "markdown",
   "metadata": {},
   "source": [
    "The summary from table above is the value of y intercept is USD23490 and average price for GrLivArea is USD100 per sqf"
   ]
  },
  {
   "cell_type": "markdown",
   "metadata": {},
   "source": [
    "# Create a new multi features model (Original - with 80 features)"
   ]
  },
  {
   "cell_type": "code",
   "execution_count": 147,
   "metadata": {
    "collapsed": false
   },
   "outputs": [
    {
     "name": "stdout",
     "output_type": "stream",
     "text": [
      "PROGRESS: Creating a validation set from 5 percent of training data. This may take a while.\n",
      "          You can set ``validation_set=None`` to disable validation tracking.\n",
      "\n"
     ]
    },
    {
     "data": {
      "text/html": [
       "<pre>Linear regression:</pre>"
      ],
      "text/plain": [
       "Linear regression:"
      ]
     },
     "metadata": {},
     "output_type": "display_data"
    },
    {
     "data": {
      "text/html": [
       "<pre>--------------------------------------------------------</pre>"
      ],
      "text/plain": [
       "--------------------------------------------------------"
      ]
     },
     "metadata": {},
     "output_type": "display_data"
    },
    {
     "data": {
      "text/html": [
       "<pre>Number of examples          : 1107</pre>"
      ],
      "text/plain": [
       "Number of examples          : 1107"
      ]
     },
     "metadata": {},
     "output_type": "display_data"
    },
    {
     "data": {
      "text/html": [
       "<pre>Number of features          : 82</pre>"
      ],
      "text/plain": [
       "Number of features          : 82"
      ]
     },
     "metadata": {},
     "output_type": "display_data"
    },
    {
     "data": {
      "text/html": [
       "<pre>Number of unpacked features : 82</pre>"
      ],
      "text/plain": [
       "Number of unpacked features : 82"
      ]
     },
     "metadata": {},
     "output_type": "display_data"
    },
    {
     "data": {
      "text/html": [
       "<pre>Number of coefficients    : 83</pre>"
      ],
      "text/plain": [
       "Number of coefficients    : 83"
      ]
     },
     "metadata": {},
     "output_type": "display_data"
    },
    {
     "data": {
      "text/html": [
       "<pre>Starting Newton Method</pre>"
      ],
      "text/plain": [
       "Starting Newton Method"
      ]
     },
     "metadata": {},
     "output_type": "display_data"
    },
    {
     "data": {
      "text/html": [
       "<pre>--------------------------------------------------------</pre>"
      ],
      "text/plain": [
       "--------------------------------------------------------"
      ]
     },
     "metadata": {},
     "output_type": "display_data"
    },
    {
     "data": {
      "text/html": [
       "<pre>+-----------+----------+--------------+--------------------+----------------------+---------------+-----------------+</pre>"
      ],
      "text/plain": [
       "+-----------+----------+--------------+--------------------+----------------------+---------------+-----------------+"
      ]
     },
     "metadata": {},
     "output_type": "display_data"
    },
    {
     "data": {
      "text/html": [
       "<pre>| Iteration | Passes   | Elapsed Time | Training-max_error | Validation-max_error | Training-rmse | Validation-rmse |</pre>"
      ],
      "text/plain": [
       "| Iteration | Passes   | Elapsed Time | Training-max_error | Validation-max_error | Training-rmse | Validation-rmse |"
      ]
     },
     "metadata": {},
     "output_type": "display_data"
    },
    {
     "data": {
      "text/html": [
       "<pre>+-----------+----------+--------------+--------------------+----------------------+---------------+-----------------+</pre>"
      ],
      "text/plain": [
       "+-----------+----------+--------------+--------------------+----------------------+---------------+-----------------+"
      ]
     },
     "metadata": {},
     "output_type": "display_data"
    },
    {
     "data": {
      "text/html": [
       "<pre>| 1         | 2        | 0.019960     | 308383.027311      | 104960.604518        | 30491.202651  | 26519.705122    |</pre>"
      ],
      "text/plain": [
       "| 1         | 2        | 0.019960     | 308383.027311      | 104960.604518        | 30491.202651  | 26519.705122    |"
      ]
     },
     "metadata": {},
     "output_type": "display_data"
    },
    {
     "data": {
      "text/html": [
       "<pre>+-----------+----------+--------------+--------------------+----------------------+---------------+-----------------+</pre>"
      ],
      "text/plain": [
       "+-----------+----------+--------------+--------------------+----------------------+---------------+-----------------+"
      ]
     },
     "metadata": {},
     "output_type": "display_data"
    },
    {
     "data": {
      "text/html": [
       "<pre>SUCCESS: Optimal solution found.</pre>"
      ],
      "text/plain": [
       "SUCCESS: Optimal solution found."
      ]
     },
     "metadata": {},
     "output_type": "display_data"
    },
    {
     "data": {
      "text/html": [
       "<pre></pre>"
      ],
      "text/plain": []
     },
     "metadata": {},
     "output_type": "display_data"
    }
   ],
   "source": [
    "my_features_model_ori = gl.linear_regression.create(train_data_ori,target='SalePrice')"
   ]
  },
  {
   "cell_type": "markdown",
   "metadata": {},
   "source": [
    "# Random Forest Regressor"
   ]
  },
  {
   "cell_type": "code",
   "execution_count": 148,
   "metadata": {
    "collapsed": false
   },
   "outputs": [
    {
     "name": "stdout",
     "output_type": "stream",
     "text": [
      "Mean Squared Error: 827438158.318\n"
     ]
    }
   ],
   "source": [
    "# Initialize the model.\n",
    "# Note: The parameters given here are not really optimized yet. Apparantly, n_estimator\n",
    "#       is the one we should pay the most attention to. For details see:\n",
    "#       http://scikit-learn.org/stable/modules/ensemble.html#parameters\n",
    "\n",
    "random_forest_model = RandomForestRegressor(n_estimators=100, min_samples_leaf=10, random_state=1)\n",
    "\n",
    "random_forest_model.fit(train[features], train['SalePrice'])\n",
    "\n",
    "# Make predictions for our validation set.\n",
    "predictions = random_forest_model.predict(validation[features])\n",
    "\n",
    "# Compute the error.\n",
    "print 'Mean Squared Error:', mean_squared_error(predictions, validation['SalePrice'])"
   ]
  },
  {
   "cell_type": "code",
   "execution_count": 149,
   "metadata": {
    "collapsed": false
   },
   "outputs": [],
   "source": [
    "# TO DO: Optimize parameters (see comments in the codeblock above).\n",
    "random_forest_model = RandomForestRegressor(n_estimators=100, min_samples_leaf=10, random_state=1)\n",
    "random_forest_model.fit(train[features], train['SalePrice'])\n",
    "predictions = random_forest_model.predict(my_clean_testdata[features])"
   ]
  },
  {
   "cell_type": "markdown",
   "metadata": {},
   "source": [
    "# Create a new multi features model (After removing non-correlated columns)"
   ]
  },
  {
   "cell_type": "code",
   "execution_count": 150,
   "metadata": {
    "collapsed": false
   },
   "outputs": [
    {
     "name": "stdout",
     "output_type": "stream",
     "text": [
      "PROGRESS: Creating a validation set from 5 percent of training data. This may take a while.\n",
      "          You can set ``validation_set=None`` to disable validation tracking.\n",
      "\n"
     ]
    },
    {
     "data": {
      "text/html": [
       "<pre>Linear regression:</pre>"
      ],
      "text/plain": [
       "Linear regression:"
      ]
     },
     "metadata": {},
     "output_type": "display_data"
    },
    {
     "data": {
      "text/html": [
       "<pre>--------------------------------------------------------</pre>"
      ],
      "text/plain": [
       "--------------------------------------------------------"
      ]
     },
     "metadata": {},
     "output_type": "display_data"
    },
    {
     "data": {
      "text/html": [
       "<pre>Number of examples          : 1102</pre>"
      ],
      "text/plain": [
       "Number of examples          : 1102"
      ]
     },
     "metadata": {},
     "output_type": "display_data"
    },
    {
     "data": {
      "text/html": [
       "<pre>Number of features          : 26</pre>"
      ],
      "text/plain": [
       "Number of features          : 26"
      ]
     },
     "metadata": {},
     "output_type": "display_data"
    },
    {
     "data": {
      "text/html": [
       "<pre>Number of unpacked features : 26</pre>"
      ],
      "text/plain": [
       "Number of unpacked features : 26"
      ]
     },
     "metadata": {},
     "output_type": "display_data"
    },
    {
     "data": {
      "text/html": [
       "<pre>Number of coefficients    : 27</pre>"
      ],
      "text/plain": [
       "Number of coefficients    : 27"
      ]
     },
     "metadata": {},
     "output_type": "display_data"
    },
    {
     "data": {
      "text/html": [
       "<pre>Starting Newton Method</pre>"
      ],
      "text/plain": [
       "Starting Newton Method"
      ]
     },
     "metadata": {},
     "output_type": "display_data"
    },
    {
     "data": {
      "text/html": [
       "<pre>--------------------------------------------------------</pre>"
      ],
      "text/plain": [
       "--------------------------------------------------------"
      ]
     },
     "metadata": {},
     "output_type": "display_data"
    },
    {
     "data": {
      "text/html": [
       "<pre>+-----------+----------+--------------+--------------------+----------------------+---------------+-----------------+</pre>"
      ],
      "text/plain": [
       "+-----------+----------+--------------+--------------------+----------------------+---------------+-----------------+"
      ]
     },
     "metadata": {},
     "output_type": "display_data"
    },
    {
     "data": {
      "text/html": [
       "<pre>| Iteration | Passes   | Elapsed Time | Training-max_error | Validation-max_error | Training-rmse | Validation-rmse |</pre>"
      ],
      "text/plain": [
       "| Iteration | Passes   | Elapsed Time | Training-max_error | Validation-max_error | Training-rmse | Validation-rmse |"
      ]
     },
     "metadata": {},
     "output_type": "display_data"
    },
    {
     "data": {
      "text/html": [
       "<pre>+-----------+----------+--------------+--------------------+----------------------+---------------+-----------------+</pre>"
      ],
      "text/plain": [
       "+-----------+----------+--------------+--------------------+----------------------+---------------+-----------------+"
      ]
     },
     "metadata": {},
     "output_type": "display_data"
    },
    {
     "data": {
      "text/html": [
       "<pre>| 1         | 2        | 0.009006     | 179847.146106      | 142851.323486        | 30727.154762  | 32222.165919    |</pre>"
      ],
      "text/plain": [
       "| 1         | 2        | 0.009006     | 179847.146106      | 142851.323486        | 30727.154762  | 32222.165919    |"
      ]
     },
     "metadata": {},
     "output_type": "display_data"
    },
    {
     "data": {
      "text/html": [
       "<pre>+-----------+----------+--------------+--------------------+----------------------+---------------+-----------------+</pre>"
      ],
      "text/plain": [
       "+-----------+----------+--------------+--------------------+----------------------+---------------+-----------------+"
      ]
     },
     "metadata": {},
     "output_type": "display_data"
    },
    {
     "data": {
      "text/html": [
       "<pre>SUCCESS: Optimal solution found.</pre>"
      ],
      "text/plain": [
       "SUCCESS: Optimal solution found."
      ]
     },
     "metadata": {},
     "output_type": "display_data"
    },
    {
     "data": {
      "text/html": [
       "<pre></pre>"
      ],
      "text/plain": []
     },
     "metadata": {},
     "output_type": "display_data"
    }
   ],
   "source": [
    "my_features_model = gl.linear_regression.create(train_data,target='SalePrice')"
   ]
  },
  {
   "cell_type": "code",
   "execution_count": 151,
   "metadata": {
    "collapsed": false
   },
   "outputs": [
    {
     "name": "stdout",
     "output_type": "stream",
     "text": [
      "['LotFrontage', 'Income2010', 'OverallQual', 'YearBuilt', 'YearRemodAdd', 'MasVnrArea', 'ExterQual', 'Foundation', 'BsmtQual', 'BsmtFinSF1', 'TotalBsmtSF', 'HeatingQC', '1stFlrSF', '2ndFlrSF', 'GrLivArea', 'FullBath', 'KitchenQual', 'TotRmsAbvGrd', 'Fireplaces', 'GarageType', 'GarageYrBlt', 'GarageFinish', 'GarageCars', 'GarageArea', 'WoodDeckSF', 'OpenPorchSF', 'SalePrice']\n"
     ]
    }
   ],
   "source": [
    "print column_string"
   ]
  },
  {
   "cell_type": "code",
   "execution_count": 183,
   "metadata": {
    "collapsed": false
   },
   "outputs": [
    {
     "data": {
      "text/plain": [
       "[<matplotlib.lines.Line2D at 0x2fc9ca90>,\n",
       " <matplotlib.lines.Line2D at 0x2fc9cb38>]"
      ]
     },
     "execution_count": 183,
     "metadata": {},
     "output_type": "execute_result"
    },
    {
     "data": {
      "image/png": "[encoded data removed]",
      "text/plain": [
       "<matplotlib.figure.Figure at 0x326e20f0>"
      ]
     },
     "metadata": {},
     "output_type": "display_data"
    }
   ],
   "source": [
    "plt.plot(test_data['GrLivArea'], test_data['SalePrice'], '.', test_data['GrLivArea'], my_features_model.predict(test_data), '-')"
   ]
  },
  {
   "cell_type": "code",
   "execution_count": 153,
   "metadata": {
    "collapsed": false
   },
   "outputs": [
    {
     "data": {
      "text/html": [
       "<div style=\"max-height:1000px;max-width:1500px;overflow:auto;\"><table frame=\"box\" rules=\"cols\">\n",
       "    <tr>\n",
       "        <th style=\"padding-left: 1em; padding-right: 1em; text-align: center\">name</th>\n",
       "        <th style=\"padding-left: 1em; padding-right: 1em; text-align: center\">index</th>\n",
       "        <th style=\"padding-left: 1em; padding-right: 1em; text-align: center\">value</th>\n",
       "        <th style=\"padding-left: 1em; padding-right: 1em; text-align: center\">stderr</th>\n",
       "    </tr>\n",
       "    <tr>\n",
       "        <td style=\"padding-left: 1em; padding-right: 1em; text-align: center; vertical-align: top\">(intercept)</td>\n",
       "        <td style=\"padding-left: 1em; padding-right: 1em; text-align: center; vertical-align: top\">None</td>\n",
       "        <td style=\"padding-left: 1em; padding-right: 1em; text-align: center; vertical-align: top\">33881.3194008</td>\n",
       "        <td style=\"padding-left: 1em; padding-right: 1em; text-align: center; vertical-align: top\">5107.30552582</td>\n",
       "    </tr>\n",
       "    <tr>\n",
       "        <td style=\"padding-left: 1em; padding-right: 1em; text-align: center; vertical-align: top\">GrLivArea</td>\n",
       "        <td style=\"padding-left: 1em; padding-right: 1em; text-align: center; vertical-align: top\">None</td>\n",
       "        <td style=\"padding-left: 1em; padding-right: 1em; text-align: center; vertical-align: top\">95.7728250275</td>\n",
       "        <td style=\"padding-left: 1em; padding-right: 1em; text-align: center; vertical-align: top\">3.28193866568</td>\n",
       "    </tr>\n",
       "</table>\n",
       "[2 rows x 4 columns]<br/>\n",
       "</div>"
      ],
      "text/plain": [
       "Columns:\n",
       "\tname\tstr\n",
       "\tindex\tstr\n",
       "\tvalue\tfloat\n",
       "\tstderr\tfloat\n",
       "\n",
       "Rows: 2\n",
       "\n",
       "Data:\n",
       "+-------------+-------+---------------+---------------+\n",
       "|     name    | index |     value     |     stderr    |\n",
       "+-------------+-------+---------------+---------------+\n",
       "| (intercept) |  None | 33881.3194008 | 5107.30552582 |\n",
       "|  GrLivArea  |  None | 95.7728250275 | 3.28193866568 |\n",
       "+-------------+-------+---------------+---------------+\n",
       "[2 rows x 4 columns]"
      ]
     },
     "execution_count": 153,
     "metadata": {},
     "output_type": "execute_result"
    }
   ],
   "source": [
    "GrLivArea_model.get('coefficients')"
   ]
  },
  {
   "cell_type": "code",
   "execution_count": 154,
   "metadata": {
    "collapsed": false
   },
   "outputs": [
    {
     "data": {
      "text/html": [
       "<div style=\"max-height:1000px;max-width:1500px;overflow:auto;\"><table frame=\"box\" rules=\"cols\">\n",
       "    <tr>\n",
       "        <th style=\"padding-left: 1em; padding-right: 1em; text-align: center\">name</th>\n",
       "        <th style=\"padding-left: 1em; padding-right: 1em; text-align: center\">index</th>\n",
       "        <th style=\"padding-left: 1em; padding-right: 1em; text-align: center\">value</th>\n",
       "        <th style=\"padding-left: 1em; padding-right: 1em; text-align: center\">stderr</th>\n",
       "    </tr>\n",
       "    <tr>\n",
       "        <td style=\"padding-left: 1em; padding-right: 1em; text-align: center; vertical-align: top\">(intercept)</td>\n",
       "        <td style=\"padding-left: 1em; padding-right: 1em; text-align: center; vertical-align: top\">None</td>\n",
       "        <td style=\"padding-left: 1em; padding-right: 1em; text-align: center; vertical-align: top\">-391389.235603</td>\n",
       "        <td style=\"padding-left: 1em; padding-right: 1em; text-align: center; vertical-align: top\">173995.104349</td>\n",
       "    </tr>\n",
       "    <tr>\n",
       "        <td style=\"padding-left: 1em; padding-right: 1em; text-align: center; vertical-align: top\">LotFrontage</td>\n",
       "        <td style=\"padding-left: 1em; padding-right: 1em; text-align: center; vertical-align: top\">None</td>\n",
       "        <td style=\"padding-left: 1em; padding-right: 1em; text-align: center; vertical-align: top\">172.994160704</td>\n",
       "        <td style=\"padding-left: 1em; padding-right: 1em; text-align: center; vertical-align: top\">60.3714696384</td>\n",
       "    </tr>\n",
       "    <tr>\n",
       "        <td style=\"padding-left: 1em; padding-right: 1em; text-align: center; vertical-align: top\">Income2010</td>\n",
       "        <td style=\"padding-left: 1em; padding-right: 1em; text-align: center; vertical-align: top\">None</td>\n",
       "        <td style=\"padding-left: 1em; padding-right: 1em; text-align: center; vertical-align: top\">0.356033957472</td>\n",
       "        <td style=\"padding-left: 1em; padding-right: 1em; text-align: center; vertical-align: top\">0.121947358347</td>\n",
       "    </tr>\n",
       "    <tr>\n",
       "        <td style=\"padding-left: 1em; padding-right: 1em; text-align: center; vertical-align: top\">OverallQual</td>\n",
       "        <td style=\"padding-left: 1em; padding-right: 1em; text-align: center; vertical-align: top\">None</td>\n",
       "        <td style=\"padding-left: 1em; padding-right: 1em; text-align: center; vertical-align: top\">9739.73569269</td>\n",
       "        <td style=\"padding-left: 1em; padding-right: 1em; text-align: center; vertical-align: top\">1213.4192534</td>\n",
       "    </tr>\n",
       "    <tr>\n",
       "        <td style=\"padding-left: 1em; padding-right: 1em; text-align: center; vertical-align: top\">YearBuilt</td>\n",
       "        <td style=\"padding-left: 1em; padding-right: 1em; text-align: center; vertical-align: top\">None</td>\n",
       "        <td style=\"padding-left: 1em; padding-right: 1em; text-align: center; vertical-align: top\">88.2046998795</td>\n",
       "        <td style=\"padding-left: 1em; padding-right: 1em; text-align: center; vertical-align: top\">69.2646141189</td>\n",
       "    </tr>\n",
       "    <tr>\n",
       "        <td style=\"padding-left: 1em; padding-right: 1em; text-align: center; vertical-align: top\">YearRemodAdd</td>\n",
       "        <td style=\"padding-left: 1em; padding-right: 1em; text-align: center; vertical-align: top\">None</td>\n",
       "        <td style=\"padding-left: 1em; padding-right: 1em; text-align: center; vertical-align: top\">278.568455634</td>\n",
       "        <td style=\"padding-left: 1em; padding-right: 1em; text-align: center; vertical-align: top\">65.8125569155</td>\n",
       "    </tr>\n",
       "    <tr>\n",
       "        <td style=\"padding-left: 1em; padding-right: 1em; text-align: center; vertical-align: top\">MasVnrArea</td>\n",
       "        <td style=\"padding-left: 1em; padding-right: 1em; text-align: center; vertical-align: top\">None</td>\n",
       "        <td style=\"padding-left: 1em; padding-right: 1em; text-align: center; vertical-align: top\">27.1703006717</td>\n",
       "        <td style=\"padding-left: 1em; padding-right: 1em; text-align: center; vertical-align: top\">7.80540408351</td>\n",
       "    </tr>\n",
       "    <tr>\n",
       "        <td style=\"padding-left: 1em; padding-right: 1em; text-align: center; vertical-align: top\">ExterQual</td>\n",
       "        <td style=\"padding-left: 1em; padding-right: 1em; text-align: center; vertical-align: top\">None</td>\n",
       "        <td style=\"padding-left: 1em; padding-right: 1em; text-align: center; vertical-align: top\">-6663.54308929</td>\n",
       "        <td style=\"padding-left: 1em; padding-right: 1em; text-align: center; vertical-align: top\">2378.59895655</td>\n",
       "    </tr>\n",
       "    <tr>\n",
       "        <td style=\"padding-left: 1em; padding-right: 1em; text-align: center; vertical-align: top\">Foundation</td>\n",
       "        <td style=\"padding-left: 1em; padding-right: 1em; text-align: center; vertical-align: top\">None</td>\n",
       "        <td style=\"padding-left: 1em; padding-right: 1em; text-align: center; vertical-align: top\">3271.61398763</td>\n",
       "        <td style=\"padding-left: 1em; padding-right: 1em; text-align: center; vertical-align: top\">2050.27083679</td>\n",
       "    </tr>\n",
       "    <tr>\n",
       "        <td style=\"padding-left: 1em; padding-right: 1em; text-align: center; vertical-align: top\">BsmtQual</td>\n",
       "        <td style=\"padding-left: 1em; padding-right: 1em; text-align: center; vertical-align: top\">None</td>\n",
       "        <td style=\"padding-left: 1em; padding-right: 1em; text-align: center; vertical-align: top\">-4286.24080479</td>\n",
       "        <td style=\"padding-left: 1em; padding-right: 1em; text-align: center; vertical-align: top\">1524.27036816</td>\n",
       "    </tr>\n",
       "</table>\n",
       "[27 rows x 4 columns]<br/>Note: Only the head of the SFrame is printed.<br/>You can use print_rows(num_rows=m, num_columns=n) to print more rows and columns.\n",
       "</div>"
      ],
      "text/plain": [
       "Columns:\n",
       "\tname\tstr\n",
       "\tindex\tstr\n",
       "\tvalue\tfloat\n",
       "\tstderr\tfloat\n",
       "\n",
       "Rows: 27\n",
       "\n",
       "Data:\n",
       "+--------------+-------+----------------+----------------+\n",
       "|     name     | index |     value      |     stderr     |\n",
       "+--------------+-------+----------------+----------------+\n",
       "| (intercept)  |  None | -391389.235603 | 173995.104349  |\n",
       "| LotFrontage  |  None | 172.994160704  | 60.3714696384  |\n",
       "|  Income2010  |  None | 0.356033957472 | 0.121947358347 |\n",
       "| OverallQual  |  None | 9739.73569269  |  1213.4192534  |\n",
       "|  YearBuilt   |  None | 88.2046998795  | 69.2646141189  |\n",
       "| YearRemodAdd |  None | 278.568455634  | 65.8125569155  |\n",
       "|  MasVnrArea  |  None | 27.1703006717  | 7.80540408351  |\n",
       "|  ExterQual   |  None | -6663.54308929 | 2378.59895655  |\n",
       "|  Foundation  |  None | 3271.61398763  | 2050.27083679  |\n",
       "|   BsmtQual   |  None | -4286.24080479 | 1524.27036816  |\n",
       "+--------------+-------+----------------+----------------+\n",
       "[27 rows x 4 columns]\n",
       "Note: Only the head of the SFrame is printed.\n",
       "You can use print_rows(num_rows=m, num_columns=n) to print more rows and columns."
      ]
     },
     "execution_count": 154,
     "metadata": {},
     "output_type": "execute_result"
    }
   ],
   "source": [
    "my_features_model.get('coefficients')"
   ]
  },
  {
   "cell_type": "markdown",
   "metadata": {},
   "source": [
    "# Result before removing outliers\n",
    "{'max_error': 263715.68381302676, 'rmse': 53423.71497179019}\n",
    "{'max_error': 200848.92346621933, 'rmse': 34190.02483489307}"
   ]
  },
  {
   "cell_type": "markdown",
   "metadata": {},
   "source": [
    "# Result After replacing outliers with mean value\n",
    "Maximum error reduced to 175653 {'max_error': 175653.45332768967, 'rmse': 33734.99971664569}"
   ]
  },
  {
   "cell_type": "code",
   "execution_count": 155,
   "metadata": {
    "collapsed": false
   },
   "outputs": [
    {
     "name": "stdout",
     "output_type": "stream",
     "text": [
      "Result with only one feature\n",
      "{'max_error': 222217.04188520057, 'rmse': 49896.418565134256}\n",
      "\n",
      "Result before selecting correlated columns and replacing outliers with mean\n",
      "{'max_error': 197663.35801424633, 'rmse': 37877.64801796358}\n",
      "\n",
      "Result after selecting correlated columns and replacing outliers with mean\n",
      "{'max_error': 176804.02859922964, 'rmse': 33648.42087399737}\n"
     ]
    }
   ],
   "source": [
    "print 'Result with only one feature'\n",
    "print GrLivArea_model.evaluate(test_data)\n",
    "print ''\n",
    "print 'Result before selecting correlated columns and replacing outliers with mean'\n",
    "#result before selecting correlated columns and removing outliers\n",
    "print my_features_model_ori.evaluate(test_data)\n",
    "print ''\n",
    "print 'Result after selecting correlated columns and replacing outliers with mean'\n",
    "#result after selecting correlated columns\n",
    "print my_features_model.evaluate(test_data)"
   ]
  },
  {
   "cell_type": "markdown",
   "metadata": {
    "collapsed": true
   },
   "source": [
    "# Apply learned models to predict  prices of house"
   ]
  },
  {
   "cell_type": "code",
   "execution_count": 156,
   "metadata": {
    "collapsed": false
   },
   "outputs": [],
   "source": [
    "house1 = gl.SFrame(predict_sales)\n",
    "X = house1.select_columns(['Id'])\n",
    "# convert this to SArray\n",
    "Y = X[\"Id\"]"
   ]
  },
  {
   "cell_type": "code",
   "execution_count": 157,
   "metadata": {
    "collapsed": false
   },
   "outputs": [
    {
     "name": "stdout",
     "output_type": "stream",
     "text": [
      "+------+-----------+\n",
      "|  Id  | SalePrice |\n",
      "+------+-----------+\n",
      "| 1461 |  123733.3 |\n",
      "| 1462 |  149617.0 |\n",
      "| 1463 |  185949.1 |\n",
      "| 1464 |  184285.3 |\n",
      "| 1465 |  203047.6 |\n",
      "| 1466 |  182560.8 |\n",
      "| 1467 |  166300.0 |\n",
      "| 1468 |  173960.2 |\n",
      "| 1469 |  189169.1 |\n",
      "| 1470 |  128225.8 |\n",
      "+------+-----------+\n",
      "[1459 rows x 2 columns]\n",
      "Note: Only the head of the SFrame is printed.\n",
      "You can use print_rows(num_rows=m, num_columns=n) to print more rows and columns.\n"
     ]
    }
   ],
   "source": [
    "# Result from Random Forest Regressor\n",
    "\n",
    "round_up = np.around(predictions, decimals=1, out=None)\n",
    "\n",
    "sf = gl.SFrame({'Id':Y, 'SalePrice':round_up})\n",
    "K =sf[\"Id\",\"SalePrice\"]\n",
    "print K"
   ]
  },
  {
   "cell_type": "code",
   "execution_count": 179,
   "metadata": {
    "collapsed": false
   },
   "outputs": [
    {
     "name": "stdout",
     "output_type": "stream",
     "text": [
      "+------+-----------+\n",
      "|  Id  | SalePrice |\n",
      "+------+-----------+\n",
      "| 1461 |  123914.9 |\n",
      "| 1462 |  167098.6 |\n",
      "| 1463 |  187493.0 |\n",
      "| 1464 |  197470.3 |\n",
      "| 1465 |  195233.4 |\n",
      "| 1466 |  179987.3 |\n",
      "| 1467 |  186546.1 |\n",
      "| 1468 |  164796.3 |\n",
      "| 1469 |  203158.3 |\n",
      "| 1470 |  123365.6 |\n",
      "+------+-----------+\n",
      "[1459 rows x 2 columns]\n",
      "Note: Only the head of the SFrame is printed.\n",
      "You can use print_rows(num_rows=m, num_columns=n) to print more rows and columns.\n"
     ]
    }
   ],
   "source": [
    "# Result from Linear Regression\n",
    "\n",
    "my_results = my_features_model.predict(house1)\n",
    "#print type(my_results)\n",
    "round_up = np.around(my_results, decimals=1, out=None)\n",
    "\n",
    "sf = gl.SFrame({'Id':Y, 'SalePrice':round_up})\n",
    "Z =sf[\"Id\",\"SalePrice\"]\n",
    "print Z"
   ]
  },
  {
   "cell_type": "markdown",
   "metadata": {
    "collapsed": false
   },
   "source": [
    "# Copy the result to a new csv file\n",
    "The kaggel competition result shows 0.16879 score for Linear Regression\n",
    "The kaggel competition result shows 0.17790 score for Random Forest Regressor"
   ]
  },
  {
   "cell_type": "code",
   "execution_count": 77,
   "metadata": {
    "collapsed": true
   },
   "outputs": [],
   "source": [
    "my_result = Z.save('predicted_houseprice.csv', format='csv')"
   ]
  },
  {
   "cell_type": "code",
   "execution_count": 133,
   "metadata": {
    "collapsed": true
   },
   "outputs": [],
   "source": [
    "#my_result = K.save('predicted_houseprice.csv', format='csv')"
   ]
  },
  {
   "cell_type": "code",
   "execution_count": null,
   "metadata": {
    "collapsed": true
   },
   "outputs": [],
   "source": []
  }
 ],
 "metadata": {
  "anaconda-cloud": {},
  "kernelspec": {
   "display_name": "Python 2",
   "language": "python",
   "name": "python2"
  },
  "language_info": {
   "codemirror_mode": {
    "name": "ipython",
    "version": 2
   },
   "file_extension": ".py",
   "mimetype": "text/x-python",
   "name": "python",
   "nbconvert_exporter": "python",
   "pygments_lexer": "ipython2",
   "version": "2.7.11"
  }
 },
 "nbformat": 4,
 "nbformat_minor": 1
}
