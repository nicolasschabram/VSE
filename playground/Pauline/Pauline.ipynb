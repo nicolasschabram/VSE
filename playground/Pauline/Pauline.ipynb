{
 "cells": [
  {
   "cell_type": "code",
   "execution_count": 38,
   "metadata": {
    "collapsed": false
   },
   "outputs": [],
   "source": [
    "import graphlab as gl\n",
    "import graphlab.numpy\n",
    "from datacleaner import autoclean\n",
    "import pandas as pd\n",
    "import numpy as np\n",
    "\n",
    "from sklearn import preprocessing\n",
    "from sklearn.cross_validation import train_test_split\n",
    "from sklearn.linear_model import LinearRegression\n",
    "from sklearn.ensemble import RandomForestRegressor\n",
    "from sklearn.metrics import mean_squared_error\n",
    "from sklearn import metrics"
   ]
  },
  {
   "cell_type": "markdown",
   "metadata": {},
   "source": [
    "# Load some house sales data"
   ]
  },
  {
   "cell_type": "code",
   "execution_count": 42,
   "metadata": {
    "collapsed": false
   },
   "outputs": [],
   "source": [
    "# clean up the training data\n",
    "my_data = pd.read_csv('../../data/train.csv', sep=',')\n",
    "my_clean_data = autoclean(my_data)\n",
    "my_data.to_csv('my_clean_train.csv', sep=',', index=False)\n",
    "# clean up the test data\n",
    "my_testdata = pd.read_csv('../../data/test.csv', sep=',')\n",
    "my_clean_testdata = autoclean(my_testdata)\n",
    "my_testdata.to_csv('my_clean_testdata.csv', sep=',', index=False)\n",
    "predict_sales = gl.SFrame(my_testdata)"
   ]
  },
  {
   "cell_type": "markdown",
   "metadata": {},
   "source": [
    "# Select only the columns which has correlations with SalePrice\n",
    "It was found that the correlation > 0.3 performs the best and produce the best predictions"
   ]
  },
  {
   "cell_type": "code",
   "execution_count": 43,
   "metadata": {
    "collapsed": false
   },
   "outputs": [
    {
     "name": "stdout",
     "output_type": "stream",
     "text": [
      "Id              -0.021917\n",
      "MSSubClass      -0.084284\n",
      "MSZoning        -0.166872\n",
      "LotFrontage      0.334771\n",
      "LotArea          0.263843\n",
      "Street           0.041036\n",
      "Alley           -0.027655\n",
      "LotShape        -0.255580\n",
      "LandContour      0.015453\n",
      "Utilities       -0.014314\n",
      "LotConfig       -0.067396\n",
      "LandSlope        0.051152\n",
      "Neighborhood     0.210851\n",
      "Condition1       0.091155\n",
      "Condition2       0.007513\n",
      "BldgType        -0.085591\n",
      "HouseStyle       0.180163\n",
      "OverallQual      0.790982\n",
      "OverallCond     -0.077856\n",
      "YearBuilt        0.522897\n",
      "YearRemodAdd     0.507101\n",
      "RoofStyle        0.222405\n",
      "RoofMatl         0.132383\n",
      "Exterior1st      0.103551\n",
      "Exterior2nd      0.103766\n",
      "MasVnrType       0.018216\n",
      "MasVnrArea       0.472614\n",
      "ExterQual       -0.636884\n",
      "ExterCond        0.117303\n",
      "Foundation       0.382479\n",
      "                   ...   \n",
      "BedroomAbvGr     0.168213\n",
      "KitchenAbvGr    -0.135907\n",
      "KitchenQual     -0.589189\n",
      "TotRmsAbvGrd     0.533723\n",
      "Functional       0.115328\n",
      "Fireplaces       0.466929\n",
      "FireplaceQu      0.071177\n",
      "GarageType      -0.302105\n",
      "GarageYrBlt      0.466754\n",
      "GarageFinish    -0.537242\n",
      "GarageCars       0.640409\n",
      "GarageArea       0.623431\n",
      "GarageQual       0.098759\n",
      "GarageCond       0.134740\n",
      "PavedDrive       0.231357\n",
      "WoodDeckSF       0.324413\n",
      "OpenPorchSF      0.315856\n",
      "EnclosedPorch   -0.128578\n",
      "3SsnPorch        0.044584\n",
      "ScreenPorch      0.111447\n",
      "PoolArea         0.092404\n",
      "PoolQC          -0.136215\n",
      "Fence            0.037430\n",
      "MiscFeature      0.028202\n",
      "MiscVal         -0.021190\n",
      "MoSold           0.046432\n",
      "YrSold          -0.028923\n",
      "SaleType        -0.054911\n",
      "SaleCondition    0.213092\n",
      "SalePrice        1.000000\n",
      "Name: SalePrice, dtype: float64\n",
      "\n",
      "Top\n",
      "26\n",
      "Highly Correlated Columns\n",
      "['LotFrontage', 'OverallQual', 'YearBuilt', 'YearRemodAdd', 'MasVnrArea', 'ExterQual', 'Foundation', 'BsmtQual', 'BsmtFinSF1', 'TotalBsmtSF', 'HeatingQC', '1stFlrSF', '2ndFlrSF', 'GrLivArea', 'FullBath', 'KitchenQual', 'TotRmsAbvGrd', 'Fireplaces', 'GarageType', 'GarageYrBlt', 'GarageFinish', 'GarageCars', 'GarageArea', 'WoodDeckSF', 'OpenPorchSF', 'SalePrice']\n"
     ]
    }
   ],
   "source": [
    "correlation = my_clean_data.corr()[\"SalePrice\"]\n",
    "print correlation\n",
    "\n",
    "my_columns = np.sort(np.where(abs(correlation) > 0.3))\n",
    "myFilteredData = my_clean_data.iloc[:, my_columns.tolist()[0]]\n",
    "mynewcolumns = my_clean_data.iloc[:0, my_columns.tolist()[0]]\n",
    "column_string = map(str, mynewcolumns)\n",
    "print ''\n",
    "print 'Top'\n",
    "print np.count_nonzero(column_string)\n",
    "print 'Highly Correlated Columns'\n",
    "print column_string\n",
    "\n",
    "features = myFilteredData.columns.tolist()"
   ]
  },
  {
   "cell_type": "markdown",
   "metadata": {},
   "source": [
    "# Instead of removing all outliers, we can replace the ourliers with NaN and then perform the auto-cleaning again to replace the NaN values with mean\n",
    "This produces a better result than removing the rows completely if outliers are detected\n"
   ]
  },
  {
   "cell_type": "code",
   "execution_count": 44,
   "metadata": {
    "collapsed": false
   },
   "outputs": [
    {
     "name": "stdout",
     "output_type": "stream",
     "text": [
      "      LotFrontage  OverallQual  YearBuilt  YearRemodAdd  MasVnrArea  \\\n",
      "0            65.0          7.0     2003.0          2003       196.0   \n",
      "1            80.0          6.0     1976.0          1976         0.0   \n",
      "2            68.0          7.0     2001.0          2002       162.0   \n",
      "3            60.0          7.0     1915.0          1970         0.0   \n",
      "4            84.0          8.0     2000.0          2000       350.0   \n",
      "5            85.0          5.0     1993.0          1995         0.0   \n",
      "6            75.0          8.0     2004.0          2005       186.0   \n",
      "7            69.0          7.0     1973.0          1973       240.0   \n",
      "8            51.0          7.0     1931.0          1950         0.0   \n",
      "9            50.0          5.0     1939.0          1950         0.0   \n",
      "10           70.0          5.0     1965.0          1965         0.0   \n",
      "11           85.0          9.0     2005.0          2006       286.0   \n",
      "12           69.0          5.0     1962.0          1962         0.0   \n",
      "13           91.0          7.0     2006.0          2007       306.0   \n",
      "14           69.0          6.0     1960.0          1960       212.0   \n",
      "15           51.0          7.0     1929.0          2001         0.0   \n",
      "16           69.0          6.0     1970.0          1970       180.0   \n",
      "17           72.0          4.0     1967.0          1967         0.0   \n",
      "18           66.0          5.0     2004.0          2004         0.0   \n",
      "19           70.0          5.0     1958.0          1965         0.0   \n",
      "20          101.0          8.0     2005.0          2006       380.0   \n",
      "21           57.0          7.0     1930.0          1950         0.0   \n",
      "22           75.0          8.0     2002.0          2002       281.0   \n",
      "23           44.0          5.0     1976.0          1976         0.0   \n",
      "24           69.0          5.0     1968.0          2001         0.0   \n",
      "25          110.0          8.0     2007.0          2007       640.0   \n",
      "26           60.0          5.0     1951.0          2000         0.0   \n",
      "27           98.0          8.0     2007.0          2008       200.0   \n",
      "28           47.0          5.0     1957.0          1997         0.0   \n",
      "29           60.0          4.0     1927.0          1950         0.0   \n",
      "...           ...          ...        ...           ...         ...   \n",
      "1430         60.0          5.0     2005.0          2005         0.0   \n",
      "1431         69.0          6.0     1976.0          1976         0.0   \n",
      "1432         60.0          4.0     1927.0          2007         0.0   \n",
      "1433         93.0          6.0     2000.0          2000       318.0   \n",
      "1434         80.0          5.0     1977.0          1977         0.0   \n",
      "1435         80.0          6.0     1962.0          2005       237.0   \n",
      "1436         60.0          4.0     1971.0          1971         0.0   \n",
      "1437         96.0          8.0     2008.0          2008       426.0   \n",
      "1438         90.0          6.0     1957.0          1996         0.0   \n",
      "1439         80.0          7.0     1979.0          1979        96.0   \n",
      "1440         79.0          6.0     1922.0          1994         0.0   \n",
      "1441         69.0          6.0     2004.0          2004       147.0   \n",
      "1442         85.0         10.0     2008.0          2008       160.0   \n",
      "1443         69.0          6.0     1916.0          1950         0.0   \n",
      "1444         63.0          7.0     2004.0          2004       106.0   \n",
      "1445         70.0          6.0     1966.0          1966         0.0   \n",
      "1446         69.0          5.0     1962.0          1962       189.0   \n",
      "1447         80.0          8.0     1995.0          1996       438.0   \n",
      "1448         70.0          4.0     1910.0          2000         0.0   \n",
      "1449         21.0          5.0     1970.0          1970         0.0   \n",
      "1450         60.0          5.0     1974.0          1974         0.0   \n",
      "1451         78.0          8.0     2008.0          2009       194.0   \n",
      "1452         35.0          5.0     2005.0          2005        80.0   \n",
      "1453         90.0          5.0     2006.0          2006         0.0   \n",
      "1454         62.0          7.0     2004.0          2005         0.0   \n",
      "1455         62.0          6.0     1999.0          2000         0.0   \n",
      "1456         85.0          6.0     1978.0          1988       119.0   \n",
      "1457         66.0          7.0     1941.0          2006         0.0   \n",
      "1458         68.0          5.0     1950.0          1996         0.0   \n",
      "1459         75.0          5.0     1965.0          1965         0.0   \n",
      "\n",
      "      ExterQual  Foundation  BsmtQual  BsmtFinSF1  TotalBsmtSF    ...      \\\n",
      "0           2.0         2.0         2       706.0        856.0    ...       \n",
      "1           3.0         1.0         2       978.0       1262.0    ...       \n",
      "2           2.0         2.0         2       486.0        920.0    ...       \n",
      "3           3.0         0.0         3       216.0        756.0    ...       \n",
      "4           2.0         2.0         2       655.0       1145.0    ...       \n",
      "5           3.0         1.0         2       732.0        796.0    ...       \n",
      "6           2.0         2.0         0      1369.0       1686.0    ...       \n",
      "7           3.0         1.0         2       859.0       1107.0    ...       \n",
      "8           3.0         0.0         3         0.0        952.0    ...       \n",
      "9           3.0         0.0         3       851.0        991.0    ...       \n",
      "10          3.0         1.0         3       906.0       1040.0    ...       \n",
      "11          3.0         2.0         0       998.0       1175.0    ...       \n",
      "12          3.0         1.0         3       737.0        912.0    ...       \n",
      "13          2.0         2.0         2         0.0       1494.0    ...       \n",
      "14          3.0         1.0         3       733.0       1253.0    ...       \n",
      "15          3.0         0.0         3         0.0        832.0    ...       \n",
      "16          3.0         1.0         3       578.0       1004.0    ...       \n",
      "17          3.0         3.0         3         0.0          0.0    ...       \n",
      "18          3.0         2.0         3       646.0       1114.0    ...       \n",
      "19          3.0         1.0         3       504.0       1029.0    ...       \n",
      "20          2.0         2.0         0         0.0       1158.0    ...       \n",
      "21          3.0         2.0         3         0.0        637.0    ...       \n",
      "22          2.0         2.0         2         0.0       1777.0    ...       \n",
      "23          3.0         2.0         2       840.0       1040.0    ...       \n",
      "24          3.0         1.0         3       188.0       1060.0    ...       \n",
      "25          2.0         2.0         2         0.0       1566.0    ...       \n",
      "26          3.0         1.0         3       234.0        900.0    ...       \n",
      "27          2.0         2.0         0      1218.0       1704.0    ...       \n",
      "28          3.0         1.0         3      1277.0       1484.0    ...       \n",
      "29          3.0         0.0         3         0.0        520.0    ...       \n",
      "...         ...         ...       ...         ...          ...    ...       \n",
      "1430        2.0         2.0         2         0.0        732.0    ...       \n",
      "1431        3.0         1.0         2       958.0        958.0    ...       \n",
      "1432        3.0         0.0         3         0.0        656.0    ...       \n",
      "1433        3.0         2.0         2         0.0        936.0    ...       \n",
      "1434        3.0         1.0         3       936.0       1126.0    ...       \n",
      "1435        2.0         1.0         3         0.0       1319.0    ...       \n",
      "1436        3.0         2.0         3       616.0        864.0    ...       \n",
      "1437        3.0         2.0         0      1336.0       1932.0    ...       \n",
      "1438        3.0         1.0         3       600.0        912.0    ...       \n",
      "1439        3.0         1.0         3       315.0        539.0    ...       \n",
      "1440        3.0         0.0         0         0.0        588.0    ...       \n",
      "1441        2.0         2.0         2       697.0        848.0    ...       \n",
      "1442        3.0         2.0         0       765.0       1017.0    ...       \n",
      "1443        3.0         0.0         3         0.0        952.0    ...       \n",
      "1444        2.0         2.0         2         0.0       1422.0    ...       \n",
      "1445        3.0         1.0         3       187.0        814.0    ...       \n",
      "1446        3.0         1.0         3       593.0       1188.0    ...       \n",
      "1447        2.0         2.0         2      1079.0       1220.0    ...       \n",
      "1448        3.0         1.0         1         0.0        560.0    ...       \n",
      "1449        3.0         1.0         2       553.0        630.0    ...       \n",
      "1450        3.0         1.0         2         0.0        896.0    ...       \n",
      "1451        2.0         2.0         2         0.0       1573.0    ...       \n",
      "1452        3.0         2.0         2       547.0        547.0    ...       \n",
      "1453        3.0         2.0         2         0.0       1140.0    ...       \n",
      "1454        2.0         2.0         2       410.0       1221.0    ...       \n",
      "1455        3.0         2.0         2         0.0        953.0    ...       \n",
      "1456        3.0         1.0         2       790.0       1542.0    ...       \n",
      "1457        3.0         1.0         3       275.0       1152.0    ...       \n",
      "1458        3.0         1.0         3        49.0       1078.0    ...       \n",
      "1459        2.0         1.0         3       830.0       1256.0    ...       \n",
      "\n",
      "      TotRmsAbvGrd  Fireplaces  GarageType  GarageYrBlt  GarageFinish  \\\n",
      "0              8.0         0.0           1       2003.0             1   \n",
      "1              6.0         1.0           1       1976.0             1   \n",
      "2              6.0         1.0           1       2001.0             1   \n",
      "3              7.0         1.0           5       1998.0             2   \n",
      "4              9.0         1.0           1       2000.0             1   \n",
      "5              5.0         0.0           1       1993.0             2   \n",
      "6              7.0         1.0           1       2004.0             1   \n",
      "7              7.0         2.0           1       1973.0             1   \n",
      "8              8.0         2.0           5       1931.0             2   \n",
      "9              5.0         2.0           1       1939.0             1   \n",
      "10             5.0         0.0           5       1965.0             2   \n",
      "11            11.0         2.0           3       2005.0             0   \n",
      "12             4.0         0.0           5       1962.0             2   \n",
      "13             7.0         1.0           1       2006.0             1   \n",
      "14             5.0         1.0           1       1960.0             1   \n",
      "15             5.0         0.0           5       1991.0             2   \n",
      "16             5.0         1.0           1       1970.0             0   \n",
      "17             6.0         0.0           4       1967.0             2   \n",
      "18             6.0         0.0           5       2004.0             2   \n",
      "19             6.0         0.0           1       1958.0             2   \n",
      "20             9.0         1.0           3       2005.0             1   \n",
      "21             6.0         1.0           1       1930.0             2   \n",
      "22             7.0         1.0           1       2002.0             1   \n",
      "23             6.0         1.0           1       1976.0             2   \n",
      "24             6.0         1.0           1       1968.0             2   \n",
      "25             7.0         1.0           1       2007.0             1   \n",
      "26             5.0         0.0           5       2005.0             2   \n",
      "27             7.0         1.0           1       2008.0             1   \n",
      "28             6.0         2.0           1       1957.0             1   \n",
      "29             4.0         0.0           5       1920.0             2   \n",
      "...            ...         ...         ...          ...           ...   \n",
      "1430           7.0         1.0           3       2005.0             0   \n",
      "1431           5.0         0.0           1       1976.0             1   \n",
      "1432           5.0         0.0           5       1928.0             2   \n",
      "1433           8.0         1.0           1       2000.0             0   \n",
      "1434           5.0         1.0           1       1977.0             1   \n",
      "1435           7.0         1.0           1       1962.0             1   \n",
      "1436           5.0         0.0           5       1974.0             2   \n",
      "1437           7.0         1.0           1       2008.0             0   \n",
      "1438           6.0         0.0           1       1957.0             2   \n",
      "1439           6.0         1.0           1       1979.0             1   \n",
      "1440          11.0         1.0           5       1993.0             0   \n",
      "1441           3.0         1.0           1       2004.0             1   \n",
      "1442          10.0         1.0           1       2008.0             0   \n",
      "1443           4.0         1.0           5       1916.0             2   \n",
      "1444           7.0         0.0           1       2004.0             1   \n",
      "1445           6.0         0.0           5       1990.0             2   \n",
      "1446           6.0         0.0           1       1962.0             2   \n",
      "1447           8.0         1.0           1       1995.0             1   \n",
      "1448           6.0         0.0           5       1950.0             2   \n",
      "1449           3.0         0.0           1       1980.0             2   \n",
      "1450           8.0         0.0           1       1980.0             2   \n",
      "1451           7.0         1.0           1       2008.0             0   \n",
      "1452           5.0         0.0           2       2005.0             0   \n",
      "1453           6.0         0.0           1       1980.0             2   \n",
      "1454           6.0         0.0           1       2004.0             1   \n",
      "1455           7.0         1.0           1       1999.0             1   \n",
      "1456           7.0         2.0           1       1978.0             2   \n",
      "1457           9.0         2.0           1       1941.0             1   \n",
      "1458           5.0         0.0           1       1950.0             2   \n",
      "1459           6.0         0.0           1       1965.0             0   \n",
      "\n",
      "      GarageCars  GarageArea  WoodDeckSF  OpenPorchSF  SalePrice  \n",
      "0              2       548.0         0.0         61.0   208500.0  \n",
      "1              2       460.0       298.0          0.0   181500.0  \n",
      "2              2       608.0         0.0         42.0   223500.0  \n",
      "3              3       642.0         0.0         35.0   140000.0  \n",
      "4              3       836.0       192.0         84.0   250000.0  \n",
      "5              2       480.0        40.0         30.0   143000.0  \n",
      "6              2       636.0       255.0         57.0   307000.0  \n",
      "7              2       484.0       235.0        204.0   200000.0  \n",
      "8              2       468.0        90.0          0.0   129900.0  \n",
      "9              1       205.0         0.0          4.0   118000.0  \n",
      "10             1       384.0         0.0          0.0   129500.0  \n",
      "11             3       736.0       147.0         21.0   345000.0  \n",
      "12             1       352.0       140.0          0.0   144000.0  \n",
      "13             3       840.0       160.0         33.0   279500.0  \n",
      "14             1       352.0         0.0        213.0   157000.0  \n",
      "15             2       576.0        48.0        112.0   132000.0  \n",
      "16             2       480.0         0.0          0.0   149000.0  \n",
      "17             2       516.0         0.0          0.0    90000.0  \n",
      "18             2       576.0         0.0        102.0   159000.0  \n",
      "19             1       294.0         0.0          0.0   139000.0  \n",
      "20             3       853.0       240.0        154.0   325300.0  \n",
      "21             1       280.0         0.0          0.0   139400.0  \n",
      "22             2       534.0       171.0        159.0   230000.0  \n",
      "23             2       572.0       100.0        110.0   129900.0  \n",
      "24             1       270.0       406.0         90.0   154000.0  \n",
      "25             3       890.0         0.0         56.0   256300.0  \n",
      "26             2       576.0       222.0         32.0   134800.0  \n",
      "27             3       772.0         0.0         50.0   306000.0  \n",
      "28             1       319.0       288.0         24.0   207500.0  \n",
      "29             1       240.0        49.0          0.0    68500.0  \n",
      "...          ...         ...         ...          ...        ...  \n",
      "1430           2       372.0       100.0         40.0   192140.0  \n",
      "1431           2       440.0         0.0         60.0   143750.0  \n",
      "1432           1       216.0         0.0          0.0    64500.0  \n",
      "1433           2       451.0         0.0          0.0   186500.0  \n",
      "1434           2       484.0       295.0         41.0   160000.0  \n",
      "1435           2       462.0         0.0         36.0   174000.0  \n",
      "1436           2       528.0         0.0          0.0   120500.0  \n",
      "1437           3       774.0         0.0         66.0   394617.0  \n",
      "1438           2       923.0         0.0        158.0   149700.0  \n",
      "1439           2       550.0         0.0         88.0   197000.0  \n",
      "1440           2       672.0       431.0          0.0   191000.0  \n",
      "1441           2       420.0       149.0          0.0   149300.0  \n",
      "1442           3       812.0       168.0         52.0   310000.0  \n",
      "1443           1       192.0         0.0         98.0   121000.0  \n",
      "1444           2       626.0       192.0         60.0   179600.0  \n",
      "1445           1       240.0         0.0          0.0   129000.0  \n",
      "1446           1       312.0       261.0         39.0   157900.0  \n",
      "1447           2       556.0         0.0         65.0   240000.0  \n",
      "1448           1       384.0       168.0         24.0   112000.0  \n",
      "1449           0         0.0         0.0          0.0    92000.0  \n",
      "1450           0         0.0        32.0         45.0   136000.0  \n",
      "1451           3       840.0         0.0         36.0   287090.0  \n",
      "1452           2       525.0         0.0         28.0   145000.0  \n",
      "1453           0         0.0        36.0         56.0    84500.0  \n",
      "1454           2       400.0         0.0        113.0   185000.0  \n",
      "1455           2       460.0         0.0         40.0   175000.0  \n",
      "1456           2       500.0       349.0          0.0   210000.0  \n",
      "1457           1       252.0         0.0         60.0   266500.0  \n",
      "1458           1       240.0       366.0          0.0   142125.0  \n",
      "1459           1       276.0         0.0         68.0   147500.0  \n",
      "\n",
      "[1460 rows x 26 columns]\n"
     ]
    }
   ],
   "source": [
    "my_dirtydata =  myFilteredData[np.abs(myFilteredData-myFilteredData.mean())<=(3*myFilteredData.std())]\n",
    "myFilteredData_without_outliers = autoclean(my_dirtydata)\n",
    "print myFilteredData_without_outliers"
   ]
  },
  {
   "cell_type": "code",
   "execution_count": 45,
   "metadata": {
    "collapsed": false
   },
   "outputs": [],
   "source": [
    "#from scipy import stats\n",
    "#df[(np.abs(stats.zscore(df)) < 3).all(axis=1)]\n",
    "#df = pd.DataFrame(myFilteredData, columns=column_string)\n",
    "#myFilteredData_without_outliers = df[df.apply(lambda x: np.abs(x - x.mean()) / x.std() < 3).all(axis=1)]\n",
    "#print myFilteredData_without_outliers\n",
    "#this is the filtered and outliers removed data\n",
    "sales = gl.SFrame(myFilteredData_without_outliers)\n",
    "# this is the original data without removing outliers and non-correlated columns\n",
    "sales_ori = gl.SFrame(my_clean_data)"
   ]
  },
  {
   "cell_type": "markdown",
   "metadata": {},
   "source": [
    "# Test from Nico"
   ]
  },
  {
   "cell_type": "code",
   "execution_count": 46,
   "metadata": {
    "collapsed": false
   },
   "outputs": [
    {
     "name": "stdout",
     "output_type": "stream",
     "text": [
      "train (80%):\n",
      "(1168, 26)\n",
      "validation (20%):\n",
      "(292, 26)\n"
     ]
    }
   ],
   "source": [
    "# Store all the feature labels of train_df into a list; remove the SalePrice.\n",
    "features = myFilteredData_without_outliers.columns.tolist()\n",
    "features.remove('SalePrice')\n",
    "\n",
    "# Generate the training set. Set random_state to be able to replicate results.\n",
    "# Our train data will contain 80% of train_df.\n",
    "train = myFilteredData_without_outliers.sample(frac=0.8, random_state=1)\n",
    "\n",
    "# Select anything not in the training set (20%) and put it in the validation set.\n",
    "validation = myFilteredData_without_outliers.loc[~myFilteredData_without_outliers.index.isin(train.index)]\n",
    "\n",
    "print \"train (80%):\"\n",
    "print train.shape\n",
    "print \"validation (20%):\"\n",
    "print validation.shape"
   ]
  },
  {
   "cell_type": "markdown",
   "metadata": {},
   "source": [
    "# Split 80% training data and 20% validation data"
   ]
  },
  {
   "cell_type": "code",
   "execution_count": 47,
   "metadata": {
    "collapsed": false
   },
   "outputs": [
    {
     "name": "stdout",
     "output_type": "stream",
     "text": [
      "train (80%):\n",
      "(1157, 26)\n",
      "validation (20%):\n",
      "(303, 26)\n"
     ]
    }
   ],
   "source": [
    "train_data,test_data = sales.random_split(.8,seed=0)\n",
    "train_data_ori,test_data_ori = sales_ori.random_split(.8,seed=0)\n",
    "\n",
    "print \"train (80%):\"\n",
    "print train_data.shape\n",
    "print \"validation (20%):\"\n",
    "print test_data.shape"
   ]
  },
  {
   "cell_type": "markdown",
   "metadata": {},
   "source": [
    "# Build the regression model\n",
    "This first model uses only the Ground Living Area as the feature as it has the highest correlation score"
   ]
  },
  {
   "cell_type": "code",
   "execution_count": 48,
   "metadata": {
    "collapsed": false
   },
   "outputs": [
    {
     "name": "stdout",
     "output_type": "stream",
     "text": [
      "PROGRESS: Creating a validation set from 5 percent of training data. This may take a while.\n",
      "          You can set ``validation_set=None`` to disable validation tracking.\n",
      "\n"
     ]
    },
    {
     "data": {
      "text/html": [
       "<pre>Linear regression:</pre>"
      ],
      "text/plain": [
       "Linear regression:"
      ]
     },
     "metadata": {},
     "output_type": "display_data"
    },
    {
     "data": {
      "text/html": [
       "<pre>--------------------------------------------------------</pre>"
      ],
      "text/plain": [
       "--------------------------------------------------------"
      ]
     },
     "metadata": {},
     "output_type": "display_data"
    },
    {
     "data": {
      "text/html": [
       "<pre>Number of examples          : 1108</pre>"
      ],
      "text/plain": [
       "Number of examples          : 1108"
      ]
     },
     "metadata": {},
     "output_type": "display_data"
    },
    {
     "data": {
      "text/html": [
       "<pre>Number of features          : 1</pre>"
      ],
      "text/plain": [
       "Number of features          : 1"
      ]
     },
     "metadata": {},
     "output_type": "display_data"
    },
    {
     "data": {
      "text/html": [
       "<pre>Number of unpacked features : 1</pre>"
      ],
      "text/plain": [
       "Number of unpacked features : 1"
      ]
     },
     "metadata": {},
     "output_type": "display_data"
    },
    {
     "data": {
      "text/html": [
       "<pre>Number of coefficients    : 2</pre>"
      ],
      "text/plain": [
       "Number of coefficients    : 2"
      ]
     },
     "metadata": {},
     "output_type": "display_data"
    },
    {
     "data": {
      "text/html": [
       "<pre>Starting Newton Method</pre>"
      ],
      "text/plain": [
       "Starting Newton Method"
      ]
     },
     "metadata": {},
     "output_type": "display_data"
    },
    {
     "data": {
      "text/html": [
       "<pre>--------------------------------------------------------</pre>"
      ],
      "text/plain": [
       "--------------------------------------------------------"
      ]
     },
     "metadata": {},
     "output_type": "display_data"
    },
    {
     "data": {
      "text/html": [
       "<pre>+-----------+----------+--------------+--------------------+----------------------+---------------+-----------------+</pre>"
      ],
      "text/plain": [
       "+-----------+----------+--------------+--------------------+----------------------+---------------+-----------------+"
      ]
     },
     "metadata": {},
     "output_type": "display_data"
    },
    {
     "data": {
      "text/html": [
       "<pre>| Iteration | Passes   | Elapsed Time | Training-max_error | Validation-max_error | Training-rmse | Validation-rmse |</pre>"
      ],
      "text/plain": [
       "| Iteration | Passes   | Elapsed Time | Training-max_error | Validation-max_error | Training-rmse | Validation-rmse |"
      ]
     },
     "metadata": {},
     "output_type": "display_data"
    },
    {
     "data": {
      "text/html": [
       "<pre>+-----------+----------+--------------+--------------------+----------------------+---------------+-----------------+</pre>"
      ],
      "text/plain": [
       "+-----------+----------+--------------+--------------------+----------------------+---------------+-----------------+"
      ]
     },
     "metadata": {},
     "output_type": "display_data"
    },
    {
     "data": {
      "text/html": [
       "<pre>| 1         | 2        | 0.001000     | 237529.342442      | 186629.342442        | 50031.853167  | 55242.501048    |</pre>"
      ],
      "text/plain": [
       "| 1         | 2        | 0.001000     | 237529.342442      | 186629.342442        | 50031.853167  | 55242.501048    |"
      ]
     },
     "metadata": {},
     "output_type": "display_data"
    },
    {
     "data": {
      "text/html": [
       "<pre>+-----------+----------+--------------+--------------------+----------------------+---------------+-----------------+</pre>"
      ],
      "text/plain": [
       "+-----------+----------+--------------+--------------------+----------------------+---------------+-----------------+"
      ]
     },
     "metadata": {},
     "output_type": "display_data"
    },
    {
     "data": {
      "text/html": [
       "<pre>SUCCESS: Optimal solution found.</pre>"
      ],
      "text/plain": [
       "SUCCESS: Optimal solution found."
      ]
     },
     "metadata": {},
     "output_type": "display_data"
    },
    {
     "data": {
      "text/html": [
       "<pre></pre>"
      ],
      "text/plain": []
     },
     "metadata": {},
     "output_type": "display_data"
    }
   ],
   "source": [
    "GrLivArea_model = gl.linear_regression.create(train_data, target='SalePrice', features=['GrLivArea'])"
   ]
  },
  {
   "cell_type": "markdown",
   "metadata": {},
   "source": [
    "# Evaluate the simple model (one feature)"
   ]
  },
  {
   "cell_type": "markdown",
   "metadata": {},
   "source": [
    "This shows the mean SalePrice"
   ]
  },
  {
   "cell_type": "code",
   "execution_count": 142,
   "metadata": {
    "collapsed": false
   },
   "outputs": [
    {
     "name": "stdout",
     "output_type": "stream",
     "text": [
      "176555.706271\n"
     ]
    }
   ],
   "source": [
    "print test_data['SalePrice'].mean()"
   ]
  },
  {
   "cell_type": "markdown",
   "metadata": {},
   "source": [
    "\"Max_error\" means the outliers (USD500k is the outlier) and RMSE is the \"Root Mean Square Error\""
   ]
  },
  {
   "cell_type": "code",
   "execution_count": 57,
   "metadata": {
    "collapsed": false
   },
   "outputs": [
    {
     "name": "stdout",
     "output_type": "stream",
     "text": [
      "{'max_error': 223030.2809991993, 'rmse': 49844.513298478116}\n"
     ]
    }
   ],
   "source": [
    "print GrLivArea_model.evaluate(test_data)"
   ]
  },
  {
   "cell_type": "code",
   "execution_count": 55,
   "metadata": {
    "collapsed": true
   },
   "outputs": [],
   "source": [
    "import matplotlib.pyplot as plt\n",
    "%matplotlib inline"
   ]
  },
  {
   "cell_type": "code",
   "execution_count": 58,
   "metadata": {
    "collapsed": false
   },
   "outputs": [
    {
     "data": {
      "text/plain": [
       "[<matplotlib.lines.Line2D at 0x20fa64a8>,\n",
       " <matplotlib.lines.Line2D at 0x20fa6550>]"
      ]
     },
     "execution_count": 58,
     "metadata": {},
     "output_type": "execute_result"
    },
    {
     "data": {
      "image/png": "[encoded data removed]",
      "text/plain": [
       "<matplotlib.figure.Figure at 0x1625acc0>"
      ]
     },
     "metadata": {},
     "output_type": "display_data"
    }
   ],
   "source": [
    "plt.plot(test_data['GrLivArea'], test_data['SalePrice'], '.', test_data['GrLivArea'], GrLivArea_model.predict(test_data), '-')"
   ]
  },
  {
   "cell_type": "code",
   "execution_count": 181,
   "metadata": {
    "collapsed": false
   },
   "outputs": [
    {
     "data": {
      "text/html": [
       "<div style=\"max-height:1000px;max-width:1500px;overflow:auto;\"><table frame=\"box\" rules=\"cols\">\n",
       "    <tr>\n",
       "        <th style=\"padding-left: 1em; padding-right: 1em; text-align: center\">name</th>\n",
       "        <th style=\"padding-left: 1em; padding-right: 1em; text-align: center\">index</th>\n",
       "        <th style=\"padding-left: 1em; padding-right: 1em; text-align: center\">value</th>\n",
       "        <th style=\"padding-left: 1em; padding-right: 1em; text-align: center\">stderr</th>\n",
       "    </tr>\n",
       "    <tr>\n",
       "        <td style=\"padding-left: 1em; padding-right: 1em; text-align: center; vertical-align: top\">(intercept)</td>\n",
       "        <td style=\"padding-left: 1em; padding-right: 1em; text-align: center; vertical-align: top\">None</td>\n",
       "        <td style=\"padding-left: 1em; padding-right: 1em; text-align: center; vertical-align: top\">35092.5452584</td>\n",
       "        <td style=\"padding-left: 1em; padding-right: 1em; text-align: center; vertical-align: top\">4956.98509929</td>\n",
       "    </tr>\n",
       "    <tr>\n",
       "        <td style=\"padding-left: 1em; padding-right: 1em; text-align: center; vertical-align: top\">GrLivArea</td>\n",
       "        <td style=\"padding-left: 1em; padding-right: 1em; text-align: center; vertical-align: top\">None</td>\n",
       "        <td style=\"padding-left: 1em; padding-right: 1em; text-align: center; vertical-align: top\">94.8464691779</td>\n",
       "        <td style=\"padding-left: 1em; padding-right: 1em; text-align: center; vertical-align: top\">3.20041183547</td>\n",
       "    </tr>\n",
       "</table>\n",
       "[2 rows x 4 columns]<br/>\n",
       "</div>"
      ],
      "text/plain": [
       "Columns:\n",
       "\tname\tstr\n",
       "\tindex\tstr\n",
       "\tvalue\tfloat\n",
       "\tstderr\tfloat\n",
       "\n",
       "Rows: 2\n",
       "\n",
       "Data:\n",
       "+-------------+-------+---------------+---------------+\n",
       "|     name    | index |     value     |     stderr    |\n",
       "+-------------+-------+---------------+---------------+\n",
       "| (intercept) |  None | 35092.5452584 | 4956.98509929 |\n",
       "|  GrLivArea  |  None | 94.8464691779 | 3.20041183547 |\n",
       "+-------------+-------+---------------+---------------+\n",
       "[2 rows x 4 columns]"
      ]
     },
     "execution_count": 181,
     "metadata": {},
     "output_type": "execute_result"
    }
   ],
   "source": [
    "GrLivArea_model.get('coefficients')"
   ]
  },
  {
   "cell_type": "markdown",
   "metadata": {},
   "source": [
    "The summary from table above is the value of y intercept is USD23490 and average price for GrLivArea is USD100 per sqf"
   ]
  },
  {
   "cell_type": "markdown",
   "metadata": {},
   "source": [
    "# Create a new multi features model (Original - with 80 features)"
   ]
  },
  {
   "cell_type": "code",
   "execution_count": 17,
   "metadata": {
    "collapsed": false
   },
   "outputs": [
    {
     "name": "stdout",
     "output_type": "stream",
     "text": [
      "PROGRESS: Creating a validation set from 5 percent of training data. This may take a while.\n",
      "          You can set ``validation_set=None`` to disable validation tracking.\n",
      "\n"
     ]
    },
    {
     "data": {
      "text/html": [
       "<pre>Linear regression:</pre>"
      ],
      "text/plain": [
       "Linear regression:"
      ]
     },
     "metadata": {},
     "output_type": "display_data"
    },
    {
     "data": {
      "text/html": [
       "<pre>--------------------------------------------------------</pre>"
      ],
      "text/plain": [
       "--------------------------------------------------------"
      ]
     },
     "metadata": {},
     "output_type": "display_data"
    },
    {
     "data": {
      "text/html": [
       "<pre>Number of examples          : 1089</pre>"
      ],
      "text/plain": [
       "Number of examples          : 1089"
      ]
     },
     "metadata": {},
     "output_type": "display_data"
    },
    {
     "data": {
      "text/html": [
       "<pre>Number of features          : 80</pre>"
      ],
      "text/plain": [
       "Number of features          : 80"
      ]
     },
     "metadata": {},
     "output_type": "display_data"
    },
    {
     "data": {
      "text/html": [
       "<pre>Number of unpacked features : 80</pre>"
      ],
      "text/plain": [
       "Number of unpacked features : 80"
      ]
     },
     "metadata": {},
     "output_type": "display_data"
    },
    {
     "data": {
      "text/html": [
       "<pre>Number of coefficients    : 81</pre>"
      ],
      "text/plain": [
       "Number of coefficients    : 81"
      ]
     },
     "metadata": {},
     "output_type": "display_data"
    },
    {
     "data": {
      "text/html": [
       "<pre>Starting Newton Method</pre>"
      ],
      "text/plain": [
       "Starting Newton Method"
      ]
     },
     "metadata": {},
     "output_type": "display_data"
    },
    {
     "data": {
      "text/html": [
       "<pre>--------------------------------------------------------</pre>"
      ],
      "text/plain": [
       "--------------------------------------------------------"
      ]
     },
     "metadata": {},
     "output_type": "display_data"
    },
    {
     "data": {
      "text/html": [
       "<pre>+-----------+----------+--------------+--------------------+----------------------+---------------+-----------------+</pre>"
      ],
      "text/plain": [
       "+-----------+----------+--------------+--------------------+----------------------+---------------+-----------------+"
      ]
     },
     "metadata": {},
     "output_type": "display_data"
    },
    {
     "data": {
      "text/html": [
       "<pre>| Iteration | Passes   | Elapsed Time | Training-max_error | Validation-max_error | Training-rmse | Validation-rmse |</pre>"
      ],
      "text/plain": [
       "| Iteration | Passes   | Elapsed Time | Training-max_error | Validation-max_error | Training-rmse | Validation-rmse |"
      ]
     },
     "metadata": {},
     "output_type": "display_data"
    },
    {
     "data": {
      "text/html": [
       "<pre>+-----------+----------+--------------+--------------------+----------------------+---------------+-----------------+</pre>"
      ],
      "text/plain": [
       "+-----------+----------+--------------+--------------------+----------------------+---------------+-----------------+"
      ]
     },
     "metadata": {},
     "output_type": "display_data"
    },
    {
     "data": {
      "text/html": [
       "<pre>| 1         | 2        | 0.016333     | 370204.123762      | 621368.240757        | 27564.742504  | 81235.490915    |</pre>"
      ],
      "text/plain": [
       "| 1         | 2        | 0.016333     | 370204.123762      | 621368.240757        | 27564.742504  | 81235.490915    |"
      ]
     },
     "metadata": {},
     "output_type": "display_data"
    },
    {
     "data": {
      "text/html": [
       "<pre>+-----------+----------+--------------+--------------------+----------------------+---------------+-----------------+</pre>"
      ],
      "text/plain": [
       "+-----------+----------+--------------+--------------------+----------------------+---------------+-----------------+"
      ]
     },
     "metadata": {},
     "output_type": "display_data"
    },
    {
     "data": {
      "text/html": [
       "<pre>SUCCESS: Optimal solution found.</pre>"
      ],
      "text/plain": [
       "SUCCESS: Optimal solution found."
      ]
     },
     "metadata": {},
     "output_type": "display_data"
    },
    {
     "data": {
      "text/html": [
       "<pre></pre>"
      ],
      "text/plain": []
     },
     "metadata": {},
     "output_type": "display_data"
    }
   ],
   "source": [
    "my_features_model_ori = gl.linear_regression.create(train_data_ori,target='SalePrice')"
   ]
  },
  {
   "cell_type": "markdown",
   "metadata": {},
   "source": [
    "# KNN Regressor"
   ]
  },
  {
   "cell_type": "code",
   "execution_count": 59,
   "metadata": {
    "collapsed": false
   },
   "outputs": [
    {
     "name": "stdout",
     "output_type": "stream",
     "text": [
      "[  73000.  280000.   55993.  108000.  147000.  109008.  108480.  143000.\n",
      "  157000.   87000.  101000.  174000.  167000.  163500.  190000.  100000.\n",
      "  107000.  145000.  172500.  163500.   82500.  217500.  130000.   97500.\n",
      "  119000.  176000.   37900.  119000.  103000.  127000.  275000.  200000.\n",
      "   82000.  172500.  271000.  186700.  174000.  129000.   34900.  176000.\n",
      "  155000.  181000.  118000.  217000.   40000.  180000.  126175.  103000.\n",
      "  184000.  125000.  171000.  135000.   87000.  137900.  290000.  250000.\n",
      "   82500.   90000.   98600.  181000.  132500.  145000.   82500.  200000.\n",
      "  187500.  113000.  165500.  125000.  113000.  106000.  161500.  121500.\n",
      "  161500.   84500.   60000.  161500.  200000.   76000.  167000.  125500.\n",
      "  108000.  139000.  169990.  212900.  173000.  167000.  147000.  161500.\n",
      "  135000.  133000.   95000.  137000.   40000.  110500.  161500.  290000.\n",
      "  115000.   82000.  235000.  240000.  133900.   80000.  133900.  248000.\n",
      "  128500.  144000.  161500.   87000.  161500.  161500.  125500.  129900.\n",
      "  109000.  207500.  128500.   73000.  250000.  140000.  112000.  127000.\n",
      "  104900.  119500.  135000.  161500.  131500.  118000.  119500.   90000.\n",
      "  170000.  113000.  151000.  171750.  131500.  129000.   34900.  285000.\n",
      "  140000.  155000.  140000.  108959.  109008.  129000.  235128.  185000.\n",
      "  180000.  112000.   89500.   40000.  250000.   62383.  135000.   99500.\n",
      "  200000.   94750.  131500.  151000.  185000.   83000.  119000.   62383.\n",
      "  178000.  128500.  200000.  173000.  120000.  130000.  108000.  106000.\n",
      "  130000.  175000.   85000.  129000.   85000.  106000.  145000.  126175.\n",
      "  151000.  240000.  171750.  137500.  118000.   88000.  193000.  155835.\n",
      "  118000.  140000.  106000.  155000.  151400.  129000.   76000.  209500.\n",
      "  171750.   82500.  136000.   99500.  133000.  161500.   82000.  140000.\n",
      "  140000.   82500.   93000.  152000.   97500.   95000.  108480.  130000.\n",
      "  140000.  135000.  127000.  151000.  129500.   91000.   37900.   99500.\n",
      "  156500.  121500.  148500.  158000.  167000.  161500.  171000.  167000.\n",
      "  106000.  142000.  119500.   34900.  142000.  180000.   52000.  127000.\n",
      "  104000.  128000.  178000.  156500.  148500.  125000.   94750.  129900.\n",
      "  142600.  205000.  167000.  207500.  106000.  145000.  212900.  196000.\n",
      "  169990.  127000.  173000.  250000.  260000.  130000.   52000.  172000.\n",
      "   34900.  250000.   62383.   55000.  228000.  189000.   85000.  170000.\n",
      "  240000.  140000.  109008.  129000.  161500.  200000.  146000.  200000.\n",
      "  115000.  165500.  201000.  144000.   91000.  175000.   34900.  178000.\n",
      "  193000.  104900.  129900.  175000.  200000.  110000.  165400.   62383.\n",
      "  107000.  181000.  108000.  139000.]\n",
      "[[ 0.  0.  0. ...,  0.  0.  0.]\n",
      " [ 0.  0.  0. ...,  0.  0.  0.]\n",
      " [ 0.  0.  0. ...,  0.  0.  0.]\n",
      " ..., \n",
      " [ 0.  0.  0. ...,  0.  0.  0.]\n",
      " [ 0.  0.  0. ...,  0.  0.  0.]\n",
      " [ 0.  0.  0. ...,  0.  0.  0.]]\n",
      "0.0205479452055\n"
     ]
    }
   ],
   "source": [
    "from sklearn.neighbors import KNeighborsClassifier\n",
    "neigh = KNeighborsClassifier(n_neighbors=8)\n",
    "neigh.fit(train[features], train['SalePrice'])\n",
    "\n",
    "KNN_prediction = (neigh.predict(validation[features]))\n",
    "print KNN_prediction\n",
    "print(neigh.predict_proba(validation[features]))\n",
    "\n",
    "print metrics.accuracy_score(validation.SalePrice, KNN_prediction)\n",
    "                                    "
   ]
  },
  {
   "cell_type": "markdown",
   "metadata": {},
   "source": [
    "# Random Forest Regressor"
   ]
  },
  {
   "cell_type": "code",
   "execution_count": 50,
   "metadata": {
    "collapsed": false
   },
   "outputs": [
    {
     "name": "stdout",
     "output_type": "stream",
     "text": [
      "Mean Squared Error: 832845204.164\n"
     ]
    }
   ],
   "source": [
    "# Initialize the model.\n",
    "# Note: The parameters given here are not really optimized yet. Apparantly, n_estimator\n",
    "#       is the one we should pay the most attention to. For details see:\n",
    "#       http://scikit-learn.org/stable/modules/ensemble.html#parameters\n",
    "\n",
    "random_forest_model = RandomForestRegressor(n_estimators=100, min_samples_leaf=10, random_state=1)\n",
    "\n",
    "random_forest_model.fit(train[features], train['SalePrice'])\n",
    "\n",
    "# Make predictions for our validation set.\n",
    "predictions = random_forest_model.predict(validation[features])\n",
    "\n",
    "# Compute the error.\n",
    "print 'Mean Squared Error:', mean_squared_error(predictions, validation['SalePrice'])"
   ]
  },
  {
   "cell_type": "markdown",
   "metadata": {},
   "source": [
    "# Create a new multi features model (After removing non-correlated columns)"
   ]
  },
  {
   "cell_type": "code",
   "execution_count": 31,
   "metadata": {
    "collapsed": false
   },
   "outputs": [
    {
     "name": "stdout",
     "output_type": "stream",
     "text": [
      "PROGRESS: Creating a validation set from 5 percent of training data. This may take a while.\n",
      "          You can set ``validation_set=None`` to disable validation tracking.\n",
      "\n"
     ]
    },
    {
     "data": {
      "text/html": [
       "<pre>Linear regression:</pre>"
      ],
      "text/plain": [
       "Linear regression:"
      ]
     },
     "metadata": {},
     "output_type": "display_data"
    },
    {
     "data": {
      "text/html": [
       "<pre>--------------------------------------------------------</pre>"
      ],
      "text/plain": [
       "--------------------------------------------------------"
      ]
     },
     "metadata": {},
     "output_type": "display_data"
    },
    {
     "data": {
      "text/html": [
       "<pre>Number of examples          : 1103</pre>"
      ],
      "text/plain": [
       "Number of examples          : 1103"
      ]
     },
     "metadata": {},
     "output_type": "display_data"
    },
    {
     "data": {
      "text/html": [
       "<pre>Number of features          : 25</pre>"
      ],
      "text/plain": [
       "Number of features          : 25"
      ]
     },
     "metadata": {},
     "output_type": "display_data"
    },
    {
     "data": {
      "text/html": [
       "<pre>Number of unpacked features : 25</pre>"
      ],
      "text/plain": [
       "Number of unpacked features : 25"
      ]
     },
     "metadata": {},
     "output_type": "display_data"
    },
    {
     "data": {
      "text/html": [
       "<pre>Number of coefficients    : 26</pre>"
      ],
      "text/plain": [
       "Number of coefficients    : 26"
      ]
     },
     "metadata": {},
     "output_type": "display_data"
    },
    {
     "data": {
      "text/html": [
       "<pre>Starting Newton Method</pre>"
      ],
      "text/plain": [
       "Starting Newton Method"
      ]
     },
     "metadata": {},
     "output_type": "display_data"
    },
    {
     "data": {
      "text/html": [
       "<pre>--------------------------------------------------------</pre>"
      ],
      "text/plain": [
       "--------------------------------------------------------"
      ]
     },
     "metadata": {},
     "output_type": "display_data"
    },
    {
     "data": {
      "text/html": [
       "<pre>+-----------+----------+--------------+--------------------+----------------------+---------------+-----------------+</pre>"
      ],
      "text/plain": [
       "+-----------+----------+--------------+--------------------+----------------------+---------------+-----------------+"
      ]
     },
     "metadata": {},
     "output_type": "display_data"
    },
    {
     "data": {
      "text/html": [
       "<pre>| Iteration | Passes   | Elapsed Time | Training-max_error | Validation-max_error | Training-rmse | Validation-rmse |</pre>"
      ],
      "text/plain": [
       "| Iteration | Passes   | Elapsed Time | Training-max_error | Validation-max_error | Training-rmse | Validation-rmse |"
      ]
     },
     "metadata": {},
     "output_type": "display_data"
    },
    {
     "data": {
      "text/html": [
       "<pre>+-----------+----------+--------------+--------------------+----------------------+---------------+-----------------+</pre>"
      ],
      "text/plain": [
       "+-----------+----------+--------------+--------------------+----------------------+---------------+-----------------+"
      ]
     },
     "metadata": {},
     "output_type": "display_data"
    },
    {
     "data": {
      "text/html": [
       "<pre>| 1         | 2        | 0.006008     | 178402.805180      | 140871.676181        | 30776.831681  | 35441.371360    |</pre>"
      ],
      "text/plain": [
       "| 1         | 2        | 0.006008     | 178402.805180      | 140871.676181        | 30776.831681  | 35441.371360    |"
      ]
     },
     "metadata": {},
     "output_type": "display_data"
    },
    {
     "data": {
      "text/html": [
       "<pre>+-----------+----------+--------------+--------------------+----------------------+---------------+-----------------+</pre>"
      ],
      "text/plain": [
       "+-----------+----------+--------------+--------------------+----------------------+---------------+-----------------+"
      ]
     },
     "metadata": {},
     "output_type": "display_data"
    },
    {
     "data": {
      "text/html": [
       "<pre>SUCCESS: Optimal solution found.</pre>"
      ],
      "text/plain": [
       "SUCCESS: Optimal solution found."
      ]
     },
     "metadata": {},
     "output_type": "display_data"
    },
    {
     "data": {
      "text/html": [
       "<pre></pre>"
      ],
      "text/plain": []
     },
     "metadata": {},
     "output_type": "display_data"
    }
   ],
   "source": [
    "my_features_model = gl.linear_regression.create(train_data,target='SalePrice')"
   ]
  },
  {
   "cell_type": "code",
   "execution_count": 151,
   "metadata": {
    "collapsed": false
   },
   "outputs": [
    {
     "name": "stdout",
     "output_type": "stream",
     "text": [
      "['LotFrontage', 'Income2010', 'OverallQual', 'YearBuilt', 'YearRemodAdd', 'MasVnrArea', 'ExterQual', 'Foundation', 'BsmtQual', 'BsmtFinSF1', 'TotalBsmtSF', 'HeatingQC', '1stFlrSF', '2ndFlrSF', 'GrLivArea', 'FullBath', 'KitchenQual', 'TotRmsAbvGrd', 'Fireplaces', 'GarageType', 'GarageYrBlt', 'GarageFinish', 'GarageCars', 'GarageArea', 'WoodDeckSF', 'OpenPorchSF', 'SalePrice']\n"
     ]
    }
   ],
   "source": [
    "print column_string"
   ]
  },
  {
   "cell_type": "code",
   "execution_count": 32,
   "metadata": {
    "collapsed": false
   },
   "outputs": [
    {
     "data": {
      "text/plain": [
       "[<matplotlib.lines.Line2D at 0x2059dd30>,\n",
       " <matplotlib.lines.Line2D at 0x2059ddd8>]"
      ]
     },
     "execution_count": 32,
     "metadata": {},
     "output_type": "execute_result"
    },
    {
     "data": {
      "image/png": "[encoded data removed]",
      "text/plain": [
       "<matplotlib.figure.Figure at 0x1657af28>"
      ]
     },
     "metadata": {},
     "output_type": "display_data"
    }
   ],
   "source": [
    "plt.plot(test_data['GrLivArea'], test_data['SalePrice'], '.', test_data['GrLivArea'], my_features_model.predict(test_data), '-')"
   ]
  },
  {
   "cell_type": "code",
   "execution_count": 33,
   "metadata": {
    "collapsed": false
   },
   "outputs": [
    {
     "data": {
      "text/html": [
       "<div style=\"max-height:1000px;max-width:1500px;overflow:auto;\"><table frame=\"box\" rules=\"cols\">\n",
       "    <tr>\n",
       "        <th style=\"padding-left: 1em; padding-right: 1em; text-align: center\">name</th>\n",
       "        <th style=\"padding-left: 1em; padding-right: 1em; text-align: center\">index</th>\n",
       "        <th style=\"padding-left: 1em; padding-right: 1em; text-align: center\">value</th>\n",
       "        <th style=\"padding-left: 1em; padding-right: 1em; text-align: center\">stderr</th>\n",
       "    </tr>\n",
       "    <tr>\n",
       "        <td style=\"padding-left: 1em; padding-right: 1em; text-align: center; vertical-align: top\">(intercept)</td>\n",
       "        <td style=\"padding-left: 1em; padding-right: 1em; text-align: center; vertical-align: top\">None</td>\n",
       "        <td style=\"padding-left: 1em; padding-right: 1em; text-align: center; vertical-align: top\">33912.6355386</td>\n",
       "        <td style=\"padding-left: 1em; padding-right: 1em; text-align: center; vertical-align: top\">5027.15359691</td>\n",
       "    </tr>\n",
       "    <tr>\n",
       "        <td style=\"padding-left: 1em; padding-right: 1em; text-align: center; vertical-align: top\">GrLivArea</td>\n",
       "        <td style=\"padding-left: 1em; padding-right: 1em; text-align: center; vertical-align: top\">None</td>\n",
       "        <td style=\"padding-left: 1em; padding-right: 1em; text-align: center; vertical-align: top\">95.5865478942</td>\n",
       "        <td style=\"padding-left: 1em; padding-right: 1em; text-align: center; vertical-align: top\">3.24994888114</td>\n",
       "    </tr>\n",
       "</table>\n",
       "[2 rows x 4 columns]<br/>\n",
       "</div>"
      ],
      "text/plain": [
       "Columns:\n",
       "\tname\tstr\n",
       "\tindex\tstr\n",
       "\tvalue\tfloat\n",
       "\tstderr\tfloat\n",
       "\n",
       "Rows: 2\n",
       "\n",
       "Data:\n",
       "+-------------+-------+---------------+---------------+\n",
       "|     name    | index |     value     |     stderr    |\n",
       "+-------------+-------+---------------+---------------+\n",
       "| (intercept) |  None | 33912.6355386 | 5027.15359691 |\n",
       "|  GrLivArea  |  None | 95.5865478942 | 3.24994888114 |\n",
       "+-------------+-------+---------------+---------------+\n",
       "[2 rows x 4 columns]"
      ]
     },
     "execution_count": 33,
     "metadata": {},
     "output_type": "execute_result"
    }
   ],
   "source": [
    "GrLivArea_model.get('coefficients')"
   ]
  },
  {
   "cell_type": "code",
   "execution_count": 34,
   "metadata": {
    "collapsed": false
   },
   "outputs": [
    {
     "data": {
      "text/html": [
       "<div style=\"max-height:1000px;max-width:1500px;overflow:auto;\"><table frame=\"box\" rules=\"cols\">\n",
       "    <tr>\n",
       "        <th style=\"padding-left: 1em; padding-right: 1em; text-align: center\">name</th>\n",
       "        <th style=\"padding-left: 1em; padding-right: 1em; text-align: center\">index</th>\n",
       "        <th style=\"padding-left: 1em; padding-right: 1em; text-align: center\">value</th>\n",
       "        <th style=\"padding-left: 1em; padding-right: 1em; text-align: center\">stderr</th>\n",
       "    </tr>\n",
       "    <tr>\n",
       "        <td style=\"padding-left: 1em; padding-right: 1em; text-align: center; vertical-align: top\">(intercept)</td>\n",
       "        <td style=\"padding-left: 1em; padding-right: 1em; text-align: center; vertical-align: top\">None</td>\n",
       "        <td style=\"padding-left: 1em; padding-right: 1em; text-align: center; vertical-align: top\">-602263.927528</td>\n",
       "        <td style=\"padding-left: 1em; padding-right: 1em; text-align: center; vertical-align: top\">169920.913884</td>\n",
       "    </tr>\n",
       "    <tr>\n",
       "        <td style=\"padding-left: 1em; padding-right: 1em; text-align: center; vertical-align: top\">LotFrontage</td>\n",
       "        <td style=\"padding-left: 1em; padding-right: 1em; text-align: center; vertical-align: top\">None</td>\n",
       "        <td style=\"padding-left: 1em; padding-right: 1em; text-align: center; vertical-align: top\">155.149176355</td>\n",
       "        <td style=\"padding-left: 1em; padding-right: 1em; text-align: center; vertical-align: top\">59.7857924733</td>\n",
       "    </tr>\n",
       "    <tr>\n",
       "        <td style=\"padding-left: 1em; padding-right: 1em; text-align: center; vertical-align: top\">OverallQual</td>\n",
       "        <td style=\"padding-left: 1em; padding-right: 1em; text-align: center; vertical-align: top\">None</td>\n",
       "        <td style=\"padding-left: 1em; padding-right: 1em; text-align: center; vertical-align: top\">8595.15063457</td>\n",
       "        <td style=\"padding-left: 1em; padding-right: 1em; text-align: center; vertical-align: top\">1233.44632113</td>\n",
       "    </tr>\n",
       "    <tr>\n",
       "        <td style=\"padding-left: 1em; padding-right: 1em; text-align: center; vertical-align: top\">YearBuilt</td>\n",
       "        <td style=\"padding-left: 1em; padding-right: 1em; text-align: center; vertical-align: top\">None</td>\n",
       "        <td style=\"padding-left: 1em; padding-right: 1em; text-align: center; vertical-align: top\">143.143766671</td>\n",
       "        <td style=\"padding-left: 1em; padding-right: 1em; text-align: center; vertical-align: top\">66.8984161112</td>\n",
       "    </tr>\n",
       "    <tr>\n",
       "        <td style=\"padding-left: 1em; padding-right: 1em; text-align: center; vertical-align: top\">YearRemodAdd</td>\n",
       "        <td style=\"padding-left: 1em; padding-right: 1em; text-align: center; vertical-align: top\">None</td>\n",
       "        <td style=\"padding-left: 1em; padding-right: 1em; text-align: center; vertical-align: top\">295.674560948</td>\n",
       "        <td style=\"padding-left: 1em; padding-right: 1em; text-align: center; vertical-align: top\">66.465163027</td>\n",
       "    </tr>\n",
       "    <tr>\n",
       "        <td style=\"padding-left: 1em; padding-right: 1em; text-align: center; vertical-align: top\">MasVnrArea</td>\n",
       "        <td style=\"padding-left: 1em; padding-right: 1em; text-align: center; vertical-align: top\">None</td>\n",
       "        <td style=\"padding-left: 1em; padding-right: 1em; text-align: center; vertical-align: top\">29.9851144536</td>\n",
       "        <td style=\"padding-left: 1em; padding-right: 1em; text-align: center; vertical-align: top\">7.73541574856</td>\n",
       "    </tr>\n",
       "    <tr>\n",
       "        <td style=\"padding-left: 1em; padding-right: 1em; text-align: center; vertical-align: top\">ExterQual</td>\n",
       "        <td style=\"padding-left: 1em; padding-right: 1em; text-align: center; vertical-align: top\">None</td>\n",
       "        <td style=\"padding-left: 1em; padding-right: 1em; text-align: center; vertical-align: top\">-5715.3962179</td>\n",
       "        <td style=\"padding-left: 1em; padding-right: 1em; text-align: center; vertical-align: top\">2375.3144258</td>\n",
       "    </tr>\n",
       "    <tr>\n",
       "        <td style=\"padding-left: 1em; padding-right: 1em; text-align: center; vertical-align: top\">Foundation</td>\n",
       "        <td style=\"padding-left: 1em; padding-right: 1em; text-align: center; vertical-align: top\">None</td>\n",
       "        <td style=\"padding-left: 1em; padding-right: 1em; text-align: center; vertical-align: top\">2897.42047772</td>\n",
       "        <td style=\"padding-left: 1em; padding-right: 1em; text-align: center; vertical-align: top\">2049.52377245</td>\n",
       "    </tr>\n",
       "    <tr>\n",
       "        <td style=\"padding-left: 1em; padding-right: 1em; text-align: center; vertical-align: top\">BsmtQual</td>\n",
       "        <td style=\"padding-left: 1em; padding-right: 1em; text-align: center; vertical-align: top\">None</td>\n",
       "        <td style=\"padding-left: 1em; padding-right: 1em; text-align: center; vertical-align: top\">-3819.61831135</td>\n",
       "        <td style=\"padding-left: 1em; padding-right: 1em; text-align: center; vertical-align: top\">1525.95530115</td>\n",
       "    </tr>\n",
       "    <tr>\n",
       "        <td style=\"padding-left: 1em; padding-right: 1em; text-align: center; vertical-align: top\">BsmtFinSF1</td>\n",
       "        <td style=\"padding-left: 1em; padding-right: 1em; text-align: center; vertical-align: top\">None</td>\n",
       "        <td style=\"padding-left: 1em; padding-right: 1em; text-align: center; vertical-align: top\">15.8086588339</td>\n",
       "        <td style=\"padding-left: 1em; padding-right: 1em; text-align: center; vertical-align: top\">2.58933772309</td>\n",
       "    </tr>\n",
       "</table>\n",
       "[26 rows x 4 columns]<br/>Note: Only the head of the SFrame is printed.<br/>You can use print_rows(num_rows=m, num_columns=n) to print more rows and columns.\n",
       "</div>"
      ],
      "text/plain": [
       "Columns:\n",
       "\tname\tstr\n",
       "\tindex\tstr\n",
       "\tvalue\tfloat\n",
       "\tstderr\tfloat\n",
       "\n",
       "Rows: 26\n",
       "\n",
       "Data:\n",
       "+--------------+-------+----------------+---------------+\n",
       "|     name     | index |     value      |     stderr    |\n",
       "+--------------+-------+----------------+---------------+\n",
       "| (intercept)  |  None | -602263.927528 | 169920.913884 |\n",
       "| LotFrontage  |  None | 155.149176355  | 59.7857924733 |\n",
       "| OverallQual  |  None | 8595.15063457  | 1233.44632113 |\n",
       "|  YearBuilt   |  None | 143.143766671  | 66.8984161112 |\n",
       "| YearRemodAdd |  None | 295.674560948  |  66.465163027 |\n",
       "|  MasVnrArea  |  None | 29.9851144536  | 7.73541574856 |\n",
       "|  ExterQual   |  None | -5715.3962179  |  2375.3144258 |\n",
       "|  Foundation  |  None | 2897.42047772  | 2049.52377245 |\n",
       "|   BsmtQual   |  None | -3819.61831135 | 1525.95530115 |\n",
       "|  BsmtFinSF1  |  None | 15.8086588339  | 2.58933772309 |\n",
       "+--------------+-------+----------------+---------------+\n",
       "[26 rows x 4 columns]\n",
       "Note: Only the head of the SFrame is printed.\n",
       "You can use print_rows(num_rows=m, num_columns=n) to print more rows and columns."
      ]
     },
     "execution_count": 34,
     "metadata": {},
     "output_type": "execute_result"
    }
   ],
   "source": [
    "my_features_model.get('coefficients')"
   ]
  },
  {
   "cell_type": "markdown",
   "metadata": {},
   "source": [
    "# Result before removing outliers\n",
    "{'max_error': 263715.68381302676, 'rmse': 53423.71497179019}\n",
    "{'max_error': 200848.92346621933, 'rmse': 34190.02483489307}"
   ]
  },
  {
   "cell_type": "markdown",
   "metadata": {},
   "source": [
    "# Result After replacing outliers with mean value\n",
    "Maximum error reduced to 175653 {'max_error': 175653.45332768967, 'rmse': 33734.99971664569}"
   ]
  },
  {
   "cell_type": "code",
   "execution_count": 53,
   "metadata": {
    "collapsed": false
   },
   "outputs": [
    {
     "name": "stdout",
     "output_type": "stream",
     "text": [
      "Result with only one feature\n",
      "{'max_error': 223030.2809991993, 'rmse': 49844.513298478116}\n",
      "\n",
      "Result before selecting correlated columns and replacing outliers with mean\n",
      "{'max_error': 204790.38266739127, 'rmse': 35023.23585566911}\n",
      "\n",
      "Result after selecting correlated columns and replacing outliers with mean\n",
      "{'max_error': 177026.3416139559, 'rmse': 33772.68373077335}\n"
     ]
    }
   ],
   "source": [
    "print 'Result with only one feature'\n",
    "print GrLivArea_model.evaluate(test_data)\n",
    "print ''\n",
    "print 'Result before selecting correlated columns and replacing outliers with mean'\n",
    "#result before selecting correlated columns and removing outliers\n",
    "print my_features_model_ori.evaluate(test_data)\n",
    "print ''\n",
    "print 'Result after selecting correlated columns and replacing outliers with mean'\n",
    "#result after selecting correlated columns\n",
    "print my_features_model.evaluate(test_data)\n"
   ]
  },
  {
   "cell_type": "markdown",
   "metadata": {
    "collapsed": true
   },
   "source": [
    "# Apply learned models to predict  prices of house"
   ]
  },
  {
   "cell_type": "code",
   "execution_count": 36,
   "metadata": {
    "collapsed": false
   },
   "outputs": [
    {
     "ename": "NameError",
     "evalue": "name 'predict_sales' is not defined",
     "output_type": "error",
     "traceback": [
      "\u001b[1;31m---------------------------------------------------------------------------\u001b[0m",
      "\u001b[1;31mNameError\u001b[0m                                 Traceback (most recent call last)",
      "\u001b[1;32m<ipython-input-36-4adb254701fd>\u001b[0m in \u001b[0;36m<module>\u001b[1;34m()\u001b[0m\n\u001b[1;32m----> 1\u001b[1;33m \u001b[0mhouse1\u001b[0m \u001b[1;33m=\u001b[0m \u001b[0mgl\u001b[0m\u001b[1;33m.\u001b[0m\u001b[0mSFrame\u001b[0m\u001b[1;33m(\u001b[0m\u001b[0mpredict_sales\u001b[0m\u001b[1;33m)\u001b[0m\u001b[1;33m\u001b[0m\u001b[0m\n\u001b[0m\u001b[0;32m      2\u001b[0m \u001b[0mX\u001b[0m \u001b[1;33m=\u001b[0m \u001b[0mhouse1\u001b[0m\u001b[1;33m.\u001b[0m\u001b[0mselect_columns\u001b[0m\u001b[1;33m(\u001b[0m\u001b[1;33m[\u001b[0m\u001b[1;34m'Id'\u001b[0m\u001b[1;33m]\u001b[0m\u001b[1;33m)\u001b[0m\u001b[1;33m\u001b[0m\u001b[0m\n\u001b[0;32m      3\u001b[0m \u001b[1;31m# convert this to SArray\u001b[0m\u001b[1;33m\u001b[0m\u001b[1;33m\u001b[0m\u001b[0m\n\u001b[0;32m      4\u001b[0m \u001b[0mY\u001b[0m \u001b[1;33m=\u001b[0m \u001b[0mX\u001b[0m\u001b[1;33m[\u001b[0m\u001b[1;34m\"Id\"\u001b[0m\u001b[1;33m]\u001b[0m\u001b[1;33m\u001b[0m\u001b[0m\n",
      "\u001b[1;31mNameError\u001b[0m: name 'predict_sales' is not defined"
     ]
    }
   ],
   "source": [
    "house1 = gl.SFrame(predict_sales)\n",
    "X = house1.select_columns(['Id'])\n",
    "# convert this to SArray\n",
    "Y = X[\"Id\"]"
   ]
  },
  {
   "cell_type": "code",
   "execution_count": 157,
   "metadata": {
    "collapsed": false
   },
   "outputs": [
    {
     "name": "stdout",
     "output_type": "stream",
     "text": [
      "+------+-----------+\n",
      "|  Id  | SalePrice |\n",
      "+------+-----------+\n",
      "| 1461 |  123733.3 |\n",
      "| 1462 |  149617.0 |\n",
      "| 1463 |  185949.1 |\n",
      "| 1464 |  184285.3 |\n",
      "| 1465 |  203047.6 |\n",
      "| 1466 |  182560.8 |\n",
      "| 1467 |  166300.0 |\n",
      "| 1468 |  173960.2 |\n",
      "| 1469 |  189169.1 |\n",
      "| 1470 |  128225.8 |\n",
      "+------+-----------+\n",
      "[1459 rows x 2 columns]\n",
      "Note: Only the head of the SFrame is printed.\n",
      "You can use print_rows(num_rows=m, num_columns=n) to print more rows and columns.\n"
     ]
    }
   ],
   "source": [
    "# Result from Random Forest Regressor\n",
    "\n",
    "round_up = np.around(predictions, decimals=1, out=None)\n",
    "\n",
    "sf = gl.SFrame({'Id':Y, 'SalePrice':round_up})\n",
    "K =sf[\"Id\",\"SalePrice\"]\n",
    "print K"
   ]
  },
  {
   "cell_type": "code",
   "execution_count": 179,
   "metadata": {
    "collapsed": false
   },
   "outputs": [
    {
     "name": "stdout",
     "output_type": "stream",
     "text": [
      "+------+-----------+\n",
      "|  Id  | SalePrice |\n",
      "+------+-----------+\n",
      "| 1461 |  123914.9 |\n",
      "| 1462 |  167098.6 |\n",
      "| 1463 |  187493.0 |\n",
      "| 1464 |  197470.3 |\n",
      "| 1465 |  195233.4 |\n",
      "| 1466 |  179987.3 |\n",
      "| 1467 |  186546.1 |\n",
      "| 1468 |  164796.3 |\n",
      "| 1469 |  203158.3 |\n",
      "| 1470 |  123365.6 |\n",
      "+------+-----------+\n",
      "[1459 rows x 2 columns]\n",
      "Note: Only the head of the SFrame is printed.\n",
      "You can use print_rows(num_rows=m, num_columns=n) to print more rows and columns.\n"
     ]
    }
   ],
   "source": [
    "# Result from Linear Regression\n",
    "\n",
    "my_results = my_features_model.predict(house1)\n",
    "#print type(my_results)\n",
    "round_up = np.around(my_results, decimals=1, out=None)\n",
    "\n",
    "sf = gl.SFrame({'Id':Y, 'SalePrice':round_up})\n",
    "Z =sf[\"Id\",\"SalePrice\"]\n",
    "print Z"
   ]
  },
  {
   "cell_type": "markdown",
   "metadata": {
    "collapsed": false
   },
   "source": [
    "# Copy the result to a new csv file\n",
    "The kaggel competition result shows 0.16879 score for Linear Regression\n",
    "The kaggel competition result shows 0.17790 score for Random Forest Regressor"
   ]
  },
  {
   "cell_type": "code",
   "execution_count": 77,
   "metadata": {
    "collapsed": true
   },
   "outputs": [],
   "source": [
    "my_result = Z.save('predicted_houseprice.csv', format='csv')"
   ]
  },
  {
   "cell_type": "code",
   "execution_count": 133,
   "metadata": {
    "collapsed": true
   },
   "outputs": [],
   "source": [
    "#my_result = K.save('predicted_houseprice.csv', format='csv')"
   ]
  },
  {
   "cell_type": "code",
   "execution_count": null,
   "metadata": {
    "collapsed": true
   },
   "outputs": [],
   "source": []
  }
 ],
 "metadata": {
  "anaconda-cloud": {},
  "kernelspec": {
   "display_name": "Python 2",
   "language": "python",
   "name": "python2"
  },
  "language_info": {
   "codemirror_mode": {
    "name": "ipython",
    "version": 2
   },
   "file_extension": ".py",
   "mimetype": "text/x-python",
   "name": "python",
   "nbconvert_exporter": "python",
   "pygments_lexer": "ipython2",
   "version": "2.7.11"
  }
 },
 "nbformat": 4,
 "nbformat_minor": 1
}
