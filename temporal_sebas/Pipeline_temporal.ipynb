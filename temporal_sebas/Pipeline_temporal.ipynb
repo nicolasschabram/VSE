{
 "cells": [
  {
   "cell_type": "markdown",
   "metadata": {},
   "source": []
  },
  {
   "cell_type": "code",
   "execution_count": 33,
   "metadata": {
    "collapsed": true
   },
   "outputs": [],
   "source": [
    "# Import pandas\n",
    "import pandas as pd\n",
    "# Import matplotlib\n",
    "import matplotlib.pyplot as plt\n",
    "# Import autocleaner for cleaning data\n",
    "from datacleaner import autoclean"
   ]
  },
  {
   "cell_type": "code",
<<<<<<< Updated upstream
   "execution_count": 2,
=======
   "execution_count": 34,
>>>>>>> Stashed changes
   "metadata": {
    "collapsed": false
   },
   "outputs": [],
   "source": [
    "# Read in the data.\n",
    "data = pd.read_csv('../data/train.csv')\n",
    "# Clean data: replace missing values and convert categorical to numerical.\n",
    "clean_data = autoclean(data)\n",
    "# Create .csv with cleaned data\n",
    "data.to_csv('../data/clean_train.csv', sept=',', index=False)\n"
   ]
  },
  {
   "cell_type": "code",
<<<<<<< Updated upstream
   "execution_count": 23,
=======
   "execution_count": 35,
>>>>>>> Stashed changes
   "metadata": {
    "collapsed": false
   },
   "outputs": [
    {
     "name": "stdout",
     "output_type": "stream",
     "text": [
      "['MSSubClass', 'MSZoning', 'LotFrontage', 'LotArea', 'Street', 'Alley', 'LotShape', 'LandContour', 'Utilities', 'LotConfig', 'LandSlope', 'Neighborhood', 'Condition1', 'Condition2', 'BldgType', 'HouseStyle', 'OverallQual', 'OverallCond', 'YearBuilt', 'YearRemodAdd', 'RoofStyle', 'RoofMatl', 'Exterior1st', 'Exterior2nd', 'MasVnrType', 'MasVnrArea', 'ExterQual', 'ExterCond', 'Foundation', 'BsmtQual', 'BsmtCond', 'BsmtExposure', 'BsmtFinType1', 'BsmtFinSF1', 'BsmtFinType2', 'BsmtFinSF2', 'BsmtUnfSF', 'TotalBsmtSF', 'Heating', 'HeatingQC', 'CentralAir', 'Electrical', '1stFlrSF', '2ndFlrSF', 'LowQualFinSF', 'GrLivArea', 'BsmtFullBath', 'BsmtHalfBath', 'FullBath', 'HalfBath', 'BedroomAbvGr', 'KitchenAbvGr', 'KitchenQual', 'TotRmsAbvGrd', 'Functional', 'Fireplaces', 'FireplaceQu', 'GarageType', 'GarageYrBlt', 'GarageFinish', 'GarageCars', 'GarageArea', 'GarageQual', 'GarageCond', 'PavedDrive', 'WoodDeckSF', 'OpenPorchSF', 'EnclosedPorch', '3SsnPorch', 'ScreenPorch', 'PoolArea', 'PoolQC', 'Fence', 'MiscFeature', 'MiscVal', 'MoSold', 'YrSold', 'SaleType', 'SaleCondition']\n",
      "train data:\n",
      "(1168, 81)\n",
      "test data:\n",
      "(292, 81)\n"
     ]
    }
   ],
   "source": [
    "# Get all the columns from the dataframe.\n",
    "columns = clean_data.columns.tolist()\n",
    "# Filter the columns to remove ones we don't want.\n",
    "columns.remove('Id')\n",
    "columns.remove('SalePrice')\n",
    "print columns\n",
    "\n",
    "# Store the variable we'll be predicting on.\n",
    "target = \"SalePrice\"\n",
    "\n",
    "# Import a convenience function to split the sets.\n",
    "from sklearn.cross_validation import train_test_split\n",
    "\n",
    "# Generate the training set.  Set random_state to be able to replicate results.\n",
    "train = clean_data.sample(frac=0.8, random_state=1)\n",
    "# Select anything not in the training set and put it in the testing set.\n",
    "validation = clean_data.loc[~clean_data.index.isin(train.index)]\n",
    "# Print the shapes of both sets.\n",
    "\n",
    "print \"train data:\"\n",
    "print train.shape\n",
    "print \"test data:\"\n",
    "print validation.shape\n"
   ]
  },
  {
   "cell_type": "code",
<<<<<<< Updated upstream
   "execution_count": 21,
=======
   "execution_count": 38,
>>>>>>> Stashed changes
   "metadata": {
    "collapsed": false
   },
   "outputs": [
    {
     "data": {
      "text/plain": [
<<<<<<< Updated upstream
       "3.8635000226860318e-21"
      ]
     },
     "execution_count": 21,
=======
       "3.0054077839543101e-21"
      ]
     },
     "execution_count": 38,
>>>>>>> Stashed changes
     "metadata": {},
     "output_type": "execute_result"
    }
   ],
   "source": [
    "# Import the linearregression model.\n",
    "from sklearn.linear_model import LinearRegression\n",
    "\n",
    "# Initialize the model class.\n",
    "model = LinearRegression()\n",
    "# Fit the model to the training data.\n",
    "model.fit(train[columns], train[target])\n",
    "\n",
    "# Import the scikit-learn function to compute error.\n",
    "from sklearn.metrics import mean_squared_error\n",
    "\n",
    "# Generate our predictions for the test set.\n",
    "predictions = model.predict(validation[columns])\n",
    "\n",
    "# Compute error between our test predictions and the actual values.\n",
    "mean_squared_error(predictions, validation[target])"
   ]
  },
  {
   "cell_type": "code",
   "execution_count": null,
   "metadata": {
    "collapsed": false
   },
   "outputs": [],
   "source": []
  },
  {
   "cell_type": "code",
<<<<<<< Updated upstream
   "execution_count": 22,
=======
   "execution_count": 39,
>>>>>>> Stashed changes
   "metadata": {
    "collapsed": false
   },
   "outputs": [
    {
<<<<<<< Updated upstream
     "data": {
      "text/plain": [
       "22741553.621425658"
      ]
     },
     "execution_count": 22,
     "metadata": {},
     "output_type": "execute_result"
=======
     "ename": "NameError",
     "evalue": "name 'OverallQual' is not defined",
     "output_type": "error",
     "traceback": [
      "\u001b[0;31m---------------------------------------------------------------------------\u001b[0m",
      "\u001b[0;31mNameError\u001b[0m                                 Traceback (most recent call last)",
      "\u001b[0;32m<ipython-input-39-64b256b4c79c>\u001b[0m in \u001b[0;36m<module>\u001b[0;34m()\u001b[0m\n\u001b[1;32m      5\u001b[0m \u001b[0mmodel\u001b[0m \u001b[0;34m=\u001b[0m \u001b[0mRandomForestRegressor\u001b[0m\u001b[0;34m(\u001b[0m\u001b[0mn_estimators\u001b[0m\u001b[0;34m=\u001b[0m\u001b[0;36m100\u001b[0m\u001b[0;34m,\u001b[0m \u001b[0mmin_samples_leaf\u001b[0m\u001b[0;34m=\u001b[0m\u001b[0;36m10\u001b[0m\u001b[0;34m,\u001b[0m \u001b[0mrandom_state\u001b[0m\u001b[0;34m=\u001b[0m\u001b[0;36m1\u001b[0m\u001b[0;34m)\u001b[0m\u001b[0;34m\u001b[0m\u001b[0m\n\u001b[1;32m      6\u001b[0m \u001b[0;31m# Fit the model to the data.\u001b[0m\u001b[0;34m\u001b[0m\u001b[0;34m\u001b[0m\u001b[0m\n\u001b[0;32m----> 7\u001b[0;31m \u001b[0mmodel\u001b[0m\u001b[0;34m.\u001b[0m\u001b[0mfit\u001b[0m\u001b[0;34m(\u001b[0m\u001b[0mtrain\u001b[0m\u001b[0;34m[\u001b[0m\u001b[0mOverallQual\u001b[0m\u001b[0;34m]\u001b[0m\u001b[0;34m,\u001b[0m \u001b[0mtrain\u001b[0m\u001b[0;34m[\u001b[0m\u001b[0mtarget\u001b[0m\u001b[0;34m]\u001b[0m\u001b[0;34m)\u001b[0m\u001b[0;34m\u001b[0m\u001b[0m\n\u001b[0m\u001b[1;32m      8\u001b[0m \u001b[0;31m# Make predictions.\u001b[0m\u001b[0;34m\u001b[0m\u001b[0;34m\u001b[0m\u001b[0m\n\u001b[1;32m      9\u001b[0m \u001b[0mpredictions\u001b[0m \u001b[0;34m=\u001b[0m \u001b[0mmodel\u001b[0m\u001b[0;34m.\u001b[0m\u001b[0mpredict\u001b[0m\u001b[0;34m(\u001b[0m\u001b[0mvalidation\u001b[0m\u001b[0;34m[\u001b[0m\u001b[0mOverallQual\u001b[0m\u001b[0;34m]\u001b[0m\u001b[0;34m)\u001b[0m\u001b[0;34m\u001b[0m\u001b[0m\n",
      "\u001b[0;31mNameError\u001b[0m: name 'OverallQual' is not defined"
     ]
>>>>>>> Stashed changes
    }
   ],
   "source": [
    "# Import the random forest model.\n",
    "from sklearn.ensemble import RandomForestRegressor\n",
    "\n",
    "# Initialize the model with some parameters.\n",
    "model = RandomForestRegressor(n_estimators=100, min_samples_leaf=10, random_state=1)\n",
    "# Fit the model to the data.\n",
    "model.fit(train[OverallQual], train[target])\n",
    "# Make predictions.\n",
    "predictions = model.predict(validation[OverallQual])\n",
    "# Compute the error.\n",
    "mean_squared_error(predictions, validation[target])"
   ]
  },
  {
   "cell_type": "code",
   "execution_count": 16,
   "metadata": {
    "collapsed": false
   },
   "outputs": [
    {
     "name": "stdout",
     "output_type": "stream",
     "text": [
      "[ 132000.  325300.  139400.  154000.  256300.  130250.  141000.  180500.\n",
      "  140000.  127000.  110000.  174000.  214000.  205000.  190000.  153900.\n",
      "  150000.  226000.  230000.  260000.  204000.  125000.  130000.  115000.\n",
      "  122000.  190000.   79000.  190000.  128500.  215000.  184000.  211000.\n",
      "  120000.  200000.  311872.  274900.  143900.  145000.   98000.  167240.\n",
      "  179900.  192500.   89500.  262500.  120000.  173000.  158000.  130000.\n",
      "  185000.  148000.  415298.  192000.  233230.  375000.  260000.  270000.\n",
      "  187500.  242000.  145250.  202500.  134000.  162000.  148000.  240000.\n",
      "  215000.   67000.  150000.   60000.  115000.  149500.  239000.  206300.\n",
      "  315000.   79900.   90350.  555000.  210000.  110000.  280000.   98000.\n",
      "  161000.  155000.  178740.  250000.  187000.  212000.  132500.  380000.\n",
      "  147000.   86000.  184000.  124500.  161000.  134000.  402861.  315750.\n",
      "  132000.  107500.  272000.  213250.  229000.  108000.  268000.  325000.\n",
      "  135960.  181900.  325000.  130000.  451950.  319000.  141000.  152000.\n",
      "  118500.  313000.  137500.  105500.  240000.  165150.  139900.  153000.\n",
      "  124000.  139400.   93000.  345000.  155000.  145500.  149000.  129000.\n",
      "  168000.  159434.  148800.  194700.  141000.  176000.   89000.  302000.\n",
      "  189000.  130500.  165000.  157000.  124500.  194500.  110000.  222500.\n",
      "  190000.  132000.   98000.  162000.  275500.  127500.  128000.  107900.\n",
      "  269790.  135500.  144500.  147400.  237000.  100000.  141000.  133500.\n",
      "  187000.  148500.  236000.  200500.  148000.  136500.  178000.  118500.\n",
      "  100000.  149500.  106500.  153000.  128000.  250000.  154300.  143500.\n",
      "  173733.  236500.  190000.  197500.  127500.  116500.  214900.  178900.\n",
      "  135000.  182000.  167500.  165000.  336000.  206000.   86000.  232000.\n",
      "  213490.  112500.  197000.  119750.   80000.  556581.   84900.  176485.\n",
      "  165000.  185850.   81000.  167900.   91500.  219500.  138800.  137500.\n",
      "  176432.  127000.  157000.  188000.  205000.  118400.   94000.  124000.\n",
      "  149900.  218000.  146000.  224000.  194000.  285000.  262000.  168000.\n",
      "  174000.  165000.  117000.  113000.  134500.  229456.   80500.  143000.\n",
      "  130000.  138887.  175500.  265900.  127500.  190000.  151000.  122000.\n",
      "  197900.  237000.  227000.  278000.  119500.  225000.  232000.  325000.\n",
      "  202500.  138000.  203000.  302000.  333168.  111000.   72500.  190000.\n",
      "   79000.  256000.  100000.   52500.  228500.  177000.  108500.  262500.\n",
      "  283463.  171000.  110000.  149900.  315000.  189000.  156932.  274300.\n",
      "   58500.  237500.  124000.  123000.  120000.  282922.  112000.  215000.\n",
      "  230000.  140000.  207000.  175900.  340000.  142000.  192140.  120500.\n",
      "  149700.  175000.  142125.  147500.]\n"
     ]
    }
   ],
   "source": [
    "print predictions\n"
   ]
  },
  {
   "cell_type": "code",
   "execution_count": null,
   "metadata": {
    "collapsed": true
   },
   "outputs": [],
   "source": []
  }
 ],
 "metadata": {
  "anaconda-cloud": {},
  "kernelspec": {
   "display_name": "Python [default]",
   "language": "python",
   "name": "python2"
  },
  "language_info": {
   "codemirror_mode": {
    "name": "ipython",
    "version": 2
   },
   "file_extension": ".py",
   "mimetype": "text/x-python",
   "name": "python",
   "nbconvert_exporter": "python",
   "pygments_lexer": "ipython2",
   "version": "2.7.12"
  }
 },
 "nbformat": 4,
 "nbformat_minor": 1
}
