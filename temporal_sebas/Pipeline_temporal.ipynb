{
 "cells": [
  {
   "cell_type": "markdown",
   "metadata": {},
   "source": []
  },
  {
   "cell_type": "code",
   "execution_count": 33,
   "metadata": {
    "collapsed": true
   },
   "outputs": [],
   "source": [
    "# Import pandas\n",
    "import pandas as pd\n",
    "# Import matplotlib\n",
    "import matplotlib.pyplot as plt\n",
    "# Import autocleaner for cleaning data\n",
    "from datacleaner import autoclean"
   ]
  },
  {
   "cell_type": "code",
<<<<<<< HEAD
   "execution_count": 34,
=======
<<<<<<< Updated upstream
   "execution_count": 2,
=======
   "execution_count": 34,
>>>>>>> Stashed changes
>>>>>>> origin/master
   "metadata": {
    "collapsed": false
   },
   "outputs": [],
   "source": [
    "# Read in the data.\n",
    "data = pd.read_csv('../data/train.csv')\n",
    "# Clean data: replace missing values and convert categorical to numerical.\n",
    "#clean_data = autoclean(data)\n",
    "# Create .csv with cleaned data\n",
<<<<<<< HEAD
    "#data.to_csv('../data/clean_train.csv', sept=',', index=False)"
=======
    "data.to_csv('../data/clean_train.csv', sept=',', index=False)\n"
>>>>>>> origin/master
   ]
  },
  {
   "cell_type": "code",
<<<<<<< HEAD
   "execution_count": 35,
=======
<<<<<<< Updated upstream
   "execution_count": 23,
=======
   "execution_count": 35,
>>>>>>> Stashed changes
>>>>>>> origin/master
   "metadata": {
    "collapsed": false
   },
   "outputs": [
    {
     "name": "stdout",
     "output_type": "stream",
     "text": [
      "train data:\n",
      "(1168, 81)\n",
      "test data:\n",
      "(292, 81)\n"
     ]
    }
   ],
   "source": [
    "# Get all the columns from the dataframe.\n",
    "columns = clean_data.columns.tolist()\n",
    "# Filter the columns to remove ones we don't want.\n",
    "columns.remove('Id')\n",
    "columns.remove('SalePrice')\n",
    "\n",
    "# Store the variable we'll be predicting on.\n",
    "target = \"SalePrice\"\n",
    "\n",
    "# Import a convenience function to split the sets.\n",
    "from sklearn.cross_validation import train_test_split\n",
    "\n",
    "# Generate the training set.  Set random_state to be able to replicate results.\n",
    "train = clean_data.sample(frac=0.8, random_state=1)\n",
    "# Select anything not in the training set and put it in the testing set.\n",
    "validation = clean_data.loc[~clean_data.index.isin(train.index)]\n",
    "# Print the shapes of both sets.\n",
    "\n",
    "print \"train data:\"\n",
    "print train.shape\n",
    "print \"test data:\"\n",
    "print validation.shape\n"
   ]
  },
  {
   "cell_type": "code",
<<<<<<< HEAD
   "execution_count": 36,
=======
<<<<<<< Updated upstream
   "execution_count": 21,
=======
   "execution_count": 38,
>>>>>>> Stashed changes
>>>>>>> origin/master
   "metadata": {
    "collapsed": false
   },
   "outputs": [
    {
     "data": {
      "text/plain": [
<<<<<<< HEAD
       "589721544.21974075"
      ]
     },
     "execution_count": 36,
=======
<<<<<<< Updated upstream
       "3.8635000226860318e-21"
      ]
     },
     "execution_count": 21,
=======
       "3.0054077839543101e-21"
      ]
     },
     "execution_count": 38,
>>>>>>> Stashed changes
>>>>>>> origin/master
     "metadata": {},
     "output_type": "execute_result"
    }
   ],
   "source": [
    "# Import the linearregression model.\n",
    "from sklearn.linear_model import LinearRegression\n",
    "\n",
    "# Initialize the model class.\n",
    "model = LinearRegression()\n",
    "# Fit the model to the training data.\n",
    "model.fit(train[columns], train[target])\n",
    "\n",
    "# Import the scikit-learn function to compute error.\n",
    "from sklearn.metrics import mean_squared_error\n",
    "\n",
    "# Generate our predictions for the test set.\n",
    "predictions = model.predict(validation[columns])\n",
    "\n",
    "# Compute error between our test predictions and the actual values.\n",
    "mean_squared_error(predictions, validation[target])"
   ]
  },
  {
   "cell_type": "code",
   "execution_count": null,
   "metadata": {
    "collapsed": false
   },
   "outputs": [],
   "source": []
  },
  {
   "cell_type": "code",
<<<<<<< HEAD
   "execution_count": 37,
=======
<<<<<<< Updated upstream
   "execution_count": 22,
=======
   "execution_count": 39,
>>>>>>> Stashed changes
>>>>>>> origin/master
   "metadata": {
    "collapsed": false
   },
   "outputs": [
    {
<<<<<<< Updated upstream
     "data": {
      "text/plain": [
       "628098508.04696524"
      ]
     },
     "execution_count": 37,
     "metadata": {},
     "output_type": "execute_result"
=======
     "ename": "NameError",
     "evalue": "name 'OverallQual' is not defined",
     "output_type": "error",
     "traceback": [
      "\u001b[0;31m---------------------------------------------------------------------------\u001b[0m",
      "\u001b[0;31mNameError\u001b[0m                                 Traceback (most recent call last)",
      "\u001b[0;32m<ipython-input-39-64b256b4c79c>\u001b[0m in \u001b[0;36m<module>\u001b[0;34m()\u001b[0m\n\u001b[1;32m      5\u001b[0m \u001b[0mmodel\u001b[0m \u001b[0;34m=\u001b[0m \u001b[0mRandomForestRegressor\u001b[0m\u001b[0;34m(\u001b[0m\u001b[0mn_estimators\u001b[0m\u001b[0;34m=\u001b[0m\u001b[0;36m100\u001b[0m\u001b[0;34m,\u001b[0m \u001b[0mmin_samples_leaf\u001b[0m\u001b[0;34m=\u001b[0m\u001b[0;36m10\u001b[0m\u001b[0;34m,\u001b[0m \u001b[0mrandom_state\u001b[0m\u001b[0;34m=\u001b[0m\u001b[0;36m1\u001b[0m\u001b[0;34m)\u001b[0m\u001b[0;34m\u001b[0m\u001b[0m\n\u001b[1;32m      6\u001b[0m \u001b[0;31m# Fit the model to the data.\u001b[0m\u001b[0;34m\u001b[0m\u001b[0;34m\u001b[0m\u001b[0m\n\u001b[0;32m----> 7\u001b[0;31m \u001b[0mmodel\u001b[0m\u001b[0;34m.\u001b[0m\u001b[0mfit\u001b[0m\u001b[0;34m(\u001b[0m\u001b[0mtrain\u001b[0m\u001b[0;34m[\u001b[0m\u001b[0mOverallQual\u001b[0m\u001b[0;34m]\u001b[0m\u001b[0;34m,\u001b[0m \u001b[0mtrain\u001b[0m\u001b[0;34m[\u001b[0m\u001b[0mtarget\u001b[0m\u001b[0;34m]\u001b[0m\u001b[0;34m)\u001b[0m\u001b[0;34m\u001b[0m\u001b[0m\n\u001b[0m\u001b[1;32m      8\u001b[0m \u001b[0;31m# Make predictions.\u001b[0m\u001b[0;34m\u001b[0m\u001b[0;34m\u001b[0m\u001b[0m\n\u001b[1;32m      9\u001b[0m \u001b[0mpredictions\u001b[0m \u001b[0;34m=\u001b[0m \u001b[0mmodel\u001b[0m\u001b[0;34m.\u001b[0m\u001b[0mpredict\u001b[0m\u001b[0;34m(\u001b[0m\u001b[0mvalidation\u001b[0m\u001b[0;34m[\u001b[0m\u001b[0mOverallQual\u001b[0m\u001b[0;34m]\u001b[0m\u001b[0;34m)\u001b[0m\u001b[0;34m\u001b[0m\u001b[0m\n",
      "\u001b[0;31mNameError\u001b[0m: name 'OverallQual' is not defined"
     ]
>>>>>>> Stashed changes
    }
   ],
   "source": [
    "# Import the random forest model.\n",
    "from sklearn.ensemble import RandomForestRegressor\n",
    "\n",
    "# Initialize the model with some parameters.\n",
    "model = RandomForestRegressor(n_estimators=100, min_samples_leaf=10, random_state=1)\n",
    "# Fit the model to the data.\n",
    "model.fit(train[OverallQual], train[target])\n",
    "# Make predictions.\n",
    "predictions = model.predict(validation[OverallQual])\n",
    "# Compute the error.\n",
    "mean_squared_error(predictions, validation[target])"
   ]
  },
  {
   "cell_type": "code",
<<<<<<< HEAD
   "execution_count": 38,
=======
   "execution_count": 16,
>>>>>>> origin/master
   "metadata": {
    "collapsed": false
   },
   "outputs": [
    {
     "name": "stdout",
     "output_type": "stream",
     "text": [
<<<<<<< HEAD
      "[ 161405.25358356  319019.32460934  150362.23249994  130986.46029867\n",
      "  262586.38827619  122375.11797035  137105.97757457  164500.88108632\n",
      "  162543.50082484  117027.25764873  115551.57526851  183024.66532431\n",
      "  232297.19514074  192757.92406616  192333.56189656  165516.67923999\n",
      "  140349.70676846  237095.47680026  252843.50623007  240788.91219289\n",
      "  220255.78082254  153134.86362511  159262.06171919  114466.07816859\n",
      "  139880.82861225  191503.03379688   89656.9091764   168073.41900453\n",
      "  140011.68935119  181141.42093275  191507.7795488   207032.20640871\n",
      "  124513.99033823  236183.33104433  248172.10834544  301549.84327739\n",
      "  149665.17185026  149239.41943652  103919.14607148  175957.91933403\n",
      "  172088.92062988  199768.10170929   99480.43160365  262705.62325918\n",
      "  125344.88481908  183188.64656874  165116.46298046  125910.85328745\n",
      "  188594.63503679  150668.89878295  367867.45090701  227981.05707995\n",
      "  246361.4741901   254103.31802734  257560.97117903  259564.07081335\n",
      "  205576.89144752  264102.75129934  153263.13022412  205519.78954598\n",
      "  152455.59201103  150042.20662533  126497.77814686  222527.97193548\n",
      "  208629.6318147   106154.68086279  173068.10866574  137642.2272362\n",
      "  116808.00782084  154398.32197064  211452.11347117  203526.41142802\n",
      "  345530.61794945  113007.7603491    95069.27463361  426327.07845928\n",
      "  217897.92428326  110733.15282204  217286.27038117  108374.34231297\n",
      "  201621.21720397  159776.52793534  182628.03440385  253253.00876131\n",
      "  188501.43598601  233163.00145594  133439.71561817  418453.17629659\n",
      "  137242.33606388  104227.34241061  175138.41936115  131932.30399242\n",
      "  154387.24202019  143895.51963083  380626.98881259  275786.39183866\n",
      "  125423.99761937  107167.6159958   292607.15371227  227697.25478581\n",
      "  253710.57734545  113096.50092208  245737.60872136  346040.10762994\n",
      "  140587.75161272  173027.56158081  377986.06538438  116564.21624949\n",
      "  397647.98976927  330302.75104841  123728.75301687  146535.32101732\n",
      "  127070.61716049  334431.40463883  144890.36606502  118343.58605207\n",
      "  204713.38565926  167190.59407791  145637.79611197  164535.58673805\n",
      "  132354.5102547   132485.63600033  119990.04218545  366457.37183694\n",
      "  155620.469743    138959.17566604  167818.70022096  196012.07791398\n",
      "  164923.05852327  131551.33162106  164392.12608756  176966.43477382\n",
      "  143106.94666518  157607.96066042  102541.67472383  242991.32021078\n",
      "  208791.96403895  182687.75302175  151968.74850419  156139.02778272\n",
      "  116752.68743502  190459.92449117  140165.39380232  241127.47580258\n",
      "  202980.07232874  135064.96111028  118494.4683976   172115.17024229\n",
      "  286277.64872559  123702.19201586  137500.51842131  111923.79644338\n",
      "  239934.41525172  129139.64428541  142997.12920383  159285.91268681\n",
      "  213791.85326889   98219.1571684   131372.23432675  125825.10093314\n",
      "  176875.91790502  136291.77516913  232354.29161827  191211.25036858\n",
      "  147993.60723022  131236.70423322  177439.14976244  133399.95197853\n",
      "  122895.51087263  172395.2581645   105830.69983878  141807.59743764\n",
      "  128544.30495955  229797.96440295  156166.85939633  153232.69455115\n",
      "  138646.45982229  250207.79729936  217039.9229571   174367.65255466\n",
      "  126107.36829919  121652.77481728  218832.49860186  176071.15030127\n",
      "  132007.07116444  207763.04785715  218199.1183036   162845.64410813\n",
      "  320456.33726074  193807.88828124   95258.76534867  248321.11136534\n",
      "  197236.84185361  124793.78080598  249469.84417249  108942.40869473\n",
      "   99421.34397691  431494.25586075  100920.19311944  190420.3100096\n",
      "  171981.41448726  201246.20166111  107315.23728026  171756.56777513\n",
      "  130373.09260036  179249.03403788  141392.44616405  160919.7262564\n",
      "  177027.59029849  115192.32011473  181754.80513208  181388.5559002\n",
      "  206425.73561513  115754.61752601   94527.43531137  111128.17138648\n",
      "  171053.20158651  184643.67741938  157070.96580274  189559.55507634\n",
      "  172940.67492337  354591.43798191  306080.15894755  181486.66144587\n",
      "  205945.25056459  167357.76673973  119596.10279217   89508.38143588\n",
      "  132202.54107702  242382.58091842   76382.3408911   149815.27996749\n",
      "  130364.98508618  138414.29422209  171376.72567096  229224.51293336\n",
      "  124754.75113545  172448.36407533  146199.96256583  183881.40331136\n",
      "  182428.75270706  260582.08831602  221361.15043241  266257.53948122\n",
      "  113130.69148536  222366.5666296   224123.51066205  327041.13909785\n",
      "  199316.0554396   140422.65547293  198952.92129281  338619.50381758\n",
      "  367397.37477622  117243.71522653   81022.76015988  214134.13907988\n",
      "   97744.03246731  175418.07640125  115656.16245115   77184.41704924\n",
      "  269262.32186901  158638.99493885  105805.54617348  246837.11343549\n",
      "  282318.33275334  167499.49301928  114906.89419444  150953.01340396\n",
      "  384290.21214118  165293.51571609  171402.22802267  249619.78433711\n",
      "   92560.70394372  200552.51115363  139394.29863742  128146.64253294\n",
      "  113926.44272233  275138.39856601  122670.77775434  233289.1159371\n",
      "  217513.23426013  142619.90612627  179742.58627638  219709.50334256\n",
      "  318372.15377044  151413.5036922   180853.62252585  119171.10890546\n",
      "  143137.98854135  176825.15022376  125640.17423955  151657.15857709]\n"
     ]
    }
   ],
   "source": []
  },
  {
   "cell_type": "code",
   "execution_count": 42,
   "metadata": {
    "collapsed": false
   },
   "outputs": [
    {
     "name": "stdout",
     "output_type": "stream",
     "text": [
      "        Id  MSSubClass MSZoning  LotFrontage  LotArea Street Alley LotShape  \\\n",
      "0     1461          20       RH         80.0    11622   Pave   NaN      Reg   \n",
      "1     1462          20       RL         81.0    14267   Pave   NaN      IR1   \n",
      "2     1463          60       RL         74.0    13830   Pave   NaN      IR1   \n",
      "3     1464          60       RL         78.0     9978   Pave   NaN      IR1   \n",
      "4     1465         120       RL         43.0     5005   Pave   NaN      IR1   \n",
      "5     1466          60       RL         75.0    10000   Pave   NaN      IR1   \n",
      "6     1467          20       RL          NaN     7980   Pave   NaN      IR1   \n",
      "7     1468          60       RL         63.0     8402   Pave   NaN      IR1   \n",
      "8     1469          20       RL         85.0    10176   Pave   NaN      Reg   \n",
      "9     1470          20       RL         70.0     8400   Pave   NaN      Reg   \n",
      "10    1471         120       RH         26.0     5858   Pave   NaN      IR1   \n",
      "11    1472         160       RM         21.0     1680   Pave   NaN      Reg   \n",
      "12    1473         160       RM         21.0     1680   Pave   NaN      Reg   \n",
      "13    1474         160       RL         24.0     2280   Pave   NaN      Reg   \n",
      "14    1475         120       RL         24.0     2280   Pave   NaN      Reg   \n",
      "15    1476          60       RL        102.0    12858   Pave   NaN      IR1   \n",
      "16    1477          20       RL         94.0    12883   Pave   NaN      IR1   \n",
      "17    1478          20       RL         90.0    11520   Pave   NaN      Reg   \n",
      "18    1479          20       RL         79.0    14122   Pave   NaN      IR1   \n",
      "19    1480          20       RL        110.0    14300   Pave   NaN      Reg   \n",
      "20    1481          60       RL        105.0    13650   Pave   NaN      Reg   \n",
      "21    1482         120       RL         41.0     7132   Pave   NaN      IR1   \n",
      "22    1483          20       RL        100.0    18494   Pave   NaN      IR1   \n",
      "23    1484         120       RL         43.0     3203   Pave   NaN      Reg   \n",
      "24    1485          80       RL         67.0    13300   Pave   NaN      IR1   \n",
      "25    1486          60       RL         63.0     8577   Pave   NaN      IR1   \n",
      "26    1487          60       RL         60.0    17433   Pave   NaN      IR2   \n",
      "27    1488          20       RL         73.0     8987   Pave   NaN      Reg   \n",
      "28    1489          20       FV         92.0     9215   Pave   NaN      Reg   \n",
      "29    1490          20       FV         84.0    10440   Pave   NaN      Reg   \n",
      "...    ...         ...      ...          ...      ...    ...   ...      ...   \n",
      "1429  2890          30       RM         50.0     7030   Pave   NaN      Reg   \n",
      "1430  2891          50       RM         75.0     9060   Pave   NaN      Reg   \n",
      "1431  2892          30  C (all)         69.0    12366   Pave   NaN      Reg   \n",
      "1432  2893         190  C (all)         50.0     9000   Pave   NaN      Reg   \n",
      "1433  2894          50  C (all)         60.0     8520   Grvl   NaN      Reg   \n",
      "1434  2895         120       RM         41.0     5748   Pave   NaN      IR1   \n",
      "1435  2896         120       RM         44.0     3842   Pave   NaN      IR1   \n",
      "1436  2897          20       RL         69.0    23580   Pave   NaN      IR1   \n",
      "1437  2898          90       RL         65.0     8385   Pave   NaN      Reg   \n",
      "1438  2899          20       RL         70.0     9116   Pave   NaN      Reg   \n",
      "1439  2900          80       RL        140.0    11080   Pave   NaN      Reg   \n",
      "1440  2901          20       RL          NaN    50102   Pave   NaN      IR1   \n",
      "1441  2902          20       RL          NaN     8098   Pave   NaN      IR1   \n",
      "1442  2903          20       RL         95.0    13618   Pave   NaN      Reg   \n",
      "1443  2904          20       RL         88.0    11577   Pave   NaN      Reg   \n",
      "1444  2905          20      NaN        125.0    31250   Pave   NaN      Reg   \n",
      "1445  2906          90       RM         78.0     7020   Pave   NaN      Reg   \n",
      "1446  2907         160       RM         41.0     2665   Pave   NaN      Reg   \n",
      "1447  2908          20       RL         58.0    10172   Pave   NaN      IR1   \n",
      "1448  2909          90       RL          NaN    11836   Pave   NaN      IR1   \n",
      "1449  2910         180       RM         21.0     1470   Pave   NaN      Reg   \n",
      "1450  2911         160       RM         21.0     1484   Pave   NaN      Reg   \n",
      "1451  2912          20       RL         80.0    13384   Pave   NaN      Reg   \n",
      "1452  2913         160       RM         21.0     1533   Pave   NaN      Reg   \n",
      "1453  2914         160       RM         21.0     1526   Pave   NaN      Reg   \n",
      "1454  2915         160       RM         21.0     1936   Pave   NaN      Reg   \n",
      "1455  2916         160       RM         21.0     1894   Pave   NaN      Reg   \n",
      "1456  2917          20       RL        160.0    20000   Pave   NaN      Reg   \n",
      "1457  2918          85       RL         62.0    10441   Pave   NaN      Reg   \n",
      "1458  2919          60       RL         74.0     9627   Pave   NaN      Reg   \n",
      "\n",
      "     LandContour Utilities      ...       ScreenPorch PoolArea PoolQC  Fence  \\\n",
      "0            Lvl    AllPub      ...               120        0    NaN  MnPrv   \n",
      "1            Lvl    AllPub      ...                 0        0    NaN    NaN   \n",
      "2            Lvl    AllPub      ...                 0        0    NaN  MnPrv   \n",
      "3            Lvl    AllPub      ...                 0        0    NaN    NaN   \n",
      "4            HLS    AllPub      ...               144        0    NaN    NaN   \n",
      "5            Lvl    AllPub      ...                 0        0    NaN    NaN   \n",
      "6            Lvl    AllPub      ...                 0        0    NaN  GdPrv   \n",
      "7            Lvl    AllPub      ...                 0        0    NaN    NaN   \n",
      "8            Lvl    AllPub      ...                 0        0    NaN    NaN   \n",
      "9            Lvl    AllPub      ...                 0        0    NaN  MnPrv   \n",
      "10           Lvl    AllPub      ...                 0        0    NaN    NaN   \n",
      "11           Lvl    AllPub      ...                 0        0    NaN    NaN   \n",
      "12           Lvl    AllPub      ...                 0        0    NaN    NaN   \n",
      "13           Lvl    AllPub      ...                 0        0    NaN    NaN   \n",
      "14           Lvl    AllPub      ...                 0        0    NaN    NaN   \n",
      "15           Lvl    AllPub      ...                 0        0    NaN    NaN   \n",
      "16           Lvl    AllPub      ...                 0        0    NaN    NaN   \n",
      "17           Lvl    AllPub      ...                 0        0    NaN    NaN   \n",
      "18           Lvl    AllPub      ...                 0        0    NaN    NaN   \n",
      "19           HLS    AllPub      ...                 0        0    NaN    NaN   \n",
      "20           Lvl    AllPub      ...                 0        0    NaN    NaN   \n",
      "21           Lvl    AllPub      ...                 0        0    NaN    NaN   \n",
      "22           Lvl    AllPub      ...                 0        0    NaN    NaN   \n",
      "23           Lvl    AllPub      ...                 0        0    NaN    NaN   \n",
      "24           Lvl    AllPub      ...                 0        0    NaN    NaN   \n",
      "25           Lvl    AllPub      ...                 0        0    NaN    NaN   \n",
      "26           Lvl    AllPub      ...               256        0    NaN    NaN   \n",
      "27           Lvl    AllPub      ...                 0        0    NaN    NaN   \n",
      "28           Lvl    AllPub      ...                 0        0    NaN    NaN   \n",
      "29           Lvl    AllPub      ...               216        0    NaN    NaN   \n",
      "...          ...       ...      ...               ...      ...    ...    ...   \n",
      "1429         Lvl    AllPub      ...                 0        0    NaN  MnPrv   \n",
      "1430         Lvl    AllPub      ...                 0        0    NaN    NaN   \n",
      "1431         Lvl    AllPub      ...                 0        0    NaN    NaN   \n",
      "1432         Lvl    AllPub      ...                 0        0    NaN    NaN   \n",
      "1433         Bnk    AllPub      ...                 0        0    NaN    NaN   \n",
      "1434         HLS    AllPub      ...               153        0    NaN    NaN   \n",
      "1435         HLS    AllPub      ...               155        0    NaN    NaN   \n",
      "1436         Lvl    AllPub      ...                 0        0    NaN    NaN   \n",
      "1437         Lvl    AllPub      ...                 0        0    NaN    NaN   \n",
      "1438         Lvl    AllPub      ...                 0        0    NaN    NaN   \n",
      "1439         Lvl    AllPub      ...                 0        0    NaN    NaN   \n",
      "1440         Low    AllPub      ...               138        0    NaN    NaN   \n",
      "1441         Lvl    AllPub      ...                 0        0    NaN    NaN   \n",
      "1442         Lvl    AllPub      ...                 0        0    NaN    NaN   \n",
      "1443         Lvl    AllPub      ...                 0        0    NaN    NaN   \n",
      "1444         Lvl    AllPub      ...                 0        0    NaN    NaN   \n",
      "1445         Lvl    AllPub      ...                 0        0    NaN    NaN   \n",
      "1446         Lvl    AllPub      ...                 0        0    NaN    NaN   \n",
      "1447         Lvl    AllPub      ...                 0        0    NaN    NaN   \n",
      "1448         Lvl    AllPub      ...                 0        0    NaN    NaN   \n",
      "1449         Lvl    AllPub      ...                 0        0    NaN    NaN   \n",
      "1450         Lvl    AllPub      ...                 0        0    NaN    NaN   \n",
      "1451         Lvl    AllPub      ...                 0        0    NaN    NaN   \n",
      "1452         Lvl    AllPub      ...                 0        0    NaN    NaN   \n",
      "1453         Lvl    AllPub      ...                 0        0    NaN  GdPrv   \n",
      "1454         Lvl    AllPub      ...                 0        0    NaN    NaN   \n",
      "1455         Lvl    AllPub      ...                 0        0    NaN    NaN   \n",
      "1456         Lvl    AllPub      ...                 0        0    NaN    NaN   \n",
      "1457         Lvl    AllPub      ...                 0        0    NaN  MnPrv   \n",
      "1458         Lvl    AllPub      ...                 0        0    NaN    NaN   \n",
      "\n",
      "     MiscFeature MiscVal MoSold  YrSold  SaleType  SaleCondition  \n",
      "0            NaN       0      6    2010        WD         Normal  \n",
      "1           Gar2   12500      6    2010        WD         Normal  \n",
      "2            NaN       0      3    2010        WD         Normal  \n",
      "3            NaN       0      6    2010        WD         Normal  \n",
      "4            NaN       0      1    2010        WD         Normal  \n",
      "5            NaN       0      4    2010        WD         Normal  \n",
      "6           Shed     500      3    2010        WD         Normal  \n",
      "7            NaN       0      5    2010        WD         Normal  \n",
      "8            NaN       0      2    2010        WD         Normal  \n",
      "9            NaN       0      4    2010        WD         Normal  \n",
      "10           NaN       0      6    2010        WD         Normal  \n",
      "11           NaN       0      2    2010       COD         Normal  \n",
      "12           NaN       0      3    2010        WD         Normal  \n",
      "13           NaN       0      6    2010        WD         Normal  \n",
      "14           NaN       0      6    2010        WD         Normal  \n",
      "15           NaN       0      1    2010       New        Partial  \n",
      "16           NaN       0      6    2010       New        Partial  \n",
      "17           NaN       0      6    2010        WD         Normal  \n",
      "18           NaN       0      2    2010        WD         Normal  \n",
      "19           NaN       0      6    2010        WD         Normal  \n",
      "20           NaN       0      6    2010        WD         Normal  \n",
      "21           NaN       0      4    2010        WD         Normal  \n",
      "22           NaN       0      1    2010        WD         Normal  \n",
      "23           NaN       0      1    2010        WD         Normal  \n",
      "24           NaN       0      6    2010        WD         Normal  \n",
      "25           NaN       0      4    2010        WD         Normal  \n",
      "26           NaN       0      1    2010        WD         Normal  \n",
      "27           NaN       0      5    2010        WD         Normal  \n",
      "28           NaN       0      4    2010       New        Partial  \n",
      "29           NaN       0      5    2010        WD         Normal  \n",
      "...          ...     ...    ...     ...       ...            ...  \n",
      "1429         NaN       0      3    2006        WD         Normal  \n",
      "1430         NaN       0      4    2006        WD         Normal  \n",
      "1431         NaN       0     10    2006        WD        Abnorml  \n",
      "1432         NaN       0     10    2006        WD        Abnorml  \n",
      "1433         NaN       0      4    2006        WD         Normal  \n",
      "1434         NaN       0      2    2006       New        Partial  \n",
      "1435         NaN       0     12    2006        WD         Normal  \n",
      "1436         NaN       0      9    2006        WD         Normal  \n",
      "1437         NaN       0     10    2006        WD         Normal  \n",
      "1438         NaN       0      5    2006        WD         Normal  \n",
      "1439         NaN       0      5    2006        WD         Normal  \n",
      "1440         NaN       0      3    2006        WD         Alloca  \n",
      "1441         NaN       0     10    2006        WD         Normal  \n",
      "1442         NaN       0     11    2006       New        Partial  \n",
      "1443         NaN       0      9    2006       New        Partial  \n",
      "1444         NaN       0      5    2006        WD         Normal  \n",
      "1445         NaN       0     11    2006        WD         Normal  \n",
      "1446         NaN       0      5    2006        WD         Normal  \n",
      "1447         NaN       0     10    2006        WD         Normal  \n",
      "1448         NaN       0      3    2006        WD         Normal  \n",
      "1449         NaN       0      4    2006        WD         Normal  \n",
      "1450         NaN       0      5    2006        WD         Normal  \n",
      "1451         NaN       0      5    2006        WD         Normal  \n",
      "1452         NaN       0     12    2006        WD        Abnorml  \n",
      "1453         NaN       0      6    2006        WD         Normal  \n",
      "1454         NaN       0      6    2006        WD         Normal  \n",
      "1455         NaN       0      4    2006        WD        Abnorml  \n",
      "1456         NaN       0      9    2006        WD        Abnorml  \n",
      "1457        Shed     700      7    2006        WD         Normal  \n",
      "1458         NaN       0     11    2006        WD         Normal  \n",
      "\n",
      "[1459 rows x 80 columns]\n"
     ]
    },
    {
     "ename": "ValueError",
     "evalue": "could not convert string to float: Normal",
     "output_type": "error",
     "traceback": [
      "\u001b[0;31m---------------------------------------------------------------------------\u001b[0m",
      "\u001b[0;31mValueError\u001b[0m                                Traceback (most recent call last)",
      "\u001b[0;32m<ipython-input-42-c8a625edb8e8>\u001b[0m in \u001b[0;36m<module>\u001b[0;34m()\u001b[0m\n\u001b[1;32m      1\u001b[0m \u001b[0mtest\u001b[0m \u001b[1;33m=\u001b[0m \u001b[0mpd\u001b[0m\u001b[1;33m.\u001b[0m\u001b[0mread_csv\u001b[0m\u001b[1;33m(\u001b[0m\u001b[1;34m'../data/test.csv'\u001b[0m\u001b[1;33m)\u001b[0m\u001b[1;33m\u001b[0m\u001b[0m\n\u001b[1;32m      2\u001b[0m \u001b[1;32mprint\u001b[0m \u001b[0mtest\u001b[0m\u001b[1;33m\u001b[0m\u001b[0m\n\u001b[0;32m----> 3\u001b[0;31m \u001b[0mtest_pred\u001b[0m \u001b[1;33m=\u001b[0m \u001b[0mmodel\u001b[0m\u001b[1;33m.\u001b[0m\u001b[0mpredict\u001b[0m\u001b[1;33m(\u001b[0m\u001b[0mtest\u001b[0m\u001b[1;33m[\u001b[0m\u001b[0mcolumns\u001b[0m\u001b[1;33m]\u001b[0m\u001b[1;33m)\u001b[0m\u001b[1;33m\u001b[0m\u001b[0m\n\u001b[0m\u001b[1;32m      4\u001b[0m \u001b[1;32mprint\u001b[0m \u001b[0mtest_pred\u001b[0m\u001b[1;33m\u001b[0m\u001b[0m\n",
      "\u001b[0;32mC:\\Anaconda2\\lib\\site-packages\\sklearn\\ensemble\\forest.py\u001b[0m in \u001b[0;36mpredict\u001b[0;34m(self, X)\u001b[0m\n\u001b[1;32m    647\u001b[0m         \"\"\"\n\u001b[1;32m    648\u001b[0m         \u001b[1;31m# Check data\u001b[0m\u001b[1;33m\u001b[0m\u001b[1;33m\u001b[0m\u001b[0m\n\u001b[0;32m--> 649\u001b[0;31m         \u001b[0mX\u001b[0m \u001b[1;33m=\u001b[0m \u001b[0mself\u001b[0m\u001b[1;33m.\u001b[0m\u001b[0m_validate_X_predict\u001b[0m\u001b[1;33m(\u001b[0m\u001b[0mX\u001b[0m\u001b[1;33m)\u001b[0m\u001b[1;33m\u001b[0m\u001b[0m\n\u001b[0m\u001b[1;32m    650\u001b[0m \u001b[1;33m\u001b[0m\u001b[0m\n\u001b[1;32m    651\u001b[0m         \u001b[1;31m# Assign chunk of trees to jobs\u001b[0m\u001b[1;33m\u001b[0m\u001b[1;33m\u001b[0m\u001b[0m\n",
      "\u001b[0;32mC:\\Anaconda2\\lib\\site-packages\\sklearn\\ensemble\\forest.py\u001b[0m in \u001b[0;36m_validate_X_predict\u001b[0;34m(self, X)\u001b[0m\n\u001b[1;32m    317\u001b[0m                                  \"call `fit` before exploiting the model.\")\n\u001b[1;32m    318\u001b[0m \u001b[1;33m\u001b[0m\u001b[0m\n\u001b[0;32m--> 319\u001b[0;31m         \u001b[1;32mreturn\u001b[0m \u001b[0mself\u001b[0m\u001b[1;33m.\u001b[0m\u001b[0mestimators_\u001b[0m\u001b[1;33m[\u001b[0m\u001b[1;36m0\u001b[0m\u001b[1;33m]\u001b[0m\u001b[1;33m.\u001b[0m\u001b[0m_validate_X_predict\u001b[0m\u001b[1;33m(\u001b[0m\u001b[0mX\u001b[0m\u001b[1;33m,\u001b[0m \u001b[0mcheck_input\u001b[0m\u001b[1;33m=\u001b[0m\u001b[0mTrue\u001b[0m\u001b[1;33m)\u001b[0m\u001b[1;33m\u001b[0m\u001b[0m\n\u001b[0m\u001b[1;32m    320\u001b[0m \u001b[1;33m\u001b[0m\u001b[0m\n\u001b[1;32m    321\u001b[0m     \u001b[1;33m@\u001b[0m\u001b[0mproperty\u001b[0m\u001b[1;33m\u001b[0m\u001b[0m\n",
      "\u001b[0;32mC:\\Anaconda2\\lib\\site-packages\\sklearn\\tree\\tree.py\u001b[0m in \u001b[0;36m_validate_X_predict\u001b[0;34m(self, X, check_input)\u001b[0m\n\u001b[1;32m    363\u001b[0m \u001b[1;33m\u001b[0m\u001b[0m\n\u001b[1;32m    364\u001b[0m         \u001b[1;32mif\u001b[0m \u001b[0mcheck_input\u001b[0m\u001b[1;33m:\u001b[0m\u001b[1;33m\u001b[0m\u001b[0m\n\u001b[0;32m--> 365\u001b[0;31m             \u001b[0mX\u001b[0m \u001b[1;33m=\u001b[0m \u001b[0mcheck_array\u001b[0m\u001b[1;33m(\u001b[0m\u001b[0mX\u001b[0m\u001b[1;33m,\u001b[0m \u001b[0mdtype\u001b[0m\u001b[1;33m=\u001b[0m\u001b[0mDTYPE\u001b[0m\u001b[1;33m,\u001b[0m \u001b[0maccept_sparse\u001b[0m\u001b[1;33m=\u001b[0m\u001b[1;34m\"csr\"\u001b[0m\u001b[1;33m)\u001b[0m\u001b[1;33m\u001b[0m\u001b[0m\n\u001b[0m\u001b[1;32m    366\u001b[0m             if issparse(X) and (X.indices.dtype != np.intc or\n\u001b[1;32m    367\u001b[0m                                 X.indptr.dtype != np.intc):\n",
      "\u001b[0;32mC:\\Anaconda2\\lib\\site-packages\\sklearn\\utils\\validation.pyc\u001b[0m in \u001b[0;36mcheck_array\u001b[0;34m(array, accept_sparse, dtype, order, copy, force_all_finite, ensure_2d, allow_nd, ensure_min_samples, ensure_min_features, warn_on_dtype, estimator)\u001b[0m\n\u001b[1;32m    371\u001b[0m                                       force_all_finite)\n\u001b[1;32m    372\u001b[0m     \u001b[1;32melse\u001b[0m\u001b[1;33m:\u001b[0m\u001b[1;33m\u001b[0m\u001b[0m\n\u001b[0;32m--> 373\u001b[0;31m         \u001b[0marray\u001b[0m \u001b[1;33m=\u001b[0m \u001b[0mnp\u001b[0m\u001b[1;33m.\u001b[0m\u001b[0marray\u001b[0m\u001b[1;33m(\u001b[0m\u001b[0marray\u001b[0m\u001b[1;33m,\u001b[0m \u001b[0mdtype\u001b[0m\u001b[1;33m=\u001b[0m\u001b[0mdtype\u001b[0m\u001b[1;33m,\u001b[0m \u001b[0morder\u001b[0m\u001b[1;33m=\u001b[0m\u001b[0morder\u001b[0m\u001b[1;33m,\u001b[0m \u001b[0mcopy\u001b[0m\u001b[1;33m=\u001b[0m\u001b[0mcopy\u001b[0m\u001b[1;33m)\u001b[0m\u001b[1;33m\u001b[0m\u001b[0m\n\u001b[0m\u001b[1;32m    374\u001b[0m \u001b[1;33m\u001b[0m\u001b[0m\n\u001b[1;32m    375\u001b[0m         \u001b[1;32mif\u001b[0m \u001b[0mensure_2d\u001b[0m\u001b[1;33m:\u001b[0m\u001b[1;33m\u001b[0m\u001b[0m\n",
      "\u001b[0;31mValueError\u001b[0m: could not convert string to float: Normal"
=======
      "[ 132000.  325300.  139400.  154000.  256300.  130250.  141000.  180500.\n",
      "  140000.  127000.  110000.  174000.  214000.  205000.  190000.  153900.\n",
      "  150000.  226000.  230000.  260000.  204000.  125000.  130000.  115000.\n",
      "  122000.  190000.   79000.  190000.  128500.  215000.  184000.  211000.\n",
      "  120000.  200000.  311872.  274900.  143900.  145000.   98000.  167240.\n",
      "  179900.  192500.   89500.  262500.  120000.  173000.  158000.  130000.\n",
      "  185000.  148000.  415298.  192000.  233230.  375000.  260000.  270000.\n",
      "  187500.  242000.  145250.  202500.  134000.  162000.  148000.  240000.\n",
      "  215000.   67000.  150000.   60000.  115000.  149500.  239000.  206300.\n",
      "  315000.   79900.   90350.  555000.  210000.  110000.  280000.   98000.\n",
      "  161000.  155000.  178740.  250000.  187000.  212000.  132500.  380000.\n",
      "  147000.   86000.  184000.  124500.  161000.  134000.  402861.  315750.\n",
      "  132000.  107500.  272000.  213250.  229000.  108000.  268000.  325000.\n",
      "  135960.  181900.  325000.  130000.  451950.  319000.  141000.  152000.\n",
      "  118500.  313000.  137500.  105500.  240000.  165150.  139900.  153000.\n",
      "  124000.  139400.   93000.  345000.  155000.  145500.  149000.  129000.\n",
      "  168000.  159434.  148800.  194700.  141000.  176000.   89000.  302000.\n",
      "  189000.  130500.  165000.  157000.  124500.  194500.  110000.  222500.\n",
      "  190000.  132000.   98000.  162000.  275500.  127500.  128000.  107900.\n",
      "  269790.  135500.  144500.  147400.  237000.  100000.  141000.  133500.\n",
      "  187000.  148500.  236000.  200500.  148000.  136500.  178000.  118500.\n",
      "  100000.  149500.  106500.  153000.  128000.  250000.  154300.  143500.\n",
      "  173733.  236500.  190000.  197500.  127500.  116500.  214900.  178900.\n",
      "  135000.  182000.  167500.  165000.  336000.  206000.   86000.  232000.\n",
      "  213490.  112500.  197000.  119750.   80000.  556581.   84900.  176485.\n",
      "  165000.  185850.   81000.  167900.   91500.  219500.  138800.  137500.\n",
      "  176432.  127000.  157000.  188000.  205000.  118400.   94000.  124000.\n",
      "  149900.  218000.  146000.  224000.  194000.  285000.  262000.  168000.\n",
      "  174000.  165000.  117000.  113000.  134500.  229456.   80500.  143000.\n",
      "  130000.  138887.  175500.  265900.  127500.  190000.  151000.  122000.\n",
      "  197900.  237000.  227000.  278000.  119500.  225000.  232000.  325000.\n",
      "  202500.  138000.  203000.  302000.  333168.  111000.   72500.  190000.\n",
      "   79000.  256000.  100000.   52500.  228500.  177000.  108500.  262500.\n",
      "  283463.  171000.  110000.  149900.  315000.  189000.  156932.  274300.\n",
      "   58500.  237500.  124000.  123000.  120000.  282922.  112000.  215000.\n",
      "  230000.  140000.  207000.  175900.  340000.  142000.  192140.  120500.\n",
      "  149700.  175000.  142125.  147500.]\n"
>>>>>>> origin/master
     ]
    }
   ],
   "source": [
<<<<<<< HEAD
    "#test = pd.read_csv('../data/test.csv')\n",
    "#print test\n",
    "#test_pred = model.predict(test[columns])\n",
    "#print test_pred"
=======
    "print predictions\n"
>>>>>>> origin/master
   ]
  },
  {
   "cell_type": "code",
   "execution_count": null,
   "metadata": {
    "collapsed": true
   },
   "outputs": [],
   "source": []
  }
 ],
 "metadata": {
  "anaconda-cloud": {},
  "kernelspec": {
   "display_name": "Python [default]",
   "language": "python",
   "name": "python2"
  },
  "language_info": {
   "codemirror_mode": {
    "name": "ipython",
    "version": 2
   },
   "file_extension": ".py",
   "mimetype": "text/x-python",
   "name": "python",
   "nbconvert_exporter": "python",
   "pygments_lexer": "ipython2",
   "version": "2.7.12"
  }
 },
 "nbformat": 4,
 "nbformat_minor": 1
}
